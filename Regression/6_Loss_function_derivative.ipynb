{
 "cells": [
  {
   "cell_type": "code",
   "execution_count": null,
   "metadata": {
    "slideshow": {
     "slide_type": "skip"
    }
   },
   "outputs": [],
   "source": [
    "from regression_helper import * # Подгружаем функции для визуализации\n",
    "import numpy as np              # Подгружаем библиотеку NumPy\n",
    "\n",
    "X, y = get_data()               # Загружаем данные в X и y"
   ]
  },
  {
   "cell_type": "markdown",
   "metadata": {
    "slideshow": {
     "slide_type": "slide"
    }
   },
   "source": [
    "# Производная функция ошибки"
   ]
  },
  {
   "cell_type": "markdown",
   "metadata": {
    "slideshow": {
     "slide_type": "fragment"
    }
   },
   "source": [
    "$ Loss(k) = \\dfrac{1}{N}\\sum_{i=1}^{N}{(\\widetilde{y}_i - y_i)^2}$"
   ]
  },
  {
   "cell_type": "markdown",
   "metadata": {
    "slideshow": {
     "slide_type": "fragment"
    }
   },
   "source": [
    "$ Loss(k) = \\dfrac{1}{N}\\sum_{i=1}^{N}{(kX_i  - y_i)^2}$"
   ]
  },
  {
   "cell_type": "markdown",
   "metadata": {
    "slideshow": {
     "slide_type": "subslide"
    }
   },
   "source": [
    "Ее производная обозначается так:\n",
    "\n",
    "$\\dfrac{d(Loss(k))}{dk} = \\dfrac{d  \\left( \\dfrac{1}{N}\\sum_{i=1}^{N}{(kX_i  - y_i)^2} \\right) }{dk}$"
   ]
  },
  {
   "cell_type": "markdown",
   "metadata": {
    "slideshow": {
     "slide_type": "fragment"
    }
   },
   "source": [
    "Важно помнить, что в данном случае мы считаем, что $X$ и $y$ это константы."
   ]
  },
  {
   "cell_type": "markdown",
   "metadata": {
    "slideshow": {
     "slide_type": "slide"
    }
   },
   "source": [
    "### Производная функции ошибки"
   ]
  },
  {
   "cell_type": "markdown",
   "metadata": {
    "slideshow": {
     "slide_type": "fragment"
    }
   },
   "source": [
    "$ \\dfrac{d Loss(k) }{dk} =  \\left(Loss(k)\\right)_k'$"
   ]
  },
  {
   "cell_type": "markdown",
   "metadata": {
    "slideshow": {
     "slide_type": "subslide"
    }
   },
   "source": [
    "$\\left(Loss(k)\\right)_k' = \\left( \\dfrac{1}{N}\\sum_{i=1}^{N}{(kX_i  - y_i)^2} \\right)_k'$"
   ]
  },
  {
   "cell_type": "markdown",
   "metadata": {
    "slideshow": {
     "slide_type": "fragment"
    }
   },
   "source": [
    "Производная функции, умноженная на константу.\n",
    "\n",
    "$\\left( \\dfrac{1}{N}\\sum_{i=1}^{N}{(kX_i  - y_i)^2} \\right)_k' = \\dfrac{1}{N} \\left( \\sum_{i=1}^{N}{(kX_i  - y_i)^2} \\right)_k'$"
   ]
  },
  {
   "cell_type": "markdown",
   "metadata": {
    "slideshow": {
     "slide_type": "fragment"
    }
   },
   "source": [
    "Производная суммы - это сумма производных.\n",
    "\n",
    "$ \\dfrac{1}{N} \\left( \\sum_{i=1}^{N}{(kX_i  - y_i)^2} \\right)_k' = \\dfrac{1}{N}  \\sum_{i=1}^{N}\\left((kX_i  - y_i)^2 \\right)_k'$"
   ]
  },
  {
   "cell_type": "markdown",
   "metadata": {
    "slideshow": {
     "slide_type": "slide"
    }
   },
   "source": [
    "### Производная под знаком суммы"
   ]
  },
  {
   "cell_type": "markdown",
   "metadata": {
    "slideshow": {
     "slide_type": "fragment"
    }
   },
   "source": [
    "$f(k) = (kX_i  - y_i)^2$"
   ]
  },
  {
   "cell_type": "markdown",
   "metadata": {
    "slideshow": {
     "slide_type": "fragment"
    }
   },
   "source": [
    "$u = kX_i  - y_i$\n",
    "\n",
    "$f(u) = u^2$"
   ]
  },
  {
   "cell_type": "markdown",
   "metadata": {
    "slideshow": {
     "slide_type": "fragment"
    }
   },
   "source": [
    "$\\dfrac{df(k)}{dk} = \\dfrac{df(u)}{du} \\dfrac{du}{dk}$"
   ]
  },
  {
   "cell_type": "markdown",
   "metadata": {
    "slideshow": {
     "slide_type": "subslide"
    }
   },
   "source": [
    "$\\dfrac{df(u)}{du} = (u^2)' = 2u = 2(kX_i  - y_i)$"
   ]
  },
  {
   "cell_type": "markdown",
   "metadata": {
    "slideshow": {
     "slide_type": "fragment"
    }
   },
   "source": [
    "$\\dfrac{du}{dk} = \\dfrac{d(kX_i  - y_i)}{dk} = \\dfrac{d(kX_i)}{dk}  - \\dfrac{d(y_i)}{dk} = X_i - 0 = X_i$"
   ]
  },
  {
   "cell_type": "markdown",
   "metadata": {
    "slideshow": {
     "slide_type": "subslide"
    }
   },
   "source": [
    "$\\dfrac{df(u)}{du} = 2(kX_i  - y_i)$\n",
    "\n",
    "$\\dfrac{du}{dk} = X_i$"
   ]
  },
  {
   "cell_type": "markdown",
   "metadata": {
    "slideshow": {
     "slide_type": "-"
    }
   },
   "source": [
    "$ \\dfrac{df(k)}{dk} = \\dfrac{df(u)}{du} \\dfrac{du}{dk} = 2(kX_i  - y_i) \\cdot X_i$"
   ]
  },
  {
   "cell_type": "markdown",
   "metadata": {
    "slideshow": {
     "slide_type": "slide"
    }
   },
   "source": [
    "### Собираем все вместе"
   ]
  },
  {
   "cell_type": "markdown",
   "metadata": {
    "slideshow": {
     "slide_type": "fragment"
    }
   },
   "source": [
    "$ \\dfrac{dLoss(k)}{dk} = \\dfrac{1}{N}  \\sum_{i=1}^{N}2(kX_i  - y_i) X_i$"
   ]
  },
  {
   "cell_type": "markdown",
   "metadata": {
    "slideshow": {
     "slide_type": "fragment"
    }
   },
   "source": [
    "$\\dfrac{dLoss(k)}{dk} = \\dfrac{2}{N}  \\sum_{i=1}^{N}(kX_i  - y_i) X_i$"
   ]
  },
  {
   "cell_type": "markdown",
   "metadata": {
    "slideshow": {
     "slide_type": "slide"
    }
   },
   "source": [
    "### Визуализация производной"
   ]
  },
  {
   "cell_type": "code",
   "execution_count": null,
   "metadata": {
    "slideshow": {
     "slide_type": "fragment"
    }
   },
   "outputs": [],
   "source": [
    "loss_function_and_with_derivation(X, y, k0=5)"
   ]
  },
  {
   "cell_type": "code",
   "execution_count": null,
   "metadata": {
    "slideshow": {
     "slide_type": "subslide"
    }
   },
   "outputs": [],
   "source": [
    "loss_function_and_with_derivation(X, y, k0=30)"
   ]
  },
  {
   "cell_type": "code",
   "execution_count": null,
   "metadata": {
    "slideshow": {
     "slide_type": "subslide"
    }
   },
   "outputs": [],
   "source": [
    "loss_function_and_with_derivation(X, y, k0=20)"
   ]
  },
  {
   "cell_type": "markdown",
   "metadata": {
    "slideshow": {
     "slide_type": "slide"
    }
   },
   "source": [
    "## Использование производной для поиска минимума функции ошибки"
   ]
  },
  {
   "cell_type": "markdown",
   "metadata": {
    "slideshow": {
     "slide_type": "fragment"
    }
   },
   "source": [
    "У нас есть функция ошибки $Loss(k)$. Нужно найти такое $k_m$, при котором $Loss(k_m)$ принимает минимальное значение."
   ]
  },
  {
   "cell_type": "markdown",
   "metadata": {
    "slideshow": {
     "slide_type": "fragment"
    }
   },
   "source": [
    "Нужно взять производную функции ошибки, приравнять ее к нулю и решить уравнение относительно $k$. "
   ]
  },
  {
   "cell_type": "markdown",
   "metadata": {
    "slideshow": {
     "slide_type": "fragment"
    }
   },
   "source": [
    "Этот метод называется методом наименьших квадратов (МНК)."
   ]
  },
  {
   "cell_type": "markdown",
   "metadata": {
    "slideshow": {
     "slide_type": "subslide"
    }
   },
   "source": [
    "$\\dfrac{dLoss(k)}{dk} =  \\dfrac{2}{N} \\sum_{i=1}^{N} (kX_i - y_i)X_i = 0$"
   ]
  },
  {
   "cell_type": "markdown",
   "metadata": {
    "slideshow": {
     "slide_type": "fragment"
    }
   },
   "source": [
    "$\\sum_{i=1}^{N} (kX^2_i - y_iX_i) = 0$"
   ]
  },
  {
   "cell_type": "markdown",
   "metadata": {
    "slideshow": {
     "slide_type": "fragment"
    }
   },
   "source": [
    "$\\sum_{i=1}^{N} kX^2_i - \\sum_{i=1}^{N}y_iX_i = 0$"
   ]
  },
  {
   "cell_type": "markdown",
   "metadata": {
    "slideshow": {
     "slide_type": "fragment"
    }
   },
   "source": [
    "$\\sum_{i=1}^{N} kX^2_i = \\sum_{i=1}^{N}y_iX_i$"
   ]
  },
  {
   "cell_type": "markdown",
   "metadata": {
    "slideshow": {
     "slide_type": "subslide"
    }
   },
   "source": [
    "$\\sum_{i=1}^{N} kX^2_i = \\sum_{i=1}^{N}y_iX_i$"
   ]
  },
  {
   "cell_type": "markdown",
   "metadata": {
    "slideshow": {
     "slide_type": "-"
    }
   },
   "source": [
    "$k\\sum_{i=1}^{N} X^2_i = \\sum_{i=1}^{N}y_iX_i$"
   ]
  },
  {
   "cell_type": "markdown",
   "metadata": {
    "slideshow": {
     "slide_type": "fragment"
    }
   },
   "source": [
    "$k = \\dfrac{\\sum_{i=1}^{N}y_iX_i}{\\sum_{i=1}^{N} X^2_i}$"
   ]
  },
  {
   "cell_type": "code",
   "execution_count": null,
   "metadata": {
    "slideshow": {
     "slide_type": "subslide"
    }
   },
   "outputs": [],
   "source": [
    "k_a = analytical_solution(X, y)\n",
    "print(f\"Аналитически решенное k={k_a}\")"
   ]
  },
  {
   "cell_type": "markdown",
   "metadata": {
    "slideshow": {
     "slide_type": "slide"
    }
   },
   "source": [
    "### Визуализируем полученное решение"
   ]
  },
  {
   "cell_type": "code",
   "execution_count": null,
   "metadata": {
    "slideshow": {
     "slide_type": "fragment"
    }
   },
   "outputs": [],
   "source": [
    "plot_data_and_hyp(X, y, k_a)"
   ]
  },
  {
   "cell_type": "markdown",
   "metadata": {
    "slideshow": {
     "slide_type": "slide"
    }
   },
   "source": [
    "## Очень важно!"
   ]
  },
  {
   "cell_type": "markdown",
   "metadata": {
    "slideshow": {
     "slide_type": "fragment"
    }
   },
   "source": [
    "Но в реальных задачах не всегда возможно за приемлемое время решить это уравнение. "
   ]
  }
 ],
 "metadata": {
  "anaconda-cloud": {},
  "celltoolbar": "Slideshow",
  "kernelspec": {
   "display_name": "Python 3",
   "language": "python",
   "name": "python3"
  },
  "language_info": {
   "codemirror_mode": {
    "name": "ipython",
    "version": 3
   },
   "file_extension": ".py",
   "mimetype": "text/x-python",
   "name": "python",
   "nbconvert_exporter": "python",
   "pygments_lexer": "ipython3",
   "version": "3.7.1"
  },
  "widgets": {
   "state": {
    "03fc38044a514408b9de41fa70bf122f": {
     "views": [
      {
       "cell_index": 17
      }
     ]
    },
    "19b7b5447a594ae1a20b764ac13118cc": {
     "views": [
      {
       "cell_index": 15
      }
     ]
    },
    "28304c0dfbab44f5a851af84bf5947d3": {
     "views": [
      {
       "cell_index": 21
      }
     ]
    },
    "3f700e837fd046ddb14ee8776ac8bc04": {
     "views": [
      {
       "cell_index": 31
      }
     ]
    },
    "50d7c06a111e43c1860a5b10a576bfd3": {
     "views": [
      {
       "cell_index": 23
      }
     ]
    },
    "a74e340d7bb24d9bb020ad7dd982e764": {
     "views": [
      {
       "cell_index": 19
      }
     ]
    },
    "d5593dc80c0445c7ae64c7da2d37f72f": {
     "views": [
      {
       "cell_index": 5
      }
     ]
    },
    "d644b9b546b849c6b17acb3be1f1952b": {
     "views": [
      {
       "cell_index": 3
      }
     ]
    },
    "eac5158d5b6c45c4afa73b58b8b0e58a": {
     "views": [
      {
       "cell_index": 7
      }
     ]
    },
    "f4cec2743faf43ad9b8e7c828c6ee76a": {
     "views": [
      {
       "cell_index": 27
      }
     ]
    }
   },
   "version": "1.2.0"
  }
 },
 "nbformat": 4,
 "nbformat_minor": 1
}
