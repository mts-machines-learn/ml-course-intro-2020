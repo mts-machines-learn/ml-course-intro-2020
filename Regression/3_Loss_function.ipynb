{
 "cells": [
  {
   "cell_type": "code",
   "execution_count": null,
   "metadata": {
    "slideshow": {
     "slide_type": "skip"
    }
   },
   "outputs": [],
   "source": [
    "from regression_helper import * # Подгружаем функции для визуализации\n",
    "import numpy as np              # Подгружаем библиотеку NumPy\n",
    "\n",
    "X, y = get_data()               # Загружаем данные в X и y"
   ]
  },
  {
   "cell_type": "code",
   "execution_count": null,
   "metadata": {
    "slideshow": {
     "slide_type": "skip"
    }
   },
   "outputs": [],
   "source": [
    "def f(X, k):\n",
    "    # Используем возможность ndarray и умножим массив X на скаляр k\n",
    "    # Результат этой операции это ndarray\n",
    "    return k*X"
   ]
  },
  {
   "cell_type": "markdown",
   "metadata": {
    "slideshow": {
     "slide_type": "slide"
    }
   },
   "source": [
    "## Функция ошибки"
   ]
  },
  {
   "cell_type": "markdown",
   "metadata": {
    "slideshow": {
     "slide_type": "fragment"
    }
   },
   "source": [
    "Допустим мы выбрали два коэффициента $k_1$ и $k_2$ для линейной функции $y=kX$, которая описывает эти данные. Как нам понять какой из коэффициентов лучше?"
   ]
  },
  {
   "cell_type": "markdown",
   "metadata": {
    "slideshow": {
     "slide_type": "fragment"
    }
   },
   "source": [
    "\n",
    "Для это введем понятие **функции ошибки**, также известное как **функция потерь** или **loss function**."
   ]
  },
  {
   "cell_type": "markdown",
   "metadata": {
    "slideshow": {
     "slide_type": "fragment"
    }
   },
   "source": [
    "Функция ошибки - численное значение того, насколько хорошо наша функция описывает данные. В данном случае это то, насколько предсказанные значения нашей функции отличаются от реальных.\n",
    "\n",
    "Обозначается функция потерь как $Loss$, $L$ или $J$. Мы будем использовать $Loss$."
   ]
  },
  {
   "cell_type": "markdown",
   "metadata": {
    "slideshow": {
     "slide_type": "slide"
    }
   },
   "source": [
    "## Визуализируем функцию ошибки"
   ]
  },
  {
   "cell_type": "markdown",
   "metadata": {
    "slideshow": {
     "slide_type": "fragment"
    }
   },
   "source": [
    "Давайте визуализируем разницу между точками, которые предсказывает функция $f(X) = kX$ и реальными данными."
   ]
  },
  {
   "cell_type": "code",
   "execution_count": null,
   "metadata": {
    "slideshow": {
     "slide_type": "fragment"
    }
   },
   "outputs": [],
   "source": [
    "plot_data_and_linear_function_with_error(X, y, k=10)"
   ]
  },
  {
   "cell_type": "code",
   "execution_count": null,
   "metadata": {
    "slideshow": {
     "slide_type": "subslide"
    }
   },
   "outputs": [],
   "source": [
    "plot_data_and_linear_function_with_error(X, y, k=30)"
   ]
  },
  {
   "cell_type": "code",
   "execution_count": null,
   "metadata": {
    "slideshow": {
     "slide_type": "subslide"
    }
   },
   "outputs": [],
   "source": [
    "plot_data_and_linear_function_with_error(X, y, k=20)"
   ]
  },
  {
   "cell_type": "markdown",
   "metadata": {
    "slideshow": {
     "slide_type": "slide"
    }
   },
   "source": [
    "## Функция ошибки"
   ]
  },
  {
   "cell_type": "markdown",
   "metadata": {
    "slideshow": {
     "slide_type": "fragment"
    }
   },
   "source": [
    "Пусть у нас есть функция:  \n",
    "\n",
    "$\\widetilde{y} = f(X) = kX$\n",
    "\n",
    "Тогда $\\widetilde{y}$ - это предсказанные нами значения для $X$. \n",
    "\n",
    "А настоящие значения будут равны $y$. "
   ]
  },
  {
   "cell_type": "markdown",
   "metadata": {
    "slideshow": {
     "slide_type": "fragment"
    }
   },
   "source": [
    "Ошибку нашего предсказания на $i$-ом примере $\\widetilde{y}_i$ можно посчитать как: \n",
    "\n",
    "$error = \\widetilde{y}_i - y_i$"
   ]
  },
  {
   "cell_type": "markdown",
   "metadata": {
    "slideshow": {
     "slide_type": "fragment"
    }
   },
   "source": [
    "Ошибка $loss_i(k)$ на $i$-ом примере будет равна:\n",
    "\n",
    "$loss_i(k) = (\\widetilde{y}_i - y_i)^2$\n",
    "\n",
    "$loss_i(k) = (kX_i - y_i)^2$"
   ]
  },
  {
   "cell_type": "markdown",
   "metadata": {
    "slideshow": {
     "slide_type": "slide"
    }
   },
   "source": [
    "## Выведем функцию ошибок"
   ]
  },
  {
   "cell_type": "markdown",
   "metadata": {
    "slideshow": {
     "slide_type": "subslide"
    }
   },
   "source": [
    "$error = \\widetilde{y}_i - y_i$"
   ]
  },
  {
   "cell_type": "code",
   "execution_count": null,
   "metadata": {
    "slideshow": {
     "slide_type": "-"
    }
   },
   "outputs": [],
   "source": [
    "k = 25\n",
    "error_on_sample(X, y, k)"
   ]
  },
  {
   "cell_type": "markdown",
   "metadata": {
    "slideshow": {
     "slide_type": "subslide"
    }
   },
   "source": [
    "Давайте посмотрим на квадрат разности между предсказанным значением и реальным для коэффициента $k = 25$.\n",
    "\n",
    "$loss_i(k) = (kX_i - y_i)^2$"
   ]
  },
  {
   "cell_type": "code",
   "execution_count": null,
   "metadata": {
    "slideshow": {
     "slide_type": "-"
    }
   },
   "outputs": [],
   "source": [
    "k = 25\n",
    "quad_error_on_sample(X, y, k)"
   ]
  },
  {
   "cell_type": "markdown",
   "metadata": {
    "slideshow": {
     "slide_type": "slide"
    }
   },
   "source": [
    "## Реализации функции ошибки в Python"
   ]
  },
  {
   "cell_type": "code",
   "execution_count": null,
   "metadata": {
    "slideshow": {
     "slide_type": "fragment"
    }
   },
   "outputs": [],
   "source": [
    "k = 25\n",
    "# f(X, k) возвращает массив ndarray\n",
    "# y также массив ndarray\n",
    "# И как мы помним из предыдущего урока, в NumPy реализована возможность поэлементной разности между массивами\n",
    "errors = f(X, k) - y\n",
    "\n",
    "print(errors)"
   ]
  },
  {
   "cell_type": "markdown",
   "metadata": {
    "slideshow": {
     "slide_type": "subslide"
    }
   },
   "source": [
    "В NumPy есть возможность поэлементного возведения в степень."
   ]
  },
  {
   "cell_type": "code",
   "execution_count": null,
   "metadata": {
    "slideshow": {
     "slide_type": "-"
    }
   },
   "outputs": [],
   "source": [
    "k = 25\n",
    "quad_errors = (f(X, k) - y)**2\n",
    "print(quad_errors)"
   ]
  },
  {
   "cell_type": "markdown",
   "metadata": {
    "slideshow": {
     "slide_type": "slide"
    }
   },
   "source": [
    "## Функция ошибки на всех примерах"
   ]
  },
  {
   "cell_type": "markdown",
   "metadata": {
    "slideshow": {
     "slide_type": "fragment"
    }
   },
   "source": [
    "Мы можем посчитать среднюю ошибку $Loss(k)$ на всех примерах:"
   ]
  },
  {
   "cell_type": "markdown",
   "metadata": {
    "slideshow": {
     "slide_type": "fragment"
    }
   },
   "source": [
    "$Loss(k) = \\dfrac{1}{N} \\sum_{i=0}^{N}{(\\widetilde{y}_i - y_i)^2}$ \n",
    "\n",
    "Где $N$ - это количество примеров."
   ]
  },
  {
   "cell_type": "markdown",
   "metadata": {
    "slideshow": {
     "slide_type": "subslide"
    }
   },
   "source": [
    "Такая функция ошибки называется **среднеквадратичная ошибка (СКО)** или **mean squared error (MSE)**."
   ]
  },
  {
   "cell_type": "markdown",
   "metadata": {
    "slideshow": {
     "slide_type": "slide"
    }
   },
   "source": [
    "## Реализация функции ошибки в Python"
   ]
  },
  {
   "cell_type": "markdown",
   "metadata": {
    "slideshow": {
     "slide_type": "fragment"
    }
   },
   "source": [
    "Для массива $X$ и реального значения $y$ необходимо реализовать функцию ошибки. \n",
    "\n",
    "На входе:\n",
    "\n",
    "\n",
    "* Массив входных значений $X$;\n",
    "\n",
    "* Массив реальных выходных значений $y$;\n",
    "\n",
    "* Коэффициент $k$ функции $f(X)=kX$;\n",
    "\n",
    "\n",
    "На выходе:\n",
    "\n",
    "* На выходе значение функции ошибки $Loss(k)$;\n",
    "\n",
    "Формула функции ошибки:\n",
    "\n",
    "$Loss(k) = \\dfrac{1}{N} \\sum_{i=0}^{N}{(kX_i - y_i)^2} $\n"
   ]
  },
  {
   "cell_type": "markdown",
   "metadata": {
    "slideshow": {
     "slide_type": "subslide"
    }
   },
   "source": [
    "Формула функции ошибки:\n",
    "\n",
    "$Loss(k) = \\dfrac{1}{N} \\sum_{i=0}^{N}{(kX_i - y_i)^2} $"
   ]
  },
  {
   "cell_type": "code",
   "execution_count": null,
   "metadata": {
    "slideshow": {
     "slide_type": "-"
    }
   },
   "outputs": [],
   "source": [
    "def loss_function(X, y, k):\n",
    "    \n",
    "    N = X.shape[0]                    # получаем размер вектора столбца\n",
    "    # или N = len(X)\n",
    "   \n",
    "    # создаем массив ошибок для каждого примера\n",
    "    loss_for_samples = (k*X - y)**2\n",
    "    \n",
    "    # берем среднее значение\n",
    "    loss = np.sum(loss_for_samples) / N      \n",
    "    \n",
    "    # или если переписать проще \n",
    "    # loss = np.mean((k*X - y)**2)\n",
    "    return loss\n",
    "\n",
    "k = 25\n",
    "print(loss_function(X, y, k))"
   ]
  },
  {
   "cell_type": "markdown",
   "metadata": {
    "slideshow": {
     "slide_type": "slide"
    }
   },
   "source": [
    "## Ошибки для разных $k$"
   ]
  },
  {
   "cell_type": "code",
   "execution_count": null,
   "metadata": {
    "slideshow": {
     "slide_type": "subslide"
    }
   },
   "outputs": [],
   "source": [
    "linear_function_and_loss(X, y, k=30)"
   ]
  },
  {
   "cell_type": "code",
   "execution_count": null,
   "metadata": {
    "slideshow": {
     "slide_type": "subslide"
    }
   },
   "outputs": [],
   "source": [
    "linear_function_and_loss(X, y, k=25)"
   ]
  },
  {
   "cell_type": "code",
   "execution_count": null,
   "metadata": {
    "slideshow": {
     "slide_type": "subslide"
    }
   },
   "outputs": [],
   "source": [
    "linear_function_and_loss(X, y, k=20)"
   ]
  },
  {
   "cell_type": "markdown",
   "metadata": {
    "collapsed": true,
    "slideshow": {
     "slide_type": "slide"
    }
   },
   "source": [
    "# Ошибки для всех функция значений $k$"
   ]
  },
  {
   "cell_type": "code",
   "execution_count": null,
   "metadata": {
    "slideshow": {
     "slide_type": "fragment"
    }
   },
   "outputs": [],
   "source": [
    "full_loss_function(X, y)"
   ]
  },
  {
   "cell_type": "markdown",
   "metadata": {
    "slideshow": {
     "slide_type": "fragment"
    }
   },
   "source": [
    "Наша задача: найти такое значение $k$, для которого функция ошибки принимает значение близкое к минимальному."
   ]
  }
 ],
 "metadata": {
  "anaconda-cloud": {},
  "celltoolbar": "Slideshow",
  "kernelspec": {
   "display_name": "Python 3",
   "language": "python",
   "name": "python3"
  },
  "language_info": {
   "codemirror_mode": {
    "name": "ipython",
    "version": 3
   },
   "file_extension": ".py",
   "mimetype": "text/x-python",
   "name": "python",
   "nbconvert_exporter": "python",
   "pygments_lexer": "ipython3",
   "version": "3.7.1"
  },
  "widgets": {
   "state": {
    "03fc38044a514408b9de41fa70bf122f": {
     "views": [
      {
       "cell_index": 17
      }
     ]
    },
    "19b7b5447a594ae1a20b764ac13118cc": {
     "views": [
      {
       "cell_index": 15
      }
     ]
    },
    "28304c0dfbab44f5a851af84bf5947d3": {
     "views": [
      {
       "cell_index": 21
      }
     ]
    },
    "3f700e837fd046ddb14ee8776ac8bc04": {
     "views": [
      {
       "cell_index": 31
      }
     ]
    },
    "50d7c06a111e43c1860a5b10a576bfd3": {
     "views": [
      {
       "cell_index": 23
      }
     ]
    },
    "a74e340d7bb24d9bb020ad7dd982e764": {
     "views": [
      {
       "cell_index": 19
      }
     ]
    },
    "d5593dc80c0445c7ae64c7da2d37f72f": {
     "views": [
      {
       "cell_index": 5
      }
     ]
    },
    "d644b9b546b849c6b17acb3be1f1952b": {
     "views": [
      {
       "cell_index": 3
      }
     ]
    },
    "eac5158d5b6c45c4afa73b58b8b0e58a": {
     "views": [
      {
       "cell_index": 7
      }
     ]
    },
    "f4cec2743faf43ad9b8e7c828c6ee76a": {
     "views": [
      {
       "cell_index": 27
      }
     ]
    }
   },
   "version": "1.2.0"
  }
 },
 "nbformat": 4,
 "nbformat_minor": 1
}
