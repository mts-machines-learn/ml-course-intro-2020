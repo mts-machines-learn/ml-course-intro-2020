{
  "nbformat": 4,
  "nbformat_minor": 0,
  "metadata": {
    "colab": {
      "name": "001_DS_Libraries.ipynb",
      "provenance": [],
      "collapsed_sections": [
        "Xj_UrzGxAr0j",
        "fFIP27E0EMiz",
        "IB4Bng8udPLm",
        "sLsKTOGJgIA6",
        "TkeNoFU_O1sQ",
        "Fiu7O2mCX7IX",
        "AwG2vjM1Xc2O",
        "emKRAj6QcmKD",
        "ET7A7W7ahdMU",
        "1gvm52UsikMK",
        "NVBQupIVtoL_",
        "V-nv0-gE_aEd"
      ],
      "include_colab_link": true
    },
    "kernelspec": {
      "name": "python3",
      "display_name": "Python 3"
    }
  },
  "cells": [
    {
      "cell_type": "markdown",
      "metadata": {
        "id": "view-in-github",
        "colab_type": "text"
      },
      "source": [
        "<a href=\"https://colab.research.google.com/github/mts-machines-learn/ml-course-intro-spring2020/blob/lesson3/%D0%9E%D1%81%D0%BD%D0%BE%D0%B2%D0%BD%D1%8B%D0%B5%20%D0%B1%D0%B8%D0%B1%D0%BB%D0%B8%D0%BE%D1%82%D0%B5%D0%BA%D0%B8/001_DS_Libraries.ipynb\" target=\"_parent\"><img src=\"https://colab.research.google.com/assets/colab-badge.svg\" alt=\"Open In Colab\"/></a>"
      ]
    },
    {
      "cell_type": "markdown",
      "metadata": {
        "id": "iZsQONf68e65",
        "colab_type": "text"
      },
      "source": [
        "# Библиотеки для DataScience: Numpy, Matplotlib и Pandas."
      ]
    },
    {
      "cell_type": "markdown",
      "metadata": {
        "id": "nLXVxiHfKmOK",
        "colab_type": "text"
      },
      "source": [
        "# Вектор. Теория\n",
        "\n",
        "Вектором называется направленный отрезок, для которого указано его начало и конец. Направление принято указывать стрелкой.\n",
        "\n",
        "Рассмотрим пример вектора на плоскости. Координаты данного вектора: $(2, 3)$\n",
        "\n",
        "![](https://raw.githubusercontent.com/mts-machines-learn/ml-course-intro-spring2020/lesson3/%D0%9E%D1%81%D0%BD%D0%BE%D0%B2%D0%BD%D1%8B%D0%B5%20%D0%B1%D0%B8%D0%B1%D0%BB%D0%B8%D0%BE%D1%82%D0%B5%D0%BA%D0%B8/images/vector1.png)\n",
        "\n",
        "\n",
        "Тот же самый вектор $(2,3)$, который отложен не от начала координат, а от точки $(2,1)$\n",
        "\n",
        "![](https://raw.githubusercontent.com/mts-machines-learn/ml-course-intro-spring2020/lesson3/%D0%9E%D1%81%D0%BD%D0%BE%D0%B2%D0%BD%D1%8B%D0%B5%20%D0%B1%D0%B8%D0%B1%D0%BB%D0%B8%D0%BE%D1%82%D0%B5%D0%BA%D0%B8/images/vector2.png)\n",
        "\n",
        "Аналогично выглядят векторы в трехмерном пространстве. Единичные векторы принято обозночать буквами $i, j, k$.\n",
        "\n",
        "\n",
        "![](https://raw.githubusercontent.com/mts-machines-learn/ml-course-intro-spring2020/lesson3/%D0%9E%D1%81%D0%BD%D0%BE%D0%B2%D0%BD%D1%8B%D0%B5%20%D0%B1%D0%B8%D0%B1%D0%BB%D0%B8%D0%BE%D1%82%D0%B5%D0%BA%D0%B8/images/vector3.jpg)\n",
        "\n",
        "$\\bar{p} = x\\bar{i} + y\\bar{j} + z\\bar{k} $\n",
        "\n",
        "\n",
        "В общем виде вектор размерности $n$ записывается как \n",
        "$\\bar{x} = \\begin{pmatrix}\n",
        "  x_1 \\\\\n",
        "  x_2 \\\\\n",
        "  \\vdots \\\\\n",
        "  x_n \\end{pmatrix}$\n",
        "\n",
        "\n"
      ]
    },
    {
      "cell_type": "markdown",
      "metadata": {
        "id": "O5IzmFSupnpw",
        "colab_type": "text"
      },
      "source": [
        "## Операции над векторами\n",
        "\n"
      ]
    },
    {
      "cell_type": "markdown",
      "metadata": {
        "id": "QxfIGx8CRgE0",
        "colab_type": "text"
      },
      "source": [
        "### Сложение, умножение вектора и скаляра\n",
        "\n",
        "$\\begin{pmatrix}\n",
        "  1 \\\\\n",
        "  2 \\\\\n",
        "  3 \\end{pmatrix} + 4  = \\begin{pmatrix}\n",
        "  1 + 4 \\\\\n",
        "  2 + 4\\\\\n",
        "  3 + 4 \\end{pmatrix} = \\begin{pmatrix}\n",
        "  5 \\\\\n",
        "  6 \\\\\n",
        "  7 \\end{pmatrix}$\n",
        "\n",
        "\n",
        "$\\begin{pmatrix}\n",
        "  1 \\\\\n",
        "  2 \\\\\n",
        "  3 \\end{pmatrix} \\times 4  = \\begin{pmatrix}\n",
        "  1 \\times 4 \\\\\n",
        "  2 \\times 4\\\\\n",
        "  3 \\times 4 \\end{pmatrix} = \\begin{pmatrix}\n",
        "  4 \\\\\n",
        "  8 \\\\\n",
        "  12 \\end{pmatrix}$\n",
        "\n",
        "  Вычитание, умножение и деление производятся также поэлементно.\n",
        "\n"
      ]
    },
    {
      "cell_type": "markdown",
      "metadata": {
        "id": "NhfsJrtURk7U",
        "colab_type": "text"
      },
      "source": [
        "### Сложение вектора и вектора\n",
        "\n",
        "Векторы складываются по правилу \"параллелограмма\"\n",
        "\n",
        "![](https://raw.githubusercontent.com/mts-machines-learn/ml-course-intro-spring2020/lesson3/%D0%9E%D1%81%D0%BD%D0%BE%D0%B2%D0%BD%D1%8B%D0%B5%20%D0%B1%D0%B8%D0%B1%D0%BB%D0%B8%D0%BE%D1%82%D0%B5%D0%BA%D0%B8/images/vector4.png)\n",
        "\n",
        "\n",
        "$\\begin{pmatrix}\n",
        "  2 \\\\\n",
        "  1 \\end{pmatrix} + \n",
        "  \\begin{pmatrix}\n",
        "  1 \\\\\n",
        "  3 \\end{pmatrix} = \\begin{pmatrix}\n",
        "  3 \\\\\n",
        "  4 \\end{pmatrix}$\n"
      ]
    },
    {
      "cell_type": "markdown",
      "metadata": {
        "id": "Od3d0mCsRokW",
        "colab_type": "text"
      },
      "source": [
        "### Скалярное умножение двух векторов\n",
        "\n",
        "$\\bar{v} = \\begin{pmatrix}\n",
        "  1 \\\\\n",
        "  2 \\\\\n",
        "  3 \\end{pmatrix}, \\bar{u} =  \n",
        "  \\begin{pmatrix}\n",
        "  3 \\\\\n",
        "  2 \\\\\n",
        "  1 \\end{pmatrix}$ \n",
        "  \n",
        "$(v, u) = v_1 \\times u_1 + v_2 \\times u_2 + v_3 \\times u_3 = 1 \\times 3 + 2 \\times 2 + 3 \\times 1 = 10$\n",
        "\n",
        "  Получили скаляр, а не вектор!\n"
      ]
    },
    {
      "cell_type": "markdown",
      "metadata": {
        "id": "FmHa22APU65U",
        "colab_type": "text"
      },
      "source": [
        "# Вектор. Практика"
      ]
    },
    {
      "cell_type": "code",
      "metadata": {
        "colab_type": "code",
        "id": "zSbC_W_S_BQw",
        "colab": {}
      },
      "source": [
        "import numpy as np"
      ],
      "execution_count": 0,
      "outputs": []
    },
    {
      "cell_type": "markdown",
      "metadata": {
        "id": "T2WYhRwqTXwH",
        "colab_type": "text"
      },
      "source": [
        "#### Инициализация векторов, операции с векторами"
      ]
    },
    {
      "cell_type": "code",
      "metadata": {
        "id": "ro6Jq5FlolHW",
        "colab_type": "code",
        "colab": {}
      },
      "source": [
        "a = np.array([1,3,5])\n",
        "b = np.array([2,4,6])"
      ],
      "execution_count": 0,
      "outputs": []
    },
    {
      "cell_type": "markdown",
      "metadata": {
        "id": "c8Ajw3_jv_p4",
        "colab_type": "text"
      },
      "source": [
        "Вектор суммы a и b"
      ]
    },
    {
      "cell_type": "code",
      "metadata": {
        "id": "F9sy-KaeolFX",
        "colab_type": "code",
        "outputId": "d8e86a59-7285-42eb-e02e-5f11f997e5bc",
        "colab": {
          "base_uri": "https://localhost:8080/",
          "height": 34
        }
      },
      "source": [
        "a + b"
      ],
      "execution_count": 0,
      "outputs": [
        {
          "output_type": "execute_result",
          "data": {
            "text/plain": [
              "array([ 3,  7, 11])"
            ]
          },
          "metadata": {
            "tags": []
          },
          "execution_count": 68
        }
      ]
    },
    {
      "cell_type": "markdown",
      "metadata": {
        "id": "0G2WAJZXwXsV",
        "colab_type": "text"
      },
      "source": [
        "Сложение вектора и скаляра\n",
        "\n",
        "\n"
      ]
    },
    {
      "cell_type": "code",
      "metadata": {
        "id": "k_AEMPIt_w60",
        "colab_type": "code",
        "outputId": "af57e884-7540-471a-b16b-bdfb9f908814",
        "colab": {
          "base_uri": "https://localhost:8080/",
          "height": 34
        }
      },
      "source": [
        "a + 2"
      ],
      "execution_count": 0,
      "outputs": [
        {
          "output_type": "execute_result",
          "data": {
            "text/plain": [
              "array([3, 5, 7])"
            ]
          },
          "metadata": {
            "tags": []
          },
          "execution_count": 69
        }
      ]
    },
    {
      "cell_type": "markdown",
      "metadata": {
        "id": "prk5p8KBwJw8",
        "colab_type": "text"
      },
      "source": [
        "Скалярное произведение <a,b>"
      ]
    },
    {
      "cell_type": "code",
      "metadata": {
        "id": "VxBWN101wM3B",
        "colab_type": "code",
        "outputId": "4bca7061-8b58-4eaf-d2a7-f58ec5b60715",
        "colab": {
          "base_uri": "https://localhost:8080/",
          "height": 34
        }
      },
      "source": [
        "np.dot(a, b)  # 1*2 + 3*4 + 5*6 = 2 + 12 + 30 = 44"
      ],
      "execution_count": 0,
      "outputs": [
        {
          "output_type": "execute_result",
          "data": {
            "text/plain": [
              "44"
            ]
          },
          "metadata": {
            "tags": []
          },
          "execution_count": 70
        }
      ]
    },
    {
      "cell_type": "code",
      "metadata": {
        "id": "80oMpZ7Q_UOr",
        "colab_type": "code",
        "outputId": "93c1c99a-c648-43a0-f2ef-8e688fefe1e3",
        "colab": {
          "base_uri": "https://localhost:8080/",
          "height": 34
        }
      },
      "source": [
        "a @ b"
      ],
      "execution_count": 0,
      "outputs": [
        {
          "output_type": "execute_result",
          "data": {
            "text/plain": [
              "44"
            ]
          },
          "metadata": {
            "tags": []
          },
          "execution_count": 71
        }
      ]
    },
    {
      "cell_type": "markdown",
      "metadata": {
        "id": "hukwP3ntwSPB",
        "colab_type": "text"
      },
      "source": [
        "Покомпонентное умножение векторов"
      ]
    },
    {
      "cell_type": "code",
      "metadata": {
        "id": "fnJwcKioolBN",
        "colab_type": "code",
        "outputId": "e35ac1c0-6f5b-4755-9dbf-39c57fa69a0d",
        "colab": {
          "base_uri": "https://localhost:8080/",
          "height": 34
        }
      },
      "source": [
        "a * b"
      ],
      "execution_count": 0,
      "outputs": [
        {
          "output_type": "execute_result",
          "data": {
            "text/plain": [
              "array([ 2, 12, 30])"
            ]
          },
          "metadata": {
            "tags": []
          },
          "execution_count": 72
        }
      ]
    },
    {
      "cell_type": "markdown",
      "metadata": {
        "id": "r6qgbOAdTyqn",
        "colab_type": "text"
      },
      "source": [
        "#### Индексация"
      ]
    },
    {
      "cell_type": "code",
      "metadata": {
        "id": "QRG9TKA4_g5M",
        "colab_type": "code",
        "colab": {}
      },
      "source": [
        "a = np.array([1,3,5])"
      ],
      "execution_count": 0,
      "outputs": []
    },
    {
      "cell_type": "markdown",
      "metadata": {
        "id": "TLX_-5GuwqKt",
        "colab_type": "text"
      },
      "source": [
        "Обращение ко второму элементу вектора:"
      ]
    },
    {
      "cell_type": "code",
      "metadata": {
        "id": "avVmz1ezwiSk",
        "colab_type": "code",
        "outputId": "c7f9246c-b59c-4758-c9ef-6fd81ba3f272",
        "colab": {
          "base_uri": "https://localhost:8080/",
          "height": 34
        }
      },
      "source": [
        "a[2]"
      ],
      "execution_count": 0,
      "outputs": [
        {
          "output_type": "execute_result",
          "data": {
            "text/plain": [
              "5"
            ]
          },
          "metadata": {
            "tags": []
          },
          "execution_count": 74
        }
      ]
    },
    {
      "cell_type": "markdown",
      "metadata": {
        "id": "-lLil8cTw3UI",
        "colab_type": "text"
      },
      "source": [
        "Изменение второго элемента вектора:"
      ]
    },
    {
      "cell_type": "code",
      "metadata": {
        "id": "yRBb5dN8_YHc",
        "colab_type": "code",
        "colab": {}
      },
      "source": [
        "a[2] = 7"
      ],
      "execution_count": 0,
      "outputs": []
    },
    {
      "cell_type": "code",
      "metadata": {
        "id": "CXrOuEEZ_dbt",
        "colab_type": "code",
        "outputId": "24de75b2-7523-4905-96b0-04cb8d2ff159",
        "colab": {
          "base_uri": "https://localhost:8080/",
          "height": 34
        }
      },
      "source": [
        "print(a)"
      ],
      "execution_count": 0,
      "outputs": [
        {
          "output_type": "stream",
          "text": [
            "[1 3 7]\n"
          ],
          "name": "stdout"
        }
      ]
    },
    {
      "cell_type": "markdown",
      "metadata": {
        "id": "TfZiDZw2xcGl",
        "colab_type": "text"
      },
      "source": [
        "Копирование вектора"
      ]
    },
    {
      "cell_type": "code",
      "metadata": {
        "id": "Wt4dM1tmw8sx",
        "colab_type": "code",
        "colab": {}
      },
      "source": [
        "b = a\n",
        "b[2] = 10"
      ],
      "execution_count": 0,
      "outputs": []
    },
    {
      "cell_type": "code",
      "metadata": {
        "id": "9iqbyaPCxAuH",
        "colab_type": "code",
        "outputId": "c3d65782-2245-4b65-922a-eff4fccefc82",
        "colab": {
          "base_uri": "https://localhost:8080/",
          "height": 34
        }
      },
      "source": [
        "print(a)"
      ],
      "execution_count": 0,
      "outputs": [
        {
          "output_type": "stream",
          "text": [
            "[ 1  3 10]\n"
          ],
          "name": "stdout"
        }
      ]
    },
    {
      "cell_type": "code",
      "metadata": {
        "id": "bGryoG2axUoI",
        "colab_type": "code",
        "colab": {}
      },
      "source": [
        "a = np.array([1,3,5])"
      ],
      "execution_count": 0,
      "outputs": []
    },
    {
      "cell_type": "code",
      "metadata": {
        "id": "WT15MiSbxPtj",
        "colab_type": "code",
        "colab": {}
      },
      "source": [
        "b = a.copy()\n",
        "b[2] = 10"
      ],
      "execution_count": 0,
      "outputs": []
    },
    {
      "cell_type": "code",
      "metadata": {
        "id": "jIiXyfXzxWfk",
        "colab_type": "code",
        "outputId": "4aa0b70d-0da6-4777-cca9-8c782cb118cf",
        "colab": {
          "base_uri": "https://localhost:8080/",
          "height": 34
        }
      },
      "source": [
        "print(a)"
      ],
      "execution_count": 0,
      "outputs": [
        {
          "output_type": "stream",
          "text": [
            "[1 3 5]\n"
          ],
          "name": "stdout"
        }
      ]
    },
    {
      "cell_type": "markdown",
      "metadata": {
        "id": "qKey6mV2xlhC",
        "colab_type": "text"
      },
      "source": [
        "np.arange"
      ]
    },
    {
      "cell_type": "code",
      "metadata": {
        "id": "2XxnvGogADda",
        "colab_type": "code",
        "outputId": "0b3ef06f-3659-42b1-e6b2-d0225b77de43",
        "colab": {
          "base_uri": "https://localhost:8080/",
          "height": 68
        }
      },
      "source": [
        "range_50 = np.arange(100,150,1)\n",
        "print(range_50)"
      ],
      "execution_count": 0,
      "outputs": [
        {
          "output_type": "stream",
          "text": [
            "[100 101 102 103 104 105 106 107 108 109 110 111 112 113 114 115 116 117\n",
            " 118 119 120 121 122 123 124 125 126 127 128 129 130 131 132 133 134 135\n",
            " 136 137 138 139 140 141 142 143 144 145 146 147 148 149]\n"
          ],
          "name": "stdout"
        }
      ]
    },
    {
      "cell_type": "code",
      "metadata": {
        "id": "BjYzElMiAGBX",
        "colab_type": "code",
        "outputId": "74d6ed9d-683c-4baa-900c-f1245fc98b80",
        "colab": {
          "base_uri": "https://localhost:8080/",
          "height": 68
        }
      },
      "source": [
        "np.arange(1,100,2)"
      ],
      "execution_count": 0,
      "outputs": [
        {
          "output_type": "execute_result",
          "data": {
            "text/plain": [
              "array([ 1,  3,  5,  7,  9, 11, 13, 15, 17, 19, 21, 23, 25, 27, 29, 31, 33,\n",
              "       35, 37, 39, 41, 43, 45, 47, 49, 51, 53, 55, 57, 59, 61, 63, 65, 67,\n",
              "       69, 71, 73, 75, 77, 79, 81, 83, 85, 87, 89, 91, 93, 95, 97, 99])"
            ]
          },
          "metadata": {
            "tags": []
          },
          "execution_count": 83
        }
      ]
    },
    {
      "cell_type": "markdown",
      "metadata": {
        "id": "ZQkK7yPixuIe",
        "colab_type": "text"
      },
      "source": [
        "Индексы и срезы"
      ]
    },
    {
      "cell_type": "code",
      "metadata": {
        "id": "7ZWltBu1AWlH",
        "colab_type": "code",
        "outputId": "3f2a59db-7e8f-4525-c60a-089a00c09c5a",
        "colab": {
          "base_uri": "https://localhost:8080/",
          "height": 34
        }
      },
      "source": [
        "range_50[6:14]"
      ],
      "execution_count": 0,
      "outputs": [
        {
          "output_type": "execute_result",
          "data": {
            "text/plain": [
              "array([106, 107, 108, 109, 110, 111, 112, 113])"
            ]
          },
          "metadata": {
            "tags": []
          },
          "execution_count": 84
        }
      ]
    },
    {
      "cell_type": "code",
      "metadata": {
        "id": "0uOTVeCcAT3b",
        "colab_type": "code",
        "outputId": "a45a17af-7605-431c-fe2b-f262efd956a3",
        "colab": {
          "base_uri": "https://localhost:8080/",
          "height": 34
        }
      },
      "source": [
        "range_50[[6,8,10,12]]"
      ],
      "execution_count": 0,
      "outputs": [
        {
          "output_type": "execute_result",
          "data": {
            "text/plain": [
              "array([106, 108, 110, 112])"
            ]
          },
          "metadata": {
            "tags": []
          },
          "execution_count": 85
        }
      ]
    },
    {
      "cell_type": "code",
      "metadata": {
        "id": "RYGdAEBvAZmf",
        "colab_type": "code",
        "outputId": "96774f6e-e7bc-49ee-e98e-c16d885f9c8f",
        "colab": {
          "base_uri": "https://localhost:8080/",
          "height": 34
        }
      },
      "source": [
        "range_50[6:14:2]"
      ],
      "execution_count": 0,
      "outputs": [
        {
          "output_type": "execute_result",
          "data": {
            "text/plain": [
              "array([106, 108, 110, 112])"
            ]
          },
          "metadata": {
            "tags": []
          },
          "execution_count": 86
        }
      ]
    },
    {
      "cell_type": "code",
      "metadata": {
        "id": "sB_gZ7hdAkDY",
        "colab_type": "code",
        "outputId": "85d78bc0-d7cf-46ec-9c6d-d11f8d4fb65a",
        "colab": {
          "base_uri": "https://localhost:8080/",
          "height": 85
        }
      },
      "source": [
        "range_50[::]"
      ],
      "execution_count": 0,
      "outputs": [
        {
          "output_type": "execute_result",
          "data": {
            "text/plain": [
              "array([100, 101, 102, 103, 104, 105, 106, 107, 108, 109, 110, 111, 112,\n",
              "       113, 114, 115, 116, 117, 118, 119, 120, 121, 122, 123, 124, 125,\n",
              "       126, 127, 128, 129, 130, 131, 132, 133, 134, 135, 136, 137, 138,\n",
              "       139, 140, 141, 142, 143, 144, 145, 146, 147, 148, 149])"
            ]
          },
          "metadata": {
            "tags": []
          },
          "execution_count": 87
        }
      ]
    },
    {
      "cell_type": "code",
      "metadata": {
        "id": "d9TKK17xAn-_",
        "colab_type": "code",
        "outputId": "d0c042b4-53c8-45bc-f416-d6f920b57c60",
        "colab": {
          "base_uri": "https://localhost:8080/",
          "height": 85
        }
      },
      "source": [
        "range_50[::-1]"
      ],
      "execution_count": 0,
      "outputs": [
        {
          "output_type": "execute_result",
          "data": {
            "text/plain": [
              "array([149, 148, 147, 146, 145, 144, 143, 142, 141, 140, 139, 138, 137,\n",
              "       136, 135, 134, 133, 132, 131, 130, 129, 128, 127, 126, 125, 124,\n",
              "       123, 122, 121, 120, 119, 118, 117, 116, 115, 114, 113, 112, 111,\n",
              "       110, 109, 108, 107, 106, 105, 104, 103, 102, 101, 100])"
            ]
          },
          "metadata": {
            "tags": []
          },
          "execution_count": 88
        }
      ]
    },
    {
      "cell_type": "code",
      "metadata": {
        "id": "-OYxj6FW9ojR",
        "colab_type": "code",
        "outputId": "7f285d6d-c92c-4905-f170-c0cede1aca60",
        "colab": {
          "base_uri": "https://localhost:8080/",
          "height": 34
        }
      },
      "source": [
        "range_50[:10]"
      ],
      "execution_count": 0,
      "outputs": [
        {
          "output_type": "execute_result",
          "data": {
            "text/plain": [
              "array([100, 101, 102, 103, 104, 105, 106, 107, 108, 109])"
            ]
          },
          "metadata": {
            "tags": []
          },
          "execution_count": 89
        }
      ]
    },
    {
      "cell_type": "code",
      "metadata": {
        "id": "gB8PFu3e90vO",
        "colab_type": "code",
        "colab": {}
      },
      "source": [
        "range_50[:10] = 0"
      ],
      "execution_count": 0,
      "outputs": []
    },
    {
      "cell_type": "code",
      "metadata": {
        "id": "NE1xaHGd93tz",
        "colab_type": "code",
        "outputId": "3543e5cb-f435-4340-de74-c39f7de09b0e",
        "colab": {
          "base_uri": "https://localhost:8080/",
          "height": 85
        }
      },
      "source": [
        "range_50"
      ],
      "execution_count": 0,
      "outputs": [
        {
          "output_type": "execute_result",
          "data": {
            "text/plain": [
              "array([  0,   0,   0,   0,   0,   0,   0,   0,   0,   0, 110, 111, 112,\n",
              "       113, 114, 115, 116, 117, 118, 119, 120, 121, 122, 123, 124, 125,\n",
              "       126, 127, 128, 129, 130, 131, 132, 133, 134, 135, 136, 137, 138,\n",
              "       139, 140, 141, 142, 143, 144, 145, 146, 147, 148, 149])"
            ]
          },
          "metadata": {
            "tags": []
          },
          "execution_count": 91
        }
      ]
    },
    {
      "cell_type": "code",
      "metadata": {
        "id": "JDd6IBlo96l9",
        "colab_type": "code",
        "outputId": "24aaa71a-5d85-4ec5-fec9-e35c9dcbf0cc",
        "colab": {
          "base_uri": "https://localhost:8080/",
          "height": 51
        }
      },
      "source": [
        "a = range_50[:10]\n",
        "print(a)\n",
        "a[:] = 1\n",
        "print(a)"
      ],
      "execution_count": 0,
      "outputs": [
        {
          "output_type": "stream",
          "text": [
            "[0 0 0 0 0 0 0 0 0 0]\n",
            "[1 1 1 1 1 1 1 1 1 1]\n"
          ],
          "name": "stdout"
        }
      ]
    },
    {
      "cell_type": "code",
      "metadata": {
        "id": "hT218Tt8-BEt",
        "colab_type": "code",
        "outputId": "a6557d7c-5297-4a33-8085-f18e46a92080",
        "colab": {
          "base_uri": "https://localhost:8080/",
          "height": 85
        }
      },
      "source": [
        "range_50"
      ],
      "execution_count": 0,
      "outputs": [
        {
          "output_type": "execute_result",
          "data": {
            "text/plain": [
              "array([  1,   1,   1,   1,   1,   1,   1,   1,   1,   1, 110, 111, 112,\n",
              "       113, 114, 115, 116, 117, 118, 119, 120, 121, 122, 123, 124, 125,\n",
              "       126, 127, 128, 129, 130, 131, 132, 133, 134, 135, 136, 137, 138,\n",
              "       139, 140, 141, 142, 143, 144, 145, 146, 147, 148, 149])"
            ]
          },
          "metadata": {
            "tags": []
          },
          "execution_count": 93
        }
      ]
    },
    {
      "cell_type": "code",
      "metadata": {
        "id": "fz7GJrYUCXYz",
        "colab_type": "code",
        "outputId": "55c1ce98-a74e-42a1-c592-d834f73e017b",
        "colab": {
          "base_uri": "https://localhost:8080/",
          "height": 51
        }
      },
      "source": [
        "a = range_50[:10].copy()\n",
        "print(a)\n",
        "a[:] = 2\n",
        "print(a)"
      ],
      "execution_count": 0,
      "outputs": [
        {
          "output_type": "stream",
          "text": [
            "[1 1 1 1 1 1 1 1 1 1]\n",
            "[2 2 2 2 2 2 2 2 2 2]\n"
          ],
          "name": "stdout"
        }
      ]
    },
    {
      "cell_type": "code",
      "metadata": {
        "id": "IYkhwwmzCeGo",
        "colab_type": "code",
        "outputId": "0e51293e-7700-4ef8-bb2e-d46e2efe8e7c",
        "colab": {
          "base_uri": "https://localhost:8080/",
          "height": 85
        }
      },
      "source": [
        "range_50"
      ],
      "execution_count": 0,
      "outputs": [
        {
          "output_type": "execute_result",
          "data": {
            "text/plain": [
              "array([  1,   1,   1,   1,   1,   1,   1,   1,   1,   1, 110, 111, 112,\n",
              "       113, 114, 115, 116, 117, 118, 119, 120, 121, 122, 123, 124, 125,\n",
              "       126, 127, 128, 129, 130, 131, 132, 133, 134, 135, 136, 137, 138,\n",
              "       139, 140, 141, 142, 143, 144, 145, 146, 147, 148, 149])"
            ]
          },
          "metadata": {
            "tags": []
          },
          "execution_count": 95
        }
      ]
    },
    {
      "cell_type": "markdown",
      "metadata": {
        "id": "Xj_UrzGxAr0j",
        "colab_type": "text"
      },
      "source": [
        "### Задача 1. Создать вектор длины n из чисел вида 0, 3, 6, 9, ..."
      ]
    },
    {
      "cell_type": "code",
      "metadata": {
        "id": "plYf9OqgArkU",
        "colab_type": "code",
        "colab": {}
      },
      "source": [
        "n = 100\n",
        "range_3k = np.arange(0,n,3) "
      ],
      "execution_count": 0,
      "outputs": []
    },
    {
      "cell_type": "code",
      "metadata": {
        "id": "QiYdBGQHBFiK",
        "colab_type": "code",
        "outputId": "38d7be71-706e-42d7-891e-278ac5737ead",
        "colab": {
          "base_uri": "https://localhost:8080/",
          "height": 51
        }
      },
      "source": [
        "range_3k"
      ],
      "execution_count": 0,
      "outputs": [
        {
          "output_type": "execute_result",
          "data": {
            "text/plain": [
              "array([ 0,  3,  6,  9, 12, 15, 18, 21, 24, 27, 30, 33, 36, 39, 42, 45, 48,\n",
              "       51, 54, 57, 60, 63, 66, 69, 72, 75, 78, 81, 84, 87, 90, 93, 96, 99])"
            ]
          },
          "metadata": {
            "tags": []
          },
          "execution_count": 97
        }
      ]
    },
    {
      "cell_type": "markdown",
      "metadata": {
        "id": "fFIP27E0EMiz",
        "colab_type": "text"
      },
      "source": [
        "### Задача 2. Заменить в массиве случайные k элементов на 0.\n"
      ]
    },
    {
      "cell_type": "code",
      "metadata": {
        "id": "Qf4IeztTBQFJ",
        "colab_type": "code",
        "colab": {}
      },
      "source": [
        "def random_zeros(array, k):\n",
        "  random_ind = np.random.choice(np.arange(len(array)), size=k, replace=False)\n",
        "  print(np.sort(random_ind))\n",
        "  array[random_ind] = 0\n",
        "  return array"
      ],
      "execution_count": 0,
      "outputs": []
    },
    {
      "cell_type": "code",
      "metadata": {
        "id": "Hf63kVW4E4GV",
        "colab_type": "code",
        "outputId": "41e3d711-0fa0-4542-c268-aa5d03ad2948",
        "colab": {
          "base_uri": "https://localhost:8080/",
          "height": 51
        }
      },
      "source": [
        "random_zeros(np.array([1,2,3,4,5,6,7,8,9,10]), 5)"
      ],
      "execution_count": 0,
      "outputs": [
        {
          "output_type": "stream",
          "text": [
            "[0 1 4 8 9]\n"
          ],
          "name": "stdout"
        },
        {
          "output_type": "execute_result",
          "data": {
            "text/plain": [
              "array([0, 0, 3, 4, 0, 6, 7, 8, 0, 0])"
            ]
          },
          "metadata": {
            "tags": []
          },
          "execution_count": 99
        }
      ]
    },
    {
      "cell_type": "markdown",
      "metadata": {
        "id": "IB4Bng8udPLm",
        "colab_type": "text"
      },
      "source": [
        "### Функции агрегирования для вектора"
      ]
    },
    {
      "cell_type": "code",
      "metadata": {
        "id": "KRN9vtmrdVxA",
        "colab_type": "code",
        "colab": {}
      },
      "source": [
        "inflation = np.array([8.78, 6.1, 6.58, 6.45, 11.36, 12.91, 5.38, 2.52, 4.27, 2.68])"
      ],
      "execution_count": 0,
      "outputs": []
    },
    {
      "cell_type": "code",
      "metadata": {
        "id": "YgkiATvFfYHD",
        "colab_type": "code",
        "outputId": "6ca8062c-341a-4ed0-cb76-14959bbc9b4a",
        "colab": {
          "base_uri": "https://localhost:8080/",
          "height": 34
        }
      },
      "source": [
        "inflation.max()"
      ],
      "execution_count": 0,
      "outputs": [
        {
          "output_type": "execute_result",
          "data": {
            "text/plain": [
              "12.91"
            ]
          },
          "metadata": {
            "tags": []
          },
          "execution_count": 101
        }
      ]
    },
    {
      "cell_type": "code",
      "metadata": {
        "id": "Mf5fY7BZfal_",
        "colab_type": "code",
        "outputId": "3b3dbbdd-d6b9-4032-a530-c85ac0abf17e",
        "colab": {
          "base_uri": "https://localhost:8080/",
          "height": 34
        }
      },
      "source": [
        "inflation.min()"
      ],
      "execution_count": 0,
      "outputs": [
        {
          "output_type": "execute_result",
          "data": {
            "text/plain": [
              "2.52"
            ]
          },
          "metadata": {
            "tags": []
          },
          "execution_count": 102
        }
      ]
    },
    {
      "cell_type": "code",
      "metadata": {
        "id": "XPF-iSLWfcwp",
        "colab_type": "code",
        "outputId": "33c9468f-eed1-45b2-8842-b42c0d364514",
        "colab": {
          "base_uri": "https://localhost:8080/",
          "height": 34
        }
      },
      "source": [
        "inflation.mean()"
      ],
      "execution_count": 0,
      "outputs": [
        {
          "output_type": "execute_result",
          "data": {
            "text/plain": [
              "6.703"
            ]
          },
          "metadata": {
            "tags": []
          },
          "execution_count": 103
        }
      ]
    },
    {
      "cell_type": "code",
      "metadata": {
        "id": "PYSyobIifnYd",
        "colab_type": "code",
        "colab": {}
      },
      "source": [
        "marks = np.array([3,3,4,5,5,4,2,4,4,4,4,5])"
      ],
      "execution_count": 0,
      "outputs": []
    },
    {
      "cell_type": "code",
      "metadata": {
        "id": "yN69T3lGfrYJ",
        "colab_type": "code",
        "outputId": "61f58f6f-0da0-4e75-86fc-dd9ac2343412",
        "colab": {
          "base_uri": "https://localhost:8080/",
          "height": 34
        }
      },
      "source": [
        "marks.mean()"
      ],
      "execution_count": 0,
      "outputs": [
        {
          "output_type": "execute_result",
          "data": {
            "text/plain": [
              "3.9166666666666665"
            ]
          },
          "metadata": {
            "tags": []
          },
          "execution_count": 105
        }
      ]
    },
    {
      "cell_type": "code",
      "metadata": {
        "id": "2nrA7KhZftgY",
        "colab_type": "code",
        "outputId": "578c1c99-6717-431d-8f65-fb823ced9a6b",
        "colab": {
          "base_uri": "https://localhost:8080/",
          "height": 34
        }
      },
      "source": [
        "marks.sum()"
      ],
      "execution_count": 0,
      "outputs": [
        {
          "output_type": "execute_result",
          "data": {
            "text/plain": [
              "47"
            ]
          },
          "metadata": {
            "tags": []
          },
          "execution_count": 106
        }
      ]
    },
    {
      "cell_type": "code",
      "metadata": {
        "id": "PxoQpx0od-oc",
        "colab_type": "code",
        "outputId": "bb44e7bd-1b8e-41ad-d006-eff479e18c64",
        "colab": {
          "base_uri": "https://localhost:8080/",
          "height": 34
        }
      },
      "source": [
        "np.median(marks)"
      ],
      "execution_count": 0,
      "outputs": [
        {
          "output_type": "execute_result",
          "data": {
            "text/plain": [
              "4.0"
            ]
          },
          "metadata": {
            "tags": []
          },
          "execution_count": 107
        }
      ]
    },
    {
      "cell_type": "markdown",
      "metadata": {
        "id": "sLsKTOGJgIA6",
        "colab_type": "text"
      },
      "source": [
        "### Задача 3. Посчитать сумму первых k элементов вектора"
      ]
    },
    {
      "cell_type": "code",
      "metadata": {
        "id": "6B5ZMr3ff_w0",
        "colab_type": "code",
        "colab": {}
      },
      "source": [
        "def first_k_sum(array, k):\n",
        "  return array[:k].sum()"
      ],
      "execution_count": 0,
      "outputs": []
    },
    {
      "cell_type": "code",
      "metadata": {
        "id": "aqd58ikUgW2o",
        "colab_type": "code",
        "outputId": "716ebeb6-1413-43af-a93d-e7a5e7d8cdb4",
        "colab": {
          "base_uri": "https://localhost:8080/",
          "height": 34
        }
      },
      "source": [
        "first_k_sum(np.array([1,1,1,1,1,1,1,1,1,1]), 7)"
      ],
      "execution_count": 0,
      "outputs": [
        {
          "output_type": "execute_result",
          "data": {
            "text/plain": [
              "7"
            ]
          },
          "metadata": {
            "tags": []
          },
          "execution_count": 109
        }
      ]
    },
    {
      "cell_type": "markdown",
      "metadata": {
        "id": "LhOANgzsKmTs",
        "colab_type": "text"
      },
      "source": [
        "# Матрицы. Теория\n",
        "\n",
        "Матрица - обычно это набор чисел, упорядоченных по строкам и столбцам.\n",
        "\n",
        "Примеры:\n",
        "\n",
        "$A_{3,3} =\n",
        " \\begin{pmatrix}\n",
        "  1 & 2 & 3 \\\\\n",
        "  4 & 5 & 6 \\\\\n",
        "  7 & 8 & 9  \\\\\n",
        "  \\end{pmatrix}$ , \n",
        "\n",
        "$A_{2,3} =\n",
        " \\begin{pmatrix}\n",
        "  1 & 2 & 3 \\\\\n",
        "  4 & 5 & 6 \\\\\n",
        "  \\end{pmatrix}$, \n",
        "\n",
        "$A_{3,2} =\n",
        " \\begin{pmatrix}\n",
        "  1 & 2 \\\\\n",
        "  4 & 5 \\\\\n",
        "  7 & 8  \\\\\n",
        "  \\end{pmatrix}$ , \n",
        "\n",
        "Общий вид: \n",
        "\n",
        "$A_{m,n} =\n",
        " \\begin{pmatrix}\n",
        "  a_{1,1} & a_{1,2} & \\cdots & a_{1,n} \\\\\n",
        "  a_{2,1} & a_{2,2} & \\cdots & a_{2,n} \\\\\n",
        "  \\vdots  & \\vdots  & \\ddots & \\vdots  \\\\\n",
        "  a_{m,1} & a_{m,2} & \\cdots & a_{m,n}\n",
        " \\end{pmatrix}$\n",
        "\n",
        " $m$ - количество строк матрицы\n",
        "\n",
        " $n$ - количество столбцов матрицы\n",
        "\n",
        " $a_{i,j}$ - элемент, стоящий на пересечении $i$-той строки и $j$-го столбца\n",
        "\n"
      ]
    },
    {
      "cell_type": "markdown",
      "metadata": {
        "id": "Dc8BHMK7HWF4",
        "colab_type": "text"
      },
      "source": [
        "## Операции над матрицами\n",
        "\n",
        "\n"
      ]
    },
    {
      "cell_type": "markdown",
      "metadata": {
        "id": "2Q2cF1gvR5Je",
        "colab_type": "text"
      },
      "source": [
        "### Сложение, умножение матрицы и скаляра:\n",
        "\n",
        "$\\begin{pmatrix}\n",
        "  1 & 2 & 3 \\\\\n",
        "  4 & 5 & 6 \\\\\n",
        "  7 & 8 & 9  \\\\\n",
        "  \\end{pmatrix} + 2 = \\begin{pmatrix}\n",
        "  1+2 & 2+2 & 3+2 \\\\\n",
        "  4+2 & 5+2 & 6+2 \\\\\n",
        "  7+2 & 8+2 & 9+2  \\\\\n",
        "  \\end{pmatrix} =\n",
        "  \\begin{pmatrix}\n",
        "  3 & 4 & 5 \\\\\n",
        "  6 & 7 & 8 \\\\\n",
        "  9 & 10 & 11  \\\\\n",
        "  \\end{pmatrix}$\n",
        "\n",
        "\n",
        "$\\begin{pmatrix}\n",
        "  1 & 2 & 3 \\\\\n",
        "  4 & 5 & 6 \\\\\n",
        "  7 & 8 & 9  \\\\\n",
        "  \\end{pmatrix} \\times 2 = \\begin{pmatrix}\n",
        "  1\\times2 & 2\\times2 & 3\\times2 \\\\\n",
        "  4\\times2 & 5\\times2 & 6\\times2 \\\\\n",
        "  7\\times2 & 8\\times2 & 9\\times2  \\\\\n",
        "  \\end{pmatrix} = \\begin{pmatrix}\n",
        "  2 & 4 & 6 \\\\\n",
        "  8 & 10 & 12 \\\\\n",
        "  14 & 16 & 18  \\\\\n",
        "  \\end{pmatrix}$\n",
        "\n",
        "\n"
      ]
    },
    {
      "cell_type": "markdown",
      "metadata": {
        "id": "ikgwcan-SM5X",
        "colab_type": "text"
      },
      "source": [
        "### Cложение матриц \n",
        "\n",
        "(складываем матрицы с одинаковыми размерами)\n",
        "\n",
        "$\\begin{pmatrix}\n",
        "  1 & 2 & 3 \\\\\n",
        "  4 & 5 & 6 \\\\\n",
        "  7 & 8 & 9  \\\\\n",
        "  \\end{pmatrix} +  \\begin{pmatrix}\n",
        "  3 & 3 & 3 \\\\\n",
        "  1 & 1 & 1 \\\\\n",
        "  2 & 2 & 2  \\\\\n",
        "  \\end{pmatrix} = \\begin{pmatrix}\n",
        "  1+3 & 2+3 & 3+3 \\\\\n",
        "  4+1 & 5+1 & 6+1 \\\\\n",
        "  7+2 & 8+2 & 9+2  \\\\\n",
        "  \\end{pmatrix} = \\begin{pmatrix}\n",
        "  4 & 5 & 6 \\\\\n",
        "  5 & 6 & 7 \\\\\n",
        "  9 & 10 & 11 \\\\\n",
        "  \\end{pmatrix}$"
      ]
    },
    {
      "cell_type": "markdown",
      "metadata": {
        "id": "ZH1nU5KBR9p1",
        "colab_type": "text"
      },
      "source": [
        " ### Умножение матрицы на вектор\n",
        "\n",
        "![](https://raw.githubusercontent.com/mts-machines-learn/ml-course-intro-spring2020/lesson3/%D0%9E%D1%81%D0%BD%D0%BE%D0%B2%D0%BD%D1%8B%D0%B5%20%D0%B1%D0%B8%D0%B1%D0%BB%D0%B8%D0%BE%D1%82%D0%B5%D0%BA%D0%B8/images/matrix_1.PNG)\n",
        "\n",
        "<!-- \n",
        "$\\begin{pmatrix}\n",
        "  1 & 2 & 3 \\\\\n",
        "  4 & 5 & 6 \\\\\n",
        "  7 & 8 & 9  \\\\\n",
        "  \\end{pmatrix} \\times \\begin{pmatrix}\n",
        "  1  \\\\\n",
        "  2 \\\\\n",
        "  3 \\\\\n",
        "  \\end{pmatrix} = \\begin{pmatrix}\n",
        "  1\\times1+2\\times2+3\\times3 \\\\\n",
        "  4\\times1+5\\times2+6\\times3 \\\\\n",
        "  7\\times1+8\\times2+9\\times3\n",
        "  \\end{pmatrix} = \\begin{pmatrix}\n",
        "  14 \\\\\n",
        "  32 \\\\\n",
        "  50\n",
        "  \\end{pmatrix}$ -->\n",
        "\n",
        " \n"
      ]
    },
    {
      "cell_type": "markdown",
      "metadata": {
        "id": "AuLPqIbHSHiG",
        "colab_type": "text"
      },
      "source": [
        " ### Умножение матрицы на матрицу\n",
        "\n",
        "![](https://raw.githubusercontent.com/mts-machines-learn/ml-course-intro-spring2020/lesson3/%D0%9E%D1%81%D0%BD%D0%BE%D0%B2%D0%BD%D1%8B%D0%B5%20%D0%B1%D0%B8%D0%B1%D0%BB%D0%B8%D0%BE%D1%82%D0%B5%D0%BA%D0%B8/images/matrix_2.PNG)\n",
        "\n",
        " <!-- $\\begin{pmatrix}\n",
        "  1 & 2 & 3 \\\\\n",
        "  4 & 5 & 6 \\\\\n",
        "  7 & 8 & 9  \\\\\n",
        "  \\end{pmatrix} \\times \\begin{pmatrix}\n",
        "  1 & 2\\\\\n",
        "  2 & 0\\\\\n",
        "  3 & 1\\\\\n",
        "  \\end{pmatrix} = \\begin{pmatrix}\n",
        "  1\\times1+2\\times2+3\\times3 & 1\\times2 + 2\\times0 + 3\\times1 \\\\\n",
        "  4\\times1+5\\times2+6\\times3 & 4\\times2 + 5\\times0 + 6\\times1 \\\\\n",
        "  7\\times1+8\\times2+9\\times3 & 7\\times2 + 8\\times0 + 9\\times1 \\\\\n",
        "  \\end{pmatrix} = \\begin{pmatrix}\n",
        "  14 & 5 \\\\\n",
        "  32 & 14 \\\\\n",
        "  50 & 23 \\\\\n",
        "  \\end{pmatrix}$ -->\n",
        "\n",
        "Как изменяются размерности матриц?\n",
        "\n",
        "\n",
        "![](https://raw.githubusercontent.com/mts-machines-learn/ml-course-intro-spring2020/lesson3/%D0%9E%D1%81%D0%BD%D0%BE%D0%B2%D0%BD%D1%8B%D0%B5%20%D0%B1%D0%B8%D0%B1%D0%BB%D0%B8%D0%BE%D1%82%D0%B5%D0%BA%D0%B8/images/matrix_3.jpg)\n",
        "\n",
        "$A_{n,k} \\times B_{k,m} = C_{n,m}$ (количество столбцов в первой матрице равно количеству строк во второй матрице)\n",
        "\n",
        "Тогда элементы матрицы произведения определяются как:\n",
        "\n",
        "$C_{i,j} = \\sum_k{A_{i,k}B_{k,j}}$\n"
      ]
    },
    {
      "cell_type": "markdown",
      "metadata": {
        "id": "sDM7tfO8SCok",
        "colab_type": "text"
      },
      "source": [
        "### Транспонирование матрицы\n",
        "\n",
        "  $B = \\begin{pmatrix}\n",
        "  1 & 2 \\\\\n",
        "  4 & 5 \\\\\n",
        "  7 & 8 \\\\\n",
        "  \\end{pmatrix} B^T = \\begin{pmatrix}\n",
        "  1 & 4 & 7 \\\\\n",
        "  2 & 5 & 8 \\\\\n",
        "  \\end{pmatrix}$\n",
        "\n",
        "Для элементов матриц $B$ и $B^T$ выполнено следующее: \n",
        "$B_{i,j} = B^T_{j.i}$\n",
        "\n",
        "  Если размерность матрицы $B = (m,n)$, то рамерность матрицы $B^T = (n,m)$"
      ]
    },
    {
      "cell_type": "markdown",
      "metadata": {
        "id": "uKmAgzBp6Klo",
        "colab_type": "text"
      },
      "source": [
        "# Матрицы. Практика"
      ]
    },
    {
      "cell_type": "markdown",
      "metadata": {
        "id": "dvZNBdMYO8He",
        "colab_type": "text"
      },
      "source": [
        "##### Инициализация матриц, операции с матрицами"
      ]
    },
    {
      "cell_type": "code",
      "metadata": {
        "id": "OmC4WDZN7_nm",
        "colab_type": "code",
        "colab": {}
      },
      "source": [
        "A = np.array([[1,2,3],\n",
        "              [4,5,6],\n",
        "              [7,8,9]])\n",
        "\n",
        "B = np.array([[3,3,3],\n",
        "              [1,1,1],\n",
        "              [2,2,2]])"
      ],
      "execution_count": 0,
      "outputs": []
    },
    {
      "cell_type": "markdown",
      "metadata": {
        "id": "9j2LORiLBAN_",
        "colab_type": "text"
      },
      "source": [
        "Сумма двух матриц"
      ]
    },
    {
      "cell_type": "code",
      "metadata": {
        "id": "ZrmgyKyV8J-t",
        "colab_type": "code",
        "outputId": "a96bd76b-09d6-45fc-fd2e-7188ecb9adfc",
        "colab": {
          "base_uri": "https://localhost:8080/",
          "height": 68
        }
      },
      "source": [
        "A + B"
      ],
      "execution_count": 0,
      "outputs": [
        {
          "output_type": "execute_result",
          "data": {
            "text/plain": [
              "array([[ 4,  5,  6],\n",
              "       [ 5,  6,  7],\n",
              "       [ 9, 10, 11]])"
            ]
          },
          "metadata": {
            "tags": []
          },
          "execution_count": 111
        }
      ]
    },
    {
      "cell_type": "markdown",
      "metadata": {
        "id": "4bQZvCQWBKl0",
        "colab_type": "text"
      },
      "source": [
        "Сумма матрицы и скаляра"
      ]
    },
    {
      "cell_type": "code",
      "metadata": {
        "id": "yhqsgF1N8RVG",
        "colab_type": "code",
        "outputId": "f568ec2b-4840-4aea-fd46-8262a3c08f78",
        "colab": {
          "base_uri": "https://localhost:8080/",
          "height": 68
        }
      },
      "source": [
        "A + 2"
      ],
      "execution_count": 0,
      "outputs": [
        {
          "output_type": "execute_result",
          "data": {
            "text/plain": [
              "array([[ 3,  4,  5],\n",
              "       [ 6,  7,  8],\n",
              "       [ 9, 10, 11]])"
            ]
          },
          "metadata": {
            "tags": []
          },
          "execution_count": 112
        }
      ]
    },
    {
      "cell_type": "markdown",
      "metadata": {
        "id": "fRq3O1z0BLam",
        "colab_type": "text"
      },
      "source": [
        "Произведение матрицы и скаляра"
      ]
    },
    {
      "cell_type": "code",
      "metadata": {
        "id": "OtqQLkcC63CS",
        "colab_type": "code",
        "outputId": "ba05f726-cb71-4db9-f277-4f0a1e334724",
        "colab": {
          "base_uri": "https://localhost:8080/",
          "height": 68
        }
      },
      "source": [
        "A * 2"
      ],
      "execution_count": 0,
      "outputs": [
        {
          "output_type": "execute_result",
          "data": {
            "text/plain": [
              "array([[ 2,  4,  6],\n",
              "       [ 8, 10, 12],\n",
              "       [14, 16, 18]])"
            ]
          },
          "metadata": {
            "tags": []
          },
          "execution_count": 113
        }
      ]
    },
    {
      "cell_type": "code",
      "metadata": {
        "id": "9wiL-f7o6pUs",
        "colab_type": "code",
        "colab": {}
      },
      "source": [
        "A = np.array([[1,2,3],\n",
        "              [4,5,6],\n",
        "              [7,8,9]])\n",
        "\n",
        "v = np.array([1,2,3])"
      ],
      "execution_count": 0,
      "outputs": []
    },
    {
      "cell_type": "markdown",
      "metadata": {
        "id": "iitW7i4iBPa5",
        "colab_type": "text"
      },
      "source": [
        "Произведение матрицы и вектора"
      ]
    },
    {
      "cell_type": "code",
      "metadata": {
        "id": "vc-w5Og96tMn",
        "colab_type": "code",
        "outputId": "5fe22104-7284-43eb-fd5c-c8b067f9aad0",
        "colab": {
          "base_uri": "https://localhost:8080/",
          "height": 34
        }
      },
      "source": [
        "A @ v"
      ],
      "execution_count": 0,
      "outputs": [
        {
          "output_type": "execute_result",
          "data": {
            "text/plain": [
              "array([14, 32, 50])"
            ]
          },
          "metadata": {
            "tags": []
          },
          "execution_count": 115
        }
      ]
    },
    {
      "cell_type": "code",
      "metadata": {
        "id": "KjmcG4TFHOuU",
        "colab_type": "code",
        "colab": {}
      },
      "source": [
        "A = np.array([[1,2,3],\n",
        "              [4,5,6],\n",
        "              [7,8,9]])\n",
        "\n",
        "B = np.array([[1,2],\n",
        "              [2,0],\n",
        "              [3,1]])"
      ],
      "execution_count": 0,
      "outputs": []
    },
    {
      "cell_type": "markdown",
      "metadata": {
        "id": "fnl7tngABSHl",
        "colab_type": "text"
      },
      "source": [
        "Произведение матриц"
      ]
    },
    {
      "cell_type": "code",
      "metadata": {
        "id": "WJzYAu-06YvS",
        "colab_type": "code",
        "outputId": "43993e20-bb9c-441d-c33b-a0754ba3391c",
        "colab": {
          "base_uri": "https://localhost:8080/",
          "height": 68
        }
      },
      "source": [
        "A @ B"
      ],
      "execution_count": 0,
      "outputs": [
        {
          "output_type": "execute_result",
          "data": {
            "text/plain": [
              "array([[14,  5],\n",
              "       [32, 14],\n",
              "       [50, 23]])"
            ]
          },
          "metadata": {
            "tags": []
          },
          "execution_count": 117
        }
      ]
    },
    {
      "cell_type": "markdown",
      "metadata": {
        "id": "0998zSVkBVbj",
        "colab_type": "text"
      },
      "source": [
        "shape"
      ]
    },
    {
      "cell_type": "code",
      "metadata": {
        "id": "Ina-plJ76_qF",
        "colab_type": "code",
        "colab": {}
      },
      "source": [
        "A = np.array([1,2,3,4,5,6])"
      ],
      "execution_count": 0,
      "outputs": []
    },
    {
      "cell_type": "markdown",
      "metadata": {
        "id": "5pZEQQizbhuJ",
        "colab_type": "text"
      },
      "source": [
        "![](https://raw.githubusercontent.com/mts-machines-learn/ml-course-intro-spring2020/lesson3/%D0%9E%D1%81%D0%BD%D0%BE%D0%B2%D0%BD%D1%8B%D0%B5%20%D0%B1%D0%B8%D0%B1%D0%BB%D0%B8%D0%BE%D1%82%D0%B5%D0%BA%D0%B8/images/matrix_4.jpg)"
      ]
    },
    {
      "cell_type": "code",
      "metadata": {
        "id": "mUEIHqtv8fdm",
        "colab_type": "code",
        "outputId": "baeba484-4ecd-4208-e587-7d1ae56d2bc0",
        "colab": {
          "base_uri": "https://localhost:8080/",
          "height": 71
        }
      },
      "source": [
        "A.reshape(3,2)"
      ],
      "execution_count": 0,
      "outputs": [
        {
          "output_type": "execute_result",
          "data": {
            "text/plain": [
              "array([[1, 2],\n",
              "       [3, 4],\n",
              "       [5, 6]])"
            ]
          },
          "metadata": {
            "tags": []
          },
          "execution_count": 139
        }
      ]
    },
    {
      "cell_type": "code",
      "metadata": {
        "id": "SV-kF2XY8q-Z",
        "colab_type": "code",
        "outputId": "01bf6b30-114a-4a2c-e0a1-8f9c3d917e06",
        "colab": {
          "base_uri": "https://localhost:8080/",
          "height": 53
        }
      },
      "source": [
        "A.reshape(2,3)"
      ],
      "execution_count": 0,
      "outputs": [
        {
          "output_type": "execute_result",
          "data": {
            "text/plain": [
              "array([[1, 2, 3],\n",
              "       [4, 5, 6]])"
            ]
          },
          "metadata": {
            "tags": []
          },
          "execution_count": 140
        }
      ]
    },
    {
      "cell_type": "code",
      "metadata": {
        "id": "eevmq8fv8fjn",
        "colab_type": "code",
        "colab": {}
      },
      "source": [
        "A = A.reshape(-1, 3)"
      ],
      "execution_count": 0,
      "outputs": []
    },
    {
      "cell_type": "code",
      "metadata": {
        "id": "GRshRoYAex00",
        "colab_type": "code",
        "outputId": "0e82e7a3-d3fd-4981-8f7e-75f0e2c69121",
        "colab": {
          "base_uri": "https://localhost:8080/",
          "height": 34
        }
      },
      "source": [
        "A.shape"
      ],
      "execution_count": 0,
      "outputs": [
        {
          "output_type": "execute_result",
          "data": {
            "text/plain": [
              "(2, 3)"
            ]
          },
          "metadata": {
            "tags": []
          },
          "execution_count": 135
        }
      ]
    },
    {
      "cell_type": "code",
      "metadata": {
        "id": "x2V5a9rN8fh4",
        "colab_type": "code",
        "outputId": "b34f6960-b092-407a-b428-d873aea1a0ab",
        "colab": {
          "base_uri": "https://localhost:8080/",
          "height": 34
        }
      },
      "source": [
        "A.size"
      ],
      "execution_count": 0,
      "outputs": [
        {
          "output_type": "execute_result",
          "data": {
            "text/plain": [
              "6"
            ]
          },
          "metadata": {
            "tags": []
          },
          "execution_count": 136
        }
      ]
    },
    {
      "cell_type": "markdown",
      "metadata": {
        "id": "zcHS6IdGM-aJ",
        "colab_type": "text"
      },
      "source": [
        "##### Размерности матриц"
      ]
    },
    {
      "cell_type": "markdown",
      "metadata": {
        "id": "FVTVG9fnl9ln",
        "colab_type": "text"
      },
      "source": [
        "![](https://raw.githubusercontent.com/mts-machines-learn/ml-course-intro-spring2020/lesson3/%D0%9E%D1%81%D0%BD%D0%BE%D0%B2%D0%BD%D1%8B%D0%B5%20%D0%B1%D0%B8%D0%B1%D0%BB%D0%B8%D0%BE%D1%82%D0%B5%D0%BA%D0%B8/images/axis.jpg)"
      ]
    },
    {
      "cell_type": "code",
      "metadata": {
        "id": "7e0Y0aSoNAbI",
        "colab_type": "code",
        "colab": {}
      },
      "source": [
        "A = np.array([[2,3,4,5],\n",
        "              [6,7,8,9]])"
      ],
      "execution_count": 0,
      "outputs": []
    },
    {
      "cell_type": "code",
      "metadata": {
        "id": "YoGW9Pynl7oW",
        "colab_type": "code",
        "colab": {}
      },
      "source": [
        "A.sum()"
      ],
      "execution_count": 0,
      "outputs": []
    },
    {
      "cell_type": "code",
      "metadata": {
        "id": "T2u6FmDRNETa",
        "colab_type": "code",
        "colab": {}
      },
      "source": [
        "A.sum(axis=0)\n"
      ],
      "execution_count": 0,
      "outputs": []
    },
    {
      "cell_type": "code",
      "metadata": {
        "id": "_Tz1QkPpNJA6",
        "colab_type": "code",
        "colab": {}
      },
      "source": [
        "A.sum(axis=1)"
      ],
      "execution_count": 0,
      "outputs": []
    },
    {
      "cell_type": "markdown",
      "metadata": {
        "id": "Fx-ceHY0NmtC",
        "colab_type": "text"
      },
      "source": [
        "##### Задача 4: Создать матрицу из четных чисел, размера m*n;"
      ]
    },
    {
      "cell_type": "code",
      "metadata": {
        "id": "usKMZRk7NlG_",
        "colab_type": "code",
        "colab": {}
      },
      "source": [
        "def create_odd_matrix_way1(m,n):\n",
        "  size = m*n\n",
        "  array = np.arange(0, 2*size, 2)\n",
        "  array = array.reshape(m, n)\n",
        "  return array"
      ],
      "execution_count": 0,
      "outputs": []
    },
    {
      "cell_type": "code",
      "metadata": {
        "id": "h-wHEH86OAXq",
        "colab_type": "code",
        "colab": {}
      },
      "source": [
        "create_odd_matrix_way1(4,3)"
      ],
      "execution_count": 0,
      "outputs": []
    },
    {
      "cell_type": "markdown",
      "metadata": {
        "id": "TkeNoFU_O1sQ",
        "colab_type": "text"
      },
      "source": [
        "#### Индексация"
      ]
    },
    {
      "cell_type": "code",
      "metadata": {
        "id": "RBkngvh2OwNj",
        "colab_type": "code",
        "colab": {}
      },
      "source": [
        "A = np.arange(0, 25)"
      ],
      "execution_count": 0,
      "outputs": []
    },
    {
      "cell_type": "code",
      "metadata": {
        "id": "Q0XqnwdcVXDR",
        "colab_type": "code",
        "colab": {}
      },
      "source": [
        "A = A.reshape(5,5)\n",
        "A"
      ],
      "execution_count": 0,
      "outputs": []
    },
    {
      "cell_type": "markdown",
      "metadata": {
        "id": "j0pCMXVuEV31",
        "colab_type": "text"
      },
      "source": [
        "Обращение к строке матрицы"
      ]
    },
    {
      "cell_type": "code",
      "metadata": {
        "id": "udW5T_1FVck4",
        "colab_type": "code",
        "colab": {}
      },
      "source": [
        "\n",
        "A[2]"
      ],
      "execution_count": 0,
      "outputs": []
    },
    {
      "cell_type": "markdown",
      "metadata": {
        "id": "VQ8jSNYVEY20",
        "colab_type": "text"
      },
      "source": [
        "Обращение к столбцу матрицы"
      ]
    },
    {
      "cell_type": "code",
      "metadata": {
        "id": "PyVcUcCxVm9V",
        "colab_type": "code",
        "colab": {}
      },
      "source": [
        "\n",
        "A[:, 2]"
      ],
      "execution_count": 0,
      "outputs": []
    },
    {
      "cell_type": "markdown",
      "metadata": {
        "id": "NkAyagfGEboM",
        "colab_type": "text"
      },
      "source": [
        "Обращение к элементу матрицы"
      ]
    },
    {
      "cell_type": "code",
      "metadata": {
        "id": "m9y07fJsVo4i",
        "colab_type": "code",
        "colab": {}
      },
      "source": [
        "A[2, 2]"
      ],
      "execution_count": 0,
      "outputs": []
    },
    {
      "cell_type": "markdown",
      "metadata": {
        "id": "OZ1ZfbGnEdyb",
        "colab_type": "text"
      },
      "source": [
        "Срезы матрицы"
      ]
    },
    {
      "cell_type": "code",
      "metadata": {
        "id": "C0W7-DbyVrny",
        "colab_type": "code",
        "colab": {}
      },
      "source": [
        "A[0:3, 0:3]"
      ],
      "execution_count": 0,
      "outputs": []
    },
    {
      "cell_type": "code",
      "metadata": {
        "id": "DVPT3FgaV6A1",
        "colab_type": "code",
        "colab": {}
      },
      "source": [
        "A[0:3, 0:3] = 100"
      ],
      "execution_count": 0,
      "outputs": []
    },
    {
      "cell_type": "code",
      "metadata": {
        "id": "cYmFyJS2V9cS",
        "colab_type": "code",
        "colab": {}
      },
      "source": [
        "A"
      ],
      "execution_count": 0,
      "outputs": []
    },
    {
      "cell_type": "code",
      "metadata": {
        "id": "C8knsmBNV_RL",
        "colab_type": "code",
        "colab": {}
      },
      "source": [
        "A[2] = 50"
      ],
      "execution_count": 0,
      "outputs": []
    },
    {
      "cell_type": "code",
      "metadata": {
        "id": "7M3YCuoIWEJz",
        "colab_type": "code",
        "colab": {}
      },
      "source": [
        "A"
      ],
      "execution_count": 0,
      "outputs": []
    },
    {
      "cell_type": "code",
      "metadata": {
        "id": "Y7PPHJ-1XNqd",
        "colab_type": "code",
        "colab": {}
      },
      "source": [
        "A[1] = np.array([10, 20, 30, 40, 50])"
      ],
      "execution_count": 0,
      "outputs": []
    },
    {
      "cell_type": "code",
      "metadata": {
        "id": "ZhoQS3ODXaMJ",
        "colab_type": "code",
        "colab": {}
      },
      "source": [
        "A"
      ],
      "execution_count": 0,
      "outputs": []
    },
    {
      "cell_type": "markdown",
      "metadata": {
        "id": "Fiu7O2mCX7IX",
        "colab_type": "text"
      },
      "source": [
        "#### Матрицы из нулей, единиц"
      ]
    },
    {
      "cell_type": "code",
      "metadata": {
        "id": "rFi-KOOiXtb2",
        "colab_type": "code",
        "colab": {}
      },
      "source": [
        "np.ones((4,5))"
      ],
      "execution_count": 0,
      "outputs": []
    },
    {
      "cell_type": "code",
      "metadata": {
        "id": "Xwj8qaI1X3uK",
        "colab_type": "code",
        "colab": {}
      },
      "source": [
        "np.zeros((4,5))"
      ],
      "execution_count": 0,
      "outputs": []
    },
    {
      "cell_type": "markdown",
      "metadata": {
        "id": "AwG2vjM1Xc2O",
        "colab_type": "text"
      },
      "source": [
        "#### Задача 5. Создать матрицу с элементами вида $a_{i,j} = i$\n",
        "\n",
        "То есть все значения в строке одинаковы и равны номеру строки\n",
        "\n",
        "Вид матрицы размера $(4,4)$: \n",
        "\n",
        "$\\begin{pmatrix}\n",
        "0 & 0 & 0 & 0 \\\\\n",
        "1 & 1 & 1 & 1\\\\\n",
        "2&2&2&2\\\\\n",
        "3&3&3&3\n",
        "\\end{pmatrix}$"
      ]
    },
    {
      "cell_type": "code",
      "metadata": {
        "id": "EH56jE1lYE7i",
        "colab_type": "code",
        "colab": {}
      },
      "source": [
        "def create_rows_matrix(n,m):\n",
        "  array = np.zeros((n,m))\n",
        "  for i in range(n):\n",
        "    array[i] = i\n",
        "  return array"
      ],
      "execution_count": 0,
      "outputs": []
    },
    {
      "cell_type": "code",
      "metadata": {
        "id": "UB_Xc84RXcQE",
        "colab_type": "code",
        "colab": {}
      },
      "source": [
        "create_rows_matrix(3,5)"
      ],
      "execution_count": 0,
      "outputs": []
    },
    {
      "cell_type": "code",
      "metadata": {
        "id": "hbrQZnoSYnAC",
        "colab_type": "code",
        "colab": {}
      },
      "source": [
        "def create_columns_matrix(n,m):\n",
        "  array = np.zeros((n,m))\n",
        "  for j in range(m):\n",
        "    array[:, j] = j\n",
        "  return array"
      ],
      "execution_count": 0,
      "outputs": []
    },
    {
      "cell_type": "code",
      "metadata": {
        "id": "-j5odw3QYrwZ",
        "colab_type": "code",
        "colab": {}
      },
      "source": [
        "create_columns_matrix(3,5)"
      ],
      "execution_count": 0,
      "outputs": []
    },
    {
      "cell_type": "markdown",
      "metadata": {
        "colab_type": "text",
        "id": "emKRAj6QcmKD"
      },
      "source": [
        "#### Задача 6. Создать матрицу $A_{n,m}$ со сдвигом в строках.\n",
        "\n",
        "Вид матрицы размера $(4,4)$: \n",
        "\n",
        "$\\begin{pmatrix}\n",
        "0 & 1 & 2 & 3 \\\\\n",
        "1 &2&3&4\\\\\n",
        "2&3&4&5\\\\\n",
        "3&4&5&6\n",
        "\\end{pmatrix}$"
      ]
    },
    {
      "cell_type": "code",
      "metadata": {
        "id": "u_a7E7B1cuA0",
        "colab_type": "code",
        "colab": {}
      },
      "source": [
        "def shift_matrix(n, m):\n",
        "  array = np.zeros((n,m))\n",
        "  for i in range(n):\n",
        "    array[i] = np.arange(i, m+i)\n",
        "  return array.reshape(n,m) "
      ],
      "execution_count": 0,
      "outputs": []
    },
    {
      "cell_type": "code",
      "metadata": {
        "id": "cq1BbvcZcvDN",
        "colab_type": "code",
        "colab": {}
      },
      "source": [
        "shift_matrix(5,6)"
      ],
      "execution_count": 0,
      "outputs": []
    },
    {
      "cell_type": "markdown",
      "metadata": {
        "id": "ET7A7W7ahdMU",
        "colab_type": "text"
      },
      "source": [
        "#### Конкатенация матриц по строкам и столбцам"
      ]
    },
    {
      "cell_type": "code",
      "metadata": {
        "id": "yAtsfAg_htqM",
        "colab_type": "code",
        "colab": {}
      },
      "source": [
        "A = np.array([[1,2,3], \n",
        "              [4,5,6]])\n",
        "B = np.array([[7,8,9],\n",
        "               [10,11,12]])"
      ],
      "execution_count": 0,
      "outputs": []
    },
    {
      "cell_type": "code",
      "metadata": {
        "id": "rOPQEi9uh684",
        "colab_type": "code",
        "colab": {}
      },
      "source": [
        "C = np.vstack((A, B))\n",
        "C"
      ],
      "execution_count": 0,
      "outputs": []
    },
    {
      "cell_type": "code",
      "metadata": {
        "id": "fd0Vv-umiBQM",
        "colab_type": "code",
        "colab": {}
      },
      "source": [
        "D = np.hstack((A, B))\n",
        "D"
      ],
      "execution_count": 0,
      "outputs": []
    },
    {
      "cell_type": "markdown",
      "metadata": {
        "id": "1gvm52UsikMK",
        "colab_type": "text"
      },
      "source": [
        "### Задача 7. Для квадратной матрицы $A$ создать блочную матрицу вида\n",
        " $\\begin{bmatrix}\n",
        "A & A^T\n",
        " \\end{bmatrix}$. (Конкатенация двух матриц)"
      ]
    },
    {
      "cell_type": "code",
      "metadata": {
        "id": "vvsxDsYFiGb3",
        "colab_type": "code",
        "colab": {}
      },
      "source": [
        "def concat_transpose(A):\n",
        "  assert A.shape[0] == A.shape[1]\n",
        "\n",
        "  return np.hstack((A, A.T))"
      ],
      "execution_count": 0,
      "outputs": []
    },
    {
      "cell_type": "code",
      "metadata": {
        "id": "6iy3xlSZjgy1",
        "colab_type": "code",
        "colab": {}
      },
      "source": [
        "A = np.array([[3,4,5],\n",
        "              [1,2,3],\n",
        "              [3,4,2]])"
      ],
      "execution_count": 0,
      "outputs": []
    },
    {
      "cell_type": "code",
      "metadata": {
        "id": "wGgaZ45IkLHf",
        "colab_type": "code",
        "colab": {}
      },
      "source": [
        "concat_transpose(A)"
      ],
      "execution_count": 0,
      "outputs": []
    },
    {
      "cell_type": "markdown",
      "metadata": {
        "id": "wFLWgVjjKmY6",
        "colab_type": "text"
      },
      "source": [
        "# Функции"
      ]
    },
    {
      "cell_type": "markdown",
      "metadata": {
        "id": "j6XaWpaMFWFC",
        "colab_type": "text"
      },
      "source": [
        "функция одной переменной"
      ]
    },
    {
      "cell_type": "code",
      "metadata": {
        "id": "BwkF_TLqlGJ1",
        "colab_type": "code",
        "colab": {}
      },
      "source": [
        "x = 4"
      ],
      "execution_count": 0,
      "outputs": []
    },
    {
      "cell_type": "code",
      "metadata": {
        "id": "dxlRmbP5k-J0",
        "colab_type": "code",
        "colab": {}
      },
      "source": [
        "np.sqrt(x)"
      ],
      "execution_count": 0,
      "outputs": []
    },
    {
      "cell_type": "markdown",
      "metadata": {
        "id": "PV2KgW4qFcDS",
        "colab_type": "text"
      },
      "source": [
        "функция от вектора"
      ]
    },
    {
      "cell_type": "code",
      "metadata": {
        "id": "lwfTM5v2lCRv",
        "colab_type": "code",
        "colab": {}
      },
      "source": [
        "squares_vec = np.array([1,4,9,16,25])"
      ],
      "execution_count": 0,
      "outputs": []
    },
    {
      "cell_type": "code",
      "metadata": {
        "id": "i4auKil2lLo3",
        "colab_type": "code",
        "colab": {}
      },
      "source": [
        "np.sqrt(squares_vec)"
      ],
      "execution_count": 0,
      "outputs": []
    },
    {
      "cell_type": "code",
      "metadata": {
        "id": "RVtb0S15lSdw",
        "colab_type": "code",
        "colab": {}
      },
      "source": [
        "x**2"
      ],
      "execution_count": 0,
      "outputs": []
    },
    {
      "cell_type": "code",
      "metadata": {
        "id": "Mikmm_CllVjh",
        "colab_type": "code",
        "colab": {}
      },
      "source": [
        "squares_vec**2"
      ],
      "execution_count": 0,
      "outputs": []
    },
    {
      "cell_type": "code",
      "metadata": {
        "id": "dpAkaMWflZmo",
        "colab_type": "code",
        "colab": {}
      },
      "source": [
        "def rub2usd(x):\n",
        "  return x / 63.54\n"
      ],
      "execution_count": 0,
      "outputs": []
    },
    {
      "cell_type": "code",
      "metadata": {
        "id": "M4flF8d7le9C",
        "colab_type": "code",
        "colab": {}
      },
      "source": [
        "rub2usd(2000)"
      ],
      "execution_count": 0,
      "outputs": []
    },
    {
      "cell_type": "code",
      "metadata": {
        "id": "Ylflv5Q4lgIN",
        "colab_type": "code",
        "colab": {}
      },
      "source": [
        "items = np.array([2000,2500,3534,3000,3200])"
      ],
      "execution_count": 0,
      "outputs": []
    },
    {
      "cell_type": "code",
      "metadata": {
        "id": "sXKxGKfllnmd",
        "colab_type": "code",
        "colab": {}
      },
      "source": [
        "rub2usd(items)"
      ],
      "execution_count": 0,
      "outputs": []
    },
    {
      "cell_type": "code",
      "metadata": {
        "id": "bqm01qaKlp4w",
        "colab_type": "code",
        "colab": {}
      },
      "source": [
        "shop = np.array([[6500,3000,3500,4000,2000],\n",
        "                  [5200,3000,1500,4000,3000]])"
      ],
      "execution_count": 0,
      "outputs": []
    },
    {
      "cell_type": "code",
      "metadata": {
        "id": "TFNf9wzolvWJ",
        "colab_type": "code",
        "colab": {}
      },
      "source": [
        "rub2usd(shop)"
      ],
      "execution_count": 0,
      "outputs": []
    },
    {
      "cell_type": "markdown",
      "metadata": {
        "id": "xFB7p8pYKmjO",
        "colab_type": "text"
      },
      "source": [
        "# Графики функций"
      ]
    },
    {
      "cell_type": "markdown",
      "metadata": {
        "id": "uSWboMDPj2hH",
        "colab_type": "text"
      },
      "source": [
        "http://matplotlib.org/gallery.html"
      ]
    },
    {
      "cell_type": "code",
      "metadata": {
        "id": "FqaoEc0mLe6u",
        "colab_type": "code",
        "colab": {}
      },
      "source": [
        "import matplotlib.pyplot as plt"
      ],
      "execution_count": 0,
      "outputs": []
    },
    {
      "cell_type": "code",
      "metadata": {
        "id": "B7uJaf3uLhMX",
        "colab_type": "code",
        "colab": {}
      },
      "source": [
        "inflation = np.array([8.78, 6.1, 6.58, 6.45, 11.36, 12.91, 5.38, 2.52, 4.27, 2.68])\n",
        "years = np.arange(2010, 2020)"
      ],
      "execution_count": 0,
      "outputs": []
    },
    {
      "cell_type": "code",
      "metadata": {
        "id": "JTMsT-u0ezl5",
        "colab_type": "code",
        "colab": {}
      },
      "source": [
        "years"
      ],
      "execution_count": 0,
      "outputs": []
    },
    {
      "cell_type": "code",
      "metadata": {
        "id": "xH9Cs4yfa3MD",
        "colab_type": "code",
        "colab": {}
      },
      "source": [
        "plt.figure(figsize=(6, 4))\n",
        "plt.scatter(years, inflation, label='inflation', marker='o')\n",
        "plt.legend()\n",
        "plt.show()"
      ],
      "execution_count": 0,
      "outputs": []
    },
    {
      "cell_type": "code",
      "metadata": {
        "id": "tK5MGQmqe6no",
        "colab_type": "code",
        "colab": {}
      },
      "source": [
        "plt.figure(figsize=(6, 4))\n",
        "plt.plot(years, inflation)\n",
        "plt.show()"
      ],
      "execution_count": 0,
      "outputs": []
    },
    {
      "cell_type": "code",
      "metadata": {
        "id": "0zYWHYGUfvSt",
        "colab_type": "code",
        "colab": {}
      },
      "source": [
        "plt.figure(figsize=(6, 4))\n",
        "plt.plot(years, inflation, marker='o', color='black')\n",
        "plt.xlabel('Год')\n",
        "plt.ylabel('Инфляция')\n",
        "plt.show()"
      ],
      "execution_count": 0,
      "outputs": []
    },
    {
      "cell_type": "code",
      "metadata": {
        "id": "HLtnSjj0KW7r",
        "colab_type": "code",
        "colab": {}
      },
      "source": [
        "day_temp = np.array([-2, -5, -7, -8, -8, -10, -10, -9, -8, -7, -6, -5, -3, -3, -4, -5, -7, -8, -8,\n",
        "                     -8, -9, -9, -8, -8, -9, -10, -8, -7, -7, -7, -6])\n",
        "night_temp = np.array([-6, -6, -9, -9, -11, -11, -11, -9, -9, -8, -7, -5, -4, -5, -6, -7, -9, -10, \n",
        "                       -10, -10, -11, -9, -9, -10, -12, -11, -9, -9, -9, -8, -8])"
      ],
      "execution_count": 0,
      "outputs": []
    },
    {
      "cell_type": "code",
      "metadata": {
        "id": "BD-Zk3k0N2yB",
        "colab_type": "code",
        "colab": {}
      },
      "source": [
        "plt.figure(figsize=(10, 4))\n",
        "plt.plot(day_temp, color='red', label='дневная температура')\n",
        "plt.plot(night_temp, color='blue', label='ночная температура')\n",
        "plt.fill_between(x=np.arange(31), y1=night_temp, y2=day_temp, alpha=0.5)\n",
        "plt.xlabel('День января')\n",
        "plt.ylabel('Температура')\n",
        "plt.legend()\n",
        "plt.show()"
      ],
      "execution_count": 0,
      "outputs": []
    },
    {
      "cell_type": "code",
      "metadata": {
        "id": "yfVML0NsQhgh",
        "colab_type": "code",
        "colab": {}
      },
      "source": [
        "x = np.arange(-2*np.pi, 2*np.pi, 0.01)"
      ],
      "execution_count": 0,
      "outputs": []
    },
    {
      "cell_type": "code",
      "metadata": {
        "id": "kJF2t6NHQlxg",
        "colab_type": "code",
        "colab": {}
      },
      "source": [
        "plt.figure(figsize=(10, 4))\n",
        "plt.plot(x, np.sin(x), color='red', label='$\\sin{x}$')\n",
        "plt.plot(x, np.cos(x), color='blue', label='$\\cos{x}$')\n",
        "plt.plot(x, np.cos(x + np.pi/2), color='green', dashes=[2, 1], label='$\\cos{(x+\\\\frac{\\pi}{2})}$')\n",
        "plt.xlabel('x')\n",
        "plt.legend(loc='upper left')\n",
        "plt.show()"
      ],
      "execution_count": 0,
      "outputs": []
    },
    {
      "cell_type": "code",
      "metadata": {
        "id": "hqpw1GuYSxER",
        "colab_type": "code",
        "colab": {}
      },
      "source": [
        "x = np.arange(0, 2, 0.01)\n",
        "\n",
        "plt.figure(figsize=(6,4))\n",
        "plt.plot(x, x, x, x**2, x, x**3)\n",
        "plt.show()"
      ],
      "execution_count": 0,
      "outputs": []
    },
    {
      "cell_type": "markdown",
      "metadata": {
        "id": "NVBQupIVtoL_",
        "colab_type": "text"
      },
      "source": [
        "# Диаграммы\n"
      ]
    },
    {
      "cell_type": "code",
      "metadata": {
        "id": "BK3IYmNzLpq3",
        "colab_type": "code",
        "colab": {}
      },
      "source": [
        "marks = np.array([3,3,4,5,5,4,2,4,4,4,4,5])"
      ],
      "execution_count": 0,
      "outputs": []
    },
    {
      "cell_type": "code",
      "metadata": {
        "id": "sezFQQq2g-Td",
        "colab_type": "code",
        "colab": {}
      },
      "source": [
        "plt.figure(figsize=(6, 4))\n",
        "plt.hist(marks, label='оценки Пети Иванова', alpha=0.5)\n",
        "plt.legend(loc='upper left')\n",
        "plt.show()"
      ],
      "execution_count": 0,
      "outputs": []
    },
    {
      "cell_type": "code",
      "metadata": {
        "id": "S_eTfUHDj1rR",
        "colab_type": "code",
        "colab": {}
      },
      "source": [
        "plt.figure(figsize=(6, 4))\n",
        "\n",
        "x = np.random.normal(1, 2, 5000)\n",
        "y = np.random.normal(-1, 3, 5000)\n",
        "plt.hist([x, y], bins=20, label=['$N(1,2)$', '$N(-1,3)$'])\n",
        "plt.legend(loc='upper right')\n",
        "plt.show()"
      ],
      "execution_count": 0,
      "outputs": []
    },
    {
      "cell_type": "markdown",
      "metadata": {
        "id": "jDkss1Nq_ZEF",
        "colab_type": "text"
      },
      "source": [
        "# Теория вероятностей"
      ]
    },
    {
      "cell_type": "markdown",
      "metadata": {
        "id": "RvZqP22xSIsN",
        "colab_type": "text"
      },
      "source": [
        "Будем считать случайное испытание экспериментом по измерению некоторой величины, который можно повторять много раз при фиксированных\n",
        "условиях, получая при этом случайные результаты.\n",
        "Для изучения берется множество\n",
        "значений, которое может принимать результат такого эксперимента, и распределение вероятности\n",
        "по этому множеству. Распределение вероятности можно понимать как распределение относительных частот различных результатов в серии повторных\n",
        "экспериментов.\n",
        "Определим случайную\n",
        "величину как пару из (1) множества значений и (2) распределения вероятности по этому множеству."
      ]
    },
    {
      "cell_type": "markdown",
      "metadata": {
        "id": "V-nv0-gE_aEd",
        "colab_type": "text"
      },
      "source": [
        "## Основные свойства вероятности:\n",
        "\n",
        "1) $0 \\leq P(A) \\leq 1$\n",
        "\n",
        "2) $P(∅) = 0$\n",
        "\n",
        "3) $P(\\overline{A}) + P(A) = 1$"
      ]
    },
    {
      "cell_type": "markdown",
      "metadata": {
        "id": "cyMq1-OfU_Hx",
        "colab_type": "text"
      },
      "source": [
        "\n",
        "Для пары событий возможны следующие отношения:"
      ]
    },
    {
      "cell_type": "markdown",
      "metadata": {
        "id": "f5f7zCq3U_Oy",
        "colab_type": "text"
      },
      "source": [
        "### Вложенность: $A \\subseteq B$\n",
        "\n",
        "Пример: $A$ - на игральном кубике выпала 6-ка, $B$ - на игральном кубике выпало четное число\n",
        "\n",
        "Тогда событие $A$ вложено в событие $B$\n",
        "\n",
        "$A \\subseteq B \\implies P(A) \\leq P(B)$"
      ]
    },
    {
      "cell_type": "markdown",
      "metadata": {
        "id": "7le2bp2lU_TB",
        "colab_type": "text"
      },
      "source": [
        "### Произведение событий $AB$ и сумма событий $A+B$.\n",
        "\n",
        "Пример: $A$ - на игральном кубике выпало четное число, $B$ - на игральном кубике выпало число большее 3.\n",
        "\n",
        "$AB$ - пересечение событий, то есть произошло каждое из этих событий. $AB$ = на кубике выпали числа: 4, 6.\n",
        "\n",
        "$A+B$ - обединение событий, произошло хотя бы одно из данных событий. $A+B$ = на кубике выпали: четные числа или 5-ка\n",
        "\n",
        "$P(A+B) = P(A) + P(B) - P(AB)$"
      ]
    },
    {
      "cell_type": "markdown",
      "metadata": {
        "id": "nxNmq-bbXb-K",
        "colab_type": "text"
      },
      "source": [
        "### Дополнение: $B\\setminus A$\n",
        "\n",
        "Происходит событие B, но не происходит событие A.\n",
        "\n",
        "$A$ - на игральном кубике выпало четное число, $B$ - на игральном кубике выпало число большее 3.\n",
        "\n",
        "$B\\setminus A$ = на игральном кубике выпало число 5.\n",
        "\n",
        "\n",
        "$P(B\\setminus A) = P(B) - P(AB)$, есл $A$ полностью лежит в $B$, то формула упрощается: $P(B\\setminus A) = P(B) - P(A)$\n",
        "\n",
        "\n",
        "\n"
      ]
    },
    {
      "cell_type": "markdown",
      "metadata": {
        "id": "CXtjLmd5U_XV",
        "colab_type": "text"
      },
      "source": [
        "### Независимость событий $A, B$\n",
        "\n",
        "События $A, B$ являются независимыми, если вероятность их пересечения равна\n",
        "произведению вероятностей компонент: $P(AB) = P(A)P(B)$\n",
        "\n",
        "Пример: A - на кубике выпало четное число, B - на кубике выпало число большее 3, AB - на кубике выпало число 4 или 6.\n",
        "\n",
        "$P(A) = \\frac{1}{2}, P(B) = \\frac{1}{2}, P(AB) = \\frac{1}{3}$ - события зависимы"
      ]
    },
    {
      "cell_type": "markdown",
      "metadata": {
        "id": "XW7AgXG3U_fq",
        "colab_type": "text"
      },
      "source": [
        "### Условная вероятность\n",
        "\n",
        "$A$ - на кубике выпала цифра 5, $B$ - на кубике выпало числе большее 3. Если известно, что событие $B$ произошло, то вероятность события $A$ повышается. Условная вероятность события $A$ при условии, что произошло событие $B$, определяется следующим образом: $P(A|B) = \\frac{P(AB)}{P(B)}$\n",
        "\n",
        "$P(B) = \\frac{1}{2}, P(AB) = \\frac{1}{6} \\implies P(A|B) = \\frac{1}{3}$\n"
      ]
    },
    {
      "cell_type": "markdown",
      "metadata": {
        "id": "rUBsVVcF4ahg",
        "colab_type": "text"
      },
      "source": [
        "## Случайные величины, виды распределений"
      ]
    },
    {
      "cell_type": "markdown",
      "metadata": {
        "id": "2SqXVbje6jdu",
        "colab_type": "text"
      },
      "source": [
        "\n",
        "В испытании с подбрасыванием кубика возможны шесть исходов. Эти исходы\n",
        "можно пронумеровать 1, 2, 3, 4, 5, 6 согласно значению, выпавшему на кубике. Данному множеству исходов ставится в соответствие вектор вероятности:"
      ]
    },
    {
      "cell_type": "markdown",
      "metadata": {
        "id": "YfOvxE1v6-ma",
        "colab_type": "text"
      },
      "source": [
        "$\\{1,2,3,4,5,6\\} \\implies \\begin{pmatrix}\n",
        "  p_1 \\\\\n",
        "  p_2 \\\\\n",
        "  p_3 \\\\\n",
        "  p_4 \\\\\n",
        "  p_5 \\\\\n",
        "  p_6 \\end{pmatrix}, p_i \\geq 0, \\sum_{i=1}^{6}{p_i} = 1$"
      ]
    },
    {
      "cell_type": "markdown",
      "metadata": {
        "id": "qGC02ubu-239",
        "colab_type": "text"
      },
      "source": [
        "\n",
        "Дискретная случайная величина X принимает счетное\n",
        "множество значений $A = \\{a_1, a_2, a_3, . . . \\}$ с вероятностями $p_1, p_2, p_3, . . .$\n",
        "\n",
        "$p_i \\geq 0, \\sum_{i=1}^{\\infty}{p_i} = 1$\n"
      ]
    },
    {
      "cell_type": "markdown",
      "metadata": {
        "id": "bHReK78fAQU-",
        "colab_type": "text"
      },
      "source": [
        "Функция вероятности имеет вид: $P(X = a_i) = p_i$\n"
      ]
    },
    {
      "cell_type": "markdown",
      "metadata": {
        "id": "V7n_ivGrAQl_",
        "colab_type": "text"
      },
      "source": [
        "Рассмотрим дискретную случайную величину с двумя исходами. Примером в данном случае является подбрасывание монеты. Можно обозначить выпадение решки за 1, а\n",
        "выпадение орла — за 0. Пусть вероятность «успеха» равна $p:\n",
        "P(X = 1) = p, P(X = 0) = 1 - p$.\n",
        "\n",
        "Так устроена бернуллиевская случайная величина: $$X \\sim Ber(p)$$"
      ]
    },
    {
      "cell_type": "markdown",
      "metadata": {
        "colab_type": "text",
        "id": "w86v6GJ8B68M"
      },
      "source": [
        "Рассмотрим такуже модель, только теперь мы подбрасываем монетку не один раз, а n раз.\n",
        "\n",
        "Вероятность выпадения решки равна $p$, вероятность выпадения орла равна $1-p$. \n",
        "\n",
        "Случайная величина $X$  - число выпаданий решки. В силу независимости попыток: $P(X = n) = p^n$\n",
        " \n",
        "В общем случае: $P(X=k) = C_n^kp^k(1-p)^{n-k}, k = 0,1,2,...,n$"
      ]
    },
    {
      "cell_type": "markdown",
      "metadata": {
        "id": "KLFsCZVUCIwb",
        "colab_type": "text"
      },
      "source": [
        "Такая случайная величина X называется биномиальной.\n",
        "$$X \\sim Bin(n, p)$$"
      ]
    },
    {
      "cell_type": "markdown",
      "metadata": {
        "id": "nJYq0qDicyop",
        "colab_type": "text"
      },
      "source": [
        "$Ber(p) = Bin(1, p)$"
      ]
    },
    {
      "cell_type": "code",
      "metadata": {
        "id": "Yb-DvHEBECIm",
        "colab_type": "code",
        "colab": {}
      },
      "source": [
        "n, p = 1, 0.5\n",
        "X_Ber = np.random.binomial(n, p, 10000)"
      ],
      "execution_count": 0,
      "outputs": []
    },
    {
      "cell_type": "code",
      "metadata": {
        "id": "S2YRDA4Dhrb2",
        "colab_type": "code",
        "colab": {}
      },
      "source": [
        "plt.figure(figsize=(6, 4))\n",
        "\n",
        "plt.hist([X_Ber], bins=30, label=['$Ber(0.5)$'])\n",
        "plt.legend(loc='upper right')\n",
        "plt.show()"
      ],
      "execution_count": 0,
      "outputs": []
    },
    {
      "cell_type": "markdown",
      "metadata": {
        "id": "HgeubADBIvcD",
        "colab_type": "text"
      },
      "source": [
        "Непрерывные случайные величины могут принимать несчетное число значений и задаются по другому:"
      ]
    },
    {
      "cell_type": "markdown",
      "metadata": {
        "id": "m8qYsbtODjWU",
        "colab_type": "text"
      },
      "source": [
        "Первый способ определения таких величин — с помощью функции распределения: $F(x) = P(X \\leq x)$\n",
        "\n",
        "\n",
        "\n",
        "\n"
      ]
    },
    {
      "cell_type": "markdown",
      "metadata": {
        "id": "m2HpakhDKGit",
        "colab_type": "text"
      },
      "source": [
        "\n",
        "Второй способ определения непрерывных случайных величин — с помощью плотности распределения:\n",
        "\n",
        "$f(x): \\int_{a}^{b}f(x)dx = P(a \\leq X \\leq b)$\n",
        "\n",
        "Плотность связана с функцией распределения следующим образом:\n",
        "\n",
        "$F(x) = \\int_{-\\infty}^{x}f(u)du$\n",
        "\n",
        "Для непрерывной случайной величины верно равенство:\n",
        "\n",
        "$\\int_{-\\infty}^{\\infty}f(u)du = 1$\n"
      ]
    },
    {
      "cell_type": "markdown",
      "metadata": {
        "id": "wX_1I6C7eEE0",
        "colab_type": "text"
      },
      "source": [
        "Одним из самых важных примеров непрерывной случаной величины является нормальная случайная величина. \n",
        "\n",
        "К примеру, Иван любит играть в дартс и почти всегда попадает в десятку, однакого иногда он может промахиваться. Точное место попадания его дротика $X$ моделируется с помощью нормального (Гауссового) распределения:\n",
        "\n",
        "$$X \\sim N(\\mu, \\sigma)$$\n",
        "\n",
        "\n",
        "Параметр $\\mu$ отвечает за среднее место попадания Ивана, а параметр $\\sigma$ отвечает за разброс бросков вокруг среднего значения. "
      ]
    },
    {
      "cell_type": "markdown",
      "metadata": {
        "id": "QGJfPw-mAogD",
        "colab_type": "text"
      },
      "source": [
        "Функция плотности нормального распределения имеет вид: \n",
        "\n",
        "$f(x) = \\frac{1}{\\sqrt{2\\pi \\sigma^2}} exp(-\\frac{(x-\\mu)^2}{2\\sigma^2})$"
      ]
    },
    {
      "cell_type": "code",
      "metadata": {
        "id": "xZuck69-BD_h",
        "colab_type": "code",
        "colab": {}
      },
      "source": [
        "mu, sigma = 0.0, 1.0\n",
        "X_Norm = np.random.normal(mu, sigma, 10000)"
      ],
      "execution_count": 0,
      "outputs": []
    },
    {
      "cell_type": "code",
      "metadata": {
        "id": "ytW5uqrgENwt",
        "colab_type": "code",
        "colab": {}
      },
      "source": [
        "np.mean(X_Norm)"
      ],
      "execution_count": 0,
      "outputs": []
    },
    {
      "cell_type": "code",
      "metadata": {
        "id": "qL-aJ3geEVXO",
        "colab_type": "code",
        "colab": {}
      },
      "source": [
        "np.std(X_Norm)"
      ],
      "execution_count": 0,
      "outputs": []
    },
    {
      "cell_type": "code",
      "metadata": {
        "id": "-wyz1OKmBfix",
        "colab_type": "code",
        "colab": {}
      },
      "source": [
        "plt.figure(figsize=(6, 4))\n",
        "\n",
        "plt.hist([X_Norm], bins=30, label=['$N(0,1)$'], density=True)\n",
        "plt.legend(loc='upper right')\n",
        "plt.show()"
      ],
      "execution_count": 0,
      "outputs": []
    },
    {
      "cell_type": "code",
      "metadata": {
        "id": "ZCtdeglCCM-u",
        "colab_type": "code",
        "colab": {}
      },
      "source": [
        "def norm_df(x, mu, sigma):\n",
        "  return 1/(2*np.pi*sigma**2)**(0.5) * np.exp(-((x-mu)**2)/(2*sigma**2))"
      ],
      "execution_count": 0,
      "outputs": []
    },
    {
      "cell_type": "code",
      "metadata": {
        "id": "W67QVZ7WCpJi",
        "colab_type": "code",
        "colab": {}
      },
      "source": [
        "standart_df = norm_df(X_Norm, 0, 1)"
      ],
      "execution_count": 0,
      "outputs": []
    },
    {
      "cell_type": "code",
      "metadata": {
        "id": "K59l-9QEDjfU",
        "colab_type": "code",
        "colab": {}
      },
      "source": [
        "plt.scatter(X_Norm, standart_df, s=0.5)\n",
        "plt.show()"
      ],
      "execution_count": 0,
      "outputs": []
    },
    {
      "cell_type": "markdown",
      "metadata": {
        "id": "M1kmJhTKZfnL",
        "colab_type": "text"
      },
      "source": [
        "# Pandas"
      ]
    },
    {
      "cell_type": "code",
      "metadata": {
        "id": "gANZbkZqKVBQ",
        "colab_type": "code",
        "colab": {}
      },
      "source": [
        "import pandas as pd\n",
        "from sklearn.datasets import load_iris"
      ],
      "execution_count": 0,
      "outputs": []
    },
    {
      "cell_type": "code",
      "metadata": {
        "id": "oIy3S_XYKcAl",
        "colab_type": "code",
        "colab": {}
      },
      "source": [
        "data = load_iris()"
      ],
      "execution_count": 0,
      "outputs": []
    },
    {
      "cell_type": "code",
      "metadata": {
        "id": "KHeThhYUQtes",
        "colab_type": "code",
        "colab": {
          "base_uri": "https://localhost:8080/",
          "height": 34
        },
        "outputId": "edb60df6-e3f5-42d5-a314-47ceffc728ce"
      },
      "source": [
        "data.keys()"
      ],
      "execution_count": 144,
      "outputs": [
        {
          "output_type": "execute_result",
          "data": {
            "text/plain": [
              "dict_keys(['data', 'target', 'target_names', 'DESCR', 'feature_names', 'filename'])"
            ]
          },
          "metadata": {
            "tags": []
          },
          "execution_count": 144
        }
      ]
    },
    {
      "cell_type": "code",
      "metadata": {
        "id": "ywwSKaSEKgFj",
        "colab_type": "code",
        "colab": {}
      },
      "source": [
        "df = pd.DataFrame(data['data'], columns=data['feature_names'])\n",
        "y = pd.DataFrame(data['target'])"
      ],
      "execution_count": 0,
      "outputs": []
    },
    {
      "cell_type": "code",
      "metadata": {
        "id": "S_NXuaR3kK7x",
        "colab_type": "code",
        "colab": {}
      },
      "source": [
        "df['target'] = y"
      ],
      "execution_count": 0,
      "outputs": []
    },
    {
      "cell_type": "code",
      "metadata": {
        "id": "v1FduZKrlHmQ",
        "colab_type": "code",
        "colab": {}
      },
      "source": [
        "df.to_csv(\"iris.csv\")"
      ],
      "execution_count": 0,
      "outputs": []
    },
    {
      "cell_type": "code",
      "metadata": {
        "id": "wNHOL0dFK36i",
        "colab_type": "code",
        "colab": {}
      },
      "source": [
        "data['target_names']"
      ],
      "execution_count": 0,
      "outputs": []
    },
    {
      "cell_type": "code",
      "metadata": {
        "id": "XpKzts3AYmWC",
        "colab_type": "code",
        "colab": {}
      },
      "source": [
        "df.head()"
      ],
      "execution_count": 0,
      "outputs": []
    },
    {
      "cell_type": "code",
      "metadata": {
        "id": "ougO-hMVe-d5",
        "colab_type": "code",
        "colab": {}
      },
      "source": [
        "df.shape"
      ],
      "execution_count": 0,
      "outputs": []
    },
    {
      "cell_type": "code",
      "metadata": {
        "id": "n_FnX17XfAfj",
        "colab_type": "code",
        "colab": {}
      },
      "source": [
        "df.info()"
      ],
      "execution_count": 0,
      "outputs": []
    },
    {
      "cell_type": "code",
      "metadata": {
        "id": "F6Z8L8E1fCPu",
        "colab_type": "code",
        "colab": {}
      },
      "source": [
        "df.describe()"
      ],
      "execution_count": 0,
      "outputs": []
    },
    {
      "cell_type": "code",
      "metadata": {
        "id": "Z-yu4j7Tb_Ae",
        "colab_type": "code",
        "colab": {}
      },
      "source": [
        "df.columns"
      ],
      "execution_count": 0,
      "outputs": []
    },
    {
      "cell_type": "code",
      "metadata": {
        "id": "MIx-q8y0bXon",
        "colab_type": "code",
        "colab": {}
      },
      "source": [
        "df.columns=['sepal_length', 'sepal_width', 'petal_length', 'petal_width']"
      ],
      "execution_count": 0,
      "outputs": []
    },
    {
      "cell_type": "code",
      "metadata": {
        "id": "glFxJc-cYsIY",
        "colab_type": "code",
        "colab": {}
      },
      "source": [
        "df.head()"
      ],
      "execution_count": 0,
      "outputs": []
    },
    {
      "cell_type": "code",
      "metadata": {
        "id": "XE3AM4n2bSrr",
        "colab_type": "code",
        "colab": {}
      },
      "source": [
        "df['sepal_length']"
      ],
      "execution_count": 0,
      "outputs": []
    },
    {
      "cell_type": "code",
      "metadata": {
        "id": "jou4avKPb2QU",
        "colab_type": "code",
        "colab": {}
      },
      "source": [
        "df.sepal_length"
      ],
      "execution_count": 0,
      "outputs": []
    },
    {
      "cell_type": "code",
      "metadata": {
        "id": "6VvZ7xLCb3pu",
        "colab_type": "code",
        "colab": {}
      },
      "source": [
        "df[['sepal_length', 'sepal_width']]"
      ],
      "execution_count": 0,
      "outputs": []
    },
    {
      "cell_type": "code",
      "metadata": {
        "id": "8FVV25EvcN5N",
        "colab_type": "code",
        "colab": {}
      },
      "source": [
        "df['index'] = np.arange(100, 250)"
      ],
      "execution_count": 0,
      "outputs": []
    },
    {
      "cell_type": "code",
      "metadata": {
        "id": "pll4ymEccSfv",
        "colab_type": "code",
        "colab": {}
      },
      "source": [
        "df = df.set_index('index')\n",
        "df"
      ],
      "execution_count": 0,
      "outputs": []
    },
    {
      "cell_type": "code",
      "metadata": {
        "id": "JXZAqRcqcvhh",
        "colab_type": "code",
        "colab": {}
      },
      "source": [
        "df.loc[100]"
      ],
      "execution_count": 0,
      "outputs": []
    },
    {
      "cell_type": "code",
      "metadata": {
        "id": "-id47rnfcgpt",
        "colab_type": "code",
        "colab": {}
      },
      "source": [
        "df.iloc[0]"
      ],
      "execution_count": 0,
      "outputs": []
    },
    {
      "cell_type": "code",
      "metadata": {
        "id": "VSEGsJYacxgB",
        "colab_type": "code",
        "colab": {}
      },
      "source": [
        "df.iloc[[2, 3], [1, 2]]"
      ],
      "execution_count": 0,
      "outputs": []
    },
    {
      "cell_type": "code",
      "metadata": {
        "id": "s0hMrTioc8mg",
        "colab_type": "code",
        "colab": {}
      },
      "source": [
        "df.loc[120:130]"
      ],
      "execution_count": 0,
      "outputs": []
    },
    {
      "cell_type": "code",
      "metadata": {
        "id": "cU3Skoz-dBhg",
        "colab_type": "code",
        "colab": {}
      },
      "source": [
        "df.loc[120:130][['sepal_length', 'sepal_width']]"
      ],
      "execution_count": 0,
      "outputs": []
    },
    {
      "cell_type": "code",
      "metadata": {
        "id": "GeqwpnxadZKx",
        "colab_type": "code",
        "colab": {}
      },
      "source": [
        "df.loc[df.sepal_width > 3.5, [\"sepal_width\", \"petal_length\", \"petal_width\"]]"
      ],
      "execution_count": 0,
      "outputs": []
    },
    {
      "cell_type": "code",
      "metadata": {
        "id": "XbacdNaAdnxB",
        "colab_type": "code",
        "colab": {}
      },
      "source": [
        "df.loc[(df.sepal_width > 3.5) & (df.petal_width > 0.6)]"
      ],
      "execution_count": 0,
      "outputs": []
    },
    {
      "cell_type": "code",
      "metadata": {
        "id": "TW3llqQqd2Vy",
        "colab_type": "code",
        "colab": {}
      },
      "source": [
        "df['sepal_area'] = df.sepal_length * df.sepal_width"
      ],
      "execution_count": 0,
      "outputs": []
    },
    {
      "cell_type": "code",
      "metadata": {
        "id": "T_DFLgLEeDxU",
        "colab_type": "code",
        "colab": {}
      },
      "source": [
        "df"
      ],
      "execution_count": 0,
      "outputs": []
    },
    {
      "cell_type": "code",
      "metadata": {
        "id": "BMQT1zileESz",
        "colab_type": "code",
        "colab": {}
      },
      "source": [
        "df = df.drop(['sepal_area'], axis=1)\n",
        "df"
      ],
      "execution_count": 0,
      "outputs": []
    },
    {
      "cell_type": "code",
      "metadata": {
        "id": "eXmUdJPSetF4",
        "colab_type": "code",
        "colab": {}
      },
      "source": [
        "df.sort_values(by='petal_length', ascending=False)"
      ],
      "execution_count": 0,
      "outputs": []
    },
    {
      "cell_type": "markdown",
      "metadata": {
        "id": "mRq7ANHljsKA",
        "colab_type": "text"
      },
      "source": [
        "# Визуализация данных в Pandas"
      ]
    },
    {
      "cell_type": "code",
      "metadata": {
        "id": "iPWDu2jDf2Q_",
        "colab_type": "code",
        "colab": {}
      },
      "source": [
        "plt.scatter(df['sepal_length'], df['sepal_width'])\n",
        "plt.title('Iris Dataset')\n",
        "plt.xlabel('sepal_length')\n",
        "plt.ylabel('sepal_width')\n",
        "plt.show()"
      ],
      "execution_count": 0,
      "outputs": []
    },
    {
      "cell_type": "code",
      "metadata": {
        "id": "akLBkD6akmMr",
        "colab_type": "code",
        "colab": {}
      },
      "source": [
        "df.plot.scatter(x='sepal_length', y='sepal_width', s=40, title='Iris Dataset')\n",
        "plt.show()"
      ],
      "execution_count": 0,
      "outputs": []
    },
    {
      "cell_type": "code",
      "metadata": {
        "id": "VtIdwh5rjVHM",
        "colab_type": "code",
        "colab": {}
      },
      "source": [
        "colors = {0:'r', 1:'g', 2:'b'}\n",
        "\n",
        "plt.figure(figsize=(8, 6))\n",
        "for i in range(len(df['sepal_length'])):\n",
        "    plt.scatter(df['sepal_length'].iloc[i], df['sepal_width'].iloc[i],color=colors[df['target'].iloc[i]])\n",
        "plt.title('Iris Dataset')\n",
        "plt.xlabel('sepal_length')\n",
        "plt.ylabel('sepal_width')\n",
        "plt.show()"
      ],
      "execution_count": 0,
      "outputs": []
    },
    {
      "cell_type": "code",
      "metadata": {
        "id": "Qnct75dUlHoq",
        "colab_type": "code",
        "colab": {}
      },
      "source": [
        "df.plot.scatter(x='sepal_length', y='sepal_width', title='Iris Dataset', s=40, c='target', figsize=(10,6), colormap='viridis')\n",
        "plt.show()"
      ],
      "execution_count": 0,
      "outputs": []
    },
    {
      "cell_type": "code",
      "metadata": {
        "id": "o_KS6MKNlFww",
        "colab_type": "code",
        "colab": {}
      },
      "source": [
        "df.drop('target', axis=1).plot.hist(subplots=True, layout=(2,2), figsize=(8, 8), bins=20)\n",
        "plt.show()"
      ],
      "execution_count": 0,
      "outputs": []
    }
  ]
}