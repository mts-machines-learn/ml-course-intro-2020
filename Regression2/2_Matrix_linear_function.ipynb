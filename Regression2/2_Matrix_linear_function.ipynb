{
 "cells": [
  {
   "cell_type": "code",
   "execution_count": 1,
   "metadata": {
    "collapsed": true,
    "slideshow": {
     "slide_type": "skip"
    }
   },
   "outputs": [],
   "source": [
    "%load_ext autoreload\n",
    "%autoreload 2"
   ]
  },
  {
   "cell_type": "code",
   "execution_count": 2,
   "metadata": {
    "collapsed": true,
    "slideshow": {
     "slide_type": "skip"
    }
   },
   "outputs": [],
   "source": [
    "from regression2_helper import * # Подгружаем функции для визуализации\n",
    "import numpy as np              # Подгруджаем библиотеку NumPy"
   ]
  },
  {
   "cell_type": "code",
   "execution_count": 3,
   "metadata": {
    "collapsed": true,
    "slideshow": {
     "slide_type": "skip"
    }
   },
   "outputs": [],
   "source": [
    "np.set_printoptions(formatter={'float': lambda x: format(x, '6.3f')}) # настройка вывода для матриц"
   ]
  },
  {
   "cell_type": "code",
   "execution_count": 4,
   "metadata": {
    "collapsed": true,
    "slideshow": {
     "slide_type": "skip"
    }
   },
   "outputs": [],
   "source": [
    "#загрузим данные\n",
    "X_room, X_lstat, y = load_small_data() "
   ]
  },
  {
   "cell_type": "markdown",
   "metadata": {
    "slideshow": {
     "slide_type": "slide"
    }
   },
   "source": [
    "# Линейная функция в матричном виде"
   ]
  },
  {
   "cell_type": "markdown",
   "metadata": {
    "slideshow": {
     "slide_type": "fragment"
    }
   },
   "source": [
    "Давайте вспомним как считать матричное произведение. "
   ]
  },
  {
   "cell_type": "markdown",
   "metadata": {
    "slideshow": {
     "slide_type": "slide"
    }
   },
   "source": [
    "## Произведение матрицы и вектор-строки на вектор-столбец"
   ]
  },
  {
   "cell_type": "markdown",
   "metadata": {
    "slideshow": {
     "slide_type": "fragment"
    }
   },
   "source": [
    "\\begin{equation*}\n",
    "\\textbf{r} = \\begin{pmatrix}\n",
    "    r_{0, 0}  & \\ldots & r_{0, j} \\ldots r_{0, m-1} \\\\\n",
    "\\end{pmatrix}\n",
    "\\end{equation*}\n",
    "\n",
    "Размер $(1, m)$."
   ]
  },
  {
   "cell_type": "markdown",
   "metadata": {
    "slideshow": {
     "slide_type": "fragment"
    }
   },
   "source": [
    "\\begin{equation*}\n",
    "\\textbf{c} = \\begin{pmatrix}\n",
    "    c_{0, 0} \\\\\n",
    "    \\ldots \\\\\n",
    "    c_{j, 0} \\\\\n",
    "    \\ldots \\\\\n",
    "    c_{m-1, 0}\n",
    "\\end{pmatrix}\n",
    "\\end{equation*}\n",
    "\n",
    "Размер $(m, 1)$."
   ]
  },
  {
   "cell_type": "markdown",
   "metadata": {
    "slideshow": {
     "slide_type": "fragment"
    }
   },
   "source": [
    "$$\\textbf{r c} = \\sum_{i=0}^{m-1} r_{0, i}c_{i, 0}$$"
   ]
  },
  {
   "cell_type": "markdown",
   "metadata": {
    "slideshow": {
     "slide_type": "subslide"
    }
   },
   "source": [
    "\\begin{equation*}\n",
    "\\textbf{c} = \\begin{pmatrix}\n",
    "    c_{0, 0} \\\\\n",
    "    \\ldots \\\\\n",
    "    c_{j, 0} \\\\\n",
    "    \\ldots \\\\\n",
    "    c_{m-1, 0}\n",
    "\\end{pmatrix}\n",
    "\\end{equation*}\n",
    "\n",
    "Размер $(m, 1)$."
   ]
  },
  {
   "cell_type": "markdown",
   "metadata": {
    "slideshow": {
     "slide_type": "-"
    }
   },
   "source": [
    "Часто, для удобства, вектор-столбец записывают через операцию транспонирования \\begin{equation*}\n",
    "\\textbf{c} = \\begin{pmatrix}\n",
    "    c_{0, 0} &\n",
    "    \\ldots &\n",
    "    c_{0, j} &\n",
    "    \\ldots &\n",
    "    c_{0, m-1}\n",
    "\\end{pmatrix}^T\n",
    "\\end{equation*}"
   ]
  },
  {
   "cell_type": "markdown",
   "metadata": {
    "slideshow": {
     "slide_type": "slide"
    }
   },
   "source": [
    "## Произведение матрицы на вектор-столбец"
   ]
  },
  {
   "cell_type": "markdown",
   "metadata": {
    "slideshow": {
     "slide_type": "fragment"
    }
   },
   "source": [
    "\\begin{equation*}\n",
    "A = \\begin{pmatrix}\n",
    "    a_{0, 0} & \\ldots & a_{0, j} & \\ldots & a_{0, m-1} \\\\\n",
    "    \\cdot &   \\cdot  & \\cdot &    \\cdot \\\\\n",
    "    a_{i, 0}  & \\ldots & a_{i, j} & \\ldots & a_{i, m-1} \\\\\n",
    "    \\cdot &   \\cdot  & \\cdot &    \\cdot \\\\\n",
    "    a_{n-1, 0} & \\ldots & a_{n-1, j}  & \\ldots  & a_{n-1, m-1} \\\\\n",
    "\\end{pmatrix}\n",
    "\\end{equation*}\n",
    "\n",
    "Размер $A = (n, m)$."
   ]
  },
  {
   "cell_type": "markdown",
   "metadata": {
    "slideshow": {
     "slide_type": "fragment"
    }
   },
   "source": [
    "\\begin{equation*}\n",
    "\\textbf{c} = \\begin{pmatrix}\n",
    "    c_{0, 0} &\n",
    "    \\ldots &\n",
    "    c_{0, j} &\n",
    "    \\ldots &\n",
    "    c_{0, m-1}\n",
    "\\end{pmatrix}^T\n",
    "\\end{equation*}\n",
    "\n",
    "Размер $(m, 1)$."
   ]
  },
  {
   "cell_type": "markdown",
   "metadata": {
    "slideshow": {
     "slide_type": "subslide"
    }
   },
   "source": [
    "\\begin{equation*}\n",
    "A \\cdot \\textbf{c} = \\begin{pmatrix}\n",
    "    a_{0, 0} & \\ldots & a_{0, j} & \\ldots & a_{0, m-1} \\\\\n",
    "    \\cdot &   \\cdot  & \\cdot &    \\cdot \\\\\n",
    "    a_{i, 0}  & \\ldots & a_{i, j} & \\ldots & a_{i, m-1} \\\\\n",
    "    \\cdot &   \\cdot  & \\cdot &    \\cdot \\\\\n",
    "    a_{n-1, 0} & \\ldots & a_{n-1, j}  & \\ldots  & a_{n-1, m-1} \\\\\n",
    "\\end{pmatrix}\n",
    "\\begin{pmatrix}\n",
    "    с_{0, 0} \\\\\n",
    "    \\ldots \\\\\n",
    "    с_{j, 0} \\\\\n",
    "    \\ldots \\\\\n",
    "    с_{m-1, 0}\n",
    "\\end{pmatrix}\n",
    "\\end{equation*}"
   ]
  },
  {
   "cell_type": "markdown",
   "metadata": {
    "slideshow": {
     "slide_type": "fragment"
    }
   },
   "source": [
    "\\begin{equation*}\n",
    "A \\cdot \\textbf{c} = \\begin{pmatrix}\n",
    "    a_{0, 0} c_{0, 0} + \\ldots + a_{0, j} c_{j, 0} + \\ldots +a_{0, m-1} c_{m-1, 0} \\\\\n",
    "    \\cdots \\\\\n",
    "    a_{i, 0} c_{0, 0} + \\ldots + a_{i, j} c_{j, 0} + \\ldots +a_{i, m-1} c_{m-1, 0} \\\\\n",
    "    \\cdots \\\\\n",
    "    a_{n-1, 0} c_{0, 0} + \\ldots + a_{n-1, j} c_{j, 0} + \\ldots +a_{n-1, m-1} c_{m-1, 0} \\\\\n",
    "\\end{pmatrix} \n",
    "\\end{equation*}"
   ]
  },
  {
   "cell_type": "markdown",
   "metadata": {
    "slideshow": {
     "slide_type": "subslide"
    }
   },
   "source": [
    "\\begin{equation*}\n",
    "A \\cdot \\textbf{c} = \\begin{pmatrix}\n",
    "    a_{0, 0} c_{0, 0} + \\ldots + a_{0, j} c_{j, 0} + \\ldots +a_{0, m-1} c_{m-1, 0} \\\\\n",
    "    \\cdots \\\\\n",
    "    a_{i, 0} c_{0, 0} + \\ldots + a_{i, j} c_{j, 0} + \\ldots +a_{i, m-1} c_{m-1, 0} \\\\\n",
    "    \\cdots \\\\\n",
    "    a_{n-1, 0} c_{0, 0} + \\ldots + a_{n-1, j} c_{j, 0} + \\ldots +a_{n-1, m-1} c_{m-1, 0} \\\\\n",
    "\\end{pmatrix} \n",
    "\\end{equation*}"
   ]
  },
  {
   "cell_type": "markdown",
   "metadata": {
    "slideshow": {
     "slide_type": "-"
    }
   },
   "source": [
    "\\begin{equation*}\n",
    "A \\cdot \\textbf{c} =\n",
    "\\begin{pmatrix}\n",
    "    \\sum_i^{m-1} a_{0, i} c_{i, 0} \\\\\n",
    "    \\cdots \\\\\n",
    "    \\sum_i^{m-1} a_{j, i} c_{i, 0} \\\\\n",
    "    \\cdots \\\\\n",
    "    \\sum_i^{m-1} a_{n-1, i} c_{i, 0} \\\\\n",
    "\\end{pmatrix}\n",
    "\\end{equation*}"
   ]
  },
  {
   "cell_type": "markdown",
   "metadata": {
    "slideshow": {
     "slide_type": "slide"
    }
   },
   "source": [
    "## Вычисление одного значения линейной функции в матричном виде"
   ]
  },
  {
   "cell_type": "markdown",
   "metadata": {
    "slideshow": {
     "slide_type": "fragment"
    }
   },
   "source": [
    "Объединим признаки для $i$-го примера в вектор стоку \n",
    "\\begin{equation*}\n",
    "x_i = \\begin{pmatrix} x_{i, 1} & x_{i, 2}\n",
    "\\end{pmatrix}\n",
    "\\end{equation*}\n",
    "\n",
    "\n",
    "$x_{i, 1}$ - это среднее количество комнат $i$-го примера.\n",
    "\n",
    "$x_{i, 2}$ - LSTAT $i$-го примера."
   ]
  },
  {
   "cell_type": "markdown",
   "metadata": {
    "slideshow": {
     "slide_type": "fragment"
    }
   },
   "source": [
    "Также объединим коэффициенты в вектор-столбец $\\theta = \\begin{pmatrix}\n",
    "    \\theta_1\\\\\n",
    "    \\theta_2\\\\\n",
    "  \\end{pmatrix} =  \\begin{pmatrix}\\theta_1 & \\theta_2 \\end{pmatrix}^T$"
   ]
  },
  {
   "cell_type": "markdown",
   "metadata": {
    "slideshow": {
     "slide_type": "subslide"
    }
   },
   "source": [
    "Объединив признаки и коэффициенты в вектора можем переписать предсказание $i$-го примера в матричном виде:\n",
    "  "
   ]
  },
  {
   "cell_type": "markdown",
   "metadata": {
    "slideshow": {
     "slide_type": "fragment"
    }
   },
   "source": [
    "\\begin{equation*}\n",
    "\\tilde{y}_i= \\theta_0 + \\begin{pmatrix}x_{i, 1} & x_{i, 2}\\end{pmatrix} \\begin{pmatrix}\n",
    "    \\theta_1\\\\\n",
    "    \\theta_2\\\\\n",
    "  \\end{pmatrix} = \\theta_0 + \\theta_1 x_{i, 1} + \\theta_2 x_{i, 2}\n",
    "\\end{equation*}"
   ]
  },
  {
   "cell_type": "markdown",
   "metadata": {
    "slideshow": {
     "slide_type": "fragment"
    }
   },
   "source": [
    "$$\\tilde{y}_i= \\theta_0 + x_i \\theta$$"
   ]
  },
  {
   "cell_type": "markdown",
   "metadata": {
    "slideshow": {
     "slide_type": "fragment"
    }
   },
   "source": [
    "Добавим к вектору $x_i$  единицу:\n",
    "\n",
    "${X}_i = \\begin{pmatrix} 1 & x_{i, 1} & x_{i, 2}\\end{pmatrix}$"
   ]
  },
  {
   "cell_type": "markdown",
   "metadata": {
    "slideshow": {
     "slide_type": "fragment"
    }
   },
   "source": [
    "Добавим $\\theta_0$ в вектор-столбец коэффициентов $\\theta$ первым элементом:\n",
    "\\begin{equation*}\n",
    "\\Theta = \\begin{pmatrix}\\theta_0 &  \\theta_1 & \\theta_2\\end{pmatrix}^T,\n",
    "\\end{equation*}\n"
   ]
  },
  {
   "cell_type": "markdown",
   "metadata": {
    "slideshow": {
     "slide_type": "subslide"
    }
   },
   "source": [
    "Вычисление предсказанной цены $\\tilde{y}_i$ сведётся к матричному произведению:\n",
    "\n",
    "\\begin{equation*}\n",
    "\\tilde{y}_i= \\begin{pmatrix} 1 & x_{i, 1} & x_{i, 2}\\end{pmatrix} \\begin{pmatrix}\n",
    "    \\theta_0\\\\\n",
    "    \\theta_1\\\\\n",
    "    \\theta_2\\\\\n",
    "  \\end{pmatrix} =  1 \\cdot \\theta_0 + \\theta_1 x_{i, 1} + \\theta_2 x_{i, 2}.\n",
    "\\end{equation*}\n",
    "\n",
    "\\begin{equation*}\n",
    "\\tilde{y}_i = X_i\\Theta.\n",
    "\\end{equation*}"
   ]
  },
  {
   "cell_type": "markdown",
   "metadata": {
    "slideshow": {
     "slide_type": "fragment"
    }
   },
   "source": [
    "Эта формула позволяет вычислить предсказание для одного конкретного жилья в Бостоне."
   ]
  },
  {
   "cell_type": "markdown",
   "metadata": {
    "slideshow": {
     "slide_type": "fragment"
    }
   },
   "source": [
    "Но с помощью матричного произведения можно вычислить предсказание стоимости жилья сразу для всех квартир."
   ]
  },
  {
   "cell_type": "markdown",
   "metadata": {
    "slideshow": {
     "slide_type": "subslide"
    }
   },
   "source": [
    "Допустим у нас есть $N$ примеров в обучающей выборке $x_{i,0} = 1$. Тогда весь набор можно записать как:\n",
    "\n",
    "\\begin{equation*}\n",
    "X= \\begin{pmatrix}\n",
    "1& x_{0,1}& x_{0,2} \\\\\n",
    "\\cdots & \\cdots & \\cdots \\\\\n",
    "1& x_{i,1}& x_{i,2} \\\\\n",
    "\\cdots & \\cdots & \\cdots \\\\\n",
    "1& x_{N-1,1}& x_{N-1,2} \\\\\n",
    "\\end{pmatrix}=\n",
    "\\begin{pmatrix}\n",
    "x_{0,0}& x_{0,1}& x_{0,2} \\\\\n",
    "\\cdots & \\cdots & \\cdots \\\\\n",
    "x_{i,0}& x_{i,1}& x_{i,2} \\\\\n",
    "\\cdots & \\cdots & \\cdots \\\\\n",
    "x_{N-1,0}& x_{N-1,1}& x_{N-1,2} \\\\\n",
    "\\end{pmatrix}\n",
    "\\end{equation*}"
   ]
  },
  {
   "cell_type": "markdown",
   "metadata": {
    "slideshow": {
     "slide_type": "fragment"
    }
   },
   "source": [
    "или\n",
    "\n",
    "\\begin{equation*}\n",
    "X= \\begin{pmatrix}\n",
    "X_0 \\\\\n",
    "\\cdots\\\\\n",
    "X_i \\\\\n",
    "\\cdots\\\\\n",
    "X_N-1 \\\\\n",
    "\\end{pmatrix}\n",
    "\\end{equation*}\n",
    "\n",
    "Или в самом коротком виде: $X = \\begin{pmatrix} X_0 & X_1 & \\ldots & X_{N-1} \\end{pmatrix}^T$, где $X_i = \\begin{pmatrix} x_{i,0} & x_{i,1} & x_{i,2}\\end{pmatrix}$."
   ]
  },
  {
   "cell_type": "markdown",
   "metadata": {
    "slideshow": {
     "slide_type": "subslide"
    }
   },
   "source": [
    "Тогда, для предсказания стоимости жилья всех квартир, запишем $N$ выражений:\n",
    "\n",
    "\\begin{cases}\n",
    "\\tilde{y}_0 = 1\\cdot \\theta_0 + \\theta_1 x_{0,1} + \\theta_2 x_{0,2}\\\\\n",
    "\\cdots \\\\ \n",
    "\\tilde{y}_i = 1\\cdot \\theta_0 + \\theta_1 x_{i,1} + \\theta_2 x_{i,2}\\\\\n",
    "\\cdots\\\\\n",
    "\\tilde{y}_{N-1} = 1\\cdot \\theta_0 + \\theta_1 x_{N-1,1} + \\theta_2 x_{N-1,2}\\\\\n",
    "\\end{cases}"
   ]
  },
  {
   "cell_type": "markdown",
   "metadata": {
    "slideshow": {
     "slide_type": "fragment"
    }
   },
   "source": [
    "\\begin{cases}\n",
    "\\tilde{y}_1 = x_{0,0}\\theta_0 + \\theta_1 x_{0,1} + \\theta_2 x_{0,2}\\\\\n",
    "\\cdots\\\\\n",
    "\\tilde{y}_i = x_{i,1}\\theta_0 + \\theta_1 x_{i,1} + \\theta_2 x_{i,2}\\\\\n",
    "\\cdots\\\\\n",
    "\\tilde{y}_{N-1} = x_{N-1,1}\\theta_0 + \\theta_1 x_{N-1,1} + \\theta_2 x_{N-1,2}\\\\\n",
    "\\end{cases}"
   ]
  },
  {
   "cell_type": "markdown",
   "metadata": {
    "slideshow": {
     "slide_type": "subslide"
    }
   },
   "source": [
    "Или тоже самое можно записать в матричном виде:  "
   ]
  },
  {
   "cell_type": "markdown",
   "metadata": {
    "slideshow": {
     "slide_type": "subslide"
    }
   },
   "source": [
    "\\begin{equation*}\n",
    "\\tilde{y} =  \\begin{pmatrix}\n",
    "x_{0,0}& x_{0,1}& x_{0,2} \\\\\n",
    "\\cdots & \\cdots & \\cdots \\\\\n",
    "x_{i,0}& x_{i,1}& x_{i,2} \\\\\n",
    "\\cdots & \\cdots & \\cdots \\\\\n",
    "x_{N-1,0}& x_{N-1,1}& x_{N-1,2} \\\\\n",
    "\\end{pmatrix}\\cdot\n",
    "\\begin{pmatrix}\n",
    "    \\theta_0\\\\\n",
    "    \\theta_1\\\\\n",
    "    \\theta_2\n",
    "  \\end{pmatrix}\n",
    "\\end{equation*} \n",
    "  \n",
    "\\begin{equation*}\n",
    "\\tilde{y} = \\begin{pmatrix}\n",
    "x_{0,0}\\theta_0 + \\theta_1 x_{0,1} + \\theta_2 x_{0,2}\\\\\n",
    "\\cdots  \\\\\n",
    "x_{i,0}\\theta_0 + \\theta_1 x_{i,1} + \\theta_2 x_{i,2}\\\\\n",
    "\\cdots  \\\\\n",
    "x_{N-1,0}\\theta_0 + \\theta_1 x_{N-1,1} + \\theta_2 x_{N-1,2}\\\\\n",
    "  \\end{pmatrix}=\n",
    "  \\begin{pmatrix}\n",
    "    \\tilde{y}_0\\\\\n",
    "    \\cdots \\\\\n",
    "    \\tilde{y}_i\\\\\n",
    "    \\cdots \\\\\n",
    "    \\tilde{y}_{N-1}\\\\\n",
    "  \\end{pmatrix}\n",
    "\\end{equation*}\n",
    "\n",
    "$x_{i, 0} = 1$  "
   ]
  },
  {
   "cell_type": "markdown",
   "metadata": {
    "slideshow": {
     "slide_type": "fragment"
    }
   },
   "source": [
    "\\begin{equation*}\n",
    "\\tilde{y} = X\\Theta.\n",
    "\\end{equation*}"
   ]
  },
  {
   "cell_type": "markdown",
   "metadata": {
    "slideshow": {
     "slide_type": "slide"
    }
   },
   "source": [
    "## Реализация линейной функции с помощью матричного произведения "
   ]
  },
  {
   "cell_type": "markdown",
   "metadata": {
    "slideshow": {
     "slide_type": "fragment"
    }
   },
   "source": [
    "Составим матрицу $X$ из наших признаков."
   ]
  },
  {
   "cell_type": "code",
   "execution_count": 5,
   "metadata": {
    "slideshow": {
     "slide_type": "fragment"
    }
   },
   "outputs": [
    {
     "name": "stdout",
     "output_type": "stream",
     "text": [
      "[[ 1.000  6.575  4.980]\n",
      " [ 1.000  6.421  9.140]\n",
      " [ 1.000  7.185  4.030]\n",
      " ...\n",
      " [ 1.000  6.976  5.640]\n",
      " [ 1.000  6.794  6.480]\n",
      " [ 1.000  6.030  7.880]]\n"
     ]
    }
   ],
   "source": [
    "def create_data(X1, X2):\n",
    "    X_ones = np.ones_like(X1)\n",
    "    return np.column_stack([X_ones, X1, X2])\n",
    "\n",
    "X = create_data(X_room, X_lstat)\n",
    "print(X)"
   ]
  },
  {
   "cell_type": "markdown",
   "metadata": {
    "slideshow": {
     "slide_type": "subslide"
    }
   },
   "source": [
    "Зададим начальные параметры весов случайными числами от 0 до 1:"
   ]
  },
  {
   "cell_type": "code",
   "execution_count": 6,
   "metadata": {
    "slideshow": {
     "slide_type": "fragment"
    }
   },
   "outputs": [
    {
     "name": "stdout",
     "output_type": "stream",
     "text": [
      "[[ 0.168]\n",
      " [ 0.641]\n",
      " [ 0.770]]\n"
     ]
    }
   ],
   "source": [
    "Theta = np.random.random_sample(size=(3, 1))\n",
    "print(Theta)"
   ]
  },
  {
   "cell_type": "markdown",
   "metadata": {
    "slideshow": {
     "slide_type": "subslide"
    }
   },
   "source": [
    "Реализуем линейную функцию от наших параметров и данных (функция делает $N$ предсказаний по параметрам $\\Theta$)."
   ]
  },
  {
   "cell_type": "code",
   "execution_count": 7,
   "metadata": {
    "collapsed": true,
    "slideshow": {
     "slide_type": "fragment"
    }
   },
   "outputs": [],
   "source": [
    "def linear_function(X, Theta):\n",
    "    return np.dot(X, Theta) #X @ Theta\n",
    "\n",
    "y_pred = linear_function(X, Theta)"
   ]
  },
  {
   "cell_type": "code",
   "execution_count": 8,
   "metadata": {
    "slideshow": {
     "slide_type": "fragment"
    }
   },
   "outputs": [
    {
     "name": "stdout",
     "output_type": "stream",
     "text": [
      "(506, 3)\n"
     ]
    }
   ],
   "source": [
    "print(X.shape)"
   ]
  },
  {
   "cell_type": "code",
   "execution_count": 9,
   "metadata": {
    "slideshow": {
     "slide_type": "fragment"
    }
   },
   "outputs": [
    {
     "name": "stdout",
     "output_type": "stream",
     "text": [
      "(506, 1)\n"
     ]
    }
   ],
   "source": [
    "print(y_pred.shape)"
   ]
  }
 ],
 "metadata": {
  "celltoolbar": "Slideshow",
  "kernelspec": {
   "display_name": "Python 3",
   "language": "python",
   "name": "python3"
  },
  "language_info": {
   "codemirror_mode": {
    "name": "ipython",
    "version": 3
   },
   "file_extension": ".py",
   "mimetype": "text/x-python",
   "name": "python",
   "nbconvert_exporter": "python",
   "pygments_lexer": "ipython3",
   "version": "3.6.3"
  }
 },
 "nbformat": 4,
 "nbformat_minor": 2
}