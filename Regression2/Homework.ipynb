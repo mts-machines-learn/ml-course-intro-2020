{
 "cells": [
  {
   "cell_type": "markdown",
   "metadata": {
    "colab_type": "text",
    "id": "AXLZtwVjw_6J"
   },
   "source": [
    "# Практическое задание\n",
    "\n",
    "В данном задании предлагается реализовать алгоритм градиентного спуска для полиномиальной регрессии функции вида $f(x) = \\theta_0 + \\theta_1 x + \\theta_2 x^2 + \\ldots + \\theta_i x^i \\ldots + \\ldots \\theta_m x^m$. При этом, в качестве функции потери будем применяться средняя абсолютная ошибка.\n",
    "\n",
    "Задание состоит из шести частей:\n",
    "\n",
    "1. Создать полиномиальные признаки.\n",
    "\n",
    "2. Реализовать полиномиальную функцию.\n",
    "\n",
    "3. Нормализовать данные.\n",
    "\n",
    "4. Реализовать среднюю абсолютную ошибку.\n",
    "\n",
    "5. Рассчитать градиент для функции ошибки.\n",
    "\n",
    "6. Реализовать градиентный спуск.\n",
    "\n",
    "7. Насладиться красотой алгоритмов машинного обучения.\n",
    "\n",
    "Задания следует делать одно за другим.  "
   ]
  },
  {
   "cell_type": "markdown",
   "metadata": {
    "colab_type": "text",
    "id": "2GfCgbW7w_6M"
   },
   "source": [
    "Запустите следующие 2 ячейки перед началом работы."
   ]
  },
  {
   "cell_type": "code",
   "execution_count": 1,
   "metadata": {
    "colab": {},
    "colab_type": "code",
    "collapsed": true,
    "id": "17Klq9s0w_6M"
   },
   "outputs": [],
   "source": [
    "from regression2_helper import * # Подгружаем функции для визуализации\n",
    "import numpy as np              # Подгруджаем библиотеку NumPy"
   ]
  },
  {
   "cell_type": "code",
   "execution_count": 2,
   "metadata": {
    "colab": {},
    "colab_type": "code",
    "collapsed": true,
    "id": "J8Hw3VPrw_6P"
   },
   "outputs": [],
   "source": [
    "X, y = get_homework_data()"
   ]
  },
  {
   "cell_type": "markdown",
   "metadata": {
    "colab_type": "text",
    "id": "1dFrj5JGw_6R"
   },
   "source": [
    "## 1. Создать полиномиальные признаки \n",
    "\n",
    "На вход функции передается вектор значений признаков $x$ размера $(N, )$ и $m$. Функция должна возвращать матрицу  размера $(N, m+1)$.\n",
    "\n",
    "Другими словами, вектор $x$ выглядит таким образом:\n",
    "\n",
    "\\begin{equation*}\n",
    "\\mathbf{x} = \\begin{pmatrix}\n",
    "x_1\\\\\n",
    "x_2\\\\\n",
    "\\cdots \\\\\n",
    "x_i\\\\\n",
    "\\cdots \\\\\n",
    "x_N\n",
    "\\end{pmatrix}\n",
    "\\end{equation*}\n",
    "\n",
    "Тогда функция должна вернуть матрицу следующего вида:\n",
    "\n",
    "\\begin{equation*}\n",
    "\\mathbf{X} = \\begin{pmatrix}\n",
    "1 & x_1 & x_1^2 &\\dots & x_1^m\\\\\n",
    "1 & x_2 & x_2^2 &\\dots & x_2^m \\\\\n",
    "\\cdots & \\cdots & \\cdots & \\cdots & \\cdots \\\\\n",
    "1& x_N & x_N^2 &\\dots & x_N^m\n",
    "\\end{pmatrix}\n",
    "\\end{equation*}"
   ]
  },
  {
   "cell_type": "markdown",
   "metadata": {
    "colab_type": "text",
    "id": "-YPlYTOWw_6S"
   },
   "source": [
    "Входные параметры:\n",
    "\n",
    "* Массив $x$ размера $(N, )$: тип numpy.ndarray\n",
    "\n",
    "* Значение коэффициента $m$: тип int\n",
    "\n",
    "Выходное значение:\n",
    "\n",
    "* Массив $X$ с полиномиальными значениями размера $(N, m+1)$: тип numpy.ndarray \n",
    "\n",
    "    \n",
    "Подсказка: использовать функцию hstack или column_stack из библиотеки numpy."
   ]
  },
  {
   "cell_type": "code",
   "execution_count": 3,
   "metadata": {
    "colab": {
     "base_uri": "https://localhost:8080/",
     "height": 34
    },
    "colab_type": "code",
    "id": "ClunvN0Mw_6T",
    "outputId": "761d32fc-4c0a-45d9-9fb6-1b98ddd7f3c3",
    "scrolled": true
   },
   "outputs": [
    {
     "name": "stdout",
     "output_type": "stream",
     "text": [
      "Размерность матрицы X_m = (100, 4)\n",
      "[[ 1.00000000e+00 -2.08594657e+00  4.35117310e+00 -9.07631461e+00]\n",
      " [ 1.00000000e+00  1.52743236e+00  2.33304962e+00  3.56357548e+00]\n",
      " [ 1.00000000e+00 -1.74190279e+00  3.03422534e+00 -5.28532560e+00]\n",
      " [ 1.00000000e+00  1.84647807e+00  3.40948127e+00  6.29553240e+00]\n",
      " [ 1.00000000e+00 -4.76622848e-01  2.27169339e-01 -1.08274097e-01]\n",
      " [ 1.00000000e+00 -1.24038660e+00  1.53855891e+00 -1.90840786e+00]\n",
      " [ 1.00000000e+00 -5.30994603e-01  2.81955268e-01 -1.49716726e-01]\n",
      " [ 1.00000000e+00 -1.27917961e+00  1.63630047e+00 -2.09312219e+00]\n",
      " [ 1.00000000e+00  1.45857238e+00  2.12743339e+00  3.10301559e+00]\n",
      " [ 1.00000000e+00  1.79636117e-01  3.22691347e-02  5.79670206e-03]\n",
      " [ 1.00000000e+00 -2.84199816e+00  8.07695352e+00 -2.29546870e+01]\n",
      " [ 1.00000000e+00  9.03739397e-01  8.16744898e-01  7.38124541e-01]\n",
      " [ 1.00000000e+00 -2.74439573e-01  7.53170791e-02 -2.06699870e-02]\n",
      " [ 1.00000000e+00  2.83818630e+00  8.05530146e+00  2.28624462e+01]\n",
      " [ 1.00000000e+00  2.53727200e+00  6.43774922e+00  1.63343208e+01]\n",
      " [ 1.00000000e+00  1.65056004e+00  2.72434844e+00  4.49670067e+00]\n",
      " [ 1.00000000e+00  7.31572231e-01  5.35197929e-01  3.91535943e-01]\n",
      " [ 1.00000000e+00 -5.64218775e-01  3.18342826e-01 -1.79614999e-01]\n",
      " [ 1.00000000e+00  1.28700838e+00  1.65639058e+00  2.13178856e+00]\n",
      " [ 1.00000000e+00  6.03076555e-01  3.63701331e-01  2.19339746e-01]\n",
      " [ 1.00000000e+00 -1.26425351e+00  1.59833694e+00 -2.02070310e+00]\n",
      " [ 1.00000000e+00 -2.40112208e+00  5.76538723e+00 -1.38433986e+01]\n",
      " [ 1.00000000e+00  2.47343929e+00  6.11790193e+00  1.51322590e+01]\n",
      " [ 1.00000000e+00  1.49414125e+00  2.23245808e+00  3.33560771e+00]\n",
      " [ 1.00000000e+00 -9.07814453e-01  8.24127081e-01 -7.48154475e-01]\n",
      " [ 1.00000000e+00 -1.25647637e+00  1.57873287e+00 -1.98364055e+00]\n",
      " [ 1.00000000e+00  4.78343101e-01  2.28812123e-01  1.09450700e-01]\n",
      " [ 1.00000000e+00  2.95198252e+00  8.71420077e+00  2.57241683e+01]\n",
      " [ 1.00000000e+00  9.19140602e-01  8.44819446e-01  7.76507854e-01]\n",
      " [ 1.00000000e+00 -1.79386683e+00  3.21795820e+00 -5.77258848e+00]\n",
      " [ 1.00000000e+00 -4.31988809e-02  1.86614331e-03 -8.06153028e-05]\n",
      " [ 1.00000000e+00  2.82369111e+00  7.97323148e+00  2.25139428e+01]\n",
      " [ 1.00000000e+00 -2.76438403e+00  7.64181904e+00 -2.11249225e+01]\n",
      " [ 1.00000000e+00 -1.54500028e+00  2.38702585e+00 -3.68795560e+00]\n",
      " [ 1.00000000e+00  4.70397727e-01  2.21274022e-01  1.04086797e-01]\n",
      " [ 1.00000000e+00  1.82026003e-01  3.31334659e-02  6.03115239e-03]\n",
      " [ 1.00000000e+00 -1.68304784e+00  2.83265004e+00 -4.76748554e+00]\n",
      " [ 1.00000000e+00  3.01420425e-01  9.08542723e-02  2.73853333e-02]\n",
      " [ 1.00000000e+00 -1.84849738e+00  3.41694257e+00 -6.31620940e+00]\n",
      " [ 1.00000000e+00 -2.75944366e+00  7.61452930e+00 -2.10118646e+01]\n",
      " [ 1.00000000e+00 -2.96669779e+00  8.80129576e+00 -2.61107846e+01]\n",
      " [ 1.00000000e+00  2.32763975e-01  5.41790682e-02  1.26109353e-02]\n",
      " [ 1.00000000e+00 -2.11534151e+00  4.47466972e+00 -9.46545463e+00]\n",
      " [ 1.00000000e+00 -2.40421454e-01  5.78024754e-02 -1.38969552e-02]\n",
      " [ 1.00000000e+00  1.31844569e+00  1.73829903e+00  2.29185285e+00]\n",
      " [ 1.00000000e+00 -2.96758131e+00  8.80653881e+00 -2.61341199e+01]\n",
      " [ 1.00000000e+00 -1.81863122e+00  3.30741953e+00 -6.01497642e+00]\n",
      " [ 1.00000000e+00  2.63163336e+00  6.92549414e+00  1.82253614e+01]\n",
      " [ 1.00000000e+00 -1.91064520e+00  3.65056508e+00 -6.97493464e+00]\n",
      " [ 1.00000000e+00  2.21619605e-01  4.91152492e-02  1.08849021e-02]\n",
      " [ 1.00000000e+00  2.50078755e+00  6.25393836e+00  1.56397712e+01]\n",
      " [ 1.00000000e+00 -2.85068312e+00  8.12639426e+00 -2.31657749e+01]\n",
      " [ 1.00000000e+00 -1.44550836e+00  2.08949441e+00 -3.02038162e+00]\n",
      " [ 1.00000000e+00 -9.81764427e-01  9.63861390e-01 -9.46284824e-01]\n",
      " [ 1.00000000e+00  4.18660640e-01  1.75276731e-01  7.33814685e-02]\n",
      " [ 1.00000000e+00 -4.50517109e-01  2.02965665e-01 -9.14395047e-02]\n",
      " [ 1.00000000e+00  2.50890856e+00  6.29462219e+00  1.57926315e+01]\n",
      " [ 1.00000000e+00  5.85932684e-01  3.43317110e-01  2.01160716e-01]\n",
      " [ 1.00000000e+00 -2.72948889e+00  7.45010959e+00 -2.03349914e+01]\n",
      " [ 1.00000000e+00  1.25030862e-02  1.56327164e-04  1.95457200e-06]\n",
      " [ 1.00000000e+00  2.07732714e+00  4.31528804e+00  8.96426496e+00]\n",
      " [ 1.00000000e+00 -2.26526223e+00  5.13141299e+00 -1.16239960e+01]\n",
      " [ 1.00000000e+00  1.51539871e+00  2.29643325e+00  3.48001198e+00]\n",
      " [ 1.00000000e+00 -2.85893133e-02  8.17348833e-04 -2.33674419e-05]\n",
      " [ 1.00000000e+00  3.96308877e-01  1.57060726e-01  6.22445601e-02]\n",
      " [ 1.00000000e+00 -6.09474019e-01  3.71458580e-01 -2.26394354e-01]\n",
      " [ 1.00000000e+00  2.47775215e+00  6.13925573e+00  1.52115541e+01]\n",
      " [ 1.00000000e+00 -2.00578184e+00  4.02316080e+00 -8.06958289e+00]\n",
      " [ 1.00000000e+00  2.26042645e+00  5.10952772e+00  1.15497116e+01]\n",
      " [ 1.00000000e+00  1.96802712e+00  3.87313076e+00  7.62242640e+00]\n",
      " [ 1.00000000e+00 -5.35104047e-01  2.86336341e-01 -1.53219735e-01]\n",
      " [ 1.00000000e+00 -1.23139847e+00  1.51634219e+00 -1.86722146e+00]\n",
      " [ 1.00000000e+00 -2.17086809e+00  4.71266827e+00 -1.02305812e+01]\n",
      " [ 1.00000000e+00 -9.47160518e-01  8.97113046e-01 -8.49710057e-01]\n",
      " [ 1.00000000e+00 -1.10147170e-02  1.21323990e-04 -1.33634941e-06]\n",
      " [ 1.00000000e+00  2.75230882e+00  7.57520381e+00  2.08493002e+01]\n",
      " [ 1.00000000e+00  1.83497680e+00  3.36713986e+00  6.17862354e+00]\n",
      " [ 1.00000000e+00 -7.98503465e-02  6.37607784e-03 -5.09132025e-04]\n",
      " [ 1.00000000e+00  1.89528574e+00  3.59210804e+00  6.80807115e+00]\n",
      " [ 1.00000000e+00 -9.06269806e-02  8.21324961e-03 -7.44342013e-04]\n",
      " [ 1.00000000e+00  2.69403371e-01  7.25781762e-02  1.95528053e-02]\n",
      " [ 1.00000000e+00  2.27921026e+00  5.19479941e+00  1.18400401e+01]\n",
      " [ 1.00000000e+00 -1.98920030e+00  3.95691785e+00 -7.87110218e+00]\n",
      " [ 1.00000000e+00 -6.61326433e-01  4.37352651e-01 -2.89232869e-01]\n",
      " [ 1.00000000e+00  2.61310014e+00  6.82829234e+00  1.78430117e+01]\n",
      " [ 1.00000000e+00 -2.82280811e+00  7.96824563e+00 -2.24928284e+01]\n",
      " [ 1.00000000e+00 -2.14005268e+00  4.57982548e+00 -9.80106779e+00]\n",
      " [ 1.00000000e+00 -2.17862259e+00  4.74639637e+00 -1.03406063e+01]\n",
      " [ 1.00000000e+00  2.45843255e+00  6.04389062e+00  1.48584975e+01]\n",
      " [ 1.00000000e+00 -2.66024379e+00  7.07689703e+00 -1.88262714e+01]\n",
      " [ 1.00000000e+00 -1.06618003e+00  1.13673986e+00 -1.21196933e+00]\n",
      " [ 1.00000000e+00 -2.58267854e-01  6.67022846e-02 -1.72270559e-02]\n",
      " [ 1.00000000e+00  2.18588372e+00  4.77808763e+00  1.04443440e+01]\n",
      " [ 1.00000000e+00 -2.30214043e+00  5.29985056e+00 -1.22010002e+01]\n",
      " [ 1.00000000e+00  2.24736402e+00  5.05064503e+00  1.13506379e+01]\n",
      " [ 1.00000000e+00 -7.39665840e-01  5.47105555e-01 -4.04675290e-01]\n",
      " [ 1.00000000e+00 -9.65102087e-01  9.31422038e-01 -8.98917353e-01]\n",
      " [ 1.00000000e+00  2.51423117e+00  6.32135838e+00  1.58933563e+01]\n",
      " [ 1.00000000e+00  1.46664031e+00  2.15103379e+00  3.15479287e+00]\n",
      " [ 1.00000000e+00 -1.53710849e-01  2.36270250e-02 -3.63173007e-03]]\n"
     ]
    }
   ],
   "source": [
    "def creat_polinom_features(X, m):    \n",
    "    X_m = []\n",
    "    for i in range(m+1):\n",
    "        X_m.append(X**i)\n",
    "    return np.column_stack(X_m)\n",
    "\n",
    "m=3\n",
    "X_m = creat_polinom_features(X, m)\n",
    "print(f\"Размерность матрицы X_m = {X_m.shape}\")\n",
    "print(X_m)"
   ]
  },
  {
   "cell_type": "markdown",
   "metadata": {
    "colab_type": "text",
    "id": "BFpllysKw_6V"
   },
   "source": [
    "## 2. Реализовать полиномиальную функцию\n",
    "\n",
    "Необходимо реализовать линейную функцию вида $f(x_i) = \\theta_0 x_{i, 0} + \\theta_1 x_{i, 1}  + \\theta_2 x_{i, 2} +... + \\theta_m x_{i, m}$ в матричном виде.\n",
    "\n",
    "На вход функции передается вектор значений коэффициента $\\Theta$ размера $(m+1, )$, и матрица  $\\mathbf{X}$ размера $(N, m+1)$ с полиномиальными признаками полученная предыдущей функцией. Ваша задача вернуть вектор-столбец предсказаний $\\mathbf{y}$ размера $(N, )$.\n",
    "\n",
    "Заметьте, что мы будем передавать в функцию матрицу с полиномиальными признаками, таким образом получая полином:\n",
    "\n",
    "$f(x_i) = \\theta_0 + \\theta_1 x_i + \\theta_2 x_i^2 +... + \\theta_m x_i^m$\n",
    "\n",
    "$x_i^j$ это элемент $x_{i, j}$ матрицы $X$, $x_i^0 = 1$"
   ]
  },
  {
   "cell_type": "markdown",
   "metadata": {
    "colab_type": "text",
    "id": "L0ZcWYuZw_6W"
   },
   "source": [
    "Входные параметры:\n",
    "\n",
    "* Массив $X$ размера $(N, m+1)$: тип numpy.ndarray\n",
    "\n",
    "* Массив $\\Theta$ размера $(m+1, )$: тип numpy.ndarray\n",
    "\n",
    "Выходное значение:\n",
    "\n",
    "* Массив $y$ со значения  для $i = 0 \\ldots N-1$. Размера $y$ равен $(N, )$: тип numpy.ndarray "
   ]
  },
  {
   "cell_type": "code",
   "execution_count": 4,
   "metadata": {
    "colab": {
     "base_uri": "https://localhost:8080/",
     "height": 34
    },
    "colab_type": "code",
    "id": "iJVdj2Udw_6X",
    "outputId": "c525da3b-256a-44ba-ce11-156f38a98a25"
   },
   "outputs": [
    {
     "name": "stdout",
     "output_type": "stream",
     "text": [
      "Размерность вектора poly_pred = (100,)\n",
      "[ 1.4917436   3.32366708  1.16405984  4.70415459  0.27089459  0.70397152\n",
      "  0.28421119  0.73669712  3.06551398  0.41881207  2.05142985  1.4533393\n",
      "  0.25225995 11.19437537  8.84265626  3.81981139  1.10773018  0.29395775\n",
      "  2.48041032  0.8926883   0.72402383  1.76526141  8.38875378  3.19715686\n",
      "  0.45818454  0.71746058  0.71705156 12.17816729  1.48759717  1.21415271\n",
      "  0.29777312 11.07286103  2.01200678  0.97618911  0.70692843  0.42055672\n",
      "  1.10745088  0.52051142  1.26678824  2.00931753  2.10287872  0.45994111\n",
      "  1.51879063  0.25425023  2.58155605  2.10318765  1.23802459  9.54202028\n",
      "  1.32645264  0.45090394  8.58134435  2.05550073  0.88393216  0.50662087\n",
      "  0.64404604  0.26569759  8.63907468  0.86665396  1.9925681   0.32053722\n",
      "  5.9036549   1.65235116  3.27756767  0.30327888  0.61848723  0.30912871\n",
      "  8.4189395   1.41688276  6.98296589  5.31387412  0.28535158  0.69648975\n",
      "  1.56917796  0.48345478  0.31033804 10.48680351  4.64892438  0.28539001\n",
      "  4.94324008  0.28213321  0.49120884  7.10033061  1.40122711  0.32910184\n",
      "  9.40196001  2.04218734  1.54133439  1.57613481  8.2842629   1.95103768\n",
      "  0.566598    0.25301278  6.52950149  1.68386338  6.90208821  0.3642631\n",
      "  0.49535853  8.67704658  3.09505676  0.2664958 ]\n"
     ]
    }
   ],
   "source": [
    "def polinom_function(X_m, theta):\n",
    "    return X_m @ theta\n",
    "\n",
    "theta = np.random.sample(size=(m+1))\n",
    "poly_pred = polinom_function(X_m, theta)\n",
    "\n",
    "print(f\"Размерность вектора poly_pred = {poly_pred.shape}\")\n",
    "print(poly_pred)"
   ]
  },
  {
   "cell_type": "markdown",
   "metadata": {
    "colab_type": "text",
    "id": "kZqBHHhow_6Z"
   },
   "source": [
    "## 3. Нормализовать данные"
   ]
  },
  {
   "cell_type": "markdown",
   "metadata": {
    "colab_type": "text",
    "id": "iWzBzoHkw_6a"
   },
   "source": [
    "Необходимо реализовать стандартизацию данных. \n",
    "\n",
    "На вход подается матрица $X$ размера $(N, m+1)$ с полиномильными признаками.\n",
    "Для каждого столбца, кроме нулевого, нужно посчитать среднее значение и стандратное отклонение. Назовем их $E_j$ (среднее занчение для столбца $j$) и $S_j$ (стандартное отклонение для столбца $j$).\n",
    "\n",
    "И для каждого элемента матрицы $x_{i, j}$ (кроме элементов из нулевого столбца, который содержит единицы) нужно посчиать новое значение $x_{i, j}' = \\dfrac{x_{i, j} - E_j}{S_j}, i = 0 \\ldots N-1, j = 1, \\ldots m$\n",
    "\n",
    "Также необходимо вернуть массив со средними значеними и массив со стандартными отклонениями."
   ]
  },
  {
   "cell_type": "markdown",
   "metadata": {
    "colab_type": "text",
    "id": "_Z8gx1aRw_6a"
   },
   "source": [
    "Входные параметры:\n",
    "\n",
    "* Массив $X$ размера $(N, m+1)$: тип numpy.ndarray\n",
    "\n",
    "Выходные значение:\n",
    "\n",
    "* Массив $X'$ размера $(N, m+1)$ со стандартизированными параметрами: тип numpy.ndarray\n",
    "\n",
    "* Массив $E$ размера $(m+1, )$ с средними значениям для каждой колонки: тип numpy.ndarray\n",
    "\n",
    "* Массив $S$ размера  $(m+1, )$ со стандартными отклонениями для каждой колонки: тип numpy.ndarray\n",
    "\n",
    "\n",
    "*Подсказка: для создания копии массива X можно использовать метод copy().*\n",
    "\n",
    "*Подсказка: для того что бы вернуть несколько матриц, нужно указать их через запятую после return:*\n",
    "`return a, b`"
   ]
  },
  {
   "cell_type": "code",
   "execution_count": 5,
   "metadata": {
    "colab": {},
    "colab_type": "code",
    "id": "u95KuT_Pw_6b",
    "scrolled": true
   },
   "outputs": [
    {
     "name": "stdout",
     "output_type": "stream",
     "text": [
      "[[ 1.00000000e+00 -1.15344384e+00  4.56215248e-01 -8.39924661e-01]\n",
      " [ 1.00000000e+00  9.07760859e-01 -2.66507137e-01  3.51374638e-01]\n",
      " [ 1.00000000e+00 -9.57188568e-01 -1.54048653e-02 -4.82627049e-01]\n",
      " [ 1.00000000e+00  1.08975631e+00  1.18980301e-01  6.08859342e-01]\n",
      " [ 1.00000000e+00 -2.35426192e-01 -1.02065664e+00  5.30581915e-03]\n",
      " [ 1.00000000e+00 -6.71105222e-01 -5.51027001e-01 -1.64355315e-01]\n",
      " [ 1.00000000e+00 -2.66441848e-01 -1.00103692e+00  1.39988536e-03]\n",
      " [ 1.00000000e+00 -6.93234186e-01 -5.16024183e-01 -1.81764489e-01]\n",
      " [ 1.00000000e+00  8.68480585e-01 -3.40141605e-01  3.07967245e-01]\n",
      " [ 1.00000000e+00  1.38928141e-01 -1.09045353e+00  1.60568987e-02]\n",
      " [ 1.00000000e+00 -1.58472356e+00  1.79047697e+00 -2.14794990e+00]\n",
      " [ 1.00000000e+00  5.51983375e-01 -8.09520176e-01  8.50781983e-02]\n",
      " [ 1.00000000e+00 -1.20093390e-01 -1.07503737e+00  1.35624349e-02]\n",
      " [ 1.00000000e+00  1.65546328e+00  1.78272302e+00  2.17027741e+00]\n",
      " [ 1.00000000e+00  1.48381066e+00  1.20345162e+00  1.55500694e+00]\n",
      " [ 1.00000000e+00  9.77997430e-01 -1.26376753e-01  4.39320923e-01]\n",
      " [ 1.00000000e+00  4.53772869e-01 -9.10346661e-01  5.24125066e-02]\n",
      " [ 1.00000000e+00 -2.85394142e-01 -9.88005951e-01 -1.41800246e-03]\n",
      " [ 1.00000000e+00  7.70614148e-01 -5.08829592e-01  2.16429891e-01]\n",
      " [ 1.00000000e+00  3.80474194e-01 -9.71762343e-01  3.61831558e-02]\n",
      " [ 1.00000000e+00 -6.84719791e-01 -5.29619529e-01 -1.74939049e-01]\n",
      " [ 1.00000000e+00 -1.33323158e+00  9.62668011e-01 -1.28921842e+00]\n",
      " [ 1.00000000e+00  1.44739812e+00  1.08890918e+00  1.44171359e+00]\n",
      " [ 1.00000000e+00  8.88770381e-01 -3.02530580e-01  3.29888862e-01]\n",
      " [ 1.00000000e+00 -4.81393797e-01 -8.06876498e-01 -5.50023829e-02]\n",
      " [ 1.00000000e+00 -6.80283423e-01 -5.36640061e-01 -1.71445935e-01]\n",
      " [ 1.00000000e+00  3.09321628e-01 -1.02006833e+00  2.58262032e-02]\n",
      " [ 1.00000000e+00  1.72037684e+00  2.01868543e+00  2.43999238e+00]\n",
      " [ 1.00000000e+00  5.60768790e-01 -7.99466230e-01  8.86957941e-02]\n",
      " [ 1.00000000e+00 -9.86830772e-01  5.03928202e-02 -5.28551177e-01]\n",
      " [ 1.00000000e+00  1.18148341e-02 -1.10134133e+00  1.55029663e-02]\n",
      " [ 1.00000000e+00  1.64719469e+00  1.75333245e+00  2.13743126e+00]\n",
      " [ 1.00000000e+00 -1.54044960e+00  1.63464833e+00 -1.97549609e+00]\n",
      " [ 1.00000000e+00 -8.44868106e-01 -2.47177382e-01 -3.32076234e-01]\n",
      " [ 1.00000000e+00  3.04789294e-01 -1.02276785e+00  2.53206597e-02]\n",
      " [ 1.00000000e+00  1.40291420e-01 -1.09014400e+00  1.60789954e-02]\n",
      " [ 1.00000000e+00 -9.23615532e-01 -8.75922124e-02 -4.33821047e-01]\n",
      " [ 1.00000000e+00  2.08398404e-01 -1.06947325e+00  1.80916095e-02]\n",
      " [ 1.00000000e+00 -1.01799406e+00  1.21652313e-01 -5.79787004e-01]\n",
      " [ 1.00000000e+00 -1.53763143e+00  1.62487544e+00 -1.96484048e+00]\n",
      " [ 1.00000000e+00 -1.65585683e+00  2.04987554e+00 -2.44540953e+00]\n",
      " [ 1.00000000e+00  1.69234232e-01 -1.08260723e+00  1.66991346e-02]\n",
      " [ 1.00000000e+00 -1.17021180e+00  5.00441370e-01 -8.76600790e-01]\n",
      " [ 1.00000000e+00 -1.00688200e-01 -1.08130963e+00  1.42007876e-02]\n",
      " [ 1.00000000e+00  7.88547146e-01 -4.79496862e-01  2.31515820e-01]\n",
      " [ 1.00000000e+00 -1.65636083e+00  2.05175317e+00 -2.44760886e+00]\n",
      " [ 1.00000000e+00 -1.00095730e+00  8.24303540e-02 -5.51396042e-01]\n",
      " [ 1.00000000e+00  1.53763786e+00  1.37812090e+00  1.73323596e+00]\n",
      " [ 1.00000000e+00 -1.05344546e+00  2.05316280e-01 -6.41871319e-01]\n",
      " [ 1.00000000e+00  1.62877071e-01 -1.08442066e+00  1.65364574e-02]\n",
      " [ 1.00000000e+00  1.46299858e+00  1.13762600e+00  1.48954620e+00]\n",
      " [ 1.00000000e+00 -1.58967779e+00  1.80818249e+00 -2.16784477e+00]\n",
      " [ 1.00000000e+00 -7.88114242e-01 -3.53728164e-01 -2.69157932e-01]\n",
      " [ 1.00000000e+00 -5.23577591e-01 -7.56835401e-01 -7.36760062e-02]\n",
      " [ 1.00000000e+00  2.75276550e-01 -1.03924021e+00  2.24267076e-02]\n",
      " [ 1.00000000e+00 -2.20534515e-01 -1.02932436e+00  6.89246574e-03]\n",
      " [ 1.00000000e+00  1.46763111e+00  1.15219554e+00  1.50395316e+00]\n",
      " [ 1.00000000e+00  3.70694697e-01 -9.79062260e-01  3.44697971e-02]\n",
      " [ 1.00000000e+00 -1.52054412e+00  1.56599411e+00 -1.90104573e+00]\n",
      " [ 1.00000000e+00  4.35892918e-02 -1.10195364e+00  1.55107485e-02]\n",
      " [ 1.00000000e+00  1.22144113e+00  4.43364234e-01  8.60385202e-01]\n",
      " [ 1.00000000e+00 -1.25573211e+00  7.35631666e-01 -1.08004155e+00]\n",
      " [ 1.00000000e+00  9.00896420e-01 -2.79620046e-01  3.43498846e-01]\n",
      " [ 1.00000000e+00  2.01486707e-02 -1.10171692e+00  1.55083619e-02]\n",
      " [ 1.00000000e+00  2.62526279e-01 -1.04576366e+00  2.13770631e-02]\n",
      " [ 1.00000000e+00 -3.11209403e-01 -9.68984348e-01 -5.82691835e-03]\n",
      " [ 1.00000000e+00  1.44985834e+00  1.09655631e+00  1.44918709e+00]\n",
      " [ 1.00000000e+00 -1.10771492e+00  3.38748785e-01 -7.45041021e-01]\n",
      " [ 1.00000000e+00  1.32588774e+00  7.27794200e-01  1.10406143e+00]\n",
      " [ 1.00000000e+00  1.15909237e+00  2.85020621e-01  7.33918015e-01]\n",
      " [ 1.00000000e+00 -2.68786026e-01 -9.99467987e-01  1.06972958e-03]\n",
      " [ 1.00000000e+00 -6.65978062e-01 -5.58983164e-01 -1.60473531e-01]\n",
      " [ 1.00000000e+00 -1.20188621e+00  5.85672469e-01 -9.48713342e-01]\n",
      " [ 1.00000000e+00 -5.03838244e-01 -7.80739053e-01 -6.45739134e-02]\n",
      " [ 1.00000000e+00  3.01738690e-02 -1.10196617e+00  1.55104383e-02]\n",
      " [ 1.00000000e+00  1.60647559e+00  1.61079235e+00  1.98054005e+00]\n",
      " [ 1.00000000e+00  1.08319556e+00  1.03817165e-01  5.97840777e-01]\n",
      " [ 1.00000000e+00 -9.09251448e-03 -1.09972625e+00  1.54625790e-02]\n",
      " [ 1.00000000e+00  1.11759800e+00  1.84381877e-01  6.57165700e-01]\n",
      " [ 1.00000000e+00 -1.52399043e-02 -1.09906833e+00  1.54404106e-02]\n",
      " [ 1.00000000e+00  1.90134695e-01 -1.07601821e+00  1.73534002e-02]\n",
      " [ 1.00000000e+00  1.33660272e+00  7.58331360e-01  1.13142466e+00]\n",
      " [ 1.00000000e+00 -1.09825619e+00  3.15026119e-01 -7.26334376e-01]\n",
      " [ 1.00000000e+00 -3.40787934e-01 -9.45386624e-01 -1.17493970e-02]\n",
      " [ 1.00000000e+00  1.52706583e+00  1.34331138e+00  1.69719982e+00]\n",
      " [ 1.00000000e+00 -1.57377685e+00  1.75154693e+00 -2.10442011e+00]\n",
      " [ 1.00000000e+00 -1.18430796e+00  5.38099332e-01 -9.08232055e-01]\n",
      " [ 1.00000000e+00 -1.20630966e+00  5.97751041e-01 -9.59083123e-01]\n",
      " [ 1.00000000e+00  1.43883773e+00  1.06240454e+00  1.41591179e+00]\n",
      " [ 1.00000000e+00 -1.48104416e+00  1.43234070e+00 -1.75885011e+00]\n",
      " [ 1.00000000e+00 -5.71731366e-01 -6.94924849e-01 -9.87165537e-02]\n",
      " [ 1.00000000e+00 -1.10868445e-01 -1.07812247e+00  1.38869283e-02]\n",
      " [ 1.00000000e+00  1.28336581e+00  6.09100191e-01  9.99881438e-01]\n",
      " [ 1.00000000e+00 -1.27676879e+00  7.95951862e-01 -1.13442373e+00]\n",
      " [ 1.00000000e+00  1.31843644e+00  7.06707365e-01  1.08529890e+00]\n",
      " [ 1.00000000e+00 -3.85475622e-01 -9.06082349e-01 -2.26297507e-02]\n",
      " [ 1.00000000e+00 -5.14072777e-01 -7.68452453e-01 -6.92116608e-02]\n",
      " [ 1.00000000e+00  1.47066732e+00  1.16177020e+00  1.51344639e+00]\n",
      " [ 1.00000000e+00  8.73082828e-01 -3.31689923e-01  3.12847211e-01]\n",
      " [ 1.00000000e+00 -5.12252708e-02 -1.09354841e+00  1.51682767e-02]]\n",
      "[ 1.         -0.06391078  3.07724175 -0.16456975]\n",
      "[ 0.          1.75304226  2.79239099 10.61017168]\n"
     ]
    }
   ],
   "source": [
    "def standartize_data(X):    \n",
    "    X_m_ss = X.copy()\n",
    "    means = [] \n",
    "    stds = []\n",
    "    \n",
    "    means = X.mean(axis=0)\n",
    "    stds = X.std(axis=0)\n",
    "    \n",
    "    for i in range(m+1):\n",
    "        if i != 0:\n",
    "            X_m_ss[:, i] = (X_m_ss[:, i] - means[i]) / stds[i]\n",
    "    \n",
    "    return X_m_ss, means, stds\n",
    "    \n",
    "X_m_ss, means, stds = standartize_data(X_m)\n",
    "print(X_m_ss)\n",
    "print(means)\n",
    "print(stds)"
   ]
  },
  {
   "cell_type": "markdown",
   "metadata": {
    "colab_type": "text",
    "id": "n1kuxXBSw_6d"
   },
   "source": [
    "## 4. Реализовать функцию потерь  MAE \n",
    "\n",
    "Необходимо реализовать MAE. На вход функции передается вектор значений коэффициента $\\Theta$ размера $(m+1, )$, и матрица $\\mathbf{X}$ размера $(N, m+1)$ с полиномиальными признаками. А также вектор-столбец $\\mathbf{y}$ c реальными значениями, размера $(N, )$.\n",
    "\n",
    "Формула для MAE:\n",
    "\n",
    "$Loss(\\Theta) = \\frac{1}{N}\\sum_{i=0}^{N}{|\\hat{y_i} - y_i|}= \\frac{1}{N} \\sum_{i=0}^{N}{|X_i\\Theta - y_i|}$\n",
    "\n",
    "Функция должна возвращать действительное число равное $Loss(\\Theta)$.  "
   ]
  },
  {
   "cell_type": "markdown",
   "metadata": {
    "colab_type": "text",
    "id": "kYFMGf8nw_6e"
   },
   "source": [
    "Входные параметры:\n",
    "\n",
    "* Массив $X$ размера $(N, m+1)$: тип numpy.ndarray\n",
    "\n",
    "* Массив реальных выходных значений $y$ размера $(N, )$: тип numpy.ndarray\n",
    "\n",
    "* Массив $\\Theta$ размера $(m+1, )$: тип numpy.ndarray\n",
    "\n",
    "Выходное значение:\n",
    "\n",
    "* Значение функции ошибки MAE для параметра $\\Theta$: тип float\n",
    "\n",
    "*Подсказка: в библиотеки NumPy есть функция модуля abs, она тебе поможет.* "
   ]
  },
  {
   "cell_type": "code",
   "execution_count": 6,
   "metadata": {
    "colab": {
     "base_uri": "https://localhost:8080/",
     "height": 34
    },
    "colab_type": "code",
    "id": "vZkSnIF5w_6e",
    "outputId": "77b94c05-51e0-4af0-f9da-2f6d79182391"
   },
   "outputs": [
    {
     "name": "stdout",
     "output_type": "stream",
     "text": [
      "8.781812914991505\n"
     ]
    }
   ],
   "source": [
    "def mae_loss_function(X_m, y, theta):\n",
    "    return np.mean(np.abs(X_m@theta - y))\n",
    "\n",
    "print(mae_loss_function(X_m_ss, y, theta))"
   ]
  },
  {
   "cell_type": "markdown",
   "metadata": {
    "colab_type": "text",
    "id": "rmlGwVu3w_6i"
   },
   "source": [
    "## 5. Рассчитать градиент для функции ошибки.\n",
    "\n",
    "\n",
    "На вход функции передается вектор значений коэффициента $\\Theta$ размера $(m+1, )$, и матрица $\\mathbf{X}$ размера $(N, m+1)$ с полиномиальными признаками. А также вектор-столбец $\\mathbf{y}$ c реальными значениями, размера $(N, )$. \n",
    "\n",
    "Функция должна возвращать вектор градиент функции потерь MAE $Loss'(\\Theta)$ в точке $\\theta_0, \\theta_1, ... \\theta_m$. \n",
    "\n",
    "В общем случае производная от $f(x) = |x|$ не определена в точке $0$, во всех остальных случаях ее можно определить, как $|x|/x$.\n",
    "\n",
    "В нашем случае мы можем доопределить производную от $f(x) = |x|$ в нуле значением $0$. Тогда она совпадет с функцией знака (sign):\n",
    "\\begin{equation*}\n",
    " sign(x) = \n",
    " \\begin{cases}\n",
    "   1 &\\text{x > 0}\\\\\n",
    "   0 &\\text{x = 0}\\\\\n",
    "   -1 &\\text{x < 0}\n",
    " \\end{cases}\n",
    "\\end{equation*}\n",
    "\n",
    "Теперь мы можем посчитать градиент функции потерь:  \n",
    "\\begin{equation*}\n",
    "\\frac{\\partial Loss(\\Theta)}{\\partial \\theta_j} = \\dfrac{1}{N} \\sum_{i=1}^{N} sign(X_i\\Theta - y_i) x_{ij}\n",
    "\\end{equation*}\n",
    "\n",
    "\\begin{equation*}\n",
    "\\nabla Loss(\\Theta) = \n",
    " \\begin{bmatrix}\n",
    "   \\dfrac{1}{N} \\sum_{i=1}^{N} sign(X_i\\Theta - y_i)x_{i0}\\\\\n",
    "   \\dfrac{1}{N} \\sum_{i=1}^{N} sign(X_i\\Theta - y_i)x_{i1}\\\\\n",
    "   \\cdots\\\\\n",
    "   \\dfrac{1}{N} \\sum_{i=1}^{N} sign(X_i\\Theta - y_i)x_{im}\\\\\n",
    " \\end{bmatrix}\n",
    "\\end{equation*}\n",
    "\n",
    "В библиотеке numpy есть функция sign, которая считает функцию знака для всех элементов вектора. "
   ]
  },
  {
   "cell_type": "markdown",
   "metadata": {
    "colab_type": "text",
    "id": "BzWt2n36w_6i"
   },
   "source": [
    "Входные параметры:\n",
    "\n",
    "* Массив $X$ размера $(N, m+1)$: тип numpy.ndarray\n",
    "\n",
    "* Массив реальных выходных значений $y$ размера $(N, )$: тип numpy.ndarray\n",
    "\n",
    "* Массив $\\Theta$ размера $(m+1, )$: тип numpy.ndarray\n",
    "\n",
    "Выходное значение:\n",
    "\n",
    "* Значение градиента для каждого параметра $\\Theta$, размер $(m+1, )$:  тип numpy.ndarray\n",
    "\n",
    "*Подсказка: в библиотеки NumPy есть функция модуля abs, она тебе поможет.* "
   ]
  },
  {
   "cell_type": "code",
   "execution_count": 7,
   "metadata": {
    "colab": {
     "base_uri": "https://localhost:8080/",
     "height": 34
    },
    "colab_type": "code",
    "id": "53DMCKPqw_6k",
    "outputId": "38f49c3d-8fbc-469d-9acd-aaa2f34f6969"
   },
   "outputs": [
    {
     "name": "stdout",
     "output_type": "stream",
     "text": [
      "[-0.28       -0.73194836  0.26985336 -0.65489886]\n"
     ]
    }
   ],
   "source": [
    "def gradient_function(X, y, theta):\n",
    "    grad = []\n",
    "    \n",
    "    for i in range(theta.shape[0]):\n",
    "        grad.append( np.mean(np.sign(X@theta - y)*X[:, i]))\n",
    "    \n",
    "    return np.array(grad)\n",
    "                    \n",
    "\n",
    "g = gradient_function(X_m_ss, y, theta)\n",
    "print(g)"
   ]
  },
  {
   "cell_type": "markdown",
   "metadata": {
    "colab_type": "text",
    "id": "oekJ8Dggw_6n"
   },
   "source": [
    "## 6. Алгоритм градиентного спуска\n",
    "\n",
    "\n",
    "На вход функции передается вектор значений коэффициента $\\Theta$ размера $(m+1, )$, и матрица $\\mathbf{X}$ размера $(N, m+1)$ с полиномиальными признаками, вектор-столбец $\\mathbf{y}$ c реальными значениями, размера $(N, )$, значение коэффициента альфа $\\alpha$ и число $iters$ равное количеству итераций в алгоритме. \n",
    "\n",
    "Сам алгоритм мы будем использовать в следующем виде:\n",
    "* Повторить $iters$ раз:\n",
    "\n",
    "&nbsp;&nbsp;&nbsp;&nbsp;&nbsp;&nbsp; $\\Theta = \\Theta - \\alpha \\cdot \\nabla Loss(\\Theta)$\n",
    "\n",
    "Где $\\nabla Loss(\\Theta)$ - это градиент, который мы научились рассчитывать в предыдущем задании. "
   ]
  },
  {
   "cell_type": "markdown",
   "metadata": {
    "colab_type": "text",
    "id": "j69rgl_Nw_6o"
   },
   "source": [
    "На входе:\n",
    "\n",
    "* Массив $X$ размера $(N, m+1)$: тип numpy.ndarray\n",
    "\n",
    "* Массив реальных выходных значений $y$ размера $(N, )$: тип numpy.ndarray\n",
    "\n",
    "* Массив $\\Theta_{init}$ размера $(m+1, )$. Начальное значение коэффициента: тип numpy.ndarray\n",
    "\n",
    "* Коэффициент обучения $\\alpha$: тип float\n",
    "\n",
    "* Количество итераций алгоритма $iter$: тип int\n",
    "\n",
    "Выходное значение:\n",
    "\n",
    "* Массив $\\Theta$ размера $(m+1, )$ полученный методом градиентного спуска: тип numpy.ndarray "
   ]
  },
  {
   "cell_type": "code",
   "execution_count": 8,
   "metadata": {
    "colab": {},
    "colab_type": "code",
    "id": "Y2Cond-Xw_6o",
    "scrolled": true
   },
   "outputs": [
    {
     "name": "stdout",
     "output_type": "stream",
     "text": [
      "[ 3.93        2.17191349  2.66082238 10.17627204]\n"
     ]
    }
   ],
   "source": [
    "def gradient_descent(X, y, theta_init, alpha, iters):\n",
    "    theta = np.copy(theta_init)\n",
    "    \n",
    "    for i in range(iters):\n",
    "        theta = theta - alpha*gradient_function(X, y, theta)\n",
    "    return theta\n",
    "   \n",
    "\n",
    "theta_init = np.array([1.5, 0, 1, 1])  \n",
    "theta_opt = gradient_descent(X_m_ss, y, theta_init, alpha=0.1, iters=1000)\n",
    "\n",
    "print(theta_opt)"
   ]
  },
  {
   "cell_type": "markdown",
   "metadata": {
    "colab_type": "text",
    "id": "jANQ3GnFw_6q"
   },
   "source": [
    "## 7. Посмотреть что получилось\n",
    "\n",
    "Если все прошло успешно, запустите ячейку ниже и насладитесь магией Data Science :) "
   ]
  },
  {
   "cell_type": "code",
   "execution_count": 9,
   "metadata": {
    "colab": {
     "base_uri": "https://localhost:8080/",
     "height": 607
    },
    "colab_type": "code",
    "id": "nc6rgg4Ow_6r",
    "outputId": "9e4e7064-3a9e-46a2-f7e1-9541607159f6"
   },
   "outputs": [
    {
     "data": {
      "image/png": "[encoded data removed]",
      "text/plain": [
       "<Figure size 720x720 with 1 Axes>"
      ]
     },
     "metadata": {},
     "output_type": "display_data"
    }
   ],
   "source": [
    "plot_poly_hw_results(X_m_ss, y, theta_init, theta_opt, means, stds)"
   ]
  }
 ],
 "metadata": {
  "anaconda-cloud": {},
  "colab": {
   "name": "Homework_5.ipynb",
   "provenance": [],
   "toc_visible": true
  },
  "kernelspec": {
   "display_name": "Python 3",
   "language": "python",
   "name": "python3"
  },
  "language_info": {
   "codemirror_mode": {
    "name": "ipython",
    "version": 3
   },
   "file_extension": ".py",
   "mimetype": "text/x-python",
   "name": "python",
   "nbconvert_exporter": "python",
   "pygments_lexer": "ipython3",
   "version": "3.6.3"
  }
 },
 "nbformat": 4,
 "nbformat_minor": 1
}
