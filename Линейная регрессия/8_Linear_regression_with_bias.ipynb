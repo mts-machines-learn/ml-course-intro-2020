{
 "cells": [
  {
   "cell_type": "code",
   "execution_count": null,
   "metadata": {
    "slideshow": {
     "slide_type": "skip"
    }
   },
   "outputs": [],
   "source": [
    "from regression_helper import * # Подгружаем функции для визуализации\n",
    "import numpy as np              # Подгружаем библиотеку NumPy\n",
    "\n",
    "X, y = get_data()               # Загружаем данные в X и y"
   ]
  },
  {
   "cell_type": "markdown",
   "metadata": {
    "slideshow": {
     "slide_type": "slide"
    }
   },
   "source": [
    "# Линейная функция со сдвигом"
   ]
  },
  {
   "cell_type": "markdown",
   "metadata": {
    "slideshow": {
     "slide_type": "fragment"
    }
   },
   "source": [
    "В качестве гипотезы использовалась функция вида $f(X) = kX$."
   ]
  },
  {
   "cell_type": "markdown",
   "metadata": {
    "slideshow": {
     "slide_type": "fragment"
    }
   },
   "source": [
    "Такая функция всегда будет проходить через точку  $(0, 0)$."
   ]
  },
  {
   "cell_type": "markdown",
   "metadata": {
    "slideshow": {
     "slide_type": "fragment"
    }
   },
   "source": [
    "Что бы этого избежать, можно добавить к функции *сдвиг*."
   ]
  },
  {
   "cell_type": "markdown",
   "metadata": {
    "slideshow": {
     "slide_type": "subslide"
    }
   },
   "source": [
    "Линейной функцией с угловым коэффициентом и сдвигом называется функция вида:\n",
    "\n",
    "$f(X) = kX + b$"
   ]
  },
  {
   "cell_type": "markdown",
   "metadata": {
    "slideshow": {
     "slide_type": "slide"
    }
   },
   "source": [
    "## Визуализация линейной функции с различными коэффициентами"
   ]
  },
  {
   "cell_type": "code",
   "execution_count": null,
   "metadata": {
    "slideshow": {
     "slide_type": "subslide"
    }
   },
   "outputs": [],
   "source": [
    "plot_several_linear_functions_with_bais(ks=[10, 10, 10], bs=[2.5, 0, -1])"
   ]
  },
  {
   "cell_type": "markdown",
   "metadata": {
    "slideshow": {
     "slide_type": "fragment"
    }
   },
   "source": [
    "Коэффициент $k$ отвечает за наклон функции.\n",
    "\n",
    "Коэффициент $b$ отвечает за сдвиг функции по вертикали."
   ]
  },
  {
   "cell_type": "markdown",
   "metadata": {
    "slideshow": {
     "slide_type": "slide"
    }
   },
   "source": [
    "## Функция ошибки для линейной функции со смещением"
   ]
  },
  {
   "cell_type": "markdown",
   "metadata": {
    "slideshow": {
     "slide_type": "fragment"
    }
   },
   "source": [
    "Перепишем функцию ошибки:\n",
    "\n",
    "$\\hat{y} = f(X) = kX + b$."
   ]
  },
  {
   "cell_type": "markdown",
   "metadata": {
    "slideshow": {
     "slide_type": "fragment"
    }
   },
   "source": [
    "$error_i(k, b) = (\\hat{y_i} - y_i)^2 = ((kX_i + b) - y_i)^2$."
   ]
  },
  {
   "cell_type": "markdown",
   "metadata": {
    "slideshow": {
     "slide_type": "fragment"
    }
   },
   "source": [
    "На всех примерах:\n",
    "\n",
    "$Loss(k, b) = \\dfrac{1}{N}\\sum_{i=0}^{N}{(\\hat{y_i} - y_i)^2}= \\dfrac{1}{N} \\sum_{i=0}^{N}{((kX_i + b) - y_i)^2} $"
   ]
  },
  {
   "cell_type": "markdown",
   "metadata": {
    "slideshow": {
     "slide_type": "fragment"
    }
   },
   "source": [
    "Можно заметить, что теперь у нас ошибка зависит не только от $k$, но и от $b$."
   ]
  },
  {
   "cell_type": "markdown",
   "metadata": {
    "slideshow": {
     "slide_type": "slide"
    }
   },
   "source": [
    "## Визуализация функции ошибки"
   ]
  },
  {
   "cell_type": "code",
   "execution_count": null,
   "metadata": {
    "scrolled": false,
    "slideshow": {
     "slide_type": "fragment"
    }
   },
   "outputs": [],
   "source": [
    "plot_loss_with_bias(X, y, 29, 132)"
   ]
  },
  {
   "cell_type": "code",
   "execution_count": null,
   "metadata": {
    "slideshow": {
     "slide_type": "subslide"
    }
   },
   "outputs": [],
   "source": [
    "plot_loss_with_bias(X, y, 90, 90)"
   ]
  },
  {
   "cell_type": "code",
   "execution_count": null,
   "metadata": {
    "scrolled": false,
    "slideshow": {
     "slide_type": "subslide"
    }
   },
   "outputs": [],
   "source": [
    "plot_linear_loss_in_3d_up(X, y)"
   ]
  },
  {
   "cell_type": "markdown",
   "metadata": {
    "slideshow": {
     "slide_type": "subslide"
    }
   },
   "source": [
    "У нас есть функция ошибки. Но теперь она от двух параметров. "
   ]
  },
  {
   "cell_type": "markdown",
   "metadata": {
    "slideshow": {
     "slide_type": "fragment"
    }
   },
   "source": [
    "Для этого приведем понятие градиента."
   ]
  },
  {
   "cell_type": "markdown",
   "metadata": {
    "slideshow": {
     "slide_type": "slide"
    }
   },
   "source": [
    "## Градиент"
   ]
  },
  {
   "cell_type": "markdown",
   "metadata": {
    "slideshow": {
     "slide_type": "fragment"
    }
   },
   "source": [
    "Градиент функции $\\phi(x_0, x_1, \\ldots x_N)$ от $N$ переменных это $N$ значений: \n",
    "\n",
    "$\\dfrac{\\delta \\phi(x_0, x_1, \\ldots x_N)}{\\delta x_0}, \\dfrac{\\delta \\phi(x_0, x_1, \\ldots x_N)}{\\delta x_1}, \\ldots \\dfrac{\\delta \\phi(x_0, x_1, \\ldots x_N)}{\\delta x_N}$\n",
    "\n",
    "Обозначается как $grad (\\phi)$ или  $\\nabla \\phi$"
   ]
  },
  {
   "cell_type": "markdown",
   "metadata": {
    "slideshow": {
     "slide_type": "fragment"
    }
   },
   "source": [
    "Например, градиент функции $\\phi(x, y)$  от двух переменных это:\n",
    "\n",
    "$grad (\\phi) = \\nabla \\phi = \\left[\\dfrac{\\delta \\phi(x, y)}{\\delta x}; \\dfrac{\\delta \\phi(x, y)}{\\delta y} \\right]$"
   ]
  },
  {
   "cell_type": "markdown",
   "metadata": {
    "slideshow": {
     "slide_type": "subslide"
    }
   },
   "source": [
    "Эти значения можно считать координатами вектора (в декартовой системе координат) и их можно записать как: \n",
    "\n",
    "$grad (\\phi) = \\nabla \\phi = \\dfrac{\\delta \\phi(x, y)}{\\delta x} \\cdot \\overleftarrow{i} + \\dfrac{\\delta \\phi(x, y)}{\\delta y} \\cdot \\overleftarrow{j}$"
   ]
  },
  {
   "cell_type": "markdown",
   "metadata": {
    "slideshow": {
     "slide_type": "fragment"
    }
   },
   "source": [
    "$\\dfrac{\\delta \\phi(x, y)}{\\delta x}$ - это *частная* производная по $x$.\n",
    "\n",
    "$\\dfrac{\\delta \\phi(x, y)}{\\delta y}$ - это частная производная по $y$."
   ]
  },
  {
   "cell_type": "markdown",
   "metadata": {
    "slideshow": {
     "slide_type": "fragment"
    }
   },
   "source": [
    "Частная производная - это производная по какой-либо переменной, например $x$, где остальные переменные мы считаем константой."
   ]
  },
  {
   "cell_type": "markdown",
   "metadata": {
    "slideshow": {
     "slide_type": "slide"
    }
   },
   "source": [
    "### Пример вычисления градиента"
   ]
  },
  {
   "cell_type": "markdown",
   "metadata": {
    "slideshow": {
     "slide_type": "fragment"
    }
   },
   "source": [
    "$\\phi(x, y) = (1.5x + 2.5)^2 + 2.5y^2 + 0.5$"
   ]
  },
  {
   "cell_type": "markdown",
   "metadata": {
    "slideshow": {
     "slide_type": "fragment"
    }
   },
   "source": [
    "$\\dfrac{\\delta \\phi(x, y)}{\\delta x} =\n",
    "\\dfrac{\\delta (1.5x + 2.5)^2 }{\\delta x} +\n",
    "\\dfrac{\\delta (2.5y^2)  }{\\delta x} +\n",
    "\\dfrac{\\delta (0.5) }{\\delta x}\n",
    "= 1.5 \\cdot 2(1.5x + 2.5) + 0 + 0= 4.5x + 7.5$"
   ]
  },
  {
   "cell_type": "markdown",
   "metadata": {
    "slideshow": {
     "slide_type": "fragment"
    }
   },
   "source": [
    " \n",
    "\n",
    "$\\dfrac{\\delta \\phi(x, y)}{\\delta y} =\n",
    "\\dfrac{\\delta (x + 1.5)^2 }{\\delta y} +\n",
    "\\dfrac{\\delta (2.5y^2)  }{\\delta y} +\n",
    "\\dfrac{\\delta (0.5) }{\\delta y}\n",
    "= 0 + 2 \\cdot 2.5y + 0= 5y$"
   ]
  },
  {
   "cell_type": "markdown",
   "metadata": {
    "slideshow": {
     "slide_type": "slide"
    }
   },
   "source": [
    "Давайте визуализируем  функцию $\\phi(x, y) = (x + 1.5)^2 + 2.5y^2 + 0.5$."
   ]
  },
  {
   "cell_type": "code",
   "execution_count": null,
   "metadata": {
    "slideshow": {
     "slide_type": "fragment"
    }
   },
   "outputs": [],
   "source": [
    "plot_function_in_3d(45, 0)"
   ]
  },
  {
   "cell_type": "markdown",
   "metadata": {
    "slideshow": {
     "slide_type": "subslide"
    }
   },
   "source": [
    "Рассмотрим ее сверху."
   ]
  },
  {
   "cell_type": "code",
   "execution_count": null,
   "metadata": {
    "slideshow": {
     "slide_type": "subslide"
    }
   },
   "outputs": [],
   "source": [
    "plot_3d_func_with_grad()"
   ]
  },
  {
   "cell_type": "markdown",
   "metadata": {
    "slideshow": {
     "slide_type": "subslide"
    }
   },
   "source": [
    "$\\dfrac{\\delta \\phi(x, y)}{\\delta x} = 4.5x + 7.5$\n",
    "\n",
    "$\\dfrac{\\delta \\phi(x, y)}{\\delta y} = 5y$"
   ]
  },
  {
   "cell_type": "markdown",
   "metadata": {
    "slideshow": {
     "slide_type": "fragment"
    }
   },
   "source": [
    "Градиент из точки - это вектор с началом из этой точки, который направленный в сторону **от** минимума."
   ]
  },
  {
   "cell_type": "code",
   "execution_count": null,
   "metadata": {
    "slideshow": {
     "slide_type": "subslide"
    }
   },
   "outputs": [],
   "source": [
    "plot_3d_func_with_grad(x0=-0.4, y0=0.7, pos_neg_grad='positive')"
   ]
  },
  {
   "cell_type": "markdown",
   "metadata": {
    "slideshow": {
     "slide_type": "subslide"
    }
   },
   "source": [
    "И если мы возьмем отрицательный градиент (антиградиент), то этот вектор будет направлен **в** сторону минимума."
   ]
  },
  {
   "cell_type": "code",
   "execution_count": null,
   "metadata": {
    "slideshow": {
     "slide_type": "subslide"
    }
   },
   "outputs": [],
   "source": [
    "plot_3d_func_with_grad(x0=-0.4, y0=0.7, pos_neg_grad='negative')"
   ]
  },
  {
   "cell_type": "markdown",
   "metadata": {
    "slideshow": {
     "slide_type": "slide"
    }
   },
   "source": [
    "## Градиент функции ошибки"
   ]
  },
  {
   "cell_type": "markdown",
   "metadata": {
    "slideshow": {
     "slide_type": "fragment"
    }
   },
   "source": [
    "$Loss(k, b) = \\dfrac{1}{N}\\sum_{i=1}^{N}{(\\hat{y_i} - y_i)^2}= \\dfrac{1}{N} \\sum_{i=1}^{N}{( (k X + b)  - y_i)^2}$"
   ]
  },
  {
   "cell_type": "markdown",
   "metadata": {
    "slideshow": {
     "slide_type": "subslide"
    }
   },
   "source": [
    "$\\dfrac{\\delta  Loss(k, b)}{\\delta b} = \\left(\\dfrac{1}{N} \\sum_{i=1}^{N} ((k X_i + b)  - y_i)^2 \\right)'_b$ "
   ]
  },
  {
   "cell_type": "markdown",
   "metadata": {
    "slideshow": {
     "slide_type": "fragment"
    }
   },
   "source": [
    "$\\dfrac{\\delta  Loss(k, b)}{\\delta b} = \\dfrac{1}{N} \\sum_{i=1}^{N} \\left(((k X_i + b)  - y_i)^2 \\right)'_b$ "
   ]
  },
  {
   "cell_type": "markdown",
   "metadata": {
    "slideshow": {
     "slide_type": "fragment"
    }
   },
   "source": [
    "$\\dfrac{\\delta  Loss(k, b)}{\\delta b} = \\dfrac{1}{N} \\sum_{i=1}^{N} 2((k X_i + b)  - y_i)\\dfrac{\\delta ((k X_i + b)  - y_i) }{\\delta b}$ "
   ]
  },
  {
   "cell_type": "markdown",
   "metadata": {
    "slideshow": {
     "slide_type": "fragment"
    }
   },
   "source": [
    "$\\dfrac{\\delta  Loss(k, b)}{\\delta b} = \\dfrac{2}{N} \\sum_{i=1}^{N} ((k X_i + b)  - y_i)( 0 + 1 + 0)$ "
   ]
  },
  {
   "cell_type": "markdown",
   "metadata": {
    "slideshow": {
     "slide_type": "fragment"
    }
   },
   "source": [
    "$\\dfrac{\\delta  Loss(k, b)}{\\delta b} = \\dfrac{2}{N} \\sum_{i=1}^{N} ((k X_i + b)  - y_i)$ "
   ]
  },
  {
   "cell_type": "markdown",
   "metadata": {
    "slideshow": {
     "slide_type": "subslide"
    }
   },
   "source": [
    "$\\dfrac{\\delta  Loss(k, b)}{\\delta k} = \\left(\\dfrac{1}{N} \\sum_{i=1}^{N} ((k X_i + b)  - y_i)^2 \\right)'_k$ "
   ]
  },
  {
   "cell_type": "markdown",
   "metadata": {
    "slideshow": {
     "slide_type": "fragment"
    }
   },
   "source": [
    "$\\dfrac{\\delta  Loss(k, b)}{\\delta k} = \\dfrac{1}{N} \\sum_{i=1}^{N} 2((k X_i + b)  - y_i)\\dfrac{\\delta ((k X_i + b)  - y_i) }{\\delta k}$ "
   ]
  },
  {
   "cell_type": "markdown",
   "metadata": {
    "slideshow": {
     "slide_type": "fragment"
    }
   },
   "source": [
    "$\\dfrac{\\delta  Loss(k, b)}{\\delta k} = \\dfrac{2}{N} \\sum_{i=1}^{N} ((k X_i + b)  - y_i)( X_i + 0 + 0)$ "
   ]
  },
  {
   "cell_type": "markdown",
   "metadata": {
    "slideshow": {
     "slide_type": "fragment"
    }
   },
   "source": [
    "$\\dfrac{\\delta  Loss(k, b)}{\\delta k} = \\dfrac{2}{N}\\sum_{i=1}^{N} ((k X_i + b)  - y_i)X_i$ "
   ]
  },
  {
   "cell_type": "markdown",
   "metadata": {
    "slideshow": {
     "slide_type": "subslide"
    }
   },
   "source": [
    "$\\nabla Loss(k, b) = \\left[\\dfrac{\\delta  Loss(k, b)}{\\delta k} ; \\dfrac{\\delta  Loss(k, b)}{\\delta b} \\right]$"
   ]
  },
  {
   "cell_type": "markdown",
   "metadata": {
    "slideshow": {
     "slide_type": "-"
    }
   },
   "source": [
    "$\\nabla Loss(k, b) = \\left[\\dfrac{2}{N} \\sum_{i=1}^{N} ((k X_i + b)  - y_i)X_i ; \\dfrac{2}{N}\\sum_{i=1}^{N} ((k X_i + b)  - y_i) \\right]$"
   ]
  },
  {
   "cell_type": "markdown",
   "metadata": {
    "slideshow": {
     "slide_type": "slide"
    }
   },
   "source": [
    "## Алгоритм градиентного спуска"
   ]
  },
  {
   "cell_type": "markdown",
   "metadata": {
    "slideshow": {
     "slide_type": "fragment"
    }
   },
   "source": [
    "* Выбираем случайное значение для $k$ и $b$\n",
    "* Повторяем $iter$ раз:\n",
    "\n",
    "    &nbsp;&nbsp;&nbsp;&nbsp;&nbsp;&nbsp; $b_{new} = b  - \\alpha \\cdot \\dfrac{\\delta Loss(k, b)}{\\delta b} $ \n",
    "    \n",
    "    &nbsp;&nbsp;&nbsp;&nbsp;&nbsp;&nbsp; $k_{new} = k - \\alpha \\cdot \\dfrac{\\delta Loss(k, b)}{\\delta k} $ \n",
    "    \n",
    "    &nbsp;&nbsp;&nbsp;&nbsp;&nbsp;&nbsp; $b = b_{new}$, \n",
    "    \n",
    "    &nbsp;&nbsp;&nbsp;&nbsp;&nbsp;&nbsp;  $k = k_{new}$\n",
    "    \n",
    "\n",
    "где $\\alpha$ - это коэффициент обучения."
   ]
  },
  {
   "cell_type": "markdown",
   "metadata": {
    "slideshow": {
     "slide_type": "slide"
    }
   },
   "source": [
    "## Визуализация градиентного спуска"
   ]
  },
  {
   "cell_type": "code",
   "execution_count": null,
   "metadata": {
    "slideshow": {
     "slide_type": "subslide"
    }
   },
   "outputs": [],
   "source": [
    "k_gd, b_gd = plot_gradient_descent_in_3d(X, y, iters=300, alpha=0.45)"
   ]
  },
  {
   "cell_type": "code",
   "execution_count": null,
   "metadata": {
    "slideshow": {
     "slide_type": "subslide"
    }
   },
   "outputs": [],
   "source": [
    "print(f\"Значение функции ошибки после обучения {linearn_loss_function(X, y, k_gd, b_gd)}\")"
   ]
  },
  {
   "cell_type": "markdown",
   "metadata": {
    "slideshow": {
     "slide_type": "slide"
    }
   },
   "source": [
    "## Визуализация результата"
   ]
  },
  {
   "cell_type": "code",
   "execution_count": null,
   "metadata": {
    "slideshow": {
     "slide_type": "fragment"
    }
   },
   "outputs": [],
   "source": [
    "plot_data_and_hyp_with_bias(X, y, k_gd, b_gd)"
   ]
  },
  {
   "cell_type": "markdown",
   "metadata": {
    "slideshow": {
     "slide_type": "skip"
    }
   },
   "source": [
    "## Градиентный спуск в деталях"
   ]
  },
  {
   "cell_type": "code",
   "execution_count": null,
   "metadata": {
    "slideshow": {
     "slide_type": "skip"
    }
   },
   "outputs": [],
   "source": [
    "k_gd, b_gd = plot_gradient_descent_in_3d(X, y, iters=1, alpha=0.6)"
   ]
  },
  {
   "cell_type": "code",
   "execution_count": null,
   "metadata": {
    "slideshow": {
     "slide_type": "skip"
    }
   },
   "outputs": [],
   "source": [
    "k_gd, b_gd = plot_gradient_descent_in_3d(X, y, iters=2, alpha=0.6)"
   ]
  },
  {
   "cell_type": "code",
   "execution_count": null,
   "metadata": {
    "slideshow": {
     "slide_type": "skip"
    }
   },
   "outputs": [],
   "source": [
    "k_gd, b_gd = plot_gradient_descent_in_3d(X, y, iters=3, alpha=0.6)"
   ]
  },
  {
   "cell_type": "code",
   "execution_count": null,
   "metadata": {
    "slideshow": {
     "slide_type": "skip"
    }
   },
   "outputs": [],
   "source": [
    "k_gd, b_gd = plot_gradient_descent_in_3d(X, y, iters=5, alpha=0.6)"
   ]
  },
  {
   "cell_type": "code",
   "execution_count": null,
   "metadata": {
    "slideshow": {
     "slide_type": "skip"
    }
   },
   "outputs": [],
   "source": [
    "k_gd, b_gd = plot_gradient_descent_in_3d(X, y, iters=6, alpha=0.6)"
   ]
  },
  {
   "cell_type": "code",
   "execution_count": null,
   "metadata": {
    "slideshow": {
     "slide_type": "skip"
    }
   },
   "outputs": [],
   "source": [
    "k_gd, b_gd = plot_gradient_descent_in_3d(X, y, iters=10, alpha=0.6)"
   ]
  },
  {
   "cell_type": "code",
   "execution_count": null,
   "metadata": {
    "slideshow": {
     "slide_type": "skip"
    }
   },
   "outputs": [],
   "source": [
    "k_gd, b_gd = plot_gradient_descent_in_3d(X, y, iters=100, alpha=0.6)"
   ]
  },
  {
   "cell_type": "code",
   "execution_count": null,
   "metadata": {
    "slideshow": {
     "slide_type": "skip"
    }
   },
   "outputs": [],
   "source": [
    "k_gd, b_gd = plot_gradient_descent_in_3d(X, y, iters=300, alpha=0.6)"
   ]
  },
  {
   "cell_type": "markdown",
   "metadata": {
    "slideshow": {
     "slide_type": "slide"
    }
   },
   "source": [
    "### Применение sklearn для решения задачи линейной регрессии"
   ]
  },
  {
   "cell_type": "code",
   "execution_count": null,
   "metadata": {
    "slideshow": {
     "slide_type": "fragment"
    }
   },
   "outputs": [],
   "source": [
    "from sklearn.linear_model import LinearRegression\n",
    "\n",
    "# создаем объект линейной регрессии. \n",
    "lr = LinearRegression()\n",
    "\n",
    "# до этого мы создавали его так LinearRegression(fit_intercept=False)\n",
    "# этот параметр отвечал за вид функции \n",
    "# при fit_intercept=False используется функция f(x) = kx\n",
    "# если не указывать этот параметр, то используется функция f(x) = kx + b\n",
    "\n",
    "# обучаем нашу модель\n",
    "lr.fit(X.reshape(-1, 1), y.reshape(-1, 1))\n",
    "\n",
    "# и получаем значение коэффициентов\n",
    "k_sklearn = lr.coef_[0, 0]\n",
    "b_sklearn= lr.intercept_[0]"
   ]
  },
  {
   "cell_type": "code",
   "execution_count": null,
   "metadata": {
    "slideshow": {
     "slide_type": "subslide"
    }
   },
   "outputs": [],
   "source": [
    "print(f\"Значения коэффициентов k={k_sklearn} и b={b_sklearn}\")"
   ]
  },
  {
   "cell_type": "code",
   "execution_count": null,
   "metadata": {
    "slideshow": {
     "slide_type": "fragment"
    }
   },
   "outputs": [],
   "source": [
    "print(f\"Значение функции ошибки после обучения {linearn_loss_function(X, y, k_sklearn, b_sklearn)}\")"
   ]
  },
  {
   "cell_type": "code",
   "execution_count": null,
   "metadata": {
    "slideshow": {
     "slide_type": "fragment"
    }
   },
   "outputs": [],
   "source": [
    "print(f\"Значение коэффициентов после градиентного спуска k={k_gd}, b={b_gd},  \")\n",
    "print(f\"Значение коэффициентов, посчитанное с помощью skealrn k={k_sklearn}, b={b_sklearn}\")"
   ]
  },
  {
   "cell_type": "code",
   "execution_count": null,
   "metadata": {
    "slideshow": {
     "slide_type": "subslide"
    }
   },
   "outputs": [],
   "source": [
    "print(f\"Абсолютная разница между параметрами k: {abs(k_gd - k_sklearn)}\")"
   ]
  },
  {
   "cell_type": "code",
   "execution_count": null,
   "metadata": {
    "slideshow": {
     "slide_type": "fragment"
    }
   },
   "outputs": [],
   "source": [
    "print(f\"Абсолютная разница между параметрами b: {abs(b_gd - b_sklearn)}\")"
   ]
  },
  {
   "cell_type": "code",
   "execution_count": null,
   "metadata": {
    "slideshow": {
     "slide_type": "fragment"
    }
   },
   "outputs": [],
   "source": [
    "print(f\"Абсолютная разница ошибок {linearn_loss_function(X, y, k_gd, b_gd) - linearn_loss_function(X, y, k_sklearn, b_sklearn)}\")"
   ]
  },
  {
   "cell_type": "markdown",
   "metadata": {
    "slideshow": {
     "slide_type": "slide"
    }
   },
   "source": [
    "# Чему мы научились"
   ]
  },
  {
   "cell_type": "markdown",
   "metadata": {
    "slideshow": {
     "slide_type": "fragment"
    }
   },
   "source": [
    "* Линейная функция"
   ]
  },
  {
   "cell_type": "markdown",
   "metadata": {
    "slideshow": {
     "slide_type": "fragment"
    }
   },
   "source": [
    "* Функция потерь"
   ]
  },
  {
   "cell_type": "markdown",
   "metadata": {
    "slideshow": {
     "slide_type": "fragment"
    }
   },
   "source": [
    "* Производная"
   ]
  },
  {
   "cell_type": "markdown",
   "metadata": {
    "slideshow": {
     "slide_type": "fragment"
    }
   },
   "source": [
    "* Градиентный спуск"
   ]
  },
  {
   "cell_type": "markdown",
   "metadata": {
    "slideshow": {
     "slide_type": "fragment"
    }
   },
   "source": [
    "* Применение регрессии из sklearn"
   ]
  },
  {
   "cell_type": "markdown",
   "metadata": {
    "slideshow": {
     "slide_type": "skip"
    }
   },
   "source": [
    "## Домашнее задание"
   ]
  },
  {
   "cell_type": "markdown",
   "metadata": {
    "slideshow": {
     "slide_type": "skip"
    }
   },
   "source": [
    "Реализация градиентного спуска для функции вида: $f(X) = kX + b$"
   ]
  },
  {
   "cell_type": "markdown",
   "metadata": {
    "slideshow": {
     "slide_type": "skip"
    }
   },
   "source": [
    "# Что дальше"
   ]
  },
  {
   "cell_type": "markdown",
   "metadata": {
    "slideshow": {
     "slide_type": "skip"
    }
   },
   "source": [
    "* Что если наша целевая функция зависит от нескольких параметров?"
   ]
  },
  {
   "cell_type": "markdown",
   "metadata": {
    "slideshow": {
     "slide_type": "skip"
    }
   },
   "source": [
    "* Что если нам нужно создать \"кривую\" функцию?"
   ]
  },
  {
   "cell_type": "markdown",
   "metadata": {
    "slideshow": {
     "slide_type": "skip"
    }
   },
   "source": [
    "* Что такое нормализация данных"
   ]
  },
  {
   "cell_type": "markdown",
   "metadata": {
    "slideshow": {
     "slide_type": "skip"
    }
   },
   "source": [
    "* Недообучение и переобучение"
   ]
  },
  {
   "cell_type": "markdown",
   "metadata": {
    "slideshow": {
     "slide_type": "skip"
    }
   },
   "source": [
    "* Средняя абсолютная ошибка"
   ]
  }
 ],
 "metadata": {
  "anaconda-cloud": {},
  "celltoolbar": "Slideshow",
  "kernelspec": {
   "display_name": "Python 3",
   "language": "python",
   "name": "python3"
  },
  "language_info": {
   "codemirror_mode": {
    "name": "ipython",
    "version": 3
   },
   "file_extension": ".py",
   "mimetype": "text/x-python",
   "name": "python",
   "nbconvert_exporter": "python",
   "pygments_lexer": "ipython3",
   "version": "3.7.1"
  },
  "widgets": {
   "state": {
    "03fc38044a514408b9de41fa70bf122f": {
     "views": [
      {
       "cell_index": 17
      }
     ]
    },
    "19b7b5447a594ae1a20b764ac13118cc": {
     "views": [
      {
       "cell_index": 15
      }
     ]
    },
    "28304c0dfbab44f5a851af84bf5947d3": {
     "views": [
      {
       "cell_index": 21
      }
     ]
    },
    "3f700e837fd046ddb14ee8776ac8bc04": {
     "views": [
      {
       "cell_index": 31
      }
     ]
    },
    "50d7c06a111e43c1860a5b10a576bfd3": {
     "views": [
      {
       "cell_index": 23
      }
     ]
    },
    "a74e340d7bb24d9bb020ad7dd982e764": {
     "views": [
      {
       "cell_index": 19
      }
     ]
    },
    "d5593dc80c0445c7ae64c7da2d37f72f": {
     "views": [
      {
       "cell_index": 5
      }
     ]
    },
    "d644b9b546b849c6b17acb3be1f1952b": {
     "views": [
      {
       "cell_index": 3
      }
     ]
    },
    "eac5158d5b6c45c4afa73b58b8b0e58a": {
     "views": [
      {
       "cell_index": 7
      }
     ]
    },
    "f4cec2743faf43ad9b8e7c828c6ee76a": {
     "views": [
      {
       "cell_index": 27
      }
     ]
    }
   },
   "version": "1.2.0"
  }
 },
 "nbformat": 4,
 "nbformat_minor": 1
}
