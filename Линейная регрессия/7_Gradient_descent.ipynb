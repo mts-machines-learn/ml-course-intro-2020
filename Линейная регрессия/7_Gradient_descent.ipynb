{
 "cells": [
  {
   "cell_type": "code",
   "execution_count": null,
   "metadata": {
    "slideshow": {
     "slide_type": "skip"
    }
   },
   "outputs": [],
   "source": [
    "from regression_helper import * # Подгружаем функции для визуализации\n",
    "import numpy as np              # Подгружаем библиотеку NumPy\n",
    "\n",
    "X, y = get_data()               # Загружаем данные в X и y"
   ]
  },
  {
   "cell_type": "code",
   "execution_count": null,
   "metadata": {
    "slideshow": {
     "slide_type": "skip"
    }
   },
   "outputs": [],
   "source": [
    "def loss_function(X, y, k):\n",
    "    \n",
    "    N = X.shape[0]                    # получаем размер вектора столбца\n",
    "    # или N = len(X)\n",
    "   \n",
    "    # создаем массив ошибок для каждого примера\n",
    "    loss_for_sample = (k*X - y)**2\n",
    "    \n",
    "    # берем среднее значение\n",
    "    loss = np.sum(loss_for_sample) / N      \n",
    "    \n",
    "    # или если переписать проще \n",
    "    # loss = np.mean((k*X - y)**2)\n",
    "    return loss"
   ]
  },
  {
   "cell_type": "code",
   "execution_count": null,
   "metadata": {
    "slideshow": {
     "slide_type": "skip"
    }
   },
   "outputs": [],
   "source": [
    "def f(X, k):\n",
    "    # Используем возможность ndarray и умножим массив X на скаляр k\n",
    "    # Результат этой операции это ndarray\n",
    "    return k*X"
   ]
  },
  {
   "cell_type": "markdown",
   "metadata": {
    "slideshow": {
     "slide_type": "slide"
    }
   },
   "source": [
    "## Градиентный спуск"
   ]
  },
  {
   "cell_type": "code",
   "execution_count": null,
   "metadata": {
    "slideshow": {
     "slide_type": "subslide"
    }
   },
   "outputs": [],
   "source": [
    "loss_function_and_with_derivation(X, y, k0=30)"
   ]
  },
  {
   "cell_type": "markdown",
   "metadata": {
    "slideshow": {
     "slide_type": "fragment"
    }
   },
   "source": [
    "Если производная **положительная** в точке $k_0$, и мы возьмем значение немного *больше*, то мы увидим, что значение функции в новой точке *возросло*. А если взять значение *меньшее* $k_0$, то значение функции будет *меньше*, чем в точке $k_0$."
   ]
  },
  {
   "cell_type": "code",
   "execution_count": null,
   "metadata": {
    "slideshow": {
     "slide_type": "subslide"
    }
   },
   "outputs": [],
   "source": [
    "loss_function_and_with_derivation(X, y, k0=10)"
   ]
  },
  {
   "cell_type": "markdown",
   "metadata": {
    "slideshow": {
     "slide_type": "-"
    }
   },
   "source": [
    "Наоборот с отрицательным значением производной. Если производная **отрицательна** в точке $k_0$, и мы возьмем значение *больше* чем $k_0$, то мы увидим, что значение функции *уменьшилось*. А если взять значение *меньшее* $k_0$, то значение функции будет *больше*, чем в точке $k_0$."
   ]
  },
  {
   "cell_type": "markdown",
   "metadata": {
    "slideshow": {
     "slide_type": "slide"
    }
   },
   "source": [
    "## Как менять значение $k$"
   ]
  },
  {
   "cell_type": "markdown",
   "metadata": {
    "slideshow": {
     "slide_type": "fragment"
    }
   },
   "source": [
    "Хотелось бы менять его на большое значение, когда $k$ мы далеко от минимума функции, чтобы быстрее добраться до минимума. "
   ]
  },
  {
   "cell_type": "markdown",
   "metadata": {
    "slideshow": {
     "slide_type": "fragment"
    }
   },
   "source": [
    "И нужно менять $k$ на малое значение, когда мы близко к минимуму, чтобы не пропустить минимум."
   ]
  },
  {
   "cell_type": "markdown",
   "metadata": {
    "slideshow": {
     "slide_type": "fragment"
    }
   },
   "source": [
    "То есть, когда мы далеко от минимума, нужно менять $k$ на большое значение. А когда близко к минимуму, то на малое значение."
   ]
  },
  {
   "cell_type": "markdown",
   "metadata": {
    "slideshow": {
     "slide_type": "subslide"
    }
   },
   "source": [
    "Рассмотрим значения производных в разных точках."
   ]
  },
  {
   "cell_type": "code",
   "execution_count": null,
   "metadata": {
    "slideshow": {
     "slide_type": "subslide"
    }
   },
   "outputs": [],
   "source": [
    "loss_function_and_with_derivation(X, y, k0=5)"
   ]
  },
  {
   "cell_type": "markdown",
   "metadata": {
    "slideshow": {
     "slide_type": "-"
    }
   },
   "source": [
    "Производная в точке $k_0=5$ равна $-3.12$."
   ]
  },
  {
   "cell_type": "code",
   "execution_count": null,
   "metadata": {
    "slideshow": {
     "slide_type": "subslide"
    }
   },
   "outputs": [],
   "source": [
    "loss_function_and_with_derivation(X, y, k0=10)"
   ]
  },
  {
   "cell_type": "markdown",
   "metadata": {
    "slideshow": {
     "slide_type": "-"
    }
   },
   "source": [
    "Производная в точке $k_0=10$ равна $-2.16$."
   ]
  },
  {
   "cell_type": "code",
   "execution_count": null,
   "metadata": {
    "slideshow": {
     "slide_type": "subslide"
    }
   },
   "outputs": [],
   "source": [
    "loss_function_and_with_derivation(X, y, k0=15)"
   ]
  },
  {
   "cell_type": "markdown",
   "metadata": {
    "slideshow": {
     "slide_type": "-"
    }
   },
   "source": [
    "Производная в точке $k_0=15$ равна $-1.19$."
   ]
  },
  {
   "cell_type": "markdown",
   "metadata": {
    "slideshow": {
     "slide_type": "subslide"
    }
   },
   "source": [
    "Минимум находится около точки $k_0 = 20$.\n",
    "\n",
    "| Точка $k_0$ | Значение производной\n",
    "| -----  | --- |\n",
    "|  5   |  -3.12  |\n",
    "|  10   |  -2.16  |\n",
    "|  15  |  -1.19  |\n"
   ]
  },
  {
   "cell_type": "markdown",
   "metadata": {
    "slideshow": {
     "slide_type": "fragment"
    }
   },
   "source": [
    "Чем дальше текущее значение от минимума слева, тем меньше значение производной."
   ]
  },
  {
   "cell_type": "code",
   "execution_count": null,
   "metadata": {
    "slideshow": {
     "slide_type": "subslide"
    }
   },
   "outputs": [],
   "source": [
    "loss_function_and_with_derivation(X, y, k0=25)"
   ]
  },
  {
   "cell_type": "markdown",
   "metadata": {
    "slideshow": {
     "slide_type": "-"
    }
   },
   "source": [
    "Производная в точке $k_0=25$ равна $0.73$."
   ]
  },
  {
   "cell_type": "code",
   "execution_count": null,
   "metadata": {
    "slideshow": {
     "slide_type": "subslide"
    }
   },
   "outputs": [],
   "source": [
    "loss_function_and_with_derivation(X, y, k0=30)"
   ]
  },
  {
   "cell_type": "markdown",
   "metadata": {
    "slideshow": {
     "slide_type": "-"
    }
   },
   "source": [
    "Производная в точке $k_0=30$ равна $1.70$."
   ]
  },
  {
   "cell_type": "code",
   "execution_count": null,
   "metadata": {
    "slideshow": {
     "slide_type": "subslide"
    }
   },
   "outputs": [],
   "source": [
    "loss_function_and_with_derivation(X, y, k0=35)"
   ]
  },
  {
   "cell_type": "markdown",
   "metadata": {
    "slideshow": {
     "slide_type": "-"
    }
   },
   "source": [
    "Производная в точке $k_0=35$ равна $2.66$."
   ]
  },
  {
   "cell_type": "markdown",
   "metadata": {
    "slideshow": {
     "slide_type": "subslide"
    }
   },
   "source": [
    "Минимум находится около точки $k_0 = 20$.\n",
    "\n",
    "| Точка $k_0$ | Значение производной\n",
    "| -----  | --- |\n",
    "|  25   | 0.73  |\n",
    "|  30   |  1.70  |\n",
    "|  35   |  2.66  |"
   ]
  },
  {
   "cell_type": "markdown",
   "metadata": {
    "slideshow": {
     "slide_type": "subslide"
    }
   },
   "source": [
    "Чем дальше текущее значение от минимума слева, тем меньше значение производной. "
   ]
  },
  {
   "cell_type": "markdown",
   "metadata": {
    "slideshow": {
     "slide_type": "fragment"
    }
   },
   "source": [
    "Чем дальше текущее значение от минимума справа, тем больше значение производной."
   ]
  },
  {
   "cell_type": "markdown",
   "metadata": {
    "slideshow": {
     "slide_type": "fragment"
    }
   },
   "source": [
    "Рядом с минимумом производная принимает маленькое значение по модулю."
   ]
  },
  {
   "cell_type": "markdown",
   "metadata": {
    "slideshow": {
     "slide_type": "fragment"
    }
   },
   "source": [
    "В качестве значения, на которое нужно менять текущую точку можно использовать отрицательное значение производной. "
   ]
  },
  {
   "cell_type": "markdown",
   "metadata": {
    "slideshow": {
     "slide_type": "slide"
    }
   },
   "source": [
    "# Градиентный спуск"
   ]
  },
  {
   "cell_type": "markdown",
   "metadata": {
    "slideshow": {
     "slide_type": "fragment"
    }
   },
   "source": [
    "* Выбираем случайное значение для $k$"
   ]
  },
  {
   "cell_type": "markdown",
   "metadata": {
    "slideshow": {
     "slide_type": "fragment"
    }
   },
   "source": [
    "* Повторяем $iter$ раз:"
   ]
  },
  {
   "cell_type": "markdown",
   "metadata": {
    "slideshow": {
     "slide_type": "fragment"
    }
   },
   "source": [
    "&nbsp;&nbsp;&nbsp;&nbsp;&nbsp;&nbsp; $k_{new} = k - \\alpha \\cdot \\dfrac{d  Loss(k)}{dk}$,\n",
    "\n",
    "&nbsp;&nbsp;&nbsp;&nbsp;&nbsp;&nbsp; $k = k_{new}$,\n",
    "\n",
    "где $\\alpha$ - это коэффициент, который мы выберем. Он называется коэффициент скорости обучения (learning rate)."
   ]
  },
  {
   "cell_type": "markdown",
   "metadata": {
    "slideshow": {
     "slide_type": "slide"
    }
   },
   "source": [
    "# Реализация градиентного спуска"
   ]
  },
  {
   "cell_type": "markdown",
   "metadata": {
    "slideshow": {
     "slide_type": "slide"
    }
   },
   "source": [
    "## Реализация подсчета производной"
   ]
  },
  {
   "cell_type": "markdown",
   "metadata": {
    "slideshow": {
     "slide_type": "fragment"
    }
   },
   "source": [
    "Для входных данных массива $X$, реального выходного значения $y$ и параметра $k$ необходимо реализовать подсчет производной. \n",
    "\n",
    "На входе:\n",
    "\n",
    "* Массив входных значений $X$;\n",
    "\n",
    "* Массив реальных выходных значений $y$;\n",
    "\n",
    "* Коэффициент $k$ функции $f(X)=kX$;\n",
    "\n",
    "\n",
    "На выходе:\n",
    "\n",
    "* На выходе значение производной функции ошибки $Loss'(k)$"
   ]
  },
  {
   "cell_type": "markdown",
   "metadata": {
    "slideshow": {
     "slide_type": "subslide"
    }
   },
   "source": [
    "Формула производной функции ошибки:\n",
    "\n",
    "$Loss'(k) = \\dfrac{2}{N} \\sum_{i=0}^{N}{(kX_i - y_i)X_i} $"
   ]
  },
  {
   "cell_type": "code",
   "execution_count": null,
   "metadata": {
    "slideshow": {
     "slide_type": "fragment"
    }
   },
   "outputs": [],
   "source": [
    "def derivative_function(X, y, k):\n",
    "    # С помощью f(X, k) мы находим массив предсказанных значений и вычитаем из него массив реальных выходных значений\n",
    "    # Эту разность мы поэлементно умножаем на массив Х\n",
    "    # С помощью функции np.mean мы получаем среднее значение массива.\n",
    "    # np.mean(X) эквивалентной np.sum(X)/len(X)\n",
    "    \n",
    "    derivative = 2*np.mean((f(X, k) - y) * X)\n",
    "    return derivative   \n",
    "\n",
    "k = 1\n",
    "print(derivative_function(X, y, k))"
   ]
  },
  {
   "cell_type": "markdown",
   "metadata": {
    "slideshow": {
     "slide_type": "slide"
    }
   },
   "source": [
    "## Реализация градиентного спуска"
   ]
  },
  {
   "cell_type": "markdown",
   "metadata": {
    "slideshow": {
     "slide_type": "subslide"
    }
   },
   "source": [
    "Для входных данных массива $X$, реального выходного значения $y$, начального значения $k_{init}$, значения параметра $\\alpha$ необходимо реализовать градиентный спуск. \n",
    "\n",
    "На входе:\n",
    "\n",
    "* Массив входных значений $X$;\n",
    "\n",
    "* Массив реальных выходных значений $y$;\n",
    "\n",
    "* Начальный коэффициент функции $k_{init}$;\n",
    "\n",
    "* Коэффициент скорости обучения $\\alpha$;\n",
    "\n",
    "* Количество итераций алгоритма $iter$;\n",
    "\n",
    "На выходе:\n",
    "\n",
    "* На выходе значение коэффициента $k$"
   ]
  },
  {
   "cell_type": "markdown",
   "metadata": {
    "slideshow": {
     "slide_type": "subslide"
    }
   },
   "source": [
    "Алгоритм градиентного спуска:\n",
    "\n",
    "* Повторяем $iter$ раз:\n",
    "\n",
    "&nbsp;&nbsp;&nbsp;&nbsp;&nbsp;&nbsp; $k_{new} = k - \\alpha \\cdot \\dfrac{d  Loss(k)}{dk}$,\n",
    "\n",
    "&nbsp;&nbsp;&nbsp;&nbsp;&nbsp;&nbsp; $k = k_{new}$. "
   ]
  },
  {
   "cell_type": "code",
   "execution_count": null,
   "metadata": {
    "slideshow": {
     "slide_type": "subslide"
    }
   },
   "outputs": [],
   "source": [
    "def gradient_descent(X, y, k_init, alpha, iters):\n",
    "    \n",
    "    # инициализируем начальное значение\n",
    "    k = k_init\n",
    "    \n",
    "    # выполняем iters раз\n",
    "    for i in range(0, iters):\n",
    "        # считаем производную, умножаем ее на коэффициент скорости обучения\n",
    "        # уменьшаем коэффициент на полученное значение произведения\n",
    "        k = k - (alpha * derivative_function(X, y, k))\n",
    "        \n",
    "        # Можно заменить на \n",
    "        # k -= alpha * derivative_function(X, y, k)\n",
    "    # возвращаем посчитанное значение\n",
    "    return k\n",
    "\n",
    "k_init = 1.0\n",
    "alpha = 1\n",
    "iters = 100\n",
    "k_gd = gradient_descent(X, y, k_init, alpha, iters)\n",
    "\n",
    "print(f\"Значение после градиентного спуска k={k_gd}\")"
   ]
  },
  {
   "cell_type": "code",
   "execution_count": null,
   "metadata": {
    "slideshow": {
     "slide_type": "fragment"
    }
   },
   "outputs": [],
   "source": [
    "k_a = analytical_solution(X, y)\n",
    "print(f\"Аналитически решенное c помощью МНК k={k_a}\")"
   ]
  },
  {
   "cell_type": "code",
   "execution_count": null,
   "metadata": {
    "slideshow": {
     "slide_type": "subslide"
    }
   },
   "outputs": [],
   "source": [
    "print(f\"Значение функции ошибки после обучения {loss_function(X, y, k_gd)}\")"
   ]
  },
  {
   "cell_type": "code",
   "execution_count": null,
   "metadata": {
    "slideshow": {
     "slide_type": "fragment"
    }
   },
   "outputs": [],
   "source": [
    "print(f\"Значение функции ошибки для МНК {loss_function(X, y, k_a)}\")"
   ]
  },
  {
   "cell_type": "code",
   "execution_count": null,
   "metadata": {
    "slideshow": {
     "slide_type": "fragment"
    }
   },
   "outputs": [],
   "source": [
    "print(f\"Разница значений функций ошибок {loss_function(X, y, k_a) - loss_function(X, y, k_gd)}\")"
   ]
  },
  {
   "cell_type": "markdown",
   "metadata": {
    "slideshow": {
     "slide_type": "slide"
    }
   },
   "source": [
    "## Визуализация результата"
   ]
  },
  {
   "cell_type": "code",
   "execution_count": null,
   "metadata": {
    "slideshow": {
     "slide_type": "fragment"
    }
   },
   "outputs": [],
   "source": [
    "plot_data_and_hyp(X, y, k_gd)"
   ]
  },
  {
   "cell_type": "markdown",
   "metadata": {
    "slideshow": {
     "slide_type": "slide"
    }
   },
   "source": [
    "## Разные параметры градиентного спуска"
   ]
  },
  {
   "cell_type": "code",
   "execution_count": null,
   "metadata": {
    "slideshow": {
     "slide_type": "subslide"
    }
   },
   "outputs": [],
   "source": [
    "gradient_descent_visualization(X, y, k_init=1.0, a=1.0, it=15)"
   ]
  },
  {
   "cell_type": "markdown",
   "metadata": {
    "slideshow": {
     "slide_type": "-"
    }
   },
   "source": [
    "Хорошо подобранные параметры.\n",
    "\n",
    "- Коэффициент скорости обучения: $1.0$\n",
    "- Итераций: $15$"
   ]
  },
  {
   "cell_type": "code",
   "execution_count": null,
   "metadata": {
    "slideshow": {
     "slide_type": "subslide"
    }
   },
   "outputs": [],
   "source": [
    "gradient_descent_visualization(X, y, k_init=1.0, a=1.0, it=5)"
   ]
  },
  {
   "cell_type": "markdown",
   "metadata": {
    "slideshow": {
     "slide_type": "-"
    }
   },
   "source": [
    "Недостаточно итераций.\n",
    "\n",
    "- Коэффициент скорости обучения: $1.0$\n",
    "- Итераций: $5$"
   ]
  },
  {
   "cell_type": "code",
   "execution_count": null,
   "metadata": {
    "slideshow": {
     "slide_type": "subslide"
    }
   },
   "outputs": [],
   "source": [
    "gradient_descent_visualization(X, y, k_init=1.0, a=0.1, it=50)"
   ]
  },
  {
   "cell_type": "markdown",
   "metadata": {
    "slideshow": {
     "slide_type": "-"
    }
   },
   "source": [
    "Слишком маленький коэффициент скорости обучения\n",
    "\n",
    "- Коэффициент скорости обучения: $0.1$\n",
    "- Итераций: $50$"
   ]
  },
  {
   "cell_type": "code",
   "execution_count": null,
   "metadata": {
    "slideshow": {
     "slide_type": "subslide"
    }
   },
   "outputs": [],
   "source": [
    "gradient_descent_visualization(X, y, k_init=1.0, a=3.0, it=5)"
   ]
  },
  {
   "cell_type": "markdown",
   "metadata": {
    "slideshow": {
     "slide_type": "-"
    }
   },
   "source": [
    "Хорошо подобранные параметры.\n",
    "\n",
    "- Коэффициент скорости обучения: $3.0$\n",
    "- Итераций: $5$"
   ]
  },
  {
   "cell_type": "code",
   "execution_count": null,
   "metadata": {
    "slideshow": {
     "slide_type": "subslide"
    }
   },
   "outputs": [],
   "source": [
    "gradient_descent_visualization(X, y, k_init=1.0, a=10.0, it=5)"
   ]
  },
  {
   "cell_type": "markdown",
   "metadata": {
    "collapsed": true,
    "slideshow": {
     "slide_type": "-"
    }
   },
   "source": [
    "Слишком большой learning rate.\n",
    "\n",
    "- Коэффициент скорости обучения: $10.0$\n",
    "- Итераций: $5$"
   ]
  },
  {
   "cell_type": "code",
   "execution_count": null,
   "metadata": {
    "slideshow": {
     "slide_type": "subslide"
    }
   },
   "outputs": [],
   "source": [
    "gradient_descent_visualization(X, y, k_init=12.0, a=11.0, it=5)"
   ]
  },
  {
   "cell_type": "markdown",
   "metadata": {
    "slideshow": {
     "slide_type": "-"
    }
   },
   "source": [
    "Градиентный спуск расходится.\n",
    "\n",
    "- Коэффициент скорости обучения: $11.0$\n",
    "- Итераций: $5$"
   ]
  },
  {
   "cell_type": "markdown",
   "metadata": {
    "slideshow": {
     "slide_type": "slide"
    }
   },
   "source": [
    "## Использование sklearn"
   ]
  },
  {
   "cell_type": "code",
   "execution_count": null,
   "metadata": {
    "slideshow": {
     "slide_type": "fragment"
    }
   },
   "outputs": [],
   "source": [
    "# загружаем линейную регрессию из библиотеки sklearn\n",
    "# в ней реализован класс LinearRegression\n",
    "from sklearn.linear_model import LinearRegression\n",
    "\n",
    "# создаем объект линейной регрессии. \n",
    "# не обращайте внимание на атрибут fit_intercept, мы разберем его на следующем занятии\n",
    "lr = LinearRegression(fit_intercept=False)\n",
    "\n",
    "# обучаем нашу модель. То есть, запускаем алгоритм, который находит оптимальные параметры. \n",
    "# нужно будет немного поменять shape входных данных\n",
    "lr.fit(X.reshape(-1, 1), y.reshape(-1, 1))\n",
    "\n",
    "# и получаем значение коэффициента\n",
    "k_sklearn = lr.coef_[0, 0]"
   ]
  },
  {
   "cell_type": "code",
   "execution_count": null,
   "metadata": {
    "slideshow": {
     "slide_type": "fragment"
    }
   },
   "outputs": [],
   "source": [
    "print(f\"Абсолютная разница между коэффициентами, посчитанным нами и посчитанным sklean'ом:\\n{abs(k_gd - k_sklearn)}\")"
   ]
  }
 ],
 "metadata": {
  "anaconda-cloud": {},
  "celltoolbar": "Slideshow",
  "kernelspec": {
   "display_name": "Python 3",
   "language": "python",
   "name": "python3"
  },
  "language_info": {
   "codemirror_mode": {
    "name": "ipython",
    "version": 3
   },
   "file_extension": ".py",
   "mimetype": "text/x-python",
   "name": "python",
   "nbconvert_exporter": "python",
   "pygments_lexer": "ipython3",
   "version": "3.7.1"
  },
  "widgets": {
   "state": {
    "03fc38044a514408b9de41fa70bf122f": {
     "views": [
      {
       "cell_index": 17
      }
     ]
    },
    "19b7b5447a594ae1a20b764ac13118cc": {
     "views": [
      {
       "cell_index": 15
      }
     ]
    },
    "28304c0dfbab44f5a851af84bf5947d3": {
     "views": [
      {
       "cell_index": 21
      }
     ]
    },
    "3f700e837fd046ddb14ee8776ac8bc04": {
     "views": [
      {
       "cell_index": 31
      }
     ]
    },
    "50d7c06a111e43c1860a5b10a576bfd3": {
     "views": [
      {
       "cell_index": 23
      }
     ]
    },
    "a74e340d7bb24d9bb020ad7dd982e764": {
     "views": [
      {
       "cell_index": 19
      }
     ]
    },
    "d5593dc80c0445c7ae64c7da2d37f72f": {
     "views": [
      {
       "cell_index": 5
      }
     ]
    },
    "d644b9b546b849c6b17acb3be1f1952b": {
     "views": [
      {
       "cell_index": 3
      }
     ]
    },
    "eac5158d5b6c45c4afa73b58b8b0e58a": {
     "views": [
      {
       "cell_index": 7
      }
     ]
    },
    "f4cec2743faf43ad9b8e7c828c6ee76a": {
     "views": [
      {
       "cell_index": 27
      }
     ]
    }
   },
   "version": "1.2.0"
  }
 },
 "nbformat": 4,
 "nbformat_minor": 1
}
