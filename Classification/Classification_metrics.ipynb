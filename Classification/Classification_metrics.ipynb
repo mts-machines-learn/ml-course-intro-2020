{
 "cells": [
  {
   "cell_type": "markdown",
   "metadata": {},
   "source": [
    "## Метрики качества классификации"
   ]
  },
  {
   "cell_type": "markdown",
   "metadata": {},
   "source": [
    "Продолжим изучать бинарную классификацию.\n",
    "\n",
    "В этом уроке мы поговорим про оценку качкства уже обученой модели.\n",
    "\n",
    "Пусть все также есть два класса, обозначим их метками $0$ и $1$. \n",
    "\n",
    "Имеются истинные метки $y \\in$ {0,1} и предсказания в виде вероятностей первого класса.\n",
    "\n",
    "Допустим мы знаем некоторый порог $p_0$, преодалев который мы ставим метку $1$, иначе $0$."
   ]
  },
  {
   "cell_type": "markdown",
   "metadata": {},
   "source": [
    "В предыдущих уроках мы мерили ошибку классификации, как *долю неправильных ответов*.\n",
    "\n",
    "Чаще при оценке качества классификации смотрят наоборот: *долю правильных ответов* - **accuracy**\n",
    "\n",
    "\\begin{equation*}\n",
    "accuracy = \\dfrac{1}{N}\\sum_{i=1}^N[\\tilde y_i = y_i]\n",
    "\\end{equation*}\n",
    "\n",
    "\\begin{cases}\n",
    "[True] = 1, \\\\\n",
    "[False] = 0.\n",
    "\\end{cases}\n",
    "\n",
    "* $y_i$ - истинная метка на $i$-ом объекте\n",
    "* $\\tilde y_i$ - предсказанная метка на $i$-ом объекте"
   ]
  },
  {
   "cell_type": "markdown",
   "metadata": {},
   "source": [
    "По результатам классификации полезно составить следующую таблицу:\n",
    "\n",
    "| predict/true  | y_true = 1         |y_true=0    |\n",
    "| ------------- |:------------------| -----------:|\n",
    "| **y_pred = 1**  | True Positive (TP)|False Positive (FP)|\n",
    "| **y_pred = 0**  | False Negative (FN)|True Negative (TN)|\n",
    "\n",
    "* True Positive (TP) - кол-во верно предсказанных объектов 1-го класса\n",
    "* False Positive (FP) -  кол-во НЕверно предсказанных объектов 1-го класса\n",
    "* True Negative (TN) - кол-во верно предсказанных объектов 0-го класса\n",
    "* False Negative (FN) - кол-во НЕверно предсказанных объектов 0-го класса"
   ]
  },
  {
   "cell_type": "markdown",
   "metadata": {},
   "source": [
    "Тогда метрику *accuracy* можно выразить, как:\n",
    "\n",
    "\\begin{equation*}\n",
    "accuracy = \\dfrac{TP + TN}{TP+TN+FN+FP} = \\dfrac{n_{correct}}{N}\n",
    "\\end{equation*}\n",
    "\n",
    "$n_{correct}$ - количество правильно предсказанных объектов\n",
    "\n",
    "$N$ - количество объектов в выборке"
   ]
  },
  {
   "cell_type": "markdown",
   "metadata": {},
   "source": [
    "### Пример:\n",
    "\n",
    "Возьмем модель машинного обучения $f(x)$, обучим ее и получим следующие результаты на валидации:\n",
    "\n",
    "| predict/true  | y_true = 1          |y_true = 0    |\n",
    "| ------------- |:------------------| -----------:|\n",
    "| **y_pred = 1**  | 15 |18  |\n",
    "| **y_pred = 0**  | 80   |1000  |\n",
    "\n",
    "\\begin{equation*}\n",
    "accuracy = \\dfrac{15 + 1000}{15+1000+80+18} \\approx 0.912\n",
    "\\end{equation*}\n",
    "\n",
    "Точность выше 90%, кажется что неплохо.\n",
    "\n",
    "Возьмем другую, совершенно простую модель машинного обучения $a(x)$, которая каждому объекту $x$ ставит метку $0$:\n",
    "\n",
    "* $a(x) = 0$, для $\\forall x \\in X$\n",
    "\n",
    "| predict/true  | y_true = 1          |y_true = 0    |\n",
    "| ------------- |:------------------| -----------:|\n",
    "| **y_pred = 1**  | 0 |0  |\n",
    "| **y_pred = 0**  | 95   |1018  |\n",
    "\n",
    "Понятно, что такая модель сама по себе очень плоха, но давайте посмотрим долю правильных ответов:\n",
    "\\begin{equation*}\n",
    "accuracy = \\dfrac{0 + 1018}{0+1018+95+0} \\approx 0.915\n",
    "\\end{equation*}"
   ]
  },
  {
   "cell_type": "markdown",
   "metadata": {},
   "source": [
    "Что мы имеем:\n",
    "* Константный классификатор выдал точность классификации даже лучше, чем обученая модель!\n",
    "\n",
    "* Оказалось выгоднее всем объектам ставить метку $0$, чем использовать обученый классификатор $f(x)$. Это случилось потомучто объектов нулевого класса оказалось гораздо больше, чем объектов первого класса.\n",
    "\n",
    "* Выборка в которой объектов одного класса гораздо больше, чем объектов других классов, называется **несбалансированной**.\n",
    "\n",
    "* $Accuracy$ на несблансированных выборках полезно сравнивать с $accuracy$ полученной при ответах константного классификатора."
   ]
  },
  {
   "cell_type": "markdown",
   "metadata": {},
   "source": [
    "На практике очень часто встречаются несбалансированные выборки, поэтому полезно смотреть на саму таблицу ошибок.\n",
    "\n",
    "Такую таблицу можно строить и для большего числа классов, ее еще называют **confusion matrix**.\n",
    "\n",
    "| predict/true  | y_true = 1         |y_true=0    |\n",
    "| ------------- |:------------------| -----------:|\n",
    "| **y_pred = 1**  | True Positive (TP)|False Positive (FP)|\n",
    "| **y_pred = 0**  | False Negative (FN)|True Negative (TN)|\n",
    "\n",
    "Мы выяснили, что метрика $accuracy$ не подходит для несблансированных данных.\n",
    "\n",
    "Чаще всего помиомо $accuracy$ смотрят метрики устойчивые к *дисбалансу классов*:\n",
    "\n",
    "\\begin{equation*}\n",
    "precision = \\dfrac{TP}{TP+FP} \\\\\n",
    "recall = \\dfrac{TP}{TP+FN}\n",
    "\\end{equation*}\n",
    "\n",
    "* $precisin$ (*точность*) $-$ доля правильно классифицированных объектов 1-го класса среди всех кого модель отнесла к 1-му классу.\n",
    "* $recall$ (*полнота*) $-$ доля правильно классифицированных объектов 1-го среди всех объектов первого класса.\n"
   ]
  },
  {
   "cell_type": "markdown",
   "metadata": {},
   "source": [
    "![](Precisionrecall.png?raw=true)"
   ]
  },
  {
   "cell_type": "markdown",
   "metadata": {},
   "source": [
    "Давайте посмотрим на $precisin$ и $recall$ для нашего примера\n",
    "\n",
    "| predict/true  | y_true = 1          |y_true = 0    |\n",
    "| ------------- |:------------------| -----------:|\n",
    "| **y_pred = 1**  | 15 |18  |\n",
    "| **y_pred = 0**  | 80   |1000  |\n",
    "\n",
    "\n",
    "\\begin{equation*}\n",
    "precision = \\dfrac{15}{15+18} \\approx 0.45 \\\\\n",
    "recall = \\dfrac{15}{15+80} \\approx 0.158 \\\\\n",
    "accuracy = \\dfrac{15 + 1000}{15+1000+80+18} \\approx 0.912 \\\\\n",
    "\\end{equation*}\n",
    "\n",
    "Хоть доля правильных ответов $accuracy$ и выше $90\\%$, $precision$ и $recall$ оказались очеень низкими, обе метрики ниже $50\\%$, это очень плохо.\n",
    "\n",
    "По таким метрикам видно, что $f(x)$ не самый лучший классификатор.\n",
    "\n",
    "Мы находим всего $16 \\%$ объектов первого класса ($recall = 0.158$), при этом почти в половине случае ошибаемся ($precision = 0.45$).\n"
   ]
  },
  {
   "cell_type": "markdown",
   "metadata": {},
   "source": [
    "Если классифкатор выдает вероятности принадлежности к классу, то подбирая разные пороги $p_0$, мы можем отдавать предпочтения либо *точности (precision)* либо *полноте (recall)*\n",
    "\n",
    "<details>\n",
    "<summary>Раскрыть для подробностей</summary>\n",
    "<p>\n",
    "\n",
    "* Действительно, чем ниже порог $p_0$, тем чаще классификатор будет относить объект к 1-му классу. Увеличится $recall$, но и тогда станет больше ложно положительных срабатываний (False Positive), $precision$ упадет.\n",
    "* И наоборот, увеличивая порог $p_0$, мы будем реже относить объекты к первому классу, будем более внимательны, False Positive станет меньше , $precision$ увеличится. Но тогда и истинных объектов 1-го класса мы станем находить меньше, $recall$ упадет\n",
    "\n",
    "Мы смотрим метрики $precision$ и $recall$ для класса $1$, можно точно также их построить и для класса $0$ поменяв местами метки класса.\n",
    "\n",
    "Но обычно этого не требуется, так как за класс $1$ обычно обозначается целевой класс, например: поиск мошенников среди всех клиентов. Нам интересно, как хоршо мы находим мошенников, а не лояльных абонентов. \n",
    "\n",
    "Как правило в задачах с несбалансированными выборками, меньший класс обозначается меткой 1, так как его труднее искать.\n",
    "\n",
    "</p>\n",
    "</details> "
   ]
  },
  {
   "cell_type": "markdown",
   "metadata": {},
   "source": [
    "Иногда бывает не очень удобно смотреть сразу на 2 метрики $precision$ и $recall$, удобнее смотреть на одну.\n",
    "\n",
    "В этом случае мы могли бы взять среднее значение, но тогда становятся неразличимы следующие ситуации:\n",
    "\n",
    "**Ex1:**\n",
    "\\begin{equation*}\n",
    "precision = 0.95 \\\\\n",
    "recall = 0.15 \\\\\n",
    "среднее = 0.55\n",
    "\\end{equation*}\n",
    "**Ex2:**\n",
    "\\begin{equation*}\n",
    "precision = 0.55 \\\\\n",
    "recall = 0.55 \\\\\n",
    "среднее = 0.55\n",
    "\\end{equation*}\n",
    "\n",
    "Совершенно разные ситуации, а среднее одинаковое."
   ]
  },
  {
   "cell_type": "markdown",
   "metadata": {},
   "source": [
    "Чтобы такого избежать, вместо среднего используют **F-меру** (среднее гармоническое):\n",
    "\n",
    "\\begin{equation*}\n",
    "F = \\dfrac{2 \\cdot precision \\cdot recall}{precision + recall}\n",
    "\\end{equation*}\n",
    "\n",
    "**Ex1:**\n",
    "\\begin{equation*}\n",
    "precision = 0.95 \\\\\n",
    "recall = 0.15 \\\\\n",
    "F = \\dfrac{2 \\cdot 0.95 \\cdot 0.15}{0.95 + 0.15} \\approx 0.26\n",
    "\\end{equation*}\n",
    "**Ex2:**\n",
    "\\begin{equation*}\n",
    "precision = 0.55 \\\\\n",
    "recall = 0.55 \\\\\n",
    "F = \\dfrac{2 \\cdot 0.55 \\cdot 0.55}{0.55 + 0.55} = 0.55\n",
    "\\end{equation*}\n",
    "\n",
    "**F-меру** еще можно понимать, как сглаженный между точностью и полнотой:\n",
    "\n",
    "*F-мера* близка к нулю, когда близка к нулю хотябы одна из двух метрик (*precision* или *recall*).\n"
   ]
  },
  {
   "cell_type": "markdown",
   "metadata": {},
   "source": [
    "Все перечисленные метрики классификации требуют предсказаний в виде метки класса.\n",
    "\n",
    "Значит для оценки качества предсказаний каждый раз необходимо подбирать пороги, что не всегда бывает удобно.\n",
    "\n",
    "Хотелось бы уметь оценивать качество классификации по самим вероятностям вне зависимости от порога."
   ]
  },
  {
   "cell_type": "markdown",
   "metadata": {},
   "source": [
    "Рассмотрим двумерную плоскость. \n",
    "\n",
    "* по оси абсцисс будем откладывать долю неверно принятых объектов (False Positive Rate, FPR)\n",
    "\n",
    "* по оси ординат - долю  верно принятых объектов (True Positive Rate, TPR, он же *recall*)\n",
    "\n",
    "\\begin{equation*}\n",
    "FPR = \\dfrac{FP}{FP+TN} \\\\\n",
    "TPR = \\dfrac{TP}{TP+FN}\n",
    "\\end{equation*}\n",
    "\n",
    "Каждый выбор порога $p_0$ (всего их $N+1$, $N$-количество объектов в выборке) будет соотвествовать точке на такой плоскости с осями *FPR* и *TPR*, тогда меняя порог $p_0$ мы можем построить кривую, которая всегда будет выходить из точки (0,0) и приходить  в точку (1,1). А численной мерой качества будет площадь под такой кривой.\n",
    "\n",
    "* Кривая построенная таким образом называется **ROC криваой**\n",
    "* Площадь под *ROC криваой* называют **AUC ROC**"
   ]
  },
  {
   "cell_type": "markdown",
   "metadata": {},
   "source": [
    "**Разберем процедуру построения *ROC криваой* на конкретном примере.**\n",
    "\n",
    "Пусть алгоритм машинного обучения $f(x)$ выдал оценки вероятностей первого класса. Также у нас есть исстинные метки класса.\n",
    "\n",
    "\n",
    "|y_pred| y_true|\n",
    "|------| -----:|\n",
    "|0.3 |1|        \n",
    "|0.1 |0|\n",
    "|0 |0|\n",
    "|0.2 |1|\n",
    "|0.2 |0|\n",
    "|0.5 |0|\n",
    "|0.7 |1|\n",
    "|0.6 |1|\n",
    "|0.15 |0|\n",
    "\n",
    "1. Отсортируем таблицу по оценкам алгоритма $f(x)$:\n",
    "\n",
    "\n",
    "|y_pred| y_true|\n",
    "|------| -----:|\n",
    "|0.7 |1|\n",
    "|0.6 |1|\n",
    "|0.5 |0|\n",
    "|0.3 |1|   \n",
    "|0.2 |1|\n",
    "|0.2 |0|\n",
    "|0.15 |0|\n",
    "|0.1 |0|\n",
    "|0 |0|\n",
    "\n",
    "* Пусть $k_0$ - количество объектов класса $0$, $k_0=5$\n",
    "* $k_1$ - количество объектов класса $1$, $k_1 = 4$"
   ]
  },
  {
   "cell_type": "markdown",
   "metadata": {},
   "source": [
    "2. Разобьем единичный квадрат на $k_0$ вертикальных и $k_1$ горизонтальных частей."
   ]
  },
  {
   "cell_type": "code",
   "execution_count": 12,
   "metadata": {},
   "outputs": [],
   "source": [
    "from classification_helper import *\n",
    "import numpy as np"
   ]
  },
  {
   "cell_type": "code",
   "execution_count": 13,
   "metadata": {},
   "outputs": [
    {
     "data": {
      "image/png": "[encoded data removed]",
      "text/plain": [
       "<Figure size 432x288 with 1 Axes>"
      ]
     },
     "metadata": {
      "needs_background": "light"
     },
     "output_type": "display_data"
    }
   ],
   "source": [
    "y_pred = [0.3,0.1,0,0.2,0.2,0.5,0.7,0.6,0.15]\n",
    "y_true = [1,0,0,1,0,0,1,1,0]\n",
    "k_0, k_1 = 5,4\n",
    "plot_square(k_0,k_1)"
   ]
  },
  {
   "cell_type": "markdown",
   "metadata": {},
   "source": [
    "3. Начинаем строить кривую, стартуем из точки $(0,0)$, \n",
    "4. Идем по отсортированной таблице сверху вниз: \n",
    "   * Если **y_true == 1**, то делаем шаг вверх\n",
    "   * Если **y_true == 0**, то делаем шаг вправо\n",
    "   * Если для некоторых объектов, вероятности $f(x)$ первого класса равны: делаем шаг вправо на количество объектов клааса $0$ и вверх на количество объектов класса $1$ (тоесть по диангонали)\n",
    "5. Идем по таблице пока не дойдем до конца повторяя процедуру $4$\n",
    "6. Когда пройдем всю таблицу, должны оказаться в точке $(1,1)$, так как сделали $k_1$ шагов вверх и  $k_0$ шагов вправо."
   ]
  },
  {
   "cell_type": "markdown",
   "metadata": {},
   "source": [
    "|y_pred| y_true|\n",
    "|------| -----:|\n",
    "|0.7 |1|\n",
    "|0.6 |1|\n",
    "|0.5 |0|\n",
    "|0.3 |1|   \n",
    "|0.2 |1|\n",
    "|0.2 |0|\n",
    "|0.15 |0|\n",
    "|0.1 |0|\n",
    "|0 |0|"
   ]
  },
  {
   "cell_type": "code",
   "execution_count": 14,
   "metadata": {},
   "outputs": [],
   "source": [
    "def create_my_roc_curve(y_true, y_pred):\n",
    "    \n",
    "    y_true_pred = np.array([y_pred,y_true]).T #Объеденям предсказания и истиные метки в одну матрицу\n",
    "    y_true_pred = y_true_pred[y_true_pred[:,0].argsort()][::-1] #сортировка по вероятностям\n",
    "    \n",
    "    \n",
    "    y_pred_sorted = y_true_pred[:,0]\n",
    "    y_true_sorted = y_true_pred[:,1]\n",
    "    \n",
    "    k_1 = y_true_sorted[y_true_sorted==1].shape[0]\n",
    "    k_0 = y_true_sorted[y_true_sorted==0].shape[0]\n",
    "    \n",
    "    \n",
    "    #Определяем величину шага по каждой из осей\n",
    "    d_tpr = 1/k_1\n",
    "    d_fpr = 1/k_0\n",
    "    \n",
    "    TPR, FPR = [0], [0]\n",
    "    i = 0\n",
    "    \n",
    "    while i < y_true_pred.shape[0]:\n",
    "        \n",
    "        prob = y_pred_sorted[i]\n",
    "        prob_next = prob\n",
    "        step_tpr, step_fpr = 0, 0\n",
    "        \n",
    "        while prob == prob_next:\n",
    "            if y_true_sorted[i] == 1:\n",
    "                step_tpr += d_tpr\n",
    "            else:\n",
    "                step_fpr += d_fpr\n",
    "                \n",
    "            i += 1\n",
    "            if i < y_true_pred.shape[0]:\n",
    "                prob_next = y_pred_sorted[i]\n",
    "            else:\n",
    "                break\n",
    "        \n",
    "        TPR.append(TPR[-1] + step_tpr)\n",
    "        FPR.append(FPR[-1] + step_fpr)\n",
    "            \n",
    "    return FPR, TPR\n"
   ]
  },
  {
   "cell_type": "markdown",
   "metadata": {},
   "source": [
    "|y_pred| y_true|\n",
    "|------| -----:|\n",
    "|0.7 |1|\n",
    "|0.6 |1|\n",
    "|0.5 |0|\n",
    "|0.3 |1|\n",
    "|0.2 |1|\n",
    "|0.2 |0|\n",
    "|0.15 |0|\n",
    "|0.1 |0|\n",
    "|0 |0|"
   ]
  },
  {
   "cell_type": "code",
   "execution_count": 15,
   "metadata": {},
   "outputs": [
    {
     "data": {
      "image/png": "[encoded data removed]",
      "text/plain": [
       "<Figure size 600x500 with 1 Axes>"
      ]
     },
     "metadata": {
      "needs_background": "light"
     },
     "output_type": "display_data"
    }
   ],
   "source": [
    "fpr,tpr = create_my_roc_curve(y_true, y_pred)\n",
    "plot_roc_curve(fpr,tpr, k_0, k_1)"
   ]
  },
  {
   "cell_type": "markdown",
   "metadata": {},
   "source": [
    "Свойства roc кривой:\n",
    "* Чем точнее работает классификатор $f(x)$, тем ближе *roc кривая* будет находится к точке $(0,1)$.\n",
    "* Если классификатор расставляет метки случайным образом, *roc кривая* будет похожа на диагональ.\n",
    "* Если классификатор $f(x)$ работает хуже случайного расставления меток, тоест ставит противоположные метки классам, кривая пройдет ниже диагонали. В этом случае можно взять противоположные вероятности и классификатор будет рабоать лучше случайного"
   ]
  },
  {
   "cell_type": "markdown",
   "metadata": {},
   "source": [
    "*Roc кривая* также есть в библиотеке *scikit-learn*"
   ]
  },
  {
   "cell_type": "code",
   "execution_count": 16,
   "metadata": {},
   "outputs": [],
   "source": [
    "from sklearn.metrics import roc_auc_score, roc_curve, auc"
   ]
  },
  {
   "cell_type": "code",
   "execution_count": 17,
   "metadata": {},
   "outputs": [
    {
     "data": {
      "image/png": "[encoded data removed]",
      "text/plain": [
       "<Figure size 600x500 with 1 Axes>"
      ]
     },
     "metadata": {
      "needs_background": "light"
     },
     "output_type": "display_data"
    }
   ],
   "source": [
    "fpr, tpr, _ = roc_curve(y_true, y_pred)\n",
    "plot_roc_curve(fpr, tpr, k_0, k_1)"
   ]
  },
  {
   "cell_type": "markdown",
   "metadata": {},
   "source": [
    "Численная характеристика - площадь под *roc кривой*: **roc auc**"
   ]
  },
  {
   "cell_type": "code",
   "execution_count": 18,
   "metadata": {},
   "outputs": [
    {
     "name": "stdout",
     "output_type": "stream",
     "text": [
      "roc auc: 0.875\n"
     ]
    }
   ],
   "source": [
    "#Принимает на вход точки кривой fpr и tpr\n",
    "print(\"roc auc:\", auc(fpr, tpr))"
   ]
  },
  {
   "cell_type": "code",
   "execution_count": 19,
   "metadata": {},
   "outputs": [
    {
     "name": "stdout",
     "output_type": "stream",
     "text": [
      "roc auc: 0.875\n"
     ]
    }
   ],
   "source": [
    "#Принимает на вход ответа классифкатора и истинные метки\n",
    "print(\"roc auc:\", roc_auc_score(y_true, y_pred))"
   ]
  },
  {
   "cell_type": "markdown",
   "metadata": {},
   "source": [
    "Как и с *accuracy*, *roc auc* может быть завышеным в случае большого дисбаланса классов. В этом случае можно построть кривую в координатах $precisin, recall$ - **precision recall curve**. Численной характеристикой также будет площадь под *PR кривой* : **PR AUC**"
   ]
  },
  {
   "cell_type": "code",
   "execution_count": 20,
   "metadata": {},
   "outputs": [],
   "source": [
    "from sklearn.metrics import precision_recall_curve\n",
    "precision, recall, _ = precision_recall_curve(y_true, y_pred)"
   ]
  },
  {
   "cell_type": "code",
   "execution_count": 21,
   "metadata": {},
   "outputs": [
    {
     "data": {
      "image/png": "[encoded data removed]",
      "text/plain": [
       "<Figure size 800x600 with 1 Axes>"
      ]
     },
     "metadata": {
      "needs_background": "light"
     },
     "output_type": "display_data"
    }
   ],
   "source": [
    "plot_pr_curve(recall,precision)"
   ]
  },
  {
   "cell_type": "code",
   "execution_count": 22,
   "metadata": {},
   "outputs": [
    {
     "name": "stdout",
     "output_type": "stream",
     "text": [
      "pr auc: 0.8541666666666666\n"
     ]
    }
   ],
   "source": [
    "print(\"pr auc:\", auc(recall,precision))"
   ]
  },
  {
   "cell_type": "markdown",
   "metadata": {},
   "source": [
    "### Вывод\n",
    "1. Базовой метрикой классификации служит доля правильных ответов $accuracy$.\n",
    "2. В случае несбалансированной выборки, $accuracy$ является плохой мерой качества, в таких случая смотрят \n",
    "   на метрики $precision$ и $recall$ (*точность* и *полнота*), или их гармоничесское среднее $F-меру$.\n",
    "\n",
    "   \n",
    "3. В случае, если классификатор выдает вероятности классов, можно настраивать порог $p_0$ в зависимости от требований к точности и полноте.\n",
    "4. Если хотим померить качество классифкатора вне зависимости от порога $p_0$, можем построить *PR и ROC кривые*, а численной мерой качества будет площадь под кривой."
   ]
  }
 ],
 "metadata": {
  "kernelspec": {
   "display_name": "Python 3",
   "language": "python",
   "name": "python3"
  },
  "language_info": {
   "codemirror_mode": {
    "name": "ipython",
    "version": 3
   },
   "file_extension": ".py",
   "mimetype": "text/x-python",
   "name": "python",
   "nbconvert_exporter": "python",
   "pygments_lexer": "ipython3",
   "version": "3.7.1"
  }
 },
 "nbformat": 4,
 "nbformat_minor": 2
}
