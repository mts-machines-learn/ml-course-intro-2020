{
 "cells": [
  {
   "cell_type": "markdown",
   "metadata": {},
   "source": [
    "## Оценка вероятностей в задаче классификации"
   ]
  },
  {
   "cell_type": "markdown",
   "metadata": {},
   "source": [
    "В предыдущем уроке мы научились предсказывать метку класса, как знак от произведения вектора признаков на вектор весов:\n",
    "\\begin{equation*}\n",
    "y = sign(\\sum_{i=1}^N \\theta_ix_i) = sign(X\\Theta)\n",
    "\\end{equation*}"
   ]
  },
  {
   "cell_type": "markdown",
   "metadata": {},
   "source": [
    "Мы узнали, что линейный классификатор строит разделяющую гиперплоскость в пространстве признаков:\n",
    "\\begin{equation*}\n",
    "X\\Theta = 0\n",
    "\\end{equation*}\n",
    "\n",
    "НО! Мы учитывали только $sign(X\\Theta)$\n",
    "\n",
    "* Если $X\\Theta > 0$, мы относили к классу 1,\n",
    "\n",
    "\n",
    "* Если $X\\Theta < 0$, относили к классу -1\n",
    "\n",
    "Никак не учитывали то, насколько далеко объект попал от разделяющей гиперплоскости. А это достаточно важный параметр.\n",
    "\n",
    "Если объект близко к разделяющей гиперплоскости, значит классификация не уверенная.\n",
    "\n",
    "И наоборот, если он далеко, то классификаия должна быть уверенная.\n",
    "\n",
    "Как определить расстояние от точки до разделяющей гиперплоскости?"
   ]
  },
  {
   "cell_type": "markdown",
   "metadata": {},
   "source": [
    "**Расстояние от точки до гиперплоскости**:\n",
    "\n",
    "Длина ортогональной проекции вектора $\\overline{a}$ на вектор $\\overline{b}$, считается по формуле:\n",
    "\n",
    "\\begin{equation*}\n",
    "np_{\\overline{b}}\\overline{a} = \\| \\overline{a}\\|cos(\\widehat{ \\overline{a},\\overline{b}}) = \\dfrac{(\\overline{a}, \\overline{b})}{\\|\\overline{b}\\|}\n",
    "\\end{equation*}\n",
    "\n",
    "\n",
    "Пусть требуется посчитать расстояние от точки $M^*$ до гиперплоскости.\n",
    "\n",
    "Возьмем любую точку $M_0$ принадлежащую данной гиперплоскости.\n",
    "\n",
    "Тогда расстояние от точки $M^*$ до гиперплоскости будет равно длине ортогональной проекции вектора $\\overline{M_0M*}$ на вектор нормали $\\overline{n}$.\n",
    "\n",
    "\n",
    "\\begin{equation*}\n",
    "d = \\dfrac{(M^* - M_0,\\overline{n})}{\\|\\overline{n}\\|} = \\dfrac{(M^*,\\overline{n})}{\\|\\overline{n}\\|} - \\dfrac{(M_0,\\overline{n})}{\\|\\overline{n}\\|} \\\\\n",
    "d = \\dfrac{(M^*,\\overline{n}) + A_0}{\\|\\overline{n}\\|} \\\\\n",
    "\\end{equation*}"
   ]
  },
  {
   "cell_type": "markdown",
   "metadata": {},
   "source": [
    "![](gipyerploskostiM.jpg?raw=true)"
   ]
  },
  {
   "cell_type": "markdown",
   "metadata": {},
   "source": [
    "В наших обозначениях, вектором нормали является вектор весов $\\Theta$, а точкой - вектор признаков $X_i$, значит расстояние до разделяющей гиперплоскости будет равно:\n",
    "\\begin{equation*}\n",
    "d = \\dfrac{X_i\\Theta}{\\|\\Theta\\|}\n",
    "\\end{equation*}"
   ]
  },
  {
   "cell_type": "markdown",
   "metadata": {},
   "source": [
    "Заметим, что произведение $X_i\\Theta$ пропорцианально расстоянию от $i$-го объекта до разделяющей гиперплоскости, так как для всех объектов в выборке, вектор весов $\\Theta$ одинаковый.\n",
    "\\begin{equation*}\n",
    "d = \\dfrac{X_i\\Theta}{\\|\\Theta\\|} \\sim X_i\\Theta\n",
    "\\end{equation*}"
   ]
  },
  {
   "cell_type": "markdown",
   "metadata": {},
   "source": [
    "Итак, \n",
    "\n",
    "* если $X_i\\Theta$ по модулю большое, классификация уверенная\n",
    "\n",
    "* если $X_i\\Theta$ по модулю маленькое, классификация неуверенная"
   ]
  },
  {
   "cell_type": "markdown",
   "metadata": {},
   "source": [
    "Как можно обозначать степень уверенности, что объект принадлежит к классу?\n",
    "\n",
    "Например вероятностью принадлежности к классам"
   ]
  },
  {
   "cell_type": "markdown",
   "metadata": {},
   "source": [
    "Давайте попробуем предсказть *вероятности принадлежности к каждому классу*"
   ]
  },
  {
   "cell_type": "markdown",
   "metadata": {},
   "source": [
    "У нас всего два класса:\n",
    "* iris setosa \n",
    "* iris virginica\n",
    "\n",
    "Будем пробовать предсказывать вероятность принадлежности классу *iris virginica*:\n",
    "\n",
    "\\begin{equation*}\n",
    "P(y_i=iris\\_virginica|X_i)\n",
    "\\end{equation*}\n",
    "Тогда\n",
    "\\begin{equation*}\n",
    "P(y_i=iris\\_setosa|X_i) = 1 - P(y_i=iris\\_virginica|X_i)\n",
    "\\end{equation*}"
   ]
  },
  {
   "cell_type": "markdown",
   "metadata": {},
   "source": [
    "Так как вероятности распределены от 0 до 1, давайте и истинные метки классов сделаем 0 и 1\n",
    " * iris setosa 0\n",
    " * iris virginica 1"
   ]
  },
  {
   "cell_type": "code",
   "execution_count": 1,
   "metadata": {},
   "outputs": [],
   "source": [
    "from classification_helper import *\n",
    "import numpy as np"
   ]
  },
  {
   "cell_type": "code",
   "execution_count": 2,
   "metadata": {},
   "outputs": [],
   "source": [
    "X, kind_iris = get_data()"
   ]
  },
  {
   "cell_type": "code",
   "execution_count": 3,
   "metadata": {},
   "outputs": [
    {
     "name": "stdout",
     "output_type": "stream",
     "text": [
      "[0 0 0 0 0 0 0 0 0 0 0 0 0 0 0 0 0 0 0 0 0 0 0 0 0 0 0 0 0 0 0 0 0 0 0 0 0\n",
      " 0 0 0 0 0 0 0 0 0 0 0 0 0 1 1 1 1 1 1 1 1 1 1 1 1 1 1 1 1 1 1 1 1 1 1 1 1\n",
      " 1 1 1 1 1 1 1 1 1 1 1 1 1 1 1 1 1 1 1 1 1 1 1 1 1 1]\n"
     ]
    }
   ],
   "source": [
    "y = kind_iris.copy()\n",
    "y[y=='iris setosa'] = 0\n",
    "y[y=='iris virginica'] = 1\n",
    "y = y.astype(int)\n",
    "print(y)"
   ]
  },
  {
   "cell_type": "markdown",
   "metadata": {},
   "source": [
    "Можем попробовать обучить линейную регрессию предсказывать метки 0 и 1:\n",
    "\\begin{equation*}\n",
    "\\Theta_{opt} = \\operatorname*{argmin}_\\Theta \\sum_{i=1}^N(\\theta_0 +  \\theta_1x_{i,1} + \\theta_2x_{i,2} - y_i)^2 = \\operatorname*{argmin}_\\Theta \\sum_{i=1}^N (X_i\\Theta - y_i)^2 \\\\\n",
    "P(y_i=iris\\_virginica|X_i) = X_i\\Theta_{opt}\n",
    "\\end{equation*}\n",
    "\n",
    "$X_i = \\begin{pmatrix} 1&  x_{i,1} & x_{i,2}\\end{pmatrix}$ - Вектор признаков $i$ - го объекта\n",
    "\n",
    "$x_{i,1}$ - Длина чашелистника на $i$-ом объекте\n",
    " \n",
    "$x_{i,2}$ - Ширина чашелистника на $i$-ом объекте\n",
    " \n",
    "$y_i \\in$ {0,1} - Истинная метка класса\n",
    " \n",
    "$\\Theta = \\begin{pmatrix}\\theta_0 &  \\theta_1 & \\theta_2\\end{pmatrix}^T$- параметры модели (веса)\n"
   ]
  },
  {
   "cell_type": "markdown",
   "metadata": {},
   "source": [
    "Тогда финальное решение о метке класса можно отбирать по порогу $p_0$:\n",
    "\\begin{equation*}\n",
    " y_i = \n",
    " \\begin{cases}\n",
    "   iris\\_virginica, &\\text{$X_i\\Theta \\geqslant p_0$}\\\\\n",
    "   iris\\_setosa, &\\text{$X_i\\Theta < p_0$}\\\\\n",
    " \\end{cases}\n",
    "\\end{equation*}\n",
    "\n",
    "$p_0$ можно взять, например $p_0 = 0.5$"
   ]
  },
  {
   "cell_type": "markdown",
   "metadata": {},
   "source": [
    "Но $X_i\\Theta$ не обзятельно будет лежать в интервале [0,1], $X_i\\Theta \\in \\mathbb{R}$, это очень странно для вероятности.\n",
    "\n",
    "Чтобы выход модели принимал значение от 0 до 1, можем взять функцию от выхода модели $X_i\\Theta$:\n",
    "\n",
    "\\begin{equation*}\n",
    "f: \\mathbb{R}\\rightarrow [0,1] \n",
    "\\end{equation*}\n",
    "\n",
    "Для подобных целей в машинном обучении принято брать функцию **сигмоида**:\n",
    "\n"
   ]
  },
  {
   "cell_type": "markdown",
   "metadata": {},
   "source": [
    "\\begin{equation*}\n",
    "\\sigma(t) = \\dfrac{1}{1+e^{-t}}\n",
    "\\end{equation*}\n"
   ]
  },
  {
   "cell_type": "code",
   "execution_count": 4,
   "metadata": {},
   "outputs": [
    {
     "data": {
      "image/png": "[encoded data removed]",
      "text/plain": [
       "<Figure size 800x400 with 1 Axes>"
      ]
     },
     "metadata": {
      "needs_background": "light"
     },
     "output_type": "display_data"
    }
   ],
   "source": [
    "plot_sigmoid()"
   ]
  },
  {
   "cell_type": "markdown",
   "metadata": {},
   "source": [
    "Тогда модель классификации примит следующий вид:\n",
    "\\begin{equation*}\n",
    "P(y=iris\\_virginica|X) = \\sigma(\\theta_0 + \\theta_1 x_1 + \\theta_2 x_2)\\\\\n",
    "P(y=iris\\_virginica|X) = \\sigma(X\\Theta) \\\\\n",
    "y = \n",
    " \\begin{cases}\n",
    "   iris\\_virginica, &\\text{$\\sigma(X_i\\Theta) \\geqslant p_0$}\\\\\n",
    "   iris\\_setosa, &\\text{$\\sigma(X_i\\Theta) < p_0$}\\\\\n",
    " \\end{cases}\n",
    "\\end{equation*}\n"
   ]
  },
  {
   "cell_type": "markdown",
   "metadata": {},
   "source": [
    "\\begin{equation*}\n",
    "\\Theta_{opt} = \\operatorname*{argmin}_\\Theta \\sum_{i=1}^N(\\sigma(\\theta_0 +  \\theta_1x_{i,1} + \\theta_2x_{i,2}) - y_i)^2 = \\\\ =\\operatorname*{argmin}_\\Theta \\sum_{i=1}^N (\\sigma(X_i\\Theta) - y_i)^2 \\\\\n",
    "\\end{equation*}"
   ]
  },
  {
   "cell_type": "markdown",
   "metadata": {},
   "source": [
    "*MSE* хорошо оценивает среднее значение, для вероятностей это не совсем подходит"
   ]
  },
  {
   "cell_type": "markdown",
   "metadata": {},
   "source": [
    "Обозначим за $\\tilde p(X)$ вероятность принадлежности к классу 1.\n",
    "\n",
    "$\\tilde p(X)=P(y=iris\\_virginica|X) = \\sigma(X\\Theta)$"
   ]
  },
  {
   "cell_type": "markdown",
   "metadata": {},
   "source": [
    "Рассмотрим следующую функцию:\n",
    "\\begin{equation*}\n",
    "L = \\prod\\limits_{i = 1}^N\\tilde p(X_i)^{y_i}(1-\\tilde p(X_i))^{(1-y_i)}\n",
    "\\end{equation*}"
   ]
  },
  {
   "cell_type": "markdown",
   "metadata": {},
   "source": [
    "Замети, что чем ближе $\\tilde p(X_i)$ к истиным ответам $y_i$, тем болеше значение $L$.\n",
    "\n",
    "В матеиматичесской статистике $L$ называют функцией правдоподобия."
   ]
  },
  {
   "cell_type": "markdown",
   "metadata": {},
   "source": [
    "Так как функция $L$ представляет собой произведение, искать ее производную затруднительно.\n",
    "\n",
    "Для максимизации правдоподобия обычно берут логарифм от $L$, так как логарифм монотонно возрастает, значит максимум логарифма сопадает с максимумом аргумента\n",
    "\n",
    "\\begin{equation*}\n",
    "\\Theta_{opt} = \\operatorname*{argmax}_\\Theta \\prod\\limits_{i = 1}^N\\tilde p(X_i)^{y_i}(1-\\tilde p(X_i))^{(1-y_i)}\\\\\n",
    "\\Theta_{opt} = \\operatorname*{argmax}_\\Theta \\ln(\\prod\\limits_{i = 1}^N\\tilde p(X_i)^{y_i}(1-\\tilde p(X_i))^{(1-y_i)}) \\\\\n",
    "\\Theta_{opt} = \\operatorname*{argmax}_\\Theta \\ln(\\prod\\limits_{i = 1}^N\\tilde p(X_i)^{y_i}(1-\\tilde p(X_i))^{(1-y_i)}) \\\\\n",
    "\\Theta_{opt} = \\operatorname*{argmax}_\\Theta \\sum\\limits_{i = 1}^N\\ln\\tilde p(X_i)^{y_i} + \\ln((1-\\tilde p(X_i))^{(1-y_i)})\\\\\n",
    "\\Theta_{opt} = \\operatorname*{argmax}_\\Theta \\sum\\limits_{i = 1}^N y_i\\ln(\\tilde p(X_i) + (1-y_i)\\ln(1-\\tilde p(X_i))\n",
    "\\end{equation*}"
   ]
  },
  {
   "cell_type": "markdown",
   "metadata": {},
   "source": [
    "Но так как мы уже привыкли минимизировать функцию ошибки, \n",
    "\n",
    "возьмем $\\tilde L = -\\ln(L)$ и будем минимизировать $\\tilde L$\n",
    "\n",
    "\\begin{equation*}\n",
    "\\tilde L = -\\ln(L)\\\\\n",
    "\\Theta_{opt} = \\operatorname*{argmin}_\\Theta \\tilde L\\\\\n",
    "\\Theta_{opt} = \\operatorname*{argmin}_\\Theta \\sum\\limits_{i = 1}^N -y_i\\ln(\\tilde p(X_i) - (1-y_i)\\ln(1-\\tilde p(X_i))\\\\\n",
    "\\Theta_{opt} = \\operatorname*{argmin}_\\Theta \\sum\\limits_{i = 1}^N -y_i\\ln(\\sigma(X_i\\Theta)) - (1-y_i)\\ln(1 -\\sigma(X_i\\Theta))\n",
    "\\end{equation*}"
   ]
  },
  {
   "cell_type": "markdown",
   "metadata": {},
   "source": [
    "Функцию ошибки $\\tilde L$ еще можно переписать в следующем виде:\n",
    "\\begin{equation*}\n",
    "\\tilde L = \\sum\\limits_{i = 1}^N -y_i\\ln(\\sigma(X_i\\Theta)) - (1-y_i)\\ln(1 -\\sigma(X_i\\Theta))\\\\\n",
    "\\tilde L = \\sum\\limits_{i = 1}^N L_i \\\\\n",
    "\\tilde L_i  = \n",
    " \\begin{cases}\n",
    "   -\\ln(\\sigma(X_i\\Theta)), &y_i=1\\\\\n",
    "  \\ln(1 -\\sigma(X_i\\Theta)), &y_i=0\\\\\n",
    " \\end{cases} \\\\\n",
    "\\end{equation*}\n",
    "\n",
    "Функцию ошибки $\\tilde L$ называют **кросс-энтропия (сross entropy)**."
   ]
  },
  {
   "cell_type": "markdown",
   "metadata": {},
   "source": [
    "Почему такая функция ошибки оптимальнее *MSE*?\n",
    "\n",
    "* Рассмотрим пример, когда истинный класс $y$ = 1\n",
    "\n",
    "Тогда ошибка *MSE*:\n",
    "\n",
    "* $L_{mse} = (1 - sogmoid(X\\Theta))^2$\n",
    "\n",
    "Ошибка на *кросс-энтропии*:\n",
    "\n",
    "* $L_{ce} = -\\ln(\\sigma(X\\Theta))$"
   ]
  },
  {
   "cell_type": "markdown",
   "metadata": {},
   "source": [
    "Возьмем производные от ошибок по вектору весов $\\Theta$:\n",
    "\n",
    "* $\\dfrac{\\partial L_{mse}}{\\partial\\Theta} = -2(1 - \\sigma(X\\Theta))\\dfrac{\\partial \\sigma(X\\Theta)}{\\partial\\Theta} =  - 2(1 - \\sigma(X\\Theta)) * DS$\n",
    "\n",
    "\n",
    "* $\\dfrac{\\partial L_{ce}}{\\partial\\Theta} = \\dfrac{-1}{\\sigma(X\\Theta)}\\dfrac{\\partial \\sigma(X\\Theta)}{\\partial\\Theta}  = \\dfrac{-1}{\\sigma(X\\Theta)} * DS$\n",
    "\n",
    "\n",
    "\n",
    "* $DS = \\dfrac{\\partial \\sigma(X\\Theta)}{\\partial\\Theta}$"
   ]
  },
  {
   "cell_type": "code",
   "execution_count": 5,
   "metadata": {},
   "outputs": [
    {
     "data": {
      "image/png": "[encoded data removed]",
      "text/plain": [
       "<Figure size 800x400 with 1 Axes>"
      ]
     },
     "metadata": {
      "needs_background": "light"
     },
     "output_type": "display_data"
    }
   ],
   "source": [
    "plot_div_mse_ce()"
   ]
  },
  {
   "cell_type": "markdown",
   "metadata": {},
   "source": [
    "Как видим из графика, абсолютное значекние функции ошибки *cross entropy* больше, чем у *MSE*\n",
    "\n",
    "*cross entropy*  сильнее штрафует за неправильный ответ, поэтому лучше обновляет веса при градиантном спуске"
   ]
  },
  {
   "cell_type": "markdown",
   "metadata": {},
   "source": [
    "Если переобозначить метку класса 0 за -1, то кросс-энтропия примит знакомый нам вид:\n",
    "\\begin{equation*}\n",
    "\\tilde L = \\sum_{i=1}^N ln(1 + e^{-y_i \\cdot X_i\\Theta})\n",
    "\\end{equation*}\n",
    "\n",
    "Оптимизируя кросс энтропию, мы оптимизируем логистичесскую функцию потерь."
   ]
  },
  {
   "cell_type": "markdown",
   "metadata": {},
   "source": [
    "Линейная модель, которой мы предсказываем вероятность принадлежности к классам с\n",
    "\n",
    "логистичесской функцие потерь, называется **Логистичесская регрессия (Logistic regression)**.\n",
    "\n",
    "Соберем все вместе и обучим *логистическую регрессию* предсказывать вид цветка Ириса"
   ]
  },
  {
   "cell_type": "markdown",
   "metadata": {},
   "source": [
    "Но сначала, нам нужно научиться брать производную от *сигмоиды*\n",
    "\\begin{equation*}\n",
    "\\sigma(t) = \\dfrac{1}{1+e^{-t}} \\\\ \\\\\n",
    "\\dfrac{d \\sigma(t)}{dt} = \\dfrac{e^{-t}}{(1+e^{-t})^2} = \\dfrac{e^{-t}+1-1}{(1+e^{-t})^2} = \\\\\n",
    "\\dfrac{1}{1+e^{-t}} - \\dfrac{1}{(1+e^{-t})^2} = \\\\\n",
    "\\sigma(t)(1-\\sigma(t))\\\\\n",
    "\\dfrac{d \\sigma(t)}{dt} = \\sigma(t)(1-\\sigma(t))\n",
    "\\end{equation*}"
   ]
  },
  {
   "cell_type": "markdown",
   "metadata": {},
   "source": [
    "Производная функции ошибки:\n",
    "\\begin{equation*}\n",
    "\\tilde L = -\\sum\\limits_{i = 1}^N y_i\\ln(\\sigma(X_i\\Theta)) + (1-y_i)\\ln(1 -\\sigma(X_i\\Theta)) \\\\\n",
    "\\dfrac{\\partial \\tilde L(\\Theta)}{\\partial \\theta_j} = -\\sum\\limits_{i = 1}^Ny_i\\dfrac{\\sigma(X_i\\Theta)(1-\\sigma(X_i\\Theta)}{\\sigma(X_i\\Theta)}x_{i,j} - (1-y_i)\\dfrac{\\sigma(X_i\\Theta)(1-\\sigma(X_i\\Theta))}{1-\\sigma(X_i\\Theta)}x_{i,j} = \\\\\n",
    "= -\\sum\\limits_{i = 1}^Ny_i(1-\\sigma(X_i\\Theta))x_{i,j} - (1-y_i)\\sigma(X_i\\Theta)x_{i,j} \n",
    "\\end{equation*}\n",
    "\n",
    "Интересное замечание:\n",
    "* $y_i=1$, штраф равен вероятности нулевого класса\n",
    "* $y_i=0$, штраф равен вероятности первого класса\n",
    "\n",
    "Суммарная ошибка равна сумме вероятностей противоположных классов"
   ]
  },
  {
   "cell_type": "markdown",
   "metadata": {},
   "source": [
    "Теперь у нас все готово для реализации *Логистичесской регресии*"
   ]
  },
  {
   "cell_type": "markdown",
   "metadata": {},
   "source": [
    "Как всегда добавим единицу первым столбцом в данные"
   ]
  },
  {
   "cell_type": "code",
   "execution_count": 6,
   "metadata": {},
   "outputs": [],
   "source": [
    "def create_data(X):\n",
    "    X_ones = np.ones(X.shape[0])\n",
    "    return np.column_stack([X_ones, X])\n",
    "\n",
    "X_train = create_data(X)"
   ]
  },
  {
   "cell_type": "markdown",
   "metadata": {},
   "source": [
    "Напишем функцию сигмоида \\begin{equation*}\n",
    "\\sigma(x) = \\dfrac{1}{1+e^{-x}}\n",
    "\\end{equation*}\n",
    "\n"
   ]
  },
  {
   "cell_type": "code",
   "execution_count": 7,
   "metadata": {},
   "outputs": [],
   "source": [
    "def sigmoid(x):\n",
    "    return 1/(1+np.e**(-x))"
   ]
  },
  {
   "cell_type": "markdown",
   "metadata": {},
   "source": [
    "Зададим начальные параметры весов случайными значениями от 0 до 1:"
   ]
  },
  {
   "cell_type": "code",
   "execution_count": 8,
   "metadata": {},
   "outputs": [
    {
     "name": "stdout",
     "output_type": "stream",
     "text": [
      "[0.91716873 0.34665888 0.12436802]\n"
     ]
    }
   ],
   "source": [
    "Theta = np.random.random_sample(size=(X_train.shape[1],))\n",
    "print(Theta)"
   ]
  },
  {
   "cell_type": "markdown",
   "metadata": {},
   "source": [
    "Подсчет градианта:\n",
    "$\\dfrac{\\partial \\tilde L(\\Theta)}{\\partial \\theta_j}\n",
    "= -\\sum\\limits_{i = 1}^Ny_i(1-\\sigma(X_i\\Theta))x_{i,j} - (1-y_i)\\sigma(X_i\\Theta)x_{i,j}$"
   ]
  },
  {
   "cell_type": "code",
   "execution_count": 9,
   "metadata": {},
   "outputs": [],
   "source": [
    "def gradient_function(Theta, X, y):\n",
    "    grad = np.zeros_like(Theta)\n",
    "    for j in range(Theta.shape[0]):       \n",
    "        grad[j] = -sum(y*(1-sigmoid(X@Theta))*X[:,j] - (1-y)*sigmoid(X@Theta)*X[:,j])\n",
    "    return grad"
   ]
  },
  {
   "cell_type": "markdown",
   "metadata": {},
   "source": [
    "Градиентный спуск: \n",
    "\n",
    "$\\theta_{j_{new}} = \\theta_j - \\alpha \\dfrac{\\partial \\tilde L(\\Theta)}{\\partial \\theta_j}$  \n",
    "$\\theta_{j_{new}} = \\theta_j - \\alpha (-\\sum\\limits_{i = 1}^Ny_i(1-\\sigma(X_i\\Theta))x_{i,j} - (1-y_i)\\sigma(X_i\\Theta)x_{i,j})$"
   ]
  },
  {
   "cell_type": "code",
   "execution_count": 10,
   "metadata": {},
   "outputs": [],
   "source": [
    "def gradient_descent(Theta, X, y, alpha, iters):        \n",
    "    theta = Theta\n",
    "    for i in range (iters):\n",
    "        theta = theta - alpha * gradient_function(theta, X, y)\n",
    "    return theta"
   ]
  },
  {
   "cell_type": "code",
   "execution_count": 11,
   "metadata": {},
   "outputs": [
    {
     "data": {
      "text/plain": [
       "array([ -3.41153302,   6.47081803, -10.530282  ])"
      ]
     },
     "execution_count": 11,
     "metadata": {},
     "output_type": "execute_result"
    }
   ],
   "source": [
    "theta_opt = gradient_descent(Theta, X_train, y, 0.01, 1000)\n",
    "theta_opt"
   ]
  },
  {
   "cell_type": "code",
   "execution_count": 12,
   "metadata": {
    "scrolled": true
   },
   "outputs": [
    {
     "data": {
      "text/plain": [
       "array([6.98171011e-04, 3.57303442e-02, 1.23482469e-03, 1.85198362e-03,\n",
       "       1.27603127e-04, 7.21121815e-05, 7.87834452e-05, 1.04739451e-03,\n",
       "       4.16132603e-03, 1.27625073e-02, 5.92149521e-04, 2.87337620e-04,\n",
       "       1.90313575e-02, 7.62716237e-04, 3.34708279e-04, 2.59710383e-06,\n",
       "       7.21121815e-05, 6.98171011e-04, 1.43817395e-03, 2.96673829e-05,\n",
       "       1.37608066e-02, 8.50314386e-05, 9.58995010e-06, 5.70726540e-03,\n",
       "       2.87337620e-04, 6.60945522e-02, 1.04739451e-03, 1.33263141e-03,\n",
       "       3.81026853e-03, 1.23482469e-03, 6.72296271e-03, 1.37608066e-02,\n",
       "       2.40625762e-06, 5.84909210e-06, 1.27625073e-02, 8.54061239e-03,\n",
       "       9.21175125e-03, 6.68134140e-05, 1.45574643e-03, 1.99857581e-03,\n",
       "       3.65664028e-04, 8.15702666e-01, 1.77415961e-04, 3.65664028e-04,\n",
       "       2.96673829e-05, 1.90313575e-02, 2.96673829e-05, 6.46899510e-04,\n",
       "       3.10120064e-04, 2.99630841e-03, 9.31162808e-01, 9.96623220e-01,\n",
       "       9.99982273e-01, 9.98905981e-01, 9.99140189e-01, 9.99999303e-01,\n",
       "       8.77586441e-01, 9.99998305e-01, 9.99998781e-01, 9.94879358e-01,\n",
       "       9.92979543e-01, 9.99930209e-01, 9.99876505e-01, 9.99212945e-01,\n",
       "       9.90381691e-01, 9.86676331e-01, 9.99140189e-01, 9.98339035e-01,\n",
       "       9.99999995e-01, 9.99995199e-01, 9.99468996e-01, 9.65784380e-01,\n",
       "       9.99999956e-01, 9.99866711e-01, 9.94475470e-01, 9.99923753e-01,\n",
       "       9.99270739e-01, 9.88677888e-01, 9.99799984e-01, 9.99990719e-01,\n",
       "       9.99999690e-01, 9.99544135e-01, 9.99799984e-01, 9.99618047e-01,\n",
       "       9.99830370e-01, 9.99999635e-01, 8.25153612e-01, 9.95310964e-01,\n",
       "       9.78595750e-01, 9.99814679e-01, 9.99324292e-01, 9.99814679e-01,\n",
       "       9.96623220e-01, 9.98986293e-01, 9.94475470e-01, 9.99764155e-01,\n",
       "       9.99983775e-01, 9.99140189e-01, 7.11889776e-01, 9.59899791e-01])"
      ]
     },
     "execution_count": 12,
     "metadata": {},
     "output_type": "execute_result"
    }
   ],
   "source": [
    "def predict_function(X_train, theta):\n",
    "    y_pred = np.dot(X_train, theta) #X @ Theta\n",
    "    return sigmoid(y_pred)\n",
    "\n",
    "y_pred = predict_function(X_train, theta_opt)\n",
    "y_pred"
   ]
  },
  {
   "cell_type": "markdown",
   "metadata": {},
   "source": [
    "Давайте опять посмотрим на долю неверных ответов, но теперь нам нужен порог $p_0$, преодалев который мы будем считать, что классификатор присвоил объект к классу $1$."
   ]
  },
  {
   "cell_type": "code",
   "execution_count": 13,
   "metadata": {},
   "outputs": [],
   "source": [
    "def error(y, y_pred, p=0.5):\n",
    "    return np.mean((y_pred > p).astype(int) != y)"
   ]
  },
  {
   "cell_type": "code",
   "execution_count": 14,
   "metadata": {},
   "outputs": [
    {
     "name": "stdout",
     "output_type": "stream",
     "text": [
      "Порог = 0.0, доля неверных ответов = 0.5\n",
      "Порог = 0.1, доля неверных ответов = 0.01\n",
      "Порог = 0.2, доля неверных ответов = 0.01\n",
      "Порог = 0.3, доля неверных ответов = 0.01\n",
      "Порог = 0.4, доля неверных ответов = 0.01\n",
      "Порог = 0.5, доля неверных ответов = 0.01\n",
      "Порог = 0.6, доля неверных ответов = 0.01\n",
      "Порог = 0.7, доля неверных ответов = 0.01\n",
      "Порог = 0.8, доля неверных ответов = 0.02\n",
      "Порог = 0.9, доля неверных ответов = 0.03\n",
      "Порог = 1.0, доля неверных ответов = 0.5\n"
     ]
    }
   ],
   "source": [
    "P = np.linspace(0,1,11)\n",
    "for p in P:\n",
    "    p = round(p,1)\n",
    "    err = error(y, y_pred, p=p)\n",
    "    print(\"Порог = {}, доля неверных ответов = {}\".format(p, err))"
   ]
  },
  {
   "cell_type": "code",
   "execution_count": 15,
   "metadata": {},
   "outputs": [
    {
     "data": {
      "image/png": "[encoded data removed]",
      "text/plain": [
       "<Figure size 800x600 with 1 Axes>"
      ]
     },
     "metadata": {
      "needs_background": "light"
     },
     "output_type": "display_data"
    }
   ],
   "source": [
    "plot_finaly_trained_model(X, kind_iris, theta_opt)"
   ]
  },
  {
   "cell_type": "markdown",
   "metadata": {},
   "source": [
    "Чтобы всякий раз не писать градиентный спуск в ручную, логистичесская регрессия есть в библиотеке scikit-learn"
   ]
  },
  {
   "cell_type": "code",
   "execution_count": 16,
   "metadata": {},
   "outputs": [],
   "source": [
    "from sklearn.linear_model import LogisticRegression"
   ]
  },
  {
   "cell_type": "code",
   "execution_count": 17,
   "metadata": {},
   "outputs": [
    {
     "data": {
      "text/plain": [
       "array([0, 0, 0, 0, 0, 0, 0, 0, 0, 0, 0, 0, 0, 0, 0, 0, 0, 0, 0, 0, 0, 0,\n",
       "       0, 0, 0, 0, 0, 0, 0, 0, 0, 0, 0, 0, 0, 0, 0, 0, 0, 0, 0, 0, 0, 0,\n",
       "       0, 0, 0, 0, 0, 0, 1, 1, 1, 1, 1, 1, 0, 1, 1, 1, 1, 1, 1, 1, 1, 1,\n",
       "       1, 1, 1, 1, 1, 1, 1, 1, 1, 1, 1, 1, 1, 1, 1, 1, 1, 1, 1, 1, 1, 1,\n",
       "       1, 1, 1, 1, 1, 1, 1, 1, 1, 1, 1, 1])"
      ]
     },
     "execution_count": 17,
     "metadata": {},
     "output_type": "execute_result"
    }
   ],
   "source": [
    "clf = LogisticRegression()\n",
    "clf.fit(X,y)\n",
    "y_pred_sklearn = clf.predict(X)\n",
    "y_pred_sklearn"
   ]
  },
  {
   "cell_type": "markdown",
   "metadata": {},
   "source": [
    "Метод predict возвращает метки классов по порогу 0.5, чтобы получить вероятности классов, нужно вызвать метод predict_proba"
   ]
  },
  {
   "cell_type": "code",
   "execution_count": 18,
   "metadata": {
    "scrolled": true
   },
   "outputs": [
    {
     "data": {
      "text/plain": [
       "array([[9.23308026e-01, 7.66919740e-02],\n",
       "       [8.81361315e-01, 1.18638685e-01],\n",
       "       [9.56051150e-01, 4.39488503e-02],\n",
       "       [9.59769824e-01, 4.02301759e-02],\n",
       "       [9.53707003e-01, 4.62929975e-02],\n",
       "       [9.19364723e-01, 8.06352767e-02],\n",
       "       [9.78947100e-01, 2.10529000e-02],\n",
       "       [9.29593187e-01, 7.04068131e-02],\n",
       "       [9.66322201e-01, 3.36777987e-02],\n",
       "       [9.02721793e-01, 9.72782066e-02],\n",
       "       [8.79620140e-01, 1.20379860e-01],\n",
       "       [9.61206932e-01, 3.87930677e-02],\n",
       "       [9.10530582e-01, 8.94694184e-02],\n",
       "       [9.80039909e-01, 1.99600914e-02],\n",
       "       [8.01742184e-01, 1.98257816e-01],\n",
       "       [9.30976172e-01, 6.90238276e-02],\n",
       "       [9.19364723e-01, 8.06352767e-02],\n",
       "       [9.23308026e-01, 7.66919740e-02],\n",
       "       [7.80238298e-01, 2.19761702e-01],\n",
       "       [9.59126028e-01, 4.08739723e-02],\n",
       "       [7.89426963e-01, 2.10573037e-01],\n",
       "       [9.49457424e-01, 5.05425764e-02],\n",
       "       [9.86404774e-01, 1.35952264e-02],\n",
       "       [8.85264508e-01, 1.14735492e-01],\n",
       "       [9.61206932e-01, 3.87930677e-02],\n",
       "       [8.44308239e-01, 1.55691761e-01],\n",
       "       [9.29593187e-01, 7.04068131e-02],\n",
       "       [8.97837121e-01, 1.02162879e-01],\n",
       "       [8.75551924e-01, 1.24448076e-01],\n",
       "       [9.56051150e-01, 4.39488503e-02],\n",
       "       [9.27073786e-01, 7.29262138e-02],\n",
       "       [7.89426963e-01, 2.10573037e-01],\n",
       "       [9.70918678e-01, 2.90813224e-02],\n",
       "       [9.41934512e-01, 5.80654881e-02],\n",
       "       [9.02721793e-01, 9.72782066e-02],\n",
       "       [8.94310573e-01, 1.05689427e-01],\n",
       "       [7.73675649e-01, 2.26324351e-01],\n",
       "       [9.65779523e-01, 3.42204772e-02],\n",
       "       [9.72856867e-01, 2.71431331e-02],\n",
       "       [9.05997184e-01, 9.40028163e-02],\n",
       "       [9.42832948e-01, 5.71670516e-02],\n",
       "       [8.46471019e-01, 1.53528981e-01],\n",
       "       [9.82433201e-01, 1.75667991e-02],\n",
       "       [9.42832948e-01, 5.71670516e-02],\n",
       "       [9.59126028e-01, 4.08739723e-02],\n",
       "       [9.10530582e-01, 8.94694184e-02],\n",
       "       [9.59126028e-01, 4.08739723e-02],\n",
       "       [9.67533162e-01, 3.24668375e-02],\n",
       "       [9.09173387e-01, 9.08266134e-02],\n",
       "       [9.13568221e-01, 8.64317787e-02],\n",
       "       [1.50116232e-01, 8.49883768e-01],\n",
       "       [1.83219096e-01, 8.16780904e-01],\n",
       "       [7.25331151e-03, 9.92746688e-01],\n",
       "       [6.76407705e-02, 9.32359230e-01],\n",
       "       [4.60649156e-02, 9.53935084e-01],\n",
       "       [1.51209605e-03, 9.98487904e-01],\n",
       "       [7.09532193e-01, 2.90467807e-01],\n",
       "       [3.10707088e-03, 9.96892929e-01],\n",
       "       [8.38985269e-03, 9.91610147e-01],\n",
       "       [1.98590481e-02, 9.80140952e-01],\n",
       "       [7.00686532e-02, 9.29931347e-01],\n",
       "       [3.28258708e-02, 9.67174129e-01],\n",
       "       [1.84371081e-02, 9.81562892e-01],\n",
       "       [1.64536888e-01, 8.35463112e-01],\n",
       "       [2.18875099e-01, 7.81124901e-01],\n",
       "       [9.35627327e-02, 9.06437267e-01],\n",
       "       [4.60649156e-02, 9.53935084e-01],\n",
       "       [6.51018637e-03, 9.93489814e-01],\n",
       "       [4.53841613e-04, 9.99546158e-01],\n",
       "       [3.78168058e-02, 9.62183194e-01],\n",
       "       [2.09464429e-02, 9.79053557e-01],\n",
       "       [3.44626815e-01, 6.55373185e-01],\n",
       "       [7.07970736e-04, 9.99292029e-01],\n",
       "       [4.44290264e-02, 9.55570974e-01],\n",
       "       [4.77580283e-02, 9.52241972e-01],\n",
       "       [8.25330333e-03, 9.91746697e-01],\n",
       "       [7.36985850e-02, 9.26301415e-01],\n",
       "       [1.45348218e-01, 8.54651782e-01],\n",
       "       [4.06714509e-02, 9.59328549e-01],\n",
       "       [5.30512353e-03, 9.94694876e-01],\n",
       "       [1.81806488e-03, 9.98181935e-01],\n",
       "       [3.47961876e-03, 9.96520381e-01],\n",
       "       [4.06714509e-02, 9.59328549e-01],\n",
       "       [5.48904404e-02, 9.45109560e-01],\n",
       "       [6.52911075e-02, 9.34708893e-01],\n",
       "       [1.10424254e-03, 9.98895757e-01],\n",
       "       [1.80755788e-01, 8.19244212e-01],\n",
       "       [7.63261054e-02, 9.23673895e-01],\n",
       "       [1.88954765e-01, 8.11045235e-01],\n",
       "       [1.68390559e-02, 9.83160944e-01],\n",
       "       [3.11413938e-02, 9.68858606e-01],\n",
       "       [1.68390559e-02, 9.83160944e-01],\n",
       "       [1.83219096e-01, 8.16780904e-01],\n",
       "       [2.84741300e-02, 9.71525870e-01],\n",
       "       [4.77580283e-02, 9.52241972e-01],\n",
       "       [2.50861026e-02, 9.74913897e-01],\n",
       "       [2.89354683e-02, 9.71064532e-01],\n",
       "       [4.60649156e-02, 9.53935084e-01],\n",
       "       [2.32100255e-01, 7.67899745e-01],\n",
       "       [2.41940396e-01, 7.58059604e-01]])"
      ]
     },
     "execution_count": 18,
     "metadata": {},
     "output_type": "execute_result"
    }
   ],
   "source": [
    "y_pred_prob_sklearn = clf.predict_proba(X)\n",
    "y_pred_prob_sklearn"
   ]
  },
  {
   "cell_type": "markdown",
   "metadata": {},
   "source": [
    "Так как классификация бинарная, первым столбцом predict_proba вернул вероятность нулевого класса, а вторым вероятность первого"
   ]
  },
  {
   "cell_type": "markdown",
   "metadata": {},
   "source": [
    "Параметры модели $\\Theta$ хранятся в поле intercept_ ($\\theta_0$) и coef_ ($\\theta_1, \\theta_2$)"
   ]
  },
  {
   "cell_type": "code",
   "execution_count": 19,
   "metadata": {},
   "outputs": [
    {
     "name": "stdout",
     "output_type": "stream",
     "text": [
      "[-10.75428623] [[ 3.14745566 -2.22454385]]\n"
     ]
    }
   ],
   "source": [
    "print(clf.intercept_, clf.coef_)"
   ]
  },
  {
   "cell_type": "markdown",
   "metadata": {},
   "source": [
    "### Вывод\n",
    "1. Помимо предсказания метки класса, мы научились оценивать уверенность такого предсказания, как вероятность принадлежности первому классу:\n",
    "\\begin{equation*}\n",
    "P(y=1|X) = \\sigma(X\\Theta), \\\\\n",
    "P(y=0|X) = 1 - \\sigma(X\\Theta).\n",
    "\\end{equation*}\n",
    "2. Решение о том, относим мы объект к классу $1$ принимается по заданному порогу $p_0$, если ответ классифкатора $\\tilde p(X)=\\sigma(X\\Theta) > p_0$, ставим метку класса $1$, иначе $0$\n",
    "3. Для обучения классификатора мы выбрали функцию ошибки *cross entropy*, т.к она сильнее штрафует за неправильный ответ, чем *MSE* в задаче классификации."
   ]
  }
 ],
 "metadata": {
  "kernelspec": {
   "display_name": "Python 3",
   "language": "python",
   "name": "python3"
  },
  "language_info": {
   "codemirror_mode": {
    "name": "ipython",
    "version": 3
   },
   "file_extension": ".py",
   "mimetype": "text/x-python",
   "name": "python",
   "nbconvert_exporter": "python",
   "pygments_lexer": "ipython3",
   "version": "3.6.8"
  }
 },
 "nbformat": 4,
 "nbformat_minor": 2
}
