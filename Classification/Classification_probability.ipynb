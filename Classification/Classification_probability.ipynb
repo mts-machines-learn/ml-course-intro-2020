{
 "cells": [
  {
   "cell_type": "markdown",
   "metadata": {},
   "source": [
    "## Оценка вероятностей в задаче классификации"
   ]
  },
  {
   "cell_type": "code",
   "execution_count": 1,
   "metadata": {},
   "outputs": [],
   "source": [
    "from classification_helper import *\n",
    "import numpy as np"
   ]
  },
  {
   "cell_type": "markdown",
   "metadata": {},
   "source": [
    "В предыдущем уроке мы научились предсказывать метку класса, как знак от произведения вектора признаков на вектор весов:\n",
    "\\begin{equation*}\n",
    "\\tilde{y} = sign(\\sum_{i=1}^N \\theta_ix_i) = sign(X\\Theta)\n",
    "\\end{equation*}"
   ]
  },
  {
   "cell_type": "markdown",
   "metadata": {},
   "source": [
    "Мы узнали, что линейный классификатор строит разделяющую гиперплоскость в пространстве признаков:\n",
    "\\begin{equation*}\n",
    "X\\Theta = 0\n",
    "\\end{equation*}\n",
    "\n",
    "НО! Мы учитывали только $sign(X\\Theta)$\n",
    "\n",
    "* Если $X\\Theta > 0$, мы относили к классу 1,\n",
    "\n",
    "\n",
    "* Если $X\\Theta < 0$, относили к классу -1\n",
    "\n",
    "Никак не учитывали то, насколько далеко объект попал от разделяющей гиперплоскости. А это достаточно важный параметр.\n",
    "\n",
    "Кажется, что должна быть следующая логика:\n",
    "\n",
    "* Если объект $X$ близко к разделяющей гиперплоскости, значит классификация не уверенная.\n",
    "\n",
    "* Если $X$ далеко, то классификаия уверенная.\n",
    "\n",
    "Как определить расстояние от точки до разделяющей гиперплоскости?"
   ]
  },
  {
   "cell_type": "markdown",
   "metadata": {},
   "source": [
    "**Расстояние от точки до гиперплоскости**:\n",
    "\n",
    "Пусть дана точка $M^* = (m_1^*, m_2^*)$.\n",
    "\n",
    "Расстояние $d$ от прямой $\\theta_0 + \\theta_1x_1 + \\theta_2x_2 = 0$ до точки $M^*$ считается по формуле:\n",
    "\n",
    "\\begin{equation*}\n",
    "d=\\dfrac{|\\theta_0 + \\theta_1m_1^* + \\theta_2m_2^*|}{\\sqrt{\\theta_1^2 + \\theta_2^2}} \\\\\n",
    "d = \\dfrac{M^*\\Theta}{\\|\\Theta\\|}\n",
    "\\end{equation*}"
   ]
  },
  {
   "cell_type": "markdown",
   "metadata": {},
   "source": [
    "<details>\n",
    "<summary>Вывод формулы расстояния от точки до гиперплоскости</summary>\n",
    "<p>\n",
    "\n",
    "Длина ортогональной проекции вектора $\\overline{a}$ на вектор $\\overline{b}$ считается по формуле:\n",
    "\n",
    "\\begin{equation*}\n",
    "np_{\\overline{b}}\\overline{a} = \\| \\overline{a}\\|cos(\\widehat{ \\overline{a},\\overline{b}}) = \\dfrac{(\\overline{a}, \\overline{b})}{\\|\\overline{b}\\|}\n",
    "\\end{equation*}\n",
    "\n",
    "\n",
    "Пусть требуется посчитать расстояние от точки $M^*$ до гиперплоскости.\n",
    "\n",
    "Возьмем любую точку $M_0$ принадлежащую данной гиперплоскости.\n",
    "\n",
    "Тогда расстояние от точки $M^*$ до гиперплоскости будет равно длине ортогональной проекции вектора $\\overline{M_0M*}$ на вектор нормали $\\overline{n}$.\n",
    "\n",
    "\n",
    "\\begin{equation*}\n",
    "d = \\dfrac{(M^* - M_0,\\overline{n})}{\\|\\overline{n}\\|} = \\dfrac{(M^*,\\overline{n})}{\\|\\overline{n}\\|} - \\dfrac{(M_0,\\overline{n})}{\\|\\overline{n}\\|} \\\\\n",
    "d = \\dfrac{(M^*,\\overline{n}) + A_0}{\\|\\overline{n}\\|} \\\\\n",
    "\\end{equation*}\n",
    "\n",
    "![](gipyerploskostiM.jpg?raw=true)\n",
    "\n",
    "</p>\n",
    "</details> "
   ]
  },
  {
   "cell_type": "markdown",
   "metadata": {},
   "source": [
    "В наших обозначениях точкой является вектор признаков $X_i$, значит расстояние от вектора $X_i$ до разделяющей гиперплоскости будет равно:\n",
    "\\begin{equation*}\n",
    "d = \\dfrac{X_i\\Theta}{\\|\\Theta\\|}\n",
    "\\end{equation*}"
   ]
  },
  {
   "cell_type": "markdown",
   "metadata": {},
   "source": [
    "Заметим, что произведение $X_i\\Theta$ пропорцианально расстоянию от $i$-го объекта до разделяющей гиперплоскости, так как для всех объектов в выборке, вектор весов $\\Theta$ одинаковый.\n",
    "\\begin{equation*}\n",
    "d = \\dfrac{X_i\\Theta}{\\|\\Theta\\|} \\sim X_i\\Theta\n",
    "\\end{equation*}\n",
    "\n",
    "Действительно, чем больше по модулю $X_i\\Theta$, тем дальше объект $X_i$ от разделяющей гиперплоскости:"
   ]
  },
  {
   "cell_type": "code",
   "execution_count": 2,
   "metadata": {},
   "outputs": [
    {
     "data": {
      "application/vnd.jupyter.widget-view+json": {
       "model_id": "cc1aad8a43c24463b534e351927d4213",
       "version_major": 2,
       "version_minor": 0
      },
      "text/plain": [
       "interactive(children=(FloatSlider(value=0.0, description='$dx_1$, $dx_2$:', max=8.0, min=-2.0, step=0.415), Ou…"
      ]
     },
     "metadata": {},
     "output_type": "display_data"
    }
   ],
   "source": [
    "visualize_classification()"
   ]
  },
  {
   "cell_type": "markdown",
   "metadata": {},
   "source": [
    "Значит для простоты мы можем использовать величину $X_i\\Theta$, как меру расстояния от $X_i$ до разделяющей гиперплоскости."
   ]
  },
  {
   "cell_type": "markdown",
   "metadata": {},
   "source": [
    "Итак, \n",
    "\n",
    "* если $X_i\\Theta$ по модулю большое, классификация уверенная\n",
    "\n",
    "* если $X_i\\Theta$ по модулю маленькое, классификация неуверенная"
   ]
  },
  {
   "cell_type": "markdown",
   "metadata": {},
   "source": [
    "Как можно обозначать степень уверенности классификации?\n",
    "\n",
    "Например вероятностью принадлежности к классам."
   ]
  },
  {
   "cell_type": "markdown",
   "metadata": {},
   "source": [
    "Давайте попробуем предсказть *вероятности принадлежности к каждому классу*"
   ]
  },
  {
   "cell_type": "markdown",
   "metadata": {},
   "source": [
    "У нас всего два класса:\n",
    "* iris setosa \n",
    "* iris virginica\n",
    "\n",
    "Будем пробовать предсказывать вероятность принадлежности классу *iris virginica*:\n",
    "\n",
    "\\begin{equation*}\n",
    "P(y_i=iris\\_virginica|X_i)\n",
    "\\end{equation*}\n",
    "Тогда\n",
    "\\begin{equation*}\n",
    "P(y_i=iris\\_setosa|X_i) = 1 - P(y_i=iris\\_virginica|X_i)\n",
    "\\end{equation*}"
   ]
  },
  {
   "cell_type": "markdown",
   "metadata": {},
   "source": [
    "Так как вероятности распределены от 0 до 1, давайте и истинные метки классов сделаем 0 и 1\n",
    " * iris setosa 0\n",
    " * iris virginica 1"
   ]
  },
  {
   "cell_type": "code",
   "execution_count": 3,
   "metadata": {},
   "outputs": [],
   "source": [
    "X, kind_iris = get_data()"
   ]
  },
  {
   "cell_type": "code",
   "execution_count": 4,
   "metadata": {},
   "outputs": [
    {
     "name": "stdout",
     "output_type": "stream",
     "text": [
      "[0 0 0 0 0 0 0 0 0 0 0 0 0 0 0 0 0 0 0 0 0 0 0 0 0 0 0 0 0 0 0 0 0 0 0 0 0\n",
      " 0 0 0 0 0 0 0 0 0 0 0 0 0 1 1 1 1 1 1 1 1 1 1 1 1 1 1 1 1 1 1 1 1 1 1 1 1\n",
      " 1 1 1 1 1 1 1 1 1 1 1 1 1 1 1 1 1 1 1 1 1 1 1 1 1 1]\n"
     ]
    }
   ],
   "source": [
    "y = kind_iris.copy()\n",
    "y[y=='iris setosa'] = 0\n",
    "y[y=='iris virginica'] = 1\n",
    "y = y.astype(int)\n",
    "print(y)"
   ]
  },
  {
   "cell_type": "markdown",
   "metadata": {},
   "source": [
    "Тогда можем попробовать обучить линейную регрессию предсказывать вероятности:\n",
    "\\begin{equation*}\n",
    "\\Theta_{opt} = \\operatorname*{argmin}_\\Theta \\sum_{i=1}^N(\\theta_0 +  \\theta_1x_{i,1} + \\theta_2x_{i,2} - y_i)^2 = \\operatorname*{argmin}_\\Theta \\sum_{i=1}^N (X_i\\Theta - y_i)^2 \\\\\n",
    "P(y_i=iris\\_virginica|X_i) = X_i\\Theta_{opt}\n",
    "\\end{equation*}\n",
    "\n",
    "$X_i = \\begin{pmatrix} 1&  x_{i,1} & x_{i,2}\\end{pmatrix}$ - Вектор признаков $i$ - го объекта\n",
    "\n",
    "$x_{i,1}$ - Длина чашелистика на $i$-ом объекте\n",
    " \n",
    "$x_{i,2}$ - Ширина чашелистика на $i$-ом объекте\n",
    " \n",
    "$y_i \\in$ {0,1} - Истинная метка класса\n",
    " \n",
    "$\\Theta = \\begin{pmatrix}\\theta_0 &  \\theta_1 & \\theta_2\\end{pmatrix}^T$- параметры модели (веса)\n"
   ]
  },
  {
   "cell_type": "markdown",
   "metadata": {},
   "source": [
    "Тогда финальное решение о метке класса можно отбирать по порогу $p_0$:\n",
    "\\begin{equation*}\n",
    " y_i = \n",
    " \\begin{cases}\n",
    "   iris\\_virginica, &\\text{$X_i\\Theta \\geqslant p_0$}\\\\\n",
    "   iris\\_setosa, &\\text{$X_i\\Theta < p_0$}\\\\\n",
    " \\end{cases}\n",
    "\\end{equation*}\n",
    "\n",
    "$p_0$ можно взять, например $p_0 = 0.5$"
   ]
  },
  {
   "cell_type": "markdown",
   "metadata": {},
   "source": [
    "Но $X_i\\Theta$ не обзятельно будет лежать в интервале $[0,1]$, $X_i\\Theta \\in \\mathbb{R}$, это очень странно для вероятности.\n",
    "\n",
    "Чтобы выход модели принимал непрерывное значение только в интервале $[0,1]$, можем взять функцию $f$ от выхода модели $X_i\\Theta$:\n",
    "\n",
    "\\begin{equation*}\n",
    "f: \\mathbb{R}\\rightarrow [0,1]\\\\\n",
    "\\tilde{y_i} = f(X_i\\Theta)\n",
    "\\end{equation*}\n",
    "\n",
    "Для подобных целей в машинном обучении принято брать функцию **сигмоида**:\n",
    "\n"
   ]
  },
  {
   "cell_type": "markdown",
   "metadata": {},
   "source": [
    "\\begin{equation*}\n",
    "f(t) = \\sigma(t) = \\dfrac{1}{1+e^{-t}}\n",
    "\\end{equation*}\n"
   ]
  },
  {
   "cell_type": "code",
   "execution_count": 5,
   "metadata": {},
   "outputs": [
    {
     "data": {
      "image/png": "[encoded data removed]",
      "text/plain": [
       "<Figure size 800x400 with 1 Axes>"
      ]
     },
     "metadata": {
      "needs_background": "light"
     },
     "output_type": "display_data"
    }
   ],
   "source": [
    "plot_sigmoid()"
   ]
  },
  {
   "cell_type": "markdown",
   "metadata": {},
   "source": [
    "Тогда модель классификации примит следующий вид:\n",
    "\\begin{equation*}\n",
    "P(y=iris\\_virginica|X) = \\sigma(\\theta_0 + \\theta_1 x_1 + \\theta_2 x_2)\\\\\n",
    "P(y=iris\\_virginica|X) = \\sigma(X\\Theta)= \\dfrac{1}{1+e^{-X\\Theta}} \\\\\n",
    "y = \n",
    " \\begin{cases}\n",
    "   iris\\_virginica, &\\text{$\\sigma(X_i\\Theta) \\geqslant p_0$}\\\\\n",
    "   iris\\_setosa, &\\text{$\\sigma(X_i\\Theta) < p_0$}\\\\\n",
    " \\end{cases}\n",
    "\\end{equation*}\n"
   ]
  },
  {
   "cell_type": "markdown",
   "metadata": {},
   "source": [
    "Обучим ее как линейную регрессию с функцией ошибки *MSE*:\n",
    "\\begin{equation*}\n",
    "\\Theta_{opt} = \\operatorname*{argmin}_\\Theta \\sum_{i=1}^N(\\sigma(\\theta_0 +  \\theta_1x_{i,1} + \\theta_2x_{i,2}) - y_i)^2 = \\\\ =\\operatorname*{argmin}_\\Theta \\sum_{i=1}^N (\\sigma(X_i\\Theta) - y_i)^2 \\\\\n",
    "\\end{equation*}\n",
    "\n",
    "Вот теперь кажется, что все хорошо, но не совсем."
   ]
  },
  {
   "cell_type": "markdown",
   "metadata": {},
   "source": [
    "*MSE* хорошо оценивает среднее значение, для вероятностей это не совсем подходит."
   ]
  },
  {
   "cell_type": "markdown",
   "metadata": {},
   "source": [
    "Обозначим за $\\tilde p(X)$ вероятность принадлежности к классу 1.\n",
    "\n",
    "$\\tilde p(X)=P(y=iris\\_virginica|X) = \\sigma(X\\Theta) = \\dfrac{1}{1+e^{-X\\Theta}}$"
   ]
  },
  {
   "cell_type": "markdown",
   "metadata": {},
   "source": [
    "Рассмотрим следующую функцию:\n",
    "\\begin{equation*}\n",
    "L = \\sum\\limits_{i = 1}^N y_i\\ln(\\tilde p(X_i) + (1-y_i)\\ln(1-\\tilde p(X_i))\n",
    "\\end{equation*}"
   ]
  },
  {
   "cell_type": "markdown",
   "metadata": {},
   "source": [
    "Замети, что чем ближе $\\tilde p(X_i)$ к истиным ответам $y_i$, тем болеше значение $L$."
   ]
  },
  {
   "cell_type": "markdown",
   "metadata": {},
   "source": [
    "Обычно для обучения мы хотим минимизировать функцию ошибки, поэтому поставим знак минус перед $L$.\n",
    "\n",
    "Пусть $\\tilde L = -L$, тогда минимизируя $\\tilde L$, будем максимизировать $L$.\n",
    "\n",
    "\\begin{equation*}\n",
    "\\tilde L = -L\\\\\n",
    "\\Theta_{opt} = \\operatorname*{argmin}_\\Theta \\tilde L\\\\\n",
    "\\Theta_{opt} = \\operatorname*{argmin}_\\Theta (-\\sum\\limits_{i = 1}^N y_i\\ln(\\tilde p(X_i) + (1-y_i)\\ln(1-\\tilde p(X_i)))\\\\\n",
    "\\Theta_{opt} = \\operatorname*{argmin}_\\Theta( -\\sum\\limits_{i = 1}^N y_i\\ln(\\sigma(X_i\\Theta)) + (1-y_i)\\ln(1 -\\sigma(X_i\\Theta)))\n",
    "\\end{equation*}"
   ]
  },
  {
   "cell_type": "markdown",
   "metadata": {},
   "source": [
    "Функцию ошибки $\\tilde L$ еще можно переписать в следующем виде:\n",
    "\\begin{equation*}\n",
    "\\tilde L = \\sum\\limits_{i = 1}^N -y_i\\ln(\\sigma(X_i\\Theta)) - (1-y_i)\\ln(1 -\\sigma(X_i\\Theta))\\\\\n",
    "\\tilde L = \\sum\\limits_{i = 1}^N L_i \\\\\n",
    "\\tilde L_i  = \n",
    " \\begin{cases}\n",
    "   -\\ln(\\sigma(X_i\\Theta)), &y_i=1\\\\\n",
    "  -\\ln(1 -\\sigma(X_i\\Theta)), &y_i=0\\\\\n",
    " \\end{cases} \\\\\n",
    "\\end{equation*}\n",
    "\n",
    "Функцию ошибки $\\tilde L$ называют **кросс-энтропия (сross entropy)**."
   ]
  },
  {
   "cell_type": "markdown",
   "metadata": {},
   "source": [
    "Почему *сross entropy* оптимальнее *MSE*?\n",
    "\n",
    "* Рассмотрим пример, когда истинный класс $y$ = 1\n",
    "\n",
    "Тогда ошибка *MSE*:\n",
    "\n",
    "* $L_{mse} = (1 - sogmoid(X\\Theta))^2$\n",
    "\n",
    "Ошибка на *кросс-энтропии*:\n",
    "\n",
    "* $L_{ce} = -\\ln(\\sigma(X\\Theta))$"
   ]
  },
  {
   "cell_type": "markdown",
   "metadata": {},
   "source": [
    "Возьмем производные от ошибок по вектору весов $\\Theta$:\n",
    "\n",
    "* $\\dfrac{\\partial L_{mse}}{\\partial\\Theta} = -2(1 - \\sigma(X\\Theta))\\dfrac{\\partial \\sigma(X\\Theta)}{\\partial\\Theta} =  - 2(1 - \\sigma(X\\Theta)) * DS$\n",
    "\n",
    "\n",
    "* $\\dfrac{\\partial L_{ce}}{\\partial\\Theta} = \\dfrac{-1}{\\sigma(X\\Theta)}\\dfrac{\\partial \\sigma(X\\Theta)}{\\partial\\Theta}  = \\dfrac{-1}{\\sigma(X\\Theta)} * DS$\n",
    "\n",
    "\n",
    "\n",
    "* $DS = \\dfrac{\\partial \\sigma(X\\Theta)}{\\partial\\Theta}$"
   ]
  },
  {
   "cell_type": "code",
   "execution_count": 6,
   "metadata": {},
   "outputs": [
    {
     "data": {
      "image/png": "[encoded data removed]",
      "text/plain": [
       "<Figure size 800x400 with 1 Axes>"
      ]
     },
     "metadata": {
      "needs_background": "light"
     },
     "output_type": "display_data"
    }
   ],
   "source": [
    "plot_div_mse_ce()"
   ]
  },
  {
   "cell_type": "markdown",
   "metadata": {},
   "source": [
    "Как видим из графика, абсолютное значение производной функции ошибки *cross entropy* больше, чем у *MSE*.\n",
    "\n",
    "*Cross entropy*  сильнее штрафует при градиентном спуске за неправильный ответ, поэтому лучше обновляет веса."
   ]
  },
  {
   "cell_type": "markdown",
   "metadata": {},
   "source": [
    "Если переобозначить метку класса 0 за -1, то кросс-энтропия примит знакомый нам вид:\n",
    "\\begin{equation*}\n",
    "\\tilde L = \\sum_{i=1}^N ln(1 + e^{-y_i \\cdot X_i\\Theta})\n",
    "\\end{equation*}\n",
    "\n",
    "Оптимизируя кросс энтропию, мы оптимизируем логистичесскую функцию потерь."
   ]
  },
  {
   "cell_type": "markdown",
   "metadata": {},
   "source": [
    "Линейная модель, которой мы предсказываем вероятность принадлежности к классам с\n",
    "\n",
    "логистичесской функцие потерь, называется **Логистичесская регрессия (Logistic regression)**.\n",
    "\n",
    "Соберем все вместе и обучим *логистическую регрессию* предсказывать вид цветка Ириса"
   ]
  },
  {
   "cell_type": "markdown",
   "metadata": {},
   "source": [
    "Но сначала, нам нужно научиться брать производную от *сигмоиды*\n",
    "\\begin{equation*}\n",
    "\\sigma(t) = \\dfrac{1}{1+e^{-t}} \\\\ \\\\\n",
    "\\dfrac{d \\sigma(t)}{dt} = \\dfrac{e^{-t}}{(1+e^{-t})^2} = \\dfrac{e^{-t}+1-1}{(1+e^{-t})^2} = \\\\\n",
    "\\dfrac{1}{1+e^{-t}} - \\dfrac{1}{(1+e^{-t})^2} = \\\\\n",
    "\\sigma(t)(1-\\sigma(t))\\\\\n",
    "\\dfrac{d \\sigma(t)}{dt} = \\sigma(t)(1-\\sigma(t))\n",
    "\\end{equation*}"
   ]
  },
  {
   "cell_type": "markdown",
   "metadata": {},
   "source": [
    "Производная функции ошибки:\n",
    "\\begin{equation*}\n",
    "\\tilde L = -\\sum\\limits_{i = 1}^N y_i\\ln(\\sigma(X_i\\Theta)) + (1-y_i)\\ln(1 -\\sigma(X_i\\Theta)) \\\\\n",
    "\\dfrac{\\partial \\tilde L(\\Theta)}{\\partial \\theta_j} = -\\sum\\limits_{i = 1}^Ny_i\\dfrac{\\sigma(X_i\\Theta)(1-\\sigma(X_i\\Theta)}{\\sigma(X_i\\Theta)}x_{i,j} - (1-y_i)\\dfrac{\\sigma(X_i\\Theta)(1-\\sigma(X_i\\Theta))}{1-\\sigma(X_i\\Theta)}x_{i,j} = \\\\\n",
    "= -\\sum\\limits_{i = 1}^Ny_i(1-\\sigma(X_i\\Theta))x_{i,j} - (1-y_i)\\sigma(X_i\\Theta)x_{i,j} \n",
    "\\end{equation*}\n",
    "\n",
    "Интересное замечание:\n",
    "* $y_i=1$, штраф равен вероятности нулевого класса\n",
    "* $y_i=0$, штраф равен вероятности первого класса\n",
    "\n",
    "Суммарная ошибка равна сумме вероятностей противоположных классов"
   ]
  },
  {
   "cell_type": "markdown",
   "metadata": {},
   "source": [
    "Теперь у нас все готово для реализации *Логистичесской регресии*"
   ]
  },
  {
   "cell_type": "markdown",
   "metadata": {},
   "source": [
    "Как всегда добавим единицу первым столбцом в данные"
   ]
  },
  {
   "cell_type": "code",
   "execution_count": 7,
   "metadata": {},
   "outputs": [],
   "source": [
    "def create_data(X):\n",
    "    X_ones = np.ones(X.shape[0])\n",
    "    return np.column_stack([X_ones, X])\n",
    "\n",
    "X_train = create_data(X)"
   ]
  },
  {
   "cell_type": "markdown",
   "metadata": {},
   "source": [
    "Напишем функцию сигмоида \\begin{equation*}\n",
    "\\sigma(x) = \\dfrac{1}{1+e^{-x}}\n",
    "\\end{equation*}\n",
    "\n"
   ]
  },
  {
   "cell_type": "code",
   "execution_count": 8,
   "metadata": {},
   "outputs": [],
   "source": [
    "def sigmoid(x):\n",
    "    return 1/(1+np.e**(-x))"
   ]
  },
  {
   "cell_type": "markdown",
   "metadata": {},
   "source": [
    "Зададим начальные параметры весов случайными значениями от 0 до 1:"
   ]
  },
  {
   "cell_type": "code",
   "execution_count": 9,
   "metadata": {},
   "outputs": [
    {
     "name": "stdout",
     "output_type": "stream",
     "text": [
      "[0.95553631 0.55424785 0.5225888 ]\n"
     ]
    }
   ],
   "source": [
    "Theta = np.random.random_sample(size=(X_train.shape[1],))\n",
    "print(Theta)"
   ]
  },
  {
   "cell_type": "markdown",
   "metadata": {},
   "source": [
    "Подсчет градианта:\n",
    "$\\dfrac{\\partial \\tilde L(\\Theta)}{\\partial \\theta_j}\n",
    "= -\\sum\\limits_{i = 1}^Ny_i(1-\\sigma(X_i\\Theta))x_{i,j} - (1-y_i)\\sigma(X_i\\Theta)x_{i,j}$"
   ]
  },
  {
   "cell_type": "code",
   "execution_count": 10,
   "metadata": {},
   "outputs": [],
   "source": [
    "def gradient_function(Theta, X, y):\n",
    "    grad = np.zeros_like(Theta)\n",
    "    for j in range(Theta.shape[0]):       \n",
    "        grad[j] = -sum(y*(1-sigmoid(X@Theta))*X[:,j] - (1-y)*sigmoid(X@Theta)*X[:,j])\n",
    "    return grad"
   ]
  },
  {
   "cell_type": "markdown",
   "metadata": {},
   "source": [
    "Градиентный спуск: \n",
    "\n",
    "$\\theta_{j_{new}} = \\theta_j - \\alpha \\dfrac{\\partial \\tilde L(\\Theta)}{\\partial \\theta_j}$  \n",
    "$\\theta_{j_{new}} = \\theta_j - \\alpha (-\\sum\\limits_{i = 1}^Ny_i(1-\\sigma(X_i\\Theta))x_{i,j} - (1-y_i)\\sigma(X_i\\Theta)x_{i,j})$"
   ]
  },
  {
   "cell_type": "code",
   "execution_count": 11,
   "metadata": {},
   "outputs": [],
   "source": [
    "def gradient_descent(Theta, X, y, alpha, iters):        \n",
    "    theta = Theta\n",
    "    for i in range (iters):\n",
    "        theta = theta - alpha * gradient_function(theta, X, y)\n",
    "    return theta"
   ]
  },
  {
   "cell_type": "code",
   "execution_count": 12,
   "metadata": {},
   "outputs": [
    {
     "data": {
      "text/plain": [
       "array([-0.42741204,  2.90951814, -5.05197396])"
      ]
     },
     "execution_count": 12,
     "metadata": {},
     "output_type": "execute_result"
    }
   ],
   "source": [
    "theta_opt = gradient_descent(Theta, X_train, y, 0.001, 1000)\n",
    "theta_opt"
   ]
  },
  {
   "cell_type": "code",
   "execution_count": 13,
   "metadata": {
    "scrolled": true
   },
   "outputs": [
    {
     "data": {
      "text/plain": [
       "array([0.03658738, 0.20970658, 0.0512226 , 0.06269378, 0.01684145,\n",
       "       0.01190627, 0.01448087, 0.04493627, 0.09310856, 0.13801299,\n",
       "       0.03203652, 0.02561979, 0.16552966, 0.04425994, 0.02275166,\n",
       "       0.00230161, 0.01190627, 0.03658738, 0.04562244, 0.00827366,\n",
       "       0.13093402, 0.01363787, 0.00532113, 0.09445756, 0.02561979,\n",
       "       0.26197218, 0.04493627, 0.04834561, 0.07765602, 0.0512226 ,\n",
       "       0.10689623, 0.13093402, 0.00244561, 0.00352848, 0.13801299,\n",
       "       0.1144432 , 0.10842111, 0.01264361, 0.05833463, 0.0592127 ,\n",
       "       0.02760594, 0.73998287, 0.02205641, 0.02760594, 0.00827366,\n",
       "       0.16552966, 0.00827366, 0.03879318, 0.02414423, 0.07233682,\n",
       "       0.77400023, 0.94307781, 0.99378308, 0.96273874, 0.96539483,\n",
       "       0.99854167, 0.76839881, 0.99789503, 0.99840044, 0.91165503,\n",
       "       0.91036822, 0.98957609, 0.98524618, 0.97144372, 0.90906454,\n",
       "       0.88362216, 0.96539483, 0.94149609, 0.99985531, 0.99730955,\n",
       "       0.9701697 , 0.84817552, 0.99960267, 0.98610485, 0.9164334 ,\n",
       "       0.98731792, 0.96970688, 0.89703694, 0.98284188, 0.99534523,\n",
       "       0.99904943, 0.96643987, 0.98284188, 0.97717981, 0.98501366,\n",
       "       0.99890942, 0.6738919 , 0.92638116, 0.86689447, 0.9817853 ,\n",
       "       0.96786791, 0.9817853 , 0.94307781, 0.96049398, 0.9164334 ,\n",
       "       0.98036166, 0.99489602, 0.96539483, 0.60704051, 0.82960397])"
      ]
     },
     "execution_count": 13,
     "metadata": {},
     "output_type": "execute_result"
    }
   ],
   "source": [
    "def predict_function(X_train, theta):\n",
    "    y_pred = np.dot(X_train, theta) #X @ Theta\n",
    "    return sigmoid(y_pred)\n",
    "\n",
    "y_pred = predict_function(X_train, theta_opt)\n",
    "y_pred"
   ]
  },
  {
   "cell_type": "markdown",
   "metadata": {},
   "source": [
    "Давайте опять посмотрим на долю неверных ответов, но теперь нам нужен порог $p_0$, преодалев который мы будем считать, что классификатор присвоил объект к классу $1$."
   ]
  },
  {
   "cell_type": "code",
   "execution_count": 14,
   "metadata": {},
   "outputs": [],
   "source": [
    "def error(y, y_pred, p=0.5):\n",
    "    return np.mean((y_pred > p).astype(int) != y)"
   ]
  },
  {
   "cell_type": "code",
   "execution_count": 15,
   "metadata": {},
   "outputs": [
    {
     "name": "stdout",
     "output_type": "stream",
     "text": [
      "Порог = 0.0, доля неверных ответов = 0.5\n",
      "Порог = 0.1, доля неверных ответов = 0.12\n",
      "Порог = 0.2, доля неверных ответов = 0.03\n",
      "Порог = 0.3, доля неверных ответов = 0.01\n",
      "Порог = 0.4, доля неверных ответов = 0.01\n",
      "Порог = 0.5, доля неверных ответов = 0.01\n",
      "Порог = 0.6, доля неверных ответов = 0.01\n",
      "Порог = 0.7, доля неверных ответов = 0.03\n",
      "Порог = 0.8, доля неверных ответов = 0.04\n",
      "Порог = 0.9, доля неверных ответов = 0.09\n",
      "Порог = 1.0, доля неверных ответов = 0.5\n"
     ]
    }
   ],
   "source": [
    "P = np.linspace(0,1,11)\n",
    "for p in P:\n",
    "    p = round(p,1)\n",
    "    err = error(y, y_pred, p=p)\n",
    "    print(\"Порог = {}, доля неверных ответов = {}\".format(p, err))"
   ]
  },
  {
   "cell_type": "code",
   "execution_count": 16,
   "metadata": {},
   "outputs": [
    {
     "data": {
      "image/png": "[encoded data removed]",
      "text/plain": [
       "<Figure size 800x600 with 1 Axes>"
      ]
     },
     "metadata": {
      "needs_background": "light"
     },
     "output_type": "display_data"
    }
   ],
   "source": [
    "plot_finaly_trained_model(X, kind_iris, theta_opt)"
   ]
  },
  {
   "cell_type": "markdown",
   "metadata": {},
   "source": [
    "Чтобы всякий раз не писать градиентный спуск в ручную, логистичесская регрессия есть в библиотеке scikit-learn"
   ]
  },
  {
   "cell_type": "code",
   "execution_count": 17,
   "metadata": {},
   "outputs": [],
   "source": [
    "from sklearn.linear_model import LogisticRegression"
   ]
  },
  {
   "cell_type": "code",
   "execution_count": 18,
   "metadata": {},
   "outputs": [
    {
     "name": "stderr",
     "output_type": "stream",
     "text": [
      "/Users/baduk/anaconda3/lib/python3.7/site-packages/sklearn/linear_model/logistic.py:433: FutureWarning: Default solver will be changed to 'lbfgs' in 0.22. Specify a solver to silence this warning.\n",
      "  FutureWarning)\n"
     ]
    },
    {
     "data": {
      "text/plain": [
       "array([0, 0, 0, 0, 0, 0, 0, 0, 0, 0, 0, 0, 0, 0, 0, 0, 0, 0, 0, 0, 0, 0,\n",
       "       0, 0, 0, 0, 0, 0, 0, 0, 0, 0, 0, 0, 0, 0, 0, 0, 0, 0, 0, 1, 0, 0,\n",
       "       0, 0, 0, 0, 0, 0, 1, 1, 1, 1, 1, 1, 1, 1, 1, 1, 1, 1, 1, 1, 1, 1,\n",
       "       1, 1, 1, 1, 1, 1, 1, 1, 1, 1, 1, 1, 1, 1, 1, 1, 1, 1, 1, 1, 1, 1,\n",
       "       1, 1, 1, 1, 1, 1, 1, 1, 1, 1, 1, 1])"
      ]
     },
     "execution_count": 18,
     "metadata": {},
     "output_type": "execute_result"
    }
   ],
   "source": [
    "clf = LogisticRegression()\n",
    "clf.fit(X,y)\n",
    "y_pred_sklearn = clf.predict(X)\n",
    "y_pred_sklearn"
   ]
  },
  {
   "cell_type": "markdown",
   "metadata": {},
   "source": [
    "Метод predict возвращает метки классов по порогу 0.5, чтобы получить вероятности классов, нужно вызвать метод predict_proba"
   ]
  },
  {
   "cell_type": "code",
   "execution_count": 19,
   "metadata": {
    "scrolled": true
   },
   "outputs": [
    {
     "data": {
      "text/plain": [
       "array([[0.9120516 , 0.0879484 ],\n",
       "       [0.73158284, 0.26841716],\n",
       "       [0.89454863, 0.10545137],\n",
       "       [0.88075254, 0.11924746],\n",
       "       [0.94817404, 0.05182596],\n",
       "       [0.95720203, 0.04279797],\n",
       "       [0.95516381, 0.04483619],\n",
       "       [0.90029017, 0.09970983],\n",
       "       [0.848462  , 0.151538  ],\n",
       "       [0.79507057, 0.20492943],\n",
       "       [0.91692865, 0.08307135],\n",
       "       [0.93274622, 0.06725378],\n",
       "       [0.77158306, 0.22841694],\n",
       "       [0.90806962, 0.09193038],\n",
       "       [0.93100346, 0.06899654],\n",
       "       [0.98564501, 0.01435499],\n",
       "       [0.95720203, 0.04279797],\n",
       "       [0.9120516 , 0.0879484 ],\n",
       "       [0.89193074, 0.10806926],\n",
       "       [0.96764941, 0.03235059],\n",
       "       [0.79282498, 0.20717502],\n",
       "       [0.95457226, 0.04542774],\n",
       "       [0.97735833, 0.02264167],\n",
       "       [0.83654631, 0.16345369],\n",
       "       [0.93274622, 0.06725378],\n",
       "       [0.6874156 , 0.3125844 ],\n",
       "       [0.90029017, 0.09970983],\n",
       "       [0.89324675, 0.10675325],\n",
       "       [0.85461252, 0.14538748],\n",
       "       [0.89454863, 0.10545137],\n",
       "       [0.82783617, 0.17216383],\n",
       "       [0.79282498, 0.20717502],\n",
       "       [0.98583794, 0.01416206],\n",
       "       [0.98114998, 0.01885002],\n",
       "       [0.79507057, 0.20492943],\n",
       "       [0.81671662, 0.18328338],\n",
       "       [0.81465293, 0.18534707],\n",
       "       [0.95776085, 0.04223915],\n",
       "       [0.88851743, 0.11148257],\n",
       "       [0.87930332, 0.12069668],\n",
       "       [0.92781164, 0.07218836],\n",
       "       [0.351923  , 0.648077  ],\n",
       "       [0.94168877, 0.05831123],\n",
       "       [0.92781164, 0.07218836],\n",
       "       [0.96764941, 0.03235059],\n",
       "       [0.77158306, 0.22841694],\n",
       "       [0.96764941, 0.03235059],\n",
       "       [0.91314646, 0.08685354],\n",
       "       [0.93188001, 0.06811999],\n",
       "       [0.86381634, 0.13618366],\n",
       "       [0.28039752, 0.71960248],\n",
       "       [0.12046276, 0.87953724],\n",
       "       [0.0236927 , 0.9763073 ],\n",
       "       [0.08667875, 0.91332125],\n",
       "       [0.08083995, 0.91916005],\n",
       "       [0.00823063, 0.99176937],\n",
       "       [0.31803493, 0.68196507],\n",
       "       [0.01097701, 0.98902299],\n",
       "       [0.00970193, 0.99029807],\n",
       "       [0.14007929, 0.85992071],\n",
       "       [0.15125459, 0.84874541],\n",
       "       [0.03641512, 0.96358488],\n",
       "       [0.04415879, 0.95584121],\n",
       "       [0.07729746, 0.92270254],\n",
       "       [0.16315228, 0.83684772],\n",
       "       [0.18091045, 0.81908955],\n",
       "       [0.08083995, 0.91916005],\n",
       "       [0.10142822, 0.89857178],\n",
       "       [0.00162825, 0.99837175],\n",
       "       [0.01502727, 0.98497273],\n",
       "       [0.0702269 , 0.9297731 ],\n",
       "       [0.23045372, 0.76954628],\n",
       "       [0.00329376, 0.99670624],\n",
       "       [0.04474182, 0.95525818],\n",
       "       [0.14174094, 0.85825906],\n",
       "       [0.03816148, 0.96183852],\n",
       "       [0.07632411, 0.92367589],\n",
       "       [0.17184965, 0.82815035],\n",
       "       [0.05104859, 0.94895141],\n",
       "       [0.0192046 , 0.9807954 ],\n",
       "       [0.00625179, 0.99374821],\n",
       "       [0.06845535, 0.93154465],\n",
       "       [0.05104859, 0.94895141],\n",
       "       [0.06250435, 0.93749565],\n",
       "       [0.04810984, 0.95189016],\n",
       "       [0.00665155, 0.99334845],\n",
       "       [0.35677401, 0.64322599],\n",
       "       [0.13432023, 0.86567977],\n",
       "       [0.20457024, 0.79542976],\n",
       "       [0.05038772, 0.94961228],\n",
       "       [0.07536201, 0.92463799],\n",
       "       [0.05038772, 0.94961228],\n",
       "       [0.12046276, 0.87953724],\n",
       "       [0.08559822, 0.91440178],\n",
       "       [0.14174094, 0.85825906],\n",
       "       [0.05415665, 0.94584335],\n",
       "       [0.02259291, 0.97740709],\n",
       "       [0.08083995, 0.91916005],\n",
       "       [0.4073841 , 0.5926159 ],\n",
       "       [0.24170261, 0.75829739]])"
      ]
     },
     "execution_count": 19,
     "metadata": {},
     "output_type": "execute_result"
    }
   ],
   "source": [
    "y_pred_prob_sklearn = clf.predict_proba(X)\n",
    "y_pred_prob_sklearn"
   ]
  },
  {
   "cell_type": "markdown",
   "metadata": {},
   "source": [
    "Так как классификация бинарная, первым столбцом predict_proba вернул вероятность нулевого класса, а вторым вероятность первого"
   ]
  },
  {
   "cell_type": "markdown",
   "metadata": {},
   "source": [
    "Параметры модели $\\Theta$ хранятся в поле intercept_ ($\\theta_0$) и coef_ ($\\theta_1, \\theta_2$)"
   ]
  },
  {
   "cell_type": "code",
   "execution_count": 20,
   "metadata": {},
   "outputs": [
    {
     "name": "stdout",
     "output_type": "stream",
     "text": [
      "[-0.92533091] [[ 2.1460357  -3.53097071]]\n"
     ]
    }
   ],
   "source": [
    "print(clf.intercept_, clf.coef_)"
   ]
  },
  {
   "cell_type": "markdown",
   "metadata": {},
   "source": [
    "### Вывод\n",
    "1. Помимо предсказания метки класса, мы научились оценивать уверенность такого предсказания, как вероятность принадлежности первому классу:\n",
    "\\begin{equation*}\n",
    "P(y=1|X) = \\sigma(X\\Theta), \\\\\n",
    "P(y=0|X) = 1 - \\sigma(X\\Theta).\n",
    "\\end{equation*}\n",
    "2. Решение о том, относим мы объект к классу $1$ принимается по заданному порогу $p_0$, если ответ классифкатора $\\tilde p(X)=\\sigma(X\\Theta) > p_0$, ставим метку класса $1$, иначе $0$\n",
    "3. Для обучения классификатора мы выбрали функцию ошибки *cross entropy*, т.к ее градиент лучше обновляет веса в задаче классификации."
   ]
  }
 ],
 "metadata": {
  "kernelspec": {
   "display_name": "Python 3",
   "language": "python",
   "name": "python3"
  },
  "language_info": {
   "codemirror_mode": {
    "name": "ipython",
    "version": 3
   },
   "file_extension": ".py",
   "mimetype": "text/x-python",
   "name": "python",
   "nbconvert_exporter": "python",
   "pygments_lexer": "ipython3",
   "version": "3.7.1"
  }
 },
 "nbformat": 4,
 "nbformat_minor": 2
}
