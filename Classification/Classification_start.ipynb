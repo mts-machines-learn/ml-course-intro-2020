{
 "cells": [
  {
   "cell_type": "markdown",
   "metadata": {
    "slideshow": {
     "slide_type": "slide"
    }
   },
   "source": [
    "# Задача классификации"
   ]
  },
  {
   "cell_type": "markdown",
   "metadata": {
    "slideshow": {
     "slide_type": "slide"
    }
   },
   "source": [
    "## Введение в задачу классификации"
   ]
  },
  {
   "cell_type": "markdown",
   "metadata": {
    "slideshow": {
     "slide_type": "-"
    }
   },
   "source": [
    "Вы уже познакомились с машинным обучением на примере задачи регрессии. В этом разделе мы поговорим о еще одной популярной задаче в машинном обучении - **задаче классификации**.\n",
    "\n",
    "Как вы помните, задача регрессии заключалась в том, чтобы предсказывать некоторое значение $y \\in \\mathbb{R}$ (принадлежащее множеству действительных чисел). Наши предсказания были непрерывными и могли принимать любые действительные значения.\n",
    "\n",
    "Но что, если варианты наших предсказаний ограничены. Например мы работаем в банке и решаем задачу кредитного скоринга: хотим по данным клиента предсказать вернет ли он кредит или нет. Иными словами мы хотим **классифицировать** клиентов на тех кто вернет кредит и тех кто не вернет. Или, например, у нас есть изображение собачки, и мы хотим *классифицировать* ее породу. Хоть пород собак и достаточно много, но их количество все равно ограничено.  \n",
    "\n",
    "Задача, где требуется предсказать класс из известного списка и называется **задачей классификации**.\n",
    "\n",
    "В задаче кредитного скоринга у нас имеется клиент и 2 класса к которым мы можем его отнести (вернет/не вернет кредит). Задача в которой имеется всего 2 класса называется задачей **бинарной классификации**. Задача в которой имеется более двух классов, например классификация пород собак, когда у нас более двух пород, называется задачей **многоклассовой классификации** или **мульти-классификацией**."
   ]
  },
  {
   "cell_type": "markdown",
   "metadata": {
    "slideshow": {
     "slide_type": "subslide"
    }
   },
   "source": [
    "### Постановка задачи"
   ]
  },
  {
   "cell_type": "markdown",
   "metadata": {
    "slideshow": {
     "slide_type": "fragment"
    }
   },
   "source": [
    "$X$ - множество описаний объектов (признаки)\n",
    "\n",
    "$y$ - истинная метка класса для каждого объекта (обычно метки обозначаются целыми числами: $\\ldots -2,-1,0,1,2,3 \\ldots$)\n",
    "\n",
    "Как и в задаче регрессии, наша задача найти зависимость между $Х$ и $y$. То есть по имеющимся данным (обучающая выборка)<br> найти функцию $f(X) = y$, которая для любого объекта  $x \\in X$, способна поставить метку класса $y$.\n",
    "\n",
    "Далее для простоты будем рассматривать задачу *бинарной классификации*. Позже будет рассказано, как с помощью бинарной классификации перейти к многоклассовой."
   ]
  },
  {
   "cell_type": "markdown",
   "metadata": {
    "slideshow": {
     "slide_type": "skip"
    }
   },
   "source": [
    "### Пример\n",
    "\n",
    "Обратимся к классическому примеру классификации - классификации цветков ириса. Данные о цветках ириса стали, в некотором роде, стандартным набором данных для задачи классификации. Впервые были использованы в 1936 году (**!**) Рональдом Фишером для демонстрации работы разработанного им метода дискриминантного анализа - прародителя многих методов машинного обучения.<br>"
   ]
  },
  {
   "cell_type": "markdown",
   "metadata": {
    "slideshow": {
     "slide_type": "slide"
    }
   },
   "source": [
    "**Классификация цветков ириса**\n",
    "\n",
    "Требуется классифицировать цветки ириса на два вида:\n",
    "\n",
    "* iris setosa\n",
    "\n",
    "* iris virginica\n",
    "\n",
    "В качестве признаков рассмотрим два признака: длину и ширину чашелистика"
   ]
  },
  {
   "cell_type": "code",
   "execution_count": 1,
   "metadata": {
    "collapsed": true
   },
   "outputs": [],
   "source": [
    "from classification_helper import * # Подгружаем функции для визуализации"
   ]
  },
  {
   "cell_type": "code",
   "execution_count": 2,
   "metadata": {
    "collapsed": true
   },
   "outputs": [],
   "source": [
    "X, kind_iris = get_data()"
   ]
  },
  {
   "cell_type": "markdown",
   "metadata": {},
   "source": [
    "$X$ - двумерный массив признаков"
   ]
  },
  {
   "cell_type": "code",
   "execution_count": 3,
   "metadata": {},
   "outputs": [
    {
     "data": {
      "text/plain": [
       "(100, 2)"
      ]
     },
     "execution_count": 3,
     "metadata": {},
     "output_type": "execute_result"
    }
   ],
   "source": [
    "X.shape"
   ]
  },
  {
   "cell_type": "markdown",
   "metadata": {},
   "source": [
    "$kind\\_iris$ - вектор истинных видов цветков (*target*)"
   ]
  },
  {
   "cell_type": "code",
   "execution_count": 4,
   "metadata": {},
   "outputs": [
    {
     "data": {
      "text/plain": [
       "(100,)"
      ]
     },
     "execution_count": 4,
     "metadata": {},
     "output_type": "execute_result"
    }
   ],
   "source": [
    "kind_iris.shape"
   ]
  },
  {
   "cell_type": "code",
   "execution_count": 5,
   "metadata": {
    "scrolled": true
   },
   "outputs": [
    {
     "name": "stdout",
     "output_type": "stream",
     "text": [
      "   Длина чашелистика Ширина чашелистика       Вид Ириса\n",
      "0                5.1                3.5     iris setosa\n",
      "1                4.9                3.0     iris setosa\n",
      "2                4.7                3.2     iris setosa\n",
      "3                4.6                3.1     iris setosa\n",
      "4                5.0                3.6     iris setosa\n",
      "5                5.4                3.9     iris setosa\n",
      "6                4.6                3.4     iris setosa\n",
      "7                5.0                3.4     iris setosa\n",
      "8                4.4                2.9     iris setosa\n",
      "9                4.9                3.1     iris setosa\n",
      "10               5.4                3.7     iris setosa\n",
      "11               4.8                3.4     iris setosa\n",
      "12               4.8                3.0     iris setosa\n",
      "13               4.3                3.0     iris setosa\n",
      "14               5.8                4.0     iris setosa\n",
      "15               5.7                4.4     iris setosa\n",
      "16               5.4                3.9     iris setosa\n",
      "17               5.1                3.5     iris setosa\n",
      "18               5.7                3.8     iris setosa\n",
      "19               5.1                3.8     iris setosa\n",
      "20               5.4                3.4     iris setosa\n",
      "21               5.1                3.7     iris setosa\n",
      "22               4.6                3.6     iris setosa\n",
      "23               5.1                3.3     iris setosa\n",
      "24               4.8                3.4     iris setosa\n",
      "25               5.0                3.0     iris setosa\n",
      "26               5.0                3.4     iris setosa\n",
      "27               5.2                3.5     iris setosa\n",
      "28               5.2                3.4     iris setosa\n",
      "29               4.7                3.2     iris setosa\n",
      "..               ...                ...             ...\n",
      "70               6.9                3.2  iris virginica\n",
      "71               5.6                2.8  iris virginica\n",
      "72               7.7                2.8  iris virginica\n",
      "73               6.3                2.7  iris virginica\n",
      "74               6.7                3.3  iris virginica\n",
      "75               7.2                3.2  iris virginica\n",
      "76               6.2                2.8  iris virginica\n",
      "77               6.1                3.0  iris virginica\n",
      "78               6.4                2.8  iris virginica\n",
      "79               7.2                3.0  iris virginica\n",
      "80               7.4                2.8  iris virginica\n",
      "81               7.9                3.8  iris virginica\n",
      "82               6.4                2.8  iris virginica\n",
      "83               6.3                2.8  iris virginica\n",
      "84               6.1                2.6  iris virginica\n",
      "85               7.7                3.0  iris virginica\n",
      "86               6.3                3.4  iris virginica\n",
      "87               6.4                3.1  iris virginica\n",
      "88               6.0                3.0  iris virginica\n",
      "89               6.9                3.1  iris virginica\n",
      "90               6.7                3.1  iris virginica\n",
      "91               6.9                3.1  iris virginica\n",
      "92               5.8                2.7  iris virginica\n",
      "93               6.8                3.2  iris virginica\n",
      "94               6.7                3.3  iris virginica\n",
      "95               6.7                3.0  iris virginica\n",
      "96               6.3                2.5  iris virginica\n",
      "97               6.5                3.0  iris virginica\n",
      "98               6.2                3.4  iris virginica\n",
      "99               5.9                3.0  iris virginica\n",
      "\n",
      "[100 rows x 3 columns]\n"
     ]
    }
   ],
   "source": [
    "print_data(X,kind_iris)"
   ]
  },
  {
   "cell_type": "markdown",
   "metadata": {},
   "source": [
    "Первые 50 строчек таблицы соответсвуют виду iris setosa, остальные 50 iris virginica"
   ]
  },
  {
   "cell_type": "markdown",
   "metadata": {},
   "source": [
    "Визуализируем данные"
   ]
  },
  {
   "cell_type": "code",
   "execution_count": 6,
   "metadata": {},
   "outputs": [
    {
     "data": {
      "image/png": "[encoded data removed]",
      "text/plain": [
       "<Figure size 800x600 with 1 Axes>"
      ]
     },
     "metadata": {
      "needs_background": "light"
     },
     "output_type": "display_data"
    }
   ],
   "source": [
    "plot_data(X,kind_iris)"
   ]
  },
  {
   "cell_type": "markdown",
   "metadata": {},
   "source": [
    "Как видим точки на графике разбросаны не совсем хаотично, а имеют некоторую структуру, значит существует зависимость между параметрами чашелистика и видом цветка ириса.\n",
    "\n",
    "Попробуем найти такую зависимость."
   ]
  }
 ],
 "metadata": {
  "kernelspec": {
   "display_name": "Python 3",
   "language": "python",
   "name": "python3"
  },
  "language_info": {
   "codemirror_mode": {
    "name": "ipython",
    "version": 3
   },
   "file_extension": ".py",
   "mimetype": "text/x-python",
   "name": "python",
   "nbconvert_exporter": "python",
   "pygments_lexer": "ipython3",
   "version": "3.6.3"
  },
  "pycharm": {
   "stem_cell": {
    "cell_type": "raw",
    "metadata": {
     "collapsed": false
    },
    "source": []
   }
  }
 },
 "nbformat": 4,
 "nbformat_minor": 2
}
