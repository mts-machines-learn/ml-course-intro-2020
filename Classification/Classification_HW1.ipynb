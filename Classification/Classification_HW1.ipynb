{
 "cells": [
  {
   "cell_type": "markdown",
   "metadata": {},
   "source": [
    "# Практическое задание\n",
    "Реализовать классификацию цветков ириса c  использованием функции ошибки *Hinge loss*:\n",
    "\n",
    "$[M_i<0] \\leqslant g(M_i)= max(0,1 - M_i)$"
   ]
  },
  {
   "cell_type": "code",
   "execution_count": 1,
   "metadata": {},
   "outputs": [],
   "source": [
    "from classification_helper import *\n",
    "import numpy as np"
   ]
  },
  {
   "cell_type": "code",
   "execution_count": 2,
   "metadata": {},
   "outputs": [],
   "source": [
    "#Загрузим данные\n",
    "X, kind_iris = get_data()"
   ]
  },
  {
   "cell_type": "markdown",
   "metadata": {},
   "source": [
    "Закодируте вид цветка ириса метками класса $-1$ и $1$, результат запишите в переменную $y$"
   ]
  },
  {
   "cell_type": "code",
   "execution_count": 12,
   "metadata": {},
   "outputs": [],
   "source": [
    "y = kind_iris.copy()\n",
    "#Ваш код здесь\n",
    "#-------------\n",
    "y[y=='iris setosa'] = -1\n",
    "y[y=='iris virginica'] = 1\n",
    "y = y.astype(int)\n",
    "#----------------\n",
    "\n",
    "assert type(y[0]) != np.str_, \"Вектор y должен содержать тип int\"\n",
    "assert sum(y) == 0, \"Неверно закодирован вид ирисов\"\n",
    "assert sum (y**2) == 100, \"Вектор  y должен содержать значения либо -1 либо 1\""
   ]
  },
  {
   "cell_type": "markdown",
   "metadata": {},
   "source": [
    "Добавим первым столбцом в матрицу признаков столбец единиц"
   ]
  },
  {
   "cell_type": "code",
   "execution_count": 4,
   "metadata": {},
   "outputs": [],
   "source": [
    "def add_ones(X):\n",
    "    X_ones = np.ones(X.shape[0])\n",
    "    return np.column_stack([X_ones, X])\n",
    "\n",
    "X_train = add_ones(X)"
   ]
  },
  {
   "cell_type": "markdown",
   "metadata": {},
   "source": [
    "Зададим начальные веса $\\Theta$ случайными значениями от 0 до 1:"
   ]
  },
  {
   "cell_type": "code",
   "execution_count": 5,
   "metadata": {},
   "outputs": [
    {
     "name": "stdout",
     "output_type": "stream",
     "text": [
      "[0.40432866 0.76280904 0.89603431]\n"
     ]
    }
   ],
   "source": [
    "Theta = np.random.random_sample(size=(X_train.shape[1],))\n",
    "print(Theta)"
   ]
  },
  {
   "cell_type": "markdown",
   "metadata": {},
   "source": [
    "Выпишим функцию ошибки $\\tilde L$"
   ]
  },
  {
   "cell_type": "markdown",
   "metadata": {},
   "source": [
    "\\begin{equation*}\n",
    "\\tilde L = \\dfrac{1}{N}\\sum_{i=1}^N g(M_i) \\\\\n",
    "g(M_i) = max(0,1 - M_i) \\\\\n",
    "\\tilde L = \\dfrac{1}{N}\\sum_{i=1}^N max(0,1 - M_i) \\\\\n",
    "\\tilde L = \\dfrac{1}{N}\\sum_{i=1}^N max(0,1 - y_iX_i\\Theta) \\\\\n",
    "\\end{equation*}`"
   ]
  },
  {
   "cell_type": "markdown",
   "metadata": {},
   "source": [
    "Вычислим частную производную от $\\tilde L$ по всесу $\\theta_j$:"
   ]
  },
  {
   "cell_type": "markdown",
   "metadata": {},
   "source": [
    "\\begin{equation*}\n",
    "\\dfrac{\\partial \\tilde L(\\Theta)}{\\partial \\theta_j} =  \\dfrac{1}{N}\\sum_{i=1}^N\\dfrac{\\partial max(0,1 - y_iX_i\\Theta)}{\\partial \\theta_j} \\\\\n",
    "\\dfrac{\\partial max(0,1 - y_iX_i\\Theta)}{\\partial \\theta_j} = \n",
    "\\begin{cases}\n",
    "-y_ix_{i,j}, &\\text{$y_iX_i\\Theta$ < 1} \\\\\n",
    "0,  &\\text{$y_iX_i\\Theta \\geqslant 1$}\n",
    "\\end{cases}\n",
    "\\end{equation*}\n",
    "\n",
    "Реализуйте вычисление градиента"
   ]
  },
  {
   "cell_type": "code",
   "execution_count": 6,
   "metadata": {},
   "outputs": [],
   "source": [
    "def gradient_function(Theta, X_train, y):\n",
    "    grad = np.zeros_like(Theta)\n",
    "    #Ваш код здесь\n",
    "    #--------------------------\n",
    "    M = y * (X_train @ Theta)\n",
    "    for j in range(Theta.shape[0]):\n",
    "        grad_j = -y*X_train[:,j]\n",
    "        grad_j[M >=1] = 0\n",
    "        grad[j] += np.mean(grad_j)\n",
    "    #--------------------------\n",
    "    return grad"
   ]
  },
  {
   "cell_type": "markdown",
   "metadata": {},
   "source": [
    "Реализуйте алгоритм градинтного спуска: $\\theta_{j_{new}} = \\theta_j - \\alpha \\dfrac{\\partial \\tilde L(\\Theta)}{\\partial \\theta_j}$  "
   ]
  },
  {
   "cell_type": "code",
   "execution_count": 7,
   "metadata": {},
   "outputs": [],
   "source": [
    "def gradient_descent(Theta, X_train, y, alpha, iters):        \n",
    "    theta = Theta\n",
    "    #Ваш код здесь\n",
    "    #--------------------------\n",
    "    for i in range (iters):\n",
    "        theta = theta - alpha * gradient_function(theta, X_train, y)\n",
    "    #--------------------------\n",
    "    return theta"
   ]
  },
  {
   "cell_type": "code",
   "execution_count": 8,
   "metadata": {},
   "outputs": [],
   "source": [
    "alpha = 0.01\n",
    "iters = 500\n",
    "theta_opt = gradient_descent(Theta, X_train, y, alpha, iters)"
   ]
  },
  {
   "cell_type": "markdown",
   "metadata": {},
   "source": [
    "Реализуйте функцию предсказания класса цветка ириса на основе параметров $\\Theta$"
   ]
  },
  {
   "cell_type": "code",
   "execution_count": 9,
   "metadata": {},
   "outputs": [],
   "source": [
    "def predict_function(X_train, theta):\n",
    "    #Ваш код здесь\n",
    "    #--------------------------\n",
    "    y_pred = np.dot(X_train, theta)\n",
    "    y_pred = np.sign(y_pred)\n",
    "    #--------------------------   \n",
    "    return y_pred\n",
    "\n",
    "\n",
    "y_pred = predict_function(X_train, theta_opt)"
   ]
  },
  {
   "cell_type": "markdown",
   "metadata": {},
   "source": [
    "Посчитаем долю неверных ответов"
   ]
  },
  {
   "cell_type": "code",
   "execution_count": 10,
   "metadata": {},
   "outputs": [
    {
     "name": "stdout",
     "output_type": "stream",
     "text": [
      "Доля неверных ответов равна:  0.01\n"
     ]
    }
   ],
   "source": [
    "def error(y, y_pred):\n",
    "    return np.mean(y_pred != y)\n",
    "err = error(y, y_pred)\n",
    "print(\"Доля неверных ответов равна: \", err)\n",
    "assert np.allclose(error(y, y_pred), 0.01), 'Неверно обучен классификатор'"
   ]
  },
  {
   "cell_type": "markdown",
   "metadata": {},
   "source": [
    "Нарисуем разделяющую прямую"
   ]
  },
  {
   "cell_type": "code",
   "execution_count": 11,
   "metadata": {},
   "outputs": [
    {
     "data": {
      "image/png": "[encoded data removed]",
      "text/plain": [
       "<Figure size 800x600 with 1 Axes>"
      ]
     },
     "metadata": {
      "needs_background": "light"
     },
     "output_type": "display_data"
    }
   ],
   "source": [
    "plot_finaly_trained_model(X, kind_iris, theta_opt)"
   ]
  }
 ],
 "metadata": {
  "kernelspec": {
   "display_name": "Python 3",
   "language": "python",
   "name": "python3"
  },
  "language_info": {
   "codemirror_mode": {
    "name": "ipython",
    "version": 3
   },
   "file_extension": ".py",
   "mimetype": "text/x-python",
   "name": "python",
   "nbconvert_exporter": "python",
   "pygments_lexer": "ipython3",
   "version": "3.7.1"
  }
 },
 "nbformat": 4,
 "nbformat_minor": 2
}
