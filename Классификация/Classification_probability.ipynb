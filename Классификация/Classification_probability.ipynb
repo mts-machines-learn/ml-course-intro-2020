{
 "cells": [
  {
   "cell_type": "markdown",
   "metadata": {},
   "source": [
    "## Оценка вероятностей в задаче классификации"
   ]
  },
  {
   "cell_type": "code",
   "execution_count": 1,
   "metadata": {
    "collapsed": true
   },
   "outputs": [],
   "source": [
    "from classification_helper import *\n",
    "import numpy as np"
   ]
  },
  {
   "cell_type": "markdown",
   "metadata": {},
   "source": [
    "В предыдущем уроке мы научились предсказывать метку класса, как знак от произведения вектора признаков на вектор весов:\n",
    "\\begin{equation*}\n",
    "\\tilde{y} = sign(\\sum_{i=1}^N \\theta_ix_i) = sign(X\\Theta)\n",
    "\\end{equation*}"
   ]
  },
  {
   "cell_type": "markdown",
   "metadata": {},
   "source": [
    "Мы узнали, что линейный классификатор строит разделяющую гиперплоскость в пространстве признаков:\n",
    "\\begin{equation*}\n",
    "X\\Theta = 0\n",
    "\\end{equation*}\n",
    "\n",
    "НО! Мы учитывали только $sign(X_i\\Theta)$\n",
    "\n",
    "* Если $X_i\\Theta > 0$, мы относили к классу 1,\n",
    "\n",
    "\n",
    "* Если $X_i\\Theta < 0$, относили к классу -1\n",
    "\n",
    "Никак не учитывали то, насколько далеко объект попал от разделяющей гиперплоскости. А это достаточно важный параметр.\n",
    "\n",
    "Кажется, что должна быть следующая логика:\n",
    "\n",
    "* Если $X_i$ далеко от разделяющей гиперплоскости, то классификация уверенная.\n",
    "\n",
    "* Если объект $X_i$ близко к разделяющей гиперплоскости, то классификация не уверенная.\n",
    "\n",
    "Как определить расстояние от точки до разделяющей гиперплоскости?"
   ]
  },
  {
   "cell_type": "markdown",
   "metadata": {},
   "source": [
    "**Расстояние от точки до гиперплоскости**:\n",
    "\n",
    "Рассмотрим двумерный случай:\n",
    "\n",
    "Пусть дана точка $M^* = (m_1^*, m_2^*)$.\n",
    "\n",
    "Расстояние $d$ от прямой $\\theta_0 + \\theta_1x_1 + \\theta_2x_2 = 0$ до точки $M^*$ считается по формуле:\n",
    "\n",
    "\\begin{equation*}\n",
    "d=\\dfrac{|\\theta_0 + \\theta_1m_1^* + \\theta_2m_2^*|}{\\sqrt{\\theta_1^2 + \\theta_2^2}}\n",
    "\\end{equation*}\n",
    "\n",
    "Если записать формулу в векторном виде, то ее можно применить и для пространства любой размерности\n",
    "\n",
    "\\begin{equation*}\n",
    "d = \\dfrac{|M^*\\Theta|}{\\|\\Theta\\|}\n",
    "\\end{equation*}"
   ]
  },
  {
   "cell_type": "markdown",
   "metadata": {},
   "source": [
    "<details>\n",
    "<summary>Вывод формулы расстояния от точки до гиперплоскости</summary>\n",
    "<p>\n",
    "\n",
    "Длина ортогональной проекции вектора $\\overline{a}$ на вектор $\\overline{b}$ считается по формуле:\n",
    "\n",
    "\\begin{equation*}\n",
    "np_{\\overline{b}}\\overline{a} = \\| \\overline{a}\\|cos(\\widehat{ \\overline{a},\\overline{b}}) = \\dfrac{(\\overline{a}, \\overline{b})}{\\|\\overline{b}\\|}\n",
    "\\end{equation*}\n",
    "\n",
    "\n",
    "Пусть требуется посчитать расстояние от точки $M^*$ до гиперплоскости.\n",
    "\n",
    "Возьмем любую точку $M_0$ принадлежащую данной гиперплоскости.\n",
    "\n",
    "Тогда расстояние от точки $M^*$ до гиперплоскости будет равно длине ортогональной проекции вектора $\\overline{M_0M*}$ на вектор нормали $\\overline{n}$.\n",
    "\n",
    "\n",
    "\\begin{equation*}\n",
    "d = \\dfrac{(M^* - M_0,\\overline{n})}{\\|\\overline{n}\\|} = \\dfrac{(M^*,\\overline{n})}{\\|\\overline{n}\\|} - \\dfrac{(M_0,\\overline{n})}{\\|\\overline{n}\\|} \\\\\n",
    "d = \\dfrac{(M^*,\\overline{n}) + A_0}{\\|\\overline{n}\\|} \\\\\n",
    "\\end{equation*}\n",
    "\n",
    "![](gipyerploskostiM.jpg?raw=true)\n",
    "\n",
    "</p>\n",
    "</details> "
   ]
  },
  {
   "cell_type": "markdown",
   "metadata": {},
   "source": [
    "В наших обозначениях точкой является вектор признаков $X_i$, значит расстояние от вектора $X_i$ до разделяющей гиперплоскости будет равно:\n",
    "\\begin{equation*}\n",
    "d = \\dfrac{|X_i\\Theta|}{\\|\\Theta\\|}\n",
    "\\end{equation*}"
   ]
  },
  {
   "cell_type": "markdown",
   "metadata": {},
   "source": [
    "Заметим, что произведение $X_i\\Theta$ пропорционально расстоянию от $i$-го объекта до разделяющей гиперплоскости, так как для всех объектов в выборке, вектор весов $\\Theta$ одинаковый.\n",
    "\\begin{equation*}\n",
    "d = \\dfrac{|X_i\\Theta|}{\\|\\Theta\\|} \\sim |X_i\\Theta|\n",
    "\\end{equation*}\n",
    "\n",
    "Действительно, чем больше по модулю $X_i\\Theta$, тем дальше объект $X_i$ от разделяющей гиперплоскости:"
   ]
  },
  {
   "cell_type": "markdown",
   "metadata": {},
   "source": [
    "Значит для простоты мы можем использовать величину $X_i\\Theta$, как меру расстояния от $X_i$ до разделяющей гиперплоскости."
   ]
  },
  {
   "cell_type": "code",
   "execution_count": 2,
   "metadata": {},
   "outputs": [
    {
     "data": {
      "application/vnd.jupyter.widget-view+json": {
       "model_id": "741c9c6e2d154646a74bee72c459a8ec",
       "version_major": 2,
       "version_minor": 0
      },
      "text/plain": [
       "interactive(children=(FloatSlider(value=0.0, description='$dx_1$, $dx_2$:', max=8.0, min=-2.0, step=0.415), Ou…"
      ]
     },
     "metadata": {},
     "output_type": "display_data"
    }
   ],
   "source": [
    "visualize_classification()"
   ]
  },
  {
   "cell_type": "markdown",
   "metadata": {},
   "source": [
    "Итак, \n",
    "\n",
    "* если $X_i\\Theta$ по модулю большое, классификация уверенная\n",
    "\n",
    "* если $X_i\\Theta$ по модулю маленькое, классификация неуверенная"
   ]
  },
  {
   "cell_type": "markdown",
   "metadata": {},
   "source": [
    "Как можно обозначать степень уверенности классификации?\n",
    "\n",
    "Например, вероятностью принадлежности к классам."
   ]
  },
  {
   "cell_type": "markdown",
   "metadata": {},
   "source": [
    "Давайте попробуем предсказать *вероятности принадлежности к каждому классу*"
   ]
  },
  {
   "cell_type": "markdown",
   "metadata": {},
   "source": [
    "Вернемся к задаче классификации цветков ириса"
   ]
  },
  {
   "cell_type": "markdown",
   "metadata": {},
   "source": [
    "У нас всего два класса:\n",
    "* iris setosa \n",
    "* iris virginica\n",
    "\n",
    "Будем пробовать предсказывать вероятность принадлежности классу *iris virginica*:\n",
    "\n",
    "\\begin{equation*}\n",
    "P(y_i=iris\\_virginica|X_i)\n",
    "\\end{equation*}\n",
    "Тогда\n",
    "\\begin{equation*}\n",
    "P(y_i=iris\\_setosa|X_i) = 1 - P(y_i=iris\\_virginica|X_i)\n",
    "\\end{equation*}"
   ]
  },
  {
   "cell_type": "markdown",
   "metadata": {},
   "source": [
    "Так как вероятности распределены от 0 до 1, давайте и истинные метки классов сделаем 0 и 1\n",
    " * iris setosa 0\n",
    " * iris virginica 1"
   ]
  },
  {
   "cell_type": "code",
   "execution_count": 3,
   "metadata": {
    "collapsed": true
   },
   "outputs": [],
   "source": [
    "X, kind_iris = get_data()"
   ]
  },
  {
   "cell_type": "code",
   "execution_count": 4,
   "metadata": {},
   "outputs": [
    {
     "name": "stdout",
     "output_type": "stream",
     "text": [
      "[0 0 0 0 0 0 0 0 0 0 0 0 0 0 0 0 0 0 0 0 0 0 0 0 0 0 0 0 0 0 0 0 0 0 0 0 0\n",
      " 0 0 0 0 0 0 0 0 0 0 0 0 0 1 1 1 1 1 1 1 1 1 1 1 1 1 1 1 1 1 1 1 1 1 1 1 1\n",
      " 1 1 1 1 1 1 1 1 1 1 1 1 1 1 1 1 1 1 1 1 1 1 1 1 1 1]\n"
     ]
    }
   ],
   "source": [
    "y = kind_iris.copy()\n",
    "y[y=='iris setosa'] = 0\n",
    "y[y=='iris virginica'] = 1\n",
    "y = y.astype(int)\n",
    "print(y)"
   ]
  },
  {
   "cell_type": "markdown",
   "metadata": {},
   "source": [
    "Тогда можем попробовать обучить линейную регрессию предсказывать вероятности:\n",
    "\n",
    "$X_i = \\begin{pmatrix} 1&  x_{i,1} & x_{i,2}\\end{pmatrix}$ - вектор признаков $i$ - го объекта\n",
    "\n",
    "$x_{i,1}$ - длина чашелистика на $i$-ом объекте\n",
    " \n",
    "$x_{i,2}$ - ширина чашелистика на $i$-ом объекте\n",
    " \n",
    "$y_i \\in$ {0,1} - истинная метка класса\n",
    " \n",
    "$\\Theta = \\begin{pmatrix}\\theta_0 &  \\theta_1 & \\theta_2\\end{pmatrix}^T$- параметры модели (веса)\n",
    "\n",
    "\n",
    "\\begin{equation*}\n",
    "\\Theta_{opt} = \\operatorname*{argmin}_\\Theta \\sum_{i=1}^N(\\theta_0 +  \\theta_1x_{i,1} + \\theta_2x_{i,2} - y_i)^2 = \\operatorname*{argmin}_\\Theta \\sum_{i=1}^N (X_i\\Theta - y_i)^2 \\\\\n",
    "P(y_i=iris\\_virginica|X_i) = X_i\\Theta_{opt}\n",
    "\\end{equation*}\n"
   ]
  },
  {
   "cell_type": "markdown",
   "metadata": {},
   "source": [
    "Но $X_i\\Theta$ не обязательно будет лежать в интервале $[0,1]$, $X_i\\Theta \\in \\mathbb{R}$, это очень странно для вероятности.\n",
    "\n",
    "Чтобы выход модели принимал непрерывное значение только в интервале $[0,1]$, можем взять функцию $f$ от выхода модели $X_i\\Theta$:\n",
    "\n",
    "\\begin{equation*}\n",
    "f: \\mathbb{R}\\rightarrow [0,1]\\\\\n",
    "\\tilde{y_i} = f(X_i\\Theta)\n",
    "\\end{equation*}\n",
    "\n",
    "Для подобных целей в машинном обучении принято брать функцию **сигмоида**:\n",
    "\n"
   ]
  },
  {
   "cell_type": "markdown",
   "metadata": {},
   "source": [
    "\\begin{equation*}\n",
    "f(t) = \\sigma(t) = \\dfrac{1}{1+e^{-t}}\n",
    "\\end{equation*}\n"
   ]
  },
  {
   "cell_type": "code",
   "execution_count": 5,
   "metadata": {},
   "outputs": [
    {
     "data": {
      "image/png": "[encoded data removed]",
      "text/plain": [
       "<Figure size 800x400 with 1 Axes>"
      ]
     },
     "metadata": {
      "needs_background": "light"
     },
     "output_type": "display_data"
    }
   ],
   "source": [
    "plot_sigmoid()"
   ]
  },
  {
   "cell_type": "markdown",
   "metadata": {},
   "source": [
    "Тогда модель классификации примет следующий вид:\n",
    "\\begin{equation*}\n",
    "P(y=iris\\_virginica|X) = \\sigma(\\theta_0 + \\theta_1 x_1 + \\theta_2 x_2)\\\\\n",
    "P(y=iris\\_virginica|X) = \\sigma(X\\Theta)= \\dfrac{1}{1+e^{-X\\Theta}}\n",
    "\\end{equation*}\n",
    "Тогда финальное решение о метки класса, можно принимать по порогу $p_0$:\n",
    "\n",
    "\\begin{equation*}\n",
    "y_i = \n",
    "\\begin{cases}\n",
    "   iris\\_virginica, &\\text{$\\sigma(X_i\\Theta) \\geqslant p_0$}\\\\\n",
    "   iris\\_setosa, &\\text{$\\sigma(X_i\\Theta) < p_0$}\\\\\n",
    " \\end{cases}\n",
    "\\end{equation*}\n",
    "\n",
    "В качестве значения $p_0$ можно взять, например, $0.5$."
   ]
  },
  {
   "cell_type": "markdown",
   "metadata": {},
   "source": [
    "Обучим ее как линейную регрессию с функцией ошибки *MSE*:\n",
    "\\begin{equation*}\n",
    "\\Theta_{opt} = \\operatorname*{argmin}_\\Theta \\sum_{i=1}^N(\\sigma(\\theta_0 +  \\theta_1x_{i,1} + \\theta_2x_{i,2}) - y_i)^2 = \\\\ =\\operatorname*{argmin}_\\Theta \\sum_{i=1}^N (\\sigma(X_i\\Theta) - y_i)^2 \\\\\n",
    "\\end{equation*}\n",
    "\n",
    "Вот теперь кажется, что все хорошо, но не совсем."
   ]
  },
  {
   "cell_type": "markdown",
   "metadata": {},
   "source": [
    "*MSE* хорошо оценивает среднее значение, но для вероятностей это не совсем подходит."
   ]
  },
  {
   "cell_type": "markdown",
   "metadata": {},
   "source": [
    "Обозначим за $\\tilde p(X)$ предсказанную вероятность принадлежности к классу $1$.\n",
    "\\begin{equation*}\n",
    "\\tilde p(X)=P(y=iris\\_virginica|X) = \\sigma(X\\Theta) = \\dfrac{1}{1+e^{-X\\Theta}}\n",
    "\\end{equation*}"
   ]
  },
  {
   "cell_type": "markdown",
   "metadata": {},
   "source": [
    "Рассмотрим следующую функцию:\n",
    "\\begin{equation*}\n",
    "L = \\sum\\limits_{i = 1}^N y_i\\ln(\\tilde p(X_i)) + (1-y_i)\\ln(1-\\tilde p(X_i))\n",
    "\\end{equation*}"
   ]
  },
  {
   "cell_type": "markdown",
   "metadata": {},
   "source": [
    "Заметим, что чем ближе $\\tilde p(X_i)$ к истинным ответам $y_i$, тем больше значение $L$."
   ]
  },
  {
   "cell_type": "markdown",
   "metadata": {},
   "source": [
    "Обычно для обучения мы хотим минимизировать функцию ошибки, поэтому поставим знак минус перед $L$.\n",
    "\n",
    "Пусть $\\tilde L = -L$, тогда минимизируя $\\tilde L$, будем максимизировать $L$.\n",
    "\n",
    "\\begin{equation*}\n",
    "\\tilde L = -L\\\\\n",
    "\\Theta_{opt} = \\operatorname*{argmin}_\\Theta \\tilde L\\\\\n",
    "\\Theta_{opt} = \\operatorname*{argmin}_\\Theta (-\\sum\\limits_{i = 1}^N y_i\\ln(\\tilde p(X_i)) + (1-y_i)\\ln(1-\\tilde p(X_i)))\\\\\n",
    "\\Theta_{opt} = \\operatorname*{argmin}_\\Theta( -\\sum\\limits_{i = 1}^N y_i\\ln(\\sigma(X_i\\Theta)) + (1-y_i)\\ln(1 -\\sigma(X_i\\Theta)))\n",
    "\\end{equation*}"
   ]
  },
  {
   "cell_type": "markdown",
   "metadata": {},
   "source": [
    "Функцию ошибки $\\tilde L$ еще можно переписать в следующем виде:\n",
    "\\begin{equation*}\n",
    "\\tilde L = \\sum\\limits_{i = 1}^N -y_i\\ln(\\sigma(X_i\\Theta)) - (1-y_i)\\ln(1 -\\sigma(X_i\\Theta))\\\\\n",
    "\\tilde L = \\sum\\limits_{i = 1}^N L_i \\\\\n",
    "\\tilde L_i  = \n",
    " \\begin{cases}\n",
    "   -\\ln(\\sigma(X_i\\Theta)), &y_i=1\\\\\n",
    "  -\\ln(1 -\\sigma(X_i\\Theta)), &y_i=0\\\\\n",
    " \\end{cases} \\\\\n",
    "\\end{equation*}\n",
    "\n",
    "Функцию ошибки $\\tilde L$ называют **кросс-энтропия (сross entropy)**."
   ]
  },
  {
   "cell_type": "markdown",
   "metadata": {},
   "source": [
    "Почему *сross entropy* оптимальнее *MSE*?\n",
    "\n",
    "* Рассмотрим пример, когда истинный класс $y$ = 1\n",
    "\n",
    "Тогда ошибка *MSE*:\n",
    "\n",
    "* $L_{mse} = (1 - sogmoid(X\\Theta))^2$\n",
    "\n",
    "Ошибка на *кросс-энтропии*:\n",
    "\n",
    "* $L_{ce} = -\\ln(\\sigma(X\\Theta))$"
   ]
  },
  {
   "cell_type": "markdown",
   "metadata": {},
   "source": [
    "Возьмем производные от ошибок по вектору весов $\\Theta$:\n",
    "\n",
    "* $\\dfrac{\\partial L_{mse}}{\\partial\\Theta} = -2(1 - \\sigma(X\\Theta))\\dfrac{\\partial \\sigma(X\\Theta)}{\\partial\\Theta} =  - 2(1 - \\sigma(X\\Theta)) * DS$\n",
    "\n",
    "\n",
    "* $\\dfrac{\\partial L_{ce}}{\\partial\\Theta} = \\dfrac{-1}{\\sigma(X\\Theta)}\\dfrac{\\partial \\sigma(X\\Theta)}{\\partial\\Theta}  = \\dfrac{-1}{\\sigma(X\\Theta)} * DS$\n",
    "\n",
    "\n",
    "\n",
    "* $DS = \\dfrac{\\partial \\sigma(X\\Theta)}{\\partial\\Theta}$"
   ]
  },
  {
   "cell_type": "code",
   "execution_count": 6,
   "metadata": {},
   "outputs": [
    {
     "data": {
      "image/png": "[encoded data removed]",
      "text/plain": [
       "<Figure size 800x400 with 1 Axes>"
      ]
     },
     "metadata": {
      "needs_background": "light"
     },
     "output_type": "display_data"
    }
   ],
   "source": [
    "plot_div_mse_ce()"
   ]
  },
  {
   "cell_type": "markdown",
   "metadata": {},
   "source": [
    "Как видим из графика, абсолютное значение производной функции ошибки *cross entropy* больше, чем у *MSE*.\n",
    "\n",
    "*Cross entropy*  сильнее штрафует за неправильный ответ классификатора, поэтому лучше обновляет веса на градиентном спуске."
   ]
  },
  {
   "cell_type": "markdown",
   "metadata": {},
   "source": [
    "Если переобозначить метку класса 0 за -1, то кросс-энтропия примет знакомый нам вид:\n",
    "\\begin{equation*}\n",
    "\\tilde L = \\sum_{i=1}^N ln(1 + e^{-y_i \\cdot X_i\\Theta})\n",
    "\\end{equation*}\n",
    "\n",
    "Оптимизируя кросс энтропию, мы оптимизируем логистическую функцию потерь."
   ]
  },
  {
   "cell_type": "markdown",
   "metadata": {},
   "source": [
    "Линейный классификатор, который предсказывает вероятность принадлежности к классам с логистической функцией потерь, называется **Логистическая регрессия (Logistic regression)**.\n",
    "\n",
    "Соберем все вместе и обучим *логистическую регрессию* предсказывать вид цветка ириса"
   ]
  },
  {
   "cell_type": "markdown",
   "metadata": {},
   "source": [
    "Но сначала, нам нужно научиться брать производную от *сигмоиды*\n",
    "\\begin{equation*}\n",
    "\\sigma(t) = \\dfrac{1}{1+e^{-t}} \\\\ \\\\\n",
    "\\dfrac{d \\sigma(t)}{dt} = \\dfrac{e^{-t}}{(1+e^{-t})^2} = \\dfrac{e^{-t}+1-1}{(1+e^{-t})^2} = \\\\\n",
    "\\dfrac{1}{1+e^{-t}} - \\dfrac{1}{(1+e^{-t})^2} = \\\\\n",
    "\\sigma(t)(1-\\sigma(t))\\\\\n",
    "\\dfrac{d \\sigma(t)}{dt} = \\sigma(t)(1-\\sigma(t))\n",
    "\\end{equation*}"
   ]
  },
  {
   "cell_type": "markdown",
   "metadata": {},
   "source": [
    "Производная функции ошибки:\n",
    "\\begin{equation*}\n",
    "\\tilde L = -\\sum\\limits_{i = 1}^N y_i\\ln(\\sigma(X_i\\Theta)) + (1-y_i)\\ln(1 -\\sigma(X_i\\Theta)) \\\\\n",
    "\\dfrac{\\partial \\tilde L(\\Theta)}{\\partial \\theta_j} = -\\sum\\limits_{i = 1}^Ny_i\\dfrac{\\sigma(X_i\\Theta)(1-\\sigma(X_i\\Theta)}{\\sigma(X_i\\Theta)}x_{i,j} - (1-y_i)\\dfrac{\\sigma(X_i\\Theta)(1-\\sigma(X_i\\Theta))}{1-\\sigma(X_i\\Theta)}x_{i,j} = \\\\\n",
    "= -\\sum\\limits_{i = 1}^Ny_i(1-\\sigma(X_i\\Theta))x_{i,j} - (1-y_i)\\sigma(X_i\\Theta)x_{i,j} \n",
    "\\end{equation*}\n",
    "\n",
    "Интересное замечание:\n",
    "* $y_i=1$, производная равна вероятности нулевого класса на $j$-ую координату вектора $X_i$\n",
    "* $y_i=0$, производная равна вероятности первого класса на $j$-ую координату вектора $X_i$\n",
    "\n",
    "Суммарная производная по вектору весов - это взвешенная, предсказанными вероятностями, сумма векторов $X_i$"
   ]
  },
  {
   "cell_type": "markdown",
   "metadata": {},
   "source": [
    "Теперь у нас все готово для реализации *Логистической регрессии*."
   ]
  },
  {
   "cell_type": "markdown",
   "metadata": {},
   "source": [
    "Как всегда, добавим единицу первым столбцом в данные"
   ]
  },
  {
   "cell_type": "code",
   "execution_count": 7,
   "metadata": {
    "collapsed": true
   },
   "outputs": [],
   "source": [
    "def create_data(X):\n",
    "    X_ones = np.ones(X.shape[0])\n",
    "    return np.column_stack([X_ones, X])\n",
    "\n",
    "X_train = create_data(X)"
   ]
  },
  {
   "cell_type": "markdown",
   "metadata": {},
   "source": [
    "Реализуем функцию сигмоиды \\begin{equation*}\n",
    "\\sigma(x) = \\dfrac{1}{1+e^{-x}}\n",
    "\\end{equation*}\n",
    "\n"
   ]
  },
  {
   "cell_type": "code",
   "execution_count": 8,
   "metadata": {
    "collapsed": true
   },
   "outputs": [],
   "source": [
    "def sigmoid(x):\n",
    "    return 1/(1+np.e**(-x))"
   ]
  },
  {
   "cell_type": "markdown",
   "metadata": {},
   "source": [
    "Зададим начальные параметры весов случайными значениями от 0 до 1:"
   ]
  },
  {
   "cell_type": "code",
   "execution_count": 9,
   "metadata": {},
   "outputs": [
    {
     "name": "stdout",
     "output_type": "stream",
     "text": [
      "[0.1335971  0.27636674 0.9537019 ]\n"
     ]
    }
   ],
   "source": [
    "Theta = np.random.random_sample(size=(X_train.shape[1],))\n",
    "print(Theta)"
   ]
  },
  {
   "cell_type": "markdown",
   "metadata": {},
   "source": [
    "Подсчет градиента:\n",
    "$\\dfrac{\\partial \\tilde L(\\Theta)}{\\partial \\theta_j}\n",
    "= -\\sum\\limits_{i = 1}^Ny_i(1-\\sigma(X_i\\Theta))x_{i,j} - (1-y_i)\\sigma(X_i\\Theta)x_{i,j}$"
   ]
  },
  {
   "cell_type": "code",
   "execution_count": 10,
   "metadata": {
    "collapsed": true
   },
   "outputs": [],
   "source": [
    "def gradient_function(Theta, X, y):\n",
    "    grad = np.zeros_like(Theta)\n",
    "    for j in range(Theta.shape[0]):       \n",
    "        grad[j] = -sum(y*(1-sigmoid(X@Theta))*X[:,j] - (1-y)*sigmoid(X@Theta)*X[:,j])\n",
    "    return grad"
   ]
  },
  {
   "cell_type": "markdown",
   "metadata": {},
   "source": [
    "Градиентный спуск: \n",
    "\n",
    "$\\theta_{j_{new}} = \\theta_j - \\alpha \\dfrac{\\partial \\tilde L(\\Theta)}{\\partial \\theta_j}$  \n",
    "$\\theta_{j_{new}} = \\theta_j - \\alpha (-\\sum\\limits_{i = 1}^Ny_i(1-\\sigma(X_i\\Theta))x_{i,j} - (1-y_i)\\sigma(X_i\\Theta)x_{i,j})$"
   ]
  },
  {
   "cell_type": "code",
   "execution_count": 11,
   "metadata": {
    "collapsed": true
   },
   "outputs": [],
   "source": [
    "def gradient_descent(Theta, X, y, alpha, iters):        \n",
    "    theta = Theta\n",
    "    for i in range (iters):\n",
    "        theta = theta - alpha * gradient_function(theta, X, y)\n",
    "    return theta"
   ]
  },
  {
   "cell_type": "code",
   "execution_count": 12,
   "metadata": {},
   "outputs": [
    {
     "data": {
      "text/plain": [
       "array([-1.20438374,  2.94257713, -4.8650091 ])"
      ]
     },
     "execution_count": 12,
     "metadata": {},
     "output_type": "execute_result"
    }
   ],
   "source": [
    "theta_opt = gradient_descent(Theta, X_train, y, 0.001, 1000)\n",
    "theta_opt"
   ]
  },
  {
   "cell_type": "code",
   "execution_count": 13,
   "metadata": {
    "scrolled": true
   },
   "outputs": [
    {
     "data": {
      "text/plain": [
       "array([0.03824407, 0.20088326, 0.05010168, 0.06008342, 0.01788878,\n",
       "       0.0135463 , 0.01463552, 0.04597777, 0.08583606, 0.1338563 ,\n",
       "       0.03506014, 0.02605756, 0.15775327, 0.04123616, 0.0266625 ,\n",
       "       0.00290697, 0.0135463 , 0.03824407, 0.05123547, 0.00915485,\n",
       "       0.13522864, 0.01480647, 0.00558227, 0.09519687, 0.02605756,\n",
       "       0.25227314, 0.04597777, 0.05066557, 0.07987743, 0.05010168,\n",
       "       0.10325761, 0.13522864, 0.002873  , 0.00426411, 0.1338563 ,\n",
       "       0.11309325, 0.11428081, 0.01338971, 0.05457433, 0.06075247,\n",
       "       0.0287756 , 0.70008286, 0.02135102, 0.0287756 , 0.00915485,\n",
       "       0.15775327, 0.00915485, 0.03781292, 0.02635834, 0.07269378,\n",
       "       0.78233438, 0.93860343, 0.9938972 , 0.96177629, 0.96535493,\n",
       "       0.998592  , 0.74110533, 0.99790876, 0.99825344, 0.92187783,\n",
       "       0.91327846, 0.9889322 , 0.98537246, 0.96788479, 0.90383125,\n",
       "       0.88696227, 0.96535493, 0.95103409, 0.99984996, 0.99682117,\n",
       "       0.97156726, 0.83916424, 0.9996031 , 0.98520161, 0.9210248 ,\n",
       "       0.98803985, 0.96824912, 0.89569769, 0.98212094, 0.99544582,\n",
       "       0.999041  , 0.97221123, 0.98212094, 0.97614988, 0.98363827,\n",
       "       0.99895054, 0.68843679, 0.92734354, 0.86483609, 0.98232672,\n",
       "       0.96860946, 0.98232672, 0.93860343, 0.96220722, 0.9210248 ,\n",
       "       0.9804657 , 0.99435503, 0.96535493, 0.6221217 , 0.82661064])"
      ]
     },
     "execution_count": 13,
     "metadata": {},
     "output_type": "execute_result"
    }
   ],
   "source": [
    "def predict_function(X_train, theta):\n",
    "    y_pred = np.dot(X_train, theta) #X @ Theta\n",
    "    return sigmoid(y_pred)\n",
    "\n",
    "y_pred = predict_function(X_train, theta_opt)\n",
    "y_pred"
   ]
  },
  {
   "cell_type": "markdown",
   "metadata": {},
   "source": [
    "Давайте опять посмотрим на долю неверных ответов, но теперь нам нужен порог $p_0$, преодолев который мы будем считать, что классификатор присвоил объект к классу $1$."
   ]
  },
  {
   "cell_type": "code",
   "execution_count": 14,
   "metadata": {
    "collapsed": true
   },
   "outputs": [],
   "source": [
    "def error(y, y_pred, p=0.5):\n",
    "    return np.mean((y_pred > p).astype(int) != y)"
   ]
  },
  {
   "cell_type": "code",
   "execution_count": 15,
   "metadata": {},
   "outputs": [
    {
     "name": "stdout",
     "output_type": "stream",
     "text": [
      "Порог = 0.0, доля неверных ответов = 0.5\n",
      "Порог = 0.1, доля неверных ответов = 0.12\n",
      "Порог = 0.2, доля неверных ответов = 0.03\n",
      "Порог = 0.3, доля неверных ответов = 0.01\n",
      "Порог = 0.4, доля неверных ответов = 0.01\n",
      "Порог = 0.5, доля неверных ответов = 0.01\n",
      "Порог = 0.6, доля неверных ответов = 0.01\n",
      "Порог = 0.7, доля неверных ответов = 0.03\n",
      "Порог = 0.8, доля неверных ответов = 0.04\n",
      "Порог = 0.9, доля неверных ответов = 0.09\n",
      "Порог = 1.0, доля неверных ответов = 0.5\n"
     ]
    }
   ],
   "source": [
    "P = np.linspace(0,1,11)\n",
    "for p in P:\n",
    "    p = round(p,1)\n",
    "    err = error(y, y_pred, p=p)\n",
    "    print(\"Порог = {}, доля неверных ответов = {}\".format(p, err))"
   ]
  },
  {
   "cell_type": "code",
   "execution_count": 16,
   "metadata": {},
   "outputs": [
    {
     "data": {
      "image/png": "[encoded data removed]",
      "text/plain": [
       "<Figure size 800x600 with 1 Axes>"
      ]
     },
     "metadata": {
      "needs_background": "light"
     },
     "output_type": "display_data"
    }
   ],
   "source": [
    "plot_finaly_trained_model(X, kind_iris, theta_opt)"
   ]
  },
  {
   "cell_type": "markdown",
   "metadata": {},
   "source": [
    "Чтобы всякий раз не писать градиентный спуск вручную, логистическая регрессия есть в библиотеке scikit-learn."
   ]
  },
  {
   "cell_type": "code",
   "execution_count": 17,
   "metadata": {
    "collapsed": true
   },
   "outputs": [],
   "source": [
    "from sklearn.linear_model import LogisticRegression"
   ]
  },
  {
   "cell_type": "code",
   "execution_count": 18,
   "metadata": {},
   "outputs": [
    {
     "data": {
      "text/plain": [
       "array([0, 0, 0, 0, 0, 0, 0, 0, 0, 0, 0, 0, 0, 0, 0, 0, 0, 0, 0, 0, 0, 0,\n",
       "       0, 0, 0, 0, 0, 0, 0, 0, 0, 0, 0, 0, 0, 0, 0, 0, 0, 0, 0, 0, 0, 0,\n",
       "       0, 0, 0, 0, 0, 0, 1, 1, 1, 1, 1, 1, 0, 1, 1, 1, 1, 1, 1, 1, 1, 1,\n",
       "       1, 1, 1, 1, 1, 1, 1, 1, 1, 1, 1, 1, 1, 1, 1, 1, 1, 1, 1, 1, 1, 1,\n",
       "       1, 1, 1, 1, 1, 1, 1, 1, 1, 1, 1, 1])"
      ]
     },
     "execution_count": 18,
     "metadata": {},
     "output_type": "execute_result"
    }
   ],
   "source": [
    "clf = LogisticRegression()\n",
    "clf.fit(X,y)\n",
    "y_pred_sklearn = clf.predict(X)\n",
    "y_pred_sklearn"
   ]
  },
  {
   "cell_type": "markdown",
   "metadata": {},
   "source": [
    "Важно, здесь матрица $X$ уже не содержит столбца единиц!"
   ]
  },
  {
   "cell_type": "markdown",
   "metadata": {},
   "source": [
    "Метод predict возвращает метки классов по порогу 0.5, чтобы получить вероятности классов, нужно вызвать метод predict_proba"
   ]
  },
  {
   "cell_type": "code",
   "execution_count": 19,
   "metadata": {
    "scrolled": true
   },
   "outputs": [
    {
     "data": {
      "text/plain": [
       "array([[9.23308026e-01, 7.66919740e-02],\n",
       "       [8.81361315e-01, 1.18638685e-01],\n",
       "       [9.56051150e-01, 4.39488503e-02],\n",
       "       [9.59769824e-01, 4.02301759e-02],\n",
       "       [9.53707003e-01, 4.62929975e-02],\n",
       "       [9.19364723e-01, 8.06352767e-02],\n",
       "       [9.78947100e-01, 2.10529000e-02],\n",
       "       [9.29593187e-01, 7.04068131e-02],\n",
       "       [9.66322201e-01, 3.36777987e-02],\n",
       "       [9.02721793e-01, 9.72782066e-02],\n",
       "       [8.79620140e-01, 1.20379860e-01],\n",
       "       [9.61206932e-01, 3.87930677e-02],\n",
       "       [9.10530582e-01, 8.94694184e-02],\n",
       "       [9.80039909e-01, 1.99600914e-02],\n",
       "       [8.01742184e-01, 1.98257816e-01],\n",
       "       [9.30976172e-01, 6.90238276e-02],\n",
       "       [9.19364723e-01, 8.06352767e-02],\n",
       "       [9.23308026e-01, 7.66919740e-02],\n",
       "       [7.80238298e-01, 2.19761702e-01],\n",
       "       [9.59126028e-01, 4.08739723e-02],\n",
       "       [7.89426963e-01, 2.10573037e-01],\n",
       "       [9.49457424e-01, 5.05425764e-02],\n",
       "       [9.86404774e-01, 1.35952264e-02],\n",
       "       [8.85264508e-01, 1.14735492e-01],\n",
       "       [9.61206932e-01, 3.87930677e-02],\n",
       "       [8.44308239e-01, 1.55691761e-01],\n",
       "       [9.29593187e-01, 7.04068131e-02],\n",
       "       [8.97837121e-01, 1.02162879e-01],\n",
       "       [8.75551924e-01, 1.24448076e-01],\n",
       "       [9.56051150e-01, 4.39488503e-02],\n",
       "       [9.27073786e-01, 7.29262138e-02],\n",
       "       [7.89426963e-01, 2.10573037e-01],\n",
       "       [9.70918678e-01, 2.90813224e-02],\n",
       "       [9.41934512e-01, 5.80654881e-02],\n",
       "       [9.02721793e-01, 9.72782066e-02],\n",
       "       [8.94310573e-01, 1.05689427e-01],\n",
       "       [7.73675649e-01, 2.26324351e-01],\n",
       "       [9.65779523e-01, 3.42204772e-02],\n",
       "       [9.72856867e-01, 2.71431331e-02],\n",
       "       [9.05997184e-01, 9.40028163e-02],\n",
       "       [9.42832948e-01, 5.71670516e-02],\n",
       "       [8.46471019e-01, 1.53528981e-01],\n",
       "       [9.82433201e-01, 1.75667991e-02],\n",
       "       [9.42832948e-01, 5.71670516e-02],\n",
       "       [9.59126028e-01, 4.08739723e-02],\n",
       "       [9.10530582e-01, 8.94694184e-02],\n",
       "       [9.59126028e-01, 4.08739723e-02],\n",
       "       [9.67533162e-01, 3.24668375e-02],\n",
       "       [9.09173387e-01, 9.08266134e-02],\n",
       "       [9.13568221e-01, 8.64317787e-02],\n",
       "       [1.50116232e-01, 8.49883768e-01],\n",
       "       [1.83219096e-01, 8.16780904e-01],\n",
       "       [7.25331151e-03, 9.92746688e-01],\n",
       "       [6.76407705e-02, 9.32359230e-01],\n",
       "       [4.60649156e-02, 9.53935084e-01],\n",
       "       [1.51209605e-03, 9.98487904e-01],\n",
       "       [7.09532193e-01, 2.90467807e-01],\n",
       "       [3.10707088e-03, 9.96892929e-01],\n",
       "       [8.38985269e-03, 9.91610147e-01],\n",
       "       [1.98590481e-02, 9.80140952e-01],\n",
       "       [7.00686532e-02, 9.29931347e-01],\n",
       "       [3.28258708e-02, 9.67174129e-01],\n",
       "       [1.84371081e-02, 9.81562892e-01],\n",
       "       [1.64536888e-01, 8.35463112e-01],\n",
       "       [2.18875099e-01, 7.81124901e-01],\n",
       "       [9.35627327e-02, 9.06437267e-01],\n",
       "       [4.60649156e-02, 9.53935084e-01],\n",
       "       [6.51018637e-03, 9.93489814e-01],\n",
       "       [4.53841613e-04, 9.99546158e-01],\n",
       "       [3.78168058e-02, 9.62183194e-01],\n",
       "       [2.09464429e-02, 9.79053557e-01],\n",
       "       [3.44626815e-01, 6.55373185e-01],\n",
       "       [7.07970736e-04, 9.99292029e-01],\n",
       "       [4.44290264e-02, 9.55570974e-01],\n",
       "       [4.77580283e-02, 9.52241972e-01],\n",
       "       [8.25330333e-03, 9.91746697e-01],\n",
       "       [7.36985850e-02, 9.26301415e-01],\n",
       "       [1.45348218e-01, 8.54651782e-01],\n",
       "       [4.06714509e-02, 9.59328549e-01],\n",
       "       [5.30512353e-03, 9.94694876e-01],\n",
       "       [1.81806488e-03, 9.98181935e-01],\n",
       "       [3.47961876e-03, 9.96520381e-01],\n",
       "       [4.06714509e-02, 9.59328549e-01],\n",
       "       [5.48904404e-02, 9.45109560e-01],\n",
       "       [6.52911075e-02, 9.34708893e-01],\n",
       "       [1.10424254e-03, 9.98895757e-01],\n",
       "       [1.80755788e-01, 8.19244212e-01],\n",
       "       [7.63261054e-02, 9.23673895e-01],\n",
       "       [1.88954765e-01, 8.11045235e-01],\n",
       "       [1.68390559e-02, 9.83160944e-01],\n",
       "       [3.11413938e-02, 9.68858606e-01],\n",
       "       [1.68390559e-02, 9.83160944e-01],\n",
       "       [1.83219096e-01, 8.16780904e-01],\n",
       "       [2.84741300e-02, 9.71525870e-01],\n",
       "       [4.77580283e-02, 9.52241972e-01],\n",
       "       [2.50861026e-02, 9.74913897e-01],\n",
       "       [2.89354683e-02, 9.71064532e-01],\n",
       "       [4.60649156e-02, 9.53935084e-01],\n",
       "       [2.32100255e-01, 7.67899745e-01],\n",
       "       [2.41940396e-01, 7.58059604e-01]])"
      ]
     },
     "execution_count": 19,
     "metadata": {},
     "output_type": "execute_result"
    }
   ],
   "source": [
    "y_pred_prob_sklearn = clf.predict_proba(X)\n",
    "y_pred_prob_sklearn"
   ]
  },
  {
   "cell_type": "markdown",
   "metadata": {},
   "source": [
    "Так как классификация бинарная, первым столбцом predict_proba вернул вероятность нулевого класса, а вторым вероятность первого"
   ]
  },
  {
   "cell_type": "markdown",
   "metadata": {},
   "source": [
    "Параметры модели $\\Theta$ хранятся в поле intercept_ ($\\theta_0$) и coef_ ($\\theta_1, \\theta_2$)"
   ]
  },
  {
   "cell_type": "code",
   "execution_count": 20,
   "metadata": {},
   "outputs": [
    {
     "name": "stdout",
     "output_type": "stream",
     "text": [
      "[-10.75428623] [[ 3.14745566 -2.22454385]]\n"
     ]
    }
   ],
   "source": [
    "print(clf.intercept_, clf.coef_)"
   ]
  },
  {
   "cell_type": "markdown",
   "metadata": {},
   "source": [
    "### Вывод\n",
    "1. Помимо предсказания метки класса, мы научились оценивать уверенность такого предсказания, как вероятность принадлежности первому классу:\n",
    "\\begin{equation*}\n",
    "P(y=1|X) = \\sigma(X\\Theta), \\\\\n",
    "P(y=0|X) = 1 - \\sigma(X\\Theta).\n",
    "\\end{equation*}\n",
    "2. Решение о том, относим мы объект $X_i$ к классу $1$, принимается по заданному порогу $p_0$, если ответ классификатора $\\tilde p(X)=\\sigma(X\\Theta) > p_0$, ставим метку класса $1$, иначе $0$\n",
    "3. Для обучения классификатора мы выбрали функцию ошибки *cross entropy*, т.к. ее градиент лучше обновляет веса на градиентном спуске."
   ]
  }
 ],
 "metadata": {
  "kernelspec": {
   "display_name": "Python 3",
   "language": "python",
   "name": "python3"
  },
  "language_info": {
   "codemirror_mode": {
    "name": "ipython",
    "version": 3
   },
   "file_extension": ".py",
   "mimetype": "text/x-python",
   "name": "python",
   "nbconvert_exporter": "python",
   "pygments_lexer": "ipython3",
   "version": "3.6.3"
  }
 },
 "nbformat": 4,
 "nbformat_minor": 2
}
