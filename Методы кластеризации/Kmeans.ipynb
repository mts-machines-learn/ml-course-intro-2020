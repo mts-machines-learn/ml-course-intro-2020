{
 "cells": [
  {
   "cell_type": "markdown",
   "metadata": {},
   "source": [
    "### Кластеризация"
   ]
  },
  {
   "cell_type": "markdown",
   "metadata": {},
   "source": [
    "Кластеризация (или кластерный анализ) — это задача разбиения множества объектов на группы, называемые кластерами. Внутри каждой группы должны оказаться «похожие» объекты, а объекты разных групп должны быть как можно более отличны.\n",
    "\n",
    "Задача кластеризации относится к классу задач обучения без учителя."
   ]
  },
  {
   "cell_type": "markdown",
   "metadata": {},
   "source": [
    "#### Постановка Задачи\n",
    "Имеется конечная обучающая выборка объектов $X^{n}=\\left \\{ x_{1}, x_{2}, ... , x_{n} \\right \\}$\n",
    "\n",
    "Задана функцию расстояния между объектами $\\rho (x, {x}')$\n",
    "\n",
    "Задача каждому объекту $x\\in X$ поставить в соответствие номер кластера $y\\in Y$"
   ]
  },
  {
   "cell_type": "markdown",
   "metadata": {},
   "source": [
    "<img src=\"clustering_helpers/Clusters.png\">"
   ]
  },
  {
   "cell_type": "markdown",
   "metadata": {},
   "source": [
    "#### Типы кластеризации\n",
    "Жесткая - каждому объекту ставится в соответствие принадлежность одному кластеру\n",
    "\n",
    "Мягкая - для каждого объекта рассчитывается вероятность принадлежности каждому из кластеров\n",
    "\n",
    "Иерархическая - кластер 1 может быть внутри кластера 2"
   ]
  },
  {
   "cell_type": "markdown",
   "metadata": {},
   "source": [
    "Применение кластерного анализа в общем виде сводится к следующим этапам:\n",
    " 1. Отбор выборки объектов для кластеризации.\n",
    " 2. Определение множества переменных, по которым будут оцениваться объекты в выборке. При необходимости – нормализация значений переменных.\n",
    " 3. Вычисление значений меры сходства между объектами.\n",
    " 4. Применение метода кластерного анализа для создания групп сходных объектов (кластеров).\n",
    " 5. Представление результатов анализа.\n",
    "\n",
    "После получения и анализа результатов возможна корректировка выбранной метрики и метода кластеризации до получения оптимального результата."
   ]
  },
  {
   "cell_type": "markdown",
   "metadata": {},
   "source": [
    "Для каждой пары объектов измеряется «расстояние» между ними — степень похожести. Существует множество метрик, вот некоторые из них:\n",
    "1. Евклидово расстояние\n",
    "\n",
    "Евклидово расстояние - расстояние между двумя точками евклидова пространства, вычисляемое по теореме Пифагора.\n",
    "$$d_{ij}=\\sqrt{\\sum_{k=1}^{n}(x_{ik}-x_{jk})^{2}}$$\n",
    "<img src=\"clustering_helpers/euclid.png\">"
   ]
  },
  {
   "cell_type": "markdown",
   "metadata": {},
   "source": [
    "2. Манхэттенское расстояние (расстояние городских кварталов)\n",
    "\n",
    "Это расстояние равно сумме модулей разностей их координат. В большинстве случаев эта мера расстояния приводит к таким же результатам, как и для обычного расстояния Евклида. Однако для этой меры влияние отдельных больших разностей (выбросов) уменьшается (т.к. они не возводятся в квадрат).\n",
    "$$d_{ij}=\\sum_{k=1}^{n}\\left |x_{ik}-x_{jk}\\right |$$\n",
    "<img src=\"clustering_helpers/Taxicab.png\">"
   ]
  },
  {
   "cell_type": "markdown",
   "metadata": {},
   "source": [
    "3. Расстояние Левенштейна\n",
    "\n",
    "Расстояние Левенштейна — метрика, измеряющая разность между двумя последовательностями символов. Она определяется как минимальное количество односимвольных операций(удаление, вставка, замена), необходимых для превращения одной последовательности символов в другую.\n",
    "\n",
    "    D — удалить, I — вставить, R — заменить, M — совпадение\n",
    "<img src=\"clustering_helpers/lev.png\">"
   ]
  },
  {
   "cell_type": "markdown",
   "metadata": {},
   "source": [
    "4. Косинусное сходство (косинусное расстояние)\n",
    "\n",
    "Косинусное сходство — это мера сходства между двумя векторами предгильбертового пространства, которая используется для измерения косинуса угла между ними. Если два объекта находятся на одной прямой, проходящей между началом координат, эти объекты считаются одинаковыми (расстояние равно нулю)\n",
    "$$cos(\\theta) = \\frac{A\\cdot B}{\\left \\| A \\right \\|\\left \\| B \\right \\|} = \\frac{\\sum_{i=1}^{n}A_{i}* B_{i}}{\\sqrt{\\sum_{i=1}^{n}(A_{i})^{2}}* \\sqrt{\\sum_{i=1}^{n}(B_{i})^{2}}}$$\n",
    "<img src=\"clustering_helpers/cosin.png\">"
   ]
  },
  {
   "cell_type": "markdown",
   "metadata": {},
   "source": [
    "Выбор метрики полностью лежит на исследователе, поскольку результаты кластеризации могут существенно отличаться при использовании разных мер."
   ]
  },
  {
   "cell_type": "code",
   "execution_count": null,
   "metadata": {},
   "outputs": [],
   "source": []
  },
  {
   "cell_type": "code",
   "execution_count": null,
   "metadata": {},
   "outputs": [],
   "source": []
  },
  {
   "cell_type": "code",
   "execution_count": 1,
   "metadata": {},
   "outputs": [],
   "source": [
    "from sklearn.datasets import make_blobs, make_moons\n",
    "import numpy as np\n",
    "import matplotlib.pyplot as plt\n",
    "%matplotlib inline"
   ]
  },
  {
   "cell_type": "markdown",
   "metadata": {},
   "source": [
    "### K-means\n",
    "\n",
    "K-means - один из алгоритмов машинного обучения, решающий задачу кластеризации. \n",
    "\n",
    "Основная идея алгоритма k-means заключается в том, что данные произвольно разбиваются на кластеры, после чего итеративно перевычисляется центр масс для каждого кластера, полученного на предыдущем шаге, затем векторы разбиваются на кластеры вновь в соответствии с тем, какой из новых центров оказался ближе по выбранной метрике.\n",
    "\n",
    "Цель алгоритма заключается в разделении n наблюдений на k кластеров таким образом, чтобы каждое наблюдение принадлежало ровно одному кластеру, расположенному на наименьшем расстоянии от наблюдения."
   ]
  },
  {
   "cell_type": "code",
   "execution_count": 2,
   "metadata": {},
   "outputs": [],
   "source": [
    "from clustering_helpers.my_knn import show_kmeans\n",
    "from ipywidgets import interact"
   ]
  },
  {
   "cell_type": "code",
   "execution_count": 3,
   "metadata": {},
   "outputs": [
    {
     "data": {
      "application/vnd.jupyter.widget-view+json": {
       "model_id": "1ac72e96132f4496afc359dd0a3ae077",
       "version_major": 2,
       "version_minor": 0
      },
      "text/plain": [
       "interactive(children=(IntSlider(value=4, description='step', max=8), Output()), _dom_classes=('widget-interact…"
      ]
     },
     "metadata": {},
     "output_type": "display_data"
    },
    {
     "data": {
      "text/plain": [
       "<function clustering_helpers.my_knn.show_kmeans(step)>"
      ]
     },
     "execution_count": 3,
     "metadata": {},
     "output_type": "execute_result"
    }
   ],
   "source": [
    "interact(show_kmeans, step=(0,8,1))"
   ]
  },
  {
   "cell_type": "code",
   "execution_count": null,
   "metadata": {},
   "outputs": [],
   "source": []
  },
  {
   "cell_type": "code",
   "execution_count": 4,
   "metadata": {},
   "outputs": [],
   "source": [
    "# фиксируем размер отображаемых картинок\n",
    "from pylab import rcParams\n",
    "rcParams['figure.figsize'] = (9, 8)"
   ]
  },
  {
   "cell_type": "code",
   "execution_count": 5,
   "metadata": {},
   "outputs": [],
   "source": [
    "#генерируем датасет\n",
    "#1-й пример\n",
    "X, y = make_blobs(n_samples=300, centers=4,\n",
    "                  cluster_std=0.80, random_state=40)\n",
    "# #2-ой пример\n",
    "# X, y = make_moons(n_samples=300, noise=0.10, random_state=40)"
   ]
  },
  {
   "cell_type": "code",
   "execution_count": 6,
   "metadata": {},
   "outputs": [
    {
     "data": {
      "image/png": "[encoded data removed]",
      "text/plain": [
       "<Figure size 648x576 with 1 Axes>"
      ]
     },
     "metadata": {
      "needs_background": "light"
     },
     "output_type": "display_data"
    }
   ],
   "source": [
    "# визуализируем получившиеся данные\n",
    "x_1 = X[:, 0]\n",
    "x_2 = X[:, 1]\n",
    "X = np.array(list(zip(x_1, x_2)))\n",
    "plt.scatter(X[:, 0], X[:, 1], c=y, cmap='Set1', s=10)\n",
    "plt.xlabel('feature1', fontsize=15)\n",
    "plt.ylabel('feature2', fontsize=15)\n",
    "plt.grid()\n",
    "plt.show()"
   ]
  },
  {
   "cell_type": "code",
   "execution_count": null,
   "metadata": {},
   "outputs": [],
   "source": []
  },
  {
   "cell_type": "markdown",
   "metadata": {},
   "source": [
    "Напишем функцию создающую центроиды кластеров, для их расположения пользуемся следующей эмпирикой: для того, чтобы кластера не находились в большом удалении от данных, расположим их используя нормальное распределение относительно имеющихся данных"
   ]
  },
  {
   "cell_type": "code",
   "execution_count": 7,
   "metadata": {
    "scrolled": true
   },
   "outputs": [],
   "source": [
    "def get_clusters(n_clust,  data):\n",
    "    \"\"\"\n",
    "    генерируем заданное количество кластеров\n",
    "    \"\"\"\n",
    "    ax = np.mean(data, axis=0)\n",
    "    scale = np.std(data, axis=0)\n",
    "    clusters = np.random.normal(loc=ax, scale=scale, size=(n_clust, data.shape[1]))\n",
    "    return clusters"
   ]
  },
  {
   "cell_type": "code",
   "execution_count": 8,
   "metadata": {},
   "outputs": [],
   "source": [
    "def show_knn(X, y_pred, clusters):\n",
    "    \"\"\" отрисовка данных для каждого кластера \"\"\"\n",
    "    all_clusters = []\n",
    "    for cl in range(clusters.shape[0]):\n",
    "        cluster = np.array([[0, 0]])\n",
    "        for i in range(X.shape[0]):\n",
    "            if y_pred[i]==cl:\n",
    "                cluster = np.append(cluster, np.array([X[i]]), axis=0)\n",
    "        all_clusters.append(cluster)\n",
    "\n",
    "    colors = ['r', 'g', 'b', 'y', 'c', 'm']\n",
    "    for i in range(clusters.shape[0]):\n",
    "        plt.scatter(all_clusters[i][1:, 0], all_clusters[i][1:, 1], s=10, c=colors[i])\n",
    "        plt.scatter(clusters[i][0], clusters[i][1], marker='*', s=200, c=colors[i])\n",
    "    plt.title('Kmeans', fontsize=20)\n",
    "    plt.xlabel('feature1', fontsize=15)\n",
    "    plt.ylabel('feature2', fontsize=15)\n",
    "    plt.grid()\n",
    "    plt.show()"
   ]
  },
  {
   "cell_type": "code",
   "execution_count": 9,
   "metadata": {},
   "outputs": [],
   "source": [
    "# # хороший результат\n",
    "# clusters = np.array([[-2.339, 0.361], [-0.927, -7.053], [-1.519, -0.803], [4.257,  2.418]])\n",
    "\n",
    "# плохой результат\n",
    "# clusters = np.array([[5.606, -2.902], [4.243, -5.180], [5.293, 1.516], [5.169, -1.684]])"
   ]
  },
  {
   "cell_type": "code",
   "execution_count": 10,
   "metadata": {
    "scrolled": false
   },
   "outputs": [
    {
     "data": {
      "image/png": "[encoded data removed]",
      "text/plain": [
       "<Figure size 648x576 with 1 Axes>"
      ]
     },
     "metadata": {
      "needs_background": "light"
     },
     "output_type": "display_data"
    }
   ],
   "source": [
    "# создаем центроиды наших кластеров\n",
    "clusters = get_clusters(4, X)\n",
    "\n",
    "def show_start(clusters):\n",
    "    \"\"\" отрисовка центроидов кластеров \"\"\"\n",
    "    colors = ['r', 'g', 'b', 'y', 'c', 'm']\n",
    "    plt.scatter(x_1, x_2, c='#050505', s=10)\n",
    "    for i in range(clusters.shape[0]):\n",
    "        plt.scatter(clusters[i][0], clusters[i][1], marker='*', s=200, c=colors[i])\n",
    "    plt.title('Clusters', fontsize=20)\n",
    "    plt.xlabel('feature1', fontsize=15)\n",
    "    plt.ylabel('feature2', fontsize=15)\n",
    "    plt.grid()\n",
    "    plt.show()\n",
    "    \n",
    "\n",
    "show_start(clusters)"
   ]
  },
  {
   "cell_type": "markdown",
   "metadata": {},
   "source": [
    "Для нашей реализации Kmeans используем евклидово расстояние\n",
    "\n",
    "$d_{ij}=\\sqrt{\\sum_{k=1}^{n}(x_{ik}-x_{jk})^{2}}$"
   ]
  },
  {
   "cell_type": "code",
   "execution_count": 11,
   "metadata": {},
   "outputs": [],
   "source": [
    "def euclidean_dist(instance1, instance2):\n",
    "    \"\"\"рассчитываем евклидово расстояние между двумя точками\"\"\"\n",
    "    instance1 = np.array(instance1) \n",
    "    instance2 = np.array(instance2)\n",
    "    return np.sqrt(sum((instance1 - instance2)**2))"
   ]
  },
  {
   "cell_type": "code",
   "execution_count": 12,
   "metadata": {},
   "outputs": [],
   "source": [
    "# sklearn.metrics.pairwise.euclidean_distances"
   ]
  },
  {
   "cell_type": "markdown",
   "metadata": {},
   "source": [
    "Нипишем две функции являющимися основами алгоритма Kmeans"
   ]
  },
  {
   "cell_type": "code",
   "execution_count": 13,
   "metadata": {},
   "outputs": [],
   "source": [
    "def update_y_pred(X, clusters, y_pred):\n",
    "    \"\"\"\n",
    "    назначаем каждому примеру данных значение ближайшего центра кластера\n",
    "    parameters:\n",
    "    X - данные\n",
    "    clusters - центроиды кластеров\n",
    "    y_pred - принадлежность примера кластеру\n",
    "    \"\"\"\n",
    "    for i in range(X.shape[0]):\n",
    "        old_dist = 9e12\n",
    "        for num, cl in zip(range(clusters.shape[0]), clusters):\n",
    "            distance = euclidean_dist(X[i], cl)\n",
    "            if distance < old_dist:\n",
    "                y_pred[i] = num\n",
    "                old_dist = distance\n",
    "    return y_pred\n",
    "\n",
    "\n",
    "def update_clusters(X, clusters, y_pred):\n",
    "    \"\"\"\n",
    "    перемещаем кластер в центр масс данных, приинадлежащих этому же кластеру\n",
    "    parameters:\n",
    "    X - данные\n",
    "    clusters - центроиды кластеров\n",
    "    y_pred - принадлежность примера, кластеру\n",
    "    \"\"\"\n",
    "    for clust in range(clusters.shape[0]):\n",
    "        list_cluster = X[y_pred==clust]\n",
    "        if len(list_cluster) > 0:\n",
    "            clusters[clust] = np.mean(list_cluster, axis=0)\n",
    "    return clusters"
   ]
  },
  {
   "cell_type": "code",
   "execution_count": 14,
   "metadata": {
    "scrolled": true
   },
   "outputs": [
    {
     "name": "stdout",
     "output_type": "stream",
     "text": [
      "Wall time: 73 ms\n"
     ]
    }
   ],
   "source": [
    "%%time\n",
    "# обучаем модель пока разница между центрами кластеров на n-ом шаге не будет равна на n+1 шаге\n",
    "y_pred = np.zeros_like(y)\n",
    "steps = {}\n",
    "\n",
    "step = 1\n",
    "\n",
    "clusters_old = np.zeros_like(clusters)\n",
    "while abs((clusters - clusters_old).sum())>=1e-5:\n",
    "    clusters_old = clusters.copy()\n",
    "    # определяем принадлежность точки ближайшему кластеру\n",
    "    y_pred = update_y_pred(X, clusters, y_pred)\n",
    "    steps[step] = [y_pred.copy(), clusters.copy()] # фиксируем данные для визуализации\n",
    "    step += 1\n",
    "\n",
    "    # обновляем центроид кластера\n",
    "    clusters = update_clusters(X, clusters, y_pred)\n",
    "    steps[step] = [y_pred.copy(), clusters.copy()] # фиксируем данные для визуализации\n",
    "    step += 1"
   ]
  },
  {
   "cell_type": "code",
   "execution_count": null,
   "metadata": {},
   "outputs": [],
   "source": []
  },
  {
   "cell_type": "code",
   "execution_count": 15,
   "metadata": {
    "scrolled": false
   },
   "outputs": [
    {
     "data": {
      "application/vnd.jupyter.widget-view+json": {
       "model_id": "75880160986e480993a55677517faa4a",
       "version_major": 2,
       "version_minor": 0
      },
      "text/plain": [
       "interactive(children=(IntSlider(value=4, description='step', max=8), Output()), _dom_classes=('widget-interact…"
      ]
     },
     "metadata": {},
     "output_type": "display_data"
    },
    {
     "data": {
      "text/plain": [
       "<function __main__.show_step(step)>"
      ]
     },
     "execution_count": 15,
     "metadata": {},
     "output_type": "execute_result"
    }
   ],
   "source": [
    "from ipywidgets import interact\n",
    "\n",
    "def show_step(step):\n",
    "    if step == 0:\n",
    "        show_start(steps[1][1])\n",
    "    else:\n",
    "        show_knn(X, steps[step][0], steps[step][1])\n",
    "    \n",
    "    \n",
    "interact(show_step, step=(0,8,1))"
   ]
  },
  {
   "cell_type": "code",
   "execution_count": null,
   "metadata": {},
   "outputs": [],
   "source": []
  },
  {
   "cell_type": "code",
   "execution_count": null,
   "metadata": {},
   "outputs": [],
   "source": []
  }
 ],
 "metadata": {
  "kernelspec": {
   "display_name": "Python 3",
   "language": "python",
   "name": "python3"
  },
  "language_info": {
   "codemirror_mode": {
    "name": "ipython",
    "version": 3
   },
   "file_extension": ".py",
   "mimetype": "text/x-python",
   "name": "python",
   "nbconvert_exporter": "python",
   "pygments_lexer": "ipython3",
   "version": "3.7.4"
  }
 },
 "nbformat": 4,
 "nbformat_minor": 2
}
